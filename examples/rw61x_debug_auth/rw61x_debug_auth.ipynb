{
 "cells": [
  {
   "cell_type": "markdown",
   "metadata": {},
   "source": [
    "# RW61x Debug Authentication"
   ]
  },
  {
   "cell_type": "markdown",
   "metadata": {},
   "source": [
    "## Introduction\n",
    "This jupyter notebook describes the steps for debug authentication (DAT) using the nxpdebugmbox app away from SPSDK team. The fundamental principles of debugging conflict with the principles of security: debugging requires access to the system state and system information, security requires the restriction of access to assets. Often, debug access is disabled completely before the products are deployed. This causes challenges for product design teams to complete the return material analysis. To address these challenges, the device supports a DAT protocol as a mechanism to authenticate the debugger. The product manufacturer approves the credentials before granting debug access to the device. So DAT is a key feature as it enables security during the complete lifecycle of a product.\n",
    "\n",
    "An example for implementing DAT has already been presented for MCXN9xx devices, so you can study the general principles of DAT from [Debug-authentication-on-MCXN9XX](../mcxn9xx_debug_auth/mcxn9xx_debug_auth.ipynb). The reason for creating this jupyter notebook was the numerous inquiries regarding the use of DAT on rw61x devices, considering the necessary configuration of registers, which MCXN9xx does not have, and the procedure was therefore not entirely clear to some users."
   ]
  },
  {
   "cell_type": "markdown",
   "metadata": {},
   "source": [
    "## Let's prepare the environment"
   ]
  },
  {
   "cell_type": "code",
   "execution_count": 5,
   "metadata": {},
   "outputs": [
    {
     "name": "stdout",
     "output_type": "stream",
     "text": [
      "env: JUPYTER_SPSDK=1\n",
      "Created `%!` as an alias for `%execute`.\n"
     ]
    }
   ],
   "source": [
    "%run ../init_notebook.ipynb\n",
    "\n",
    "import os\n",
    "import yaml\n",
    "import pprint\n",
    "\n",
    "WORKSPACE = \"workspace/\" # change this to path to your workspace\n",
    "KEYS = \"../_data/keys/ecc256/\" # change this to path to your keys\n",
    "INPUTS = \"inputs/\"\n",
    "\n",
    "pp = pprint.PrettyPrinter(indent=4)\n",
    "\n",
    "# choose debug interface\n",
    "INTERFACE = \"jlink\"\n",
    "# choose family\n",
    "FAMILY = \"rw61x\""
   ]
  },
  {
   "cell_type": "markdown",
   "metadata": {},
   "source": [
    "## Generate root of trust keys and debug credential key\n",
    "Root of Trust Keys (RoTKs)\n",
    "- The device supports up to four RoTKs. At least one key pair is required.\n",
    "- Supported key types: secp256r1, secp384r1.\n",
    "\n",
    "Debug Credential key (DCK)\n",
    "- The public part of the key is associated with a debug credential (DC).\n",
    "- The private part is held by the user and used to produce signatures during authentication.\n",
    "\n",
    "In this example, we will use *nxpcrypto* app to generate secp256r1 keys (see [How-to-get-keys-using-nxpcrypto](../general/get_keys.ipynb))."
   ]
  },
  {
   "cell_type": "code",
   "execution_count": 14,
   "metadata": {},
   "outputs": [],
   "source": [
    "# load generated key pair for ROTK0\n",
    "ROTK0_PRIVATE_KEY_PATH = os.path.join(KEYS, \"srk0_ecc256.pem\")\n",
    "ROTK0_PUBLIC_KEY_PATH = os.path.join(KEYS, \"srk0_ecc256.pub\")\n",
    "# verify that keys were loaded\n",
    "assert os.path.exists(ROTK0_PRIVATE_KEY_PATH)\n",
    "assert os.path.exists(ROTK0_PUBLIC_KEY_PATH)\n",
    "\n",
    "# load generated key pair for DCK\n",
    "DCK_PRIVATE_KEY_PATH = os.path.join(KEYS, \"dck_ecc256.pem\")\n",
    "DCK_PUBLIC_KEY_PATH = os.path.join(KEYS,\"dck_ecc256.pub\")\n",
    "# verify that keys were loaded\n",
    "assert os.path.exists(DCK_PRIVATE_KEY_PATH)\n",
    "assert os.path.exists(DCK_PUBLIC_KEY_PATH)"
   ]
  },
  {
   "cell_type": "markdown",
   "metadata": {},
   "source": [
    "## Generate debug credential file \n",
    "Debug Credential (DC) configuration including:\n",
    "- socc: Specifies the device family.\n",
    "- uuid: Universally Unique Identifier (UUID) is 128-bit IETF RFC4122 compliant. Controls whether to enforce UUID check during DC validation or not. If this field is set, only the DC with matching device UUID can unlock\n",
    "the debug access.\n",
    "- cc_socu: SoC Usage controls which debug domains are accessed via the authentication protocol.\n",
    "- cc_vu: Vendor Usage can be leveraged by vendors in product-specific ways.\n",
    "- cc_beacon: Credential beacon is associated with DC and system product. With credential beacon, debug authentication can be restricted to specific parts having matching system product ID in OTP.\n",
    "- rot_meta: Includes public parts of RoT key(s).\n",
    "- rot_id: Defines the root of trust identifier. Allows the debugger to infer which RoT public key(s) are acceptable to the device. The rot_id field is used\n",
    "to bind the devices to specific certificate authority (CA) keys issuing the debug credentials.\n",
    "- dck: The public part of DCK.\n",
    "- rotk: RoT signature private key for the RoT meta chosen by rot_id to sign the image.\n",
    "- sign_provider: Signature provider configuration in format 'type=<sp_type>;<key_number>=<rot_id>\"."
   ]
  },
  {
   "cell_type": "code",
   "execution_count": 17,
   "metadata": {},
   "outputs": [
    {
     "name": "stdout",
     "output_type": "stream",
     "text": [
      "nxpdebugmbox get-template -f rw61x -o workspace/dc_config_default_rw61x.yml --force \n",
      "The configuration template file has been created.\n"
     ]
    }
   ],
   "source": [
    "# generate and modify DC config\n",
    "DC_CONFIG_DEFAULT_RW61X = os.path.join(WORKSPACE, \"dc_config_default_rw61x.yml\")\n",
    "\n",
    "%! nxpdebugmbox get-template -f $FAMILY -o $DC_CONFIG_DEFAULT_RW61X --force"
   ]
  },
  {
   "cell_type": "code",
   "execution_count": 7,
   "metadata": {},
   "outputs": [
    {
     "name": "stdout",
     "output_type": "stream",
     "text": [
      "Modified DC config:\n",
      "{   'cc_beacon': 0,\n",
      "    'cc_socu': 65535,\n",
      "    'cc_vu': 0,\n",
      "    'dck': '../../_data/keys/ecc256/dat_ecc256.pub',\n",
      "    'rot_id': 0,\n",
      "    'rot_meta': ['../../_data/keys/ecc256/srk0_ecc256.pub'],\n",
      "    'rotk': '../../_data/keys/ecc256/srk0_ecc256.pem',\n",
      "    'socc': 4,\n",
      "    'uuid': '00000000000000000000000000000000'}\n"
     ]
    }
   ],
   "source": [
    "# modified DC config for this example\n",
    "# A1: socc = 0x0004; A2: socc = 0x000A \n",
    "DC_CONFIG_RW61X = os.path.join(INPUTS, \"dc_config_rw61x.yml\")\n",
    "\n",
    "with open(DC_CONFIG_RW61X, \"r\") as dc_file:\n",
    "    print(\"Modified DC config:\")\n",
    "    pp.pprint(yaml.safe_load(dc_file))"
   ]
  },
  {
   "cell_type": "markdown",
   "metadata": {},
   "source": [
    "<span style=\"color:red\">NOTICE: Based on the chip revision choose socc. A1: socc = 0x4; A2: socc = 0xA!</span>"
   ]
  },
  {
   "cell_type": "code",
   "execution_count": 12,
   "metadata": {},
   "outputs": [
    {
     "name": "stdout",
     "output_type": "stream",
     "text": [
      "nxpdebugmbox -p 2.0 gendc -c inputs/dc_config_rw61x.yml -o workspace/rw61x.dc --force \n",
      "RKTH: dc41dd48d79b99ac8b91194483fc477c632d0b5632ae8a439476a98872971d3d\n",
      "Creating Debug credential file succeeded\n"
     ]
    }
   ],
   "source": [
    "# generate DC file according to exemplary config\n",
    "DC_FILE_RW61X = os.path.join(WORKSPACE, \"rw61x.dc\")\n",
    "\n",
    "%! nxpdebugmbox -p 2.0 gendc -c $DC_CONFIG_RW61X -o $DC_FILE_RW61X --force"
   ]
  },
  {
   "cell_type": "code",
   "execution_count": 15,
   "metadata": {},
   "outputs": [
    {
     "name": "stdout",
     "output_type": "stream",
     "text": [
      "nxpcrypto rot calculate-hash -f rw61x -k ../_data/keys/ecc256/srk0_ecc256.pub -o workspace/rkth.txt \n",
      "Result has been stored in: workspace\\rkth.txt\n",
      "RoT hash: dc41dd48d79b99ac8b91194483fc477c632d0b5632ae8a439476a98872971d3d\n"
     ]
    }
   ],
   "source": [
    "# save RKTH\n",
    "RKTH_PATH = os.path.join(WORKSPACE, \"rkth.txt\")\n",
    "\n",
    "%! nxpcrypto rot calculate-hash -f rw61x -k $ROTK0_PUBLIC_KEY_PATH -o $RKTH_PATH\n",
    "\n",
    "# read RKTH\n",
    "with open(RKTH_PATH, 'rb') as rkth:\n",
    "    rkth_val = f\"0x{rkth.read().hex()}\""
   ]
  },
  {
   "cell_type": "markdown",
   "metadata": {},
   "source": [
    "## Device preparation\n",
    "- Have the device in debug mode.\n",
    "\n",
    "![RW61X-EVK](img/RW61X-EVK.png \"RW61X-EVK\")"
   ]
  },
  {
   "cell_type": "code",
   "execution_count": 50,
   "metadata": {},
   "outputs": [
    {
     "name": "stdout",
     "output_type": "stream",
     "text": [
      "nxpdebugmbox -i jlink test-connection \n",
      "  #   Interface   Id           Description             \n",
      "-------------------------------------------------------\n",
      "  0   Jlink       1061995210   Segger J-Link MCU-Link  \n",
      "The device is accessible for debugging.\n"
     ]
    }
   ],
   "source": [
    "# check availability of debug probe \n",
    "%! nxpdebugmbox -i $INTERFACE test-connection"
   ]
  },
  {
   "cell_type": "markdown",
   "metadata": {},
   "source": [
    "## Shadow registers configuration\n",
    "The following is an introduction to one of the variants of the shadow register configuration for DAT. The illustrative use case that is presented is based on disabling the debug access control registers.\n",
    "- The debug access control rights and security policies are configurable. \n",
    "- The configuration fields are referred to as device configuration for credential constraints (DCFG_CC).\n",
    "- Life Cycle (LC) state in shadow registers to be configured should be either Develop2 (0x0707) or In-Field (0x0F0F).\n",
    "- The RKTH value must be specified."
   ]
  },
  {
   "cell_type": "code",
   "execution_count": 51,
   "metadata": {},
   "outputs": [
    {
     "name": "stdout",
     "output_type": "stream",
     "text": [
      "shadowregs -i jlink -f rw61x saveconfig -o workspace/sr_diff_rw61x.yml -d \n",
      "  #   Interface   Id           Description             \n",
      "-------------------------------------------------------\n",
      "  0   Jlink       1061995210   Segger J-Link MCU-Link  \n",
      "The Shadow registers has been saved into workspace\\sr_diff_rw61x.yml YAML file\n"
     ]
    }
   ],
   "source": [
    "# verify that your shadowregs are in the default state\n",
    "SR_DIFF_PATH = os.path.join(WORKSPACE, \"sr_diff_rw61x.yml\")\n",
    "\n",
    "%! shadowregs -i $INTERFACE -f $FAMILY saveconfig -o $SR_DIFF_PATH -d"
   ]
  },
  {
   "cell_type": "code",
   "execution_count": 89,
   "metadata": {},
   "outputs": [
    {
     "name": "stdout",
     "output_type": "stream",
     "text": [
      "shadowregs -i jlink -f rw61x reset \n",
      "  #   Interface   Id           Description             \n",
      "-------------------------------------------------------\n",
      "  0   Jlink       1061995210   Segger J-Link MCU-Link  \n",
      "The target has been reset.\n"
     ]
    }
   ],
   "source": [
    "# optional but recommended: reset connected device\n",
    "%! shadowregs -i $INTERFACE -f $FAMILY reset"
   ]
  },
  {
   "cell_type": "code",
   "execution_count": 24,
   "metadata": {},
   "outputs": [
    {
     "name": "stdout",
     "output_type": "stream",
     "text": [
      "shadowregs -f rw61x get-template -o workspace/sr_template_default_rw61x.yml --force \n",
      "The Shadow registers template for rw61x has been saved into workspace\\sr_template_default_rw61x.yml YAML file\n"
     ]
    }
   ],
   "source": [
    "# generate and modify shadowregs config\n",
    "SR_TEMPLATE_DEFAULT_PATH = os.path.join(WORKSPACE, \"sr_template_default_rw61x.yml\")\n",
    "\n",
    "%! shadowregs -f $FAMILY get-template -o $SR_TEMPLATE_DEFAULT_PATH --force"
   ]
  },
  {
   "cell_type": "code",
   "execution_count": 3,
   "metadata": {},
   "outputs": [
    {
     "name": "stdout",
     "output_type": "stream",
     "text": [
      "Modified SR config:\n",
      "{   'description': {   'author': 'NXP',\n",
      "                       'device': 'rw61x',\n",
      "                       'release': 'beta',\n",
      "                       'version': '2.1.0'},\n",
      "    'registers': {   'BOOT_CFG0': {   'bitfields': {   'BOOT_CLK_SPEED': '0x0',\n",
      "                                                       'BOOT_FAIL_PIN': '0x0',\n",
      "                                                       'BOOT_FAIL_PORT': '0x0',\n",
      "                                                       'DEFAULT_ISP_MODE': 'AUTO_ISP',\n",
      "                                                       'DICE_INC_OTP': 'NOT_INCLUDED',\n",
      "                                                       'DICE_SKIP': 'ENABLED',\n",
      "                                                       'PRIMARY_BOOT_SOURCE': 'ISP_PIN_BOOT',\n",
      "                                                       'REDUNDANT_SPI_PORT': 'FC0',\n",
      "                                                       'SECURE_BOOT_EN': 'DISABLED',\n",
      "                                                       'STOP_ON_FAILURE': '0x0',\n",
      "                                                       'TZM_IMAGE_TYPE': 'IGNORED'}},\n",
      "                     'BOOT_CFG1': {   'bitfields': {   'FLEXSPI_AUTO_PROBE_EN': 'FLASH_AUTO_PROBE',\n",
      "                                                       'FLEXSPI_DUMMY_CYCLES': 'AUTO_PROB',\n",
      "                                                       'FLEXSPI_FLASH_TYPE': 'FLEXSPI_SDR_3B',\n",
      "                                                       'FLEXSPI_FREQUENCY': 'FLEXSPI_100MHZ',\n",
      "                                                       'FLEXSPI_HOLD_TIME': 'NO_DELAY',\n",
      "                                                       'FLEXSPI_PROBE_TYPE': 'QSPI_NOR',\n",
      "                                                       'FLEXSPI_PWR_HOLD_TIME': 'NO_DELAY',\n",
      "                                                       'FLEXSPI_RST_HOLD_TIME': 'NO_DELAY',\n",
      "                                                       'FLEXSPI_RST_SEQ': 'NO_RESET_PERFORMED',\n",
      "                                                       'FLEXSPI_WUP_HOLD_TIME': 'NO_DELAY',\n",
      "                                                       'FLEXSPI_WUP_SEQ': 'NO_RESET_PERFORMED'}},\n",
      "                     'BOOT_CFG2': {   'bitfields': {   'FLEXSPI_DELAY_CELL_NUM': '0x0',\n",
      "                                                       'FLEXSPI_IMAGE_OFFSET': '0x00',\n",
      "                                                       'FLEXSPI_IMAGE_SIZE': 'SIZE_OFFSET'}},\n",
      "                     'BOOT_CFG3': {   'bitfields': {   'ENABLE_CRC_CHECK': '0x0',\n",
      "                                                       'ENF_CNSA': 'P-256_KEY',\n",
      "                                                       'FIPS_AES_STEN': 'SKIP_SELF_TEEST_RUN',\n",
      "                                                       'FIPS_CMAC_STEN': 'SKIP_SELF_TEEST_RUN',\n",
      "                                                       'FIPS_DRBG_STEN': 'SKIP_SELF_TEEST_RUN',\n",
      "                                                       'FIPS_ECDSA_STEN': 'SKIP_SELF_TEEST_RUN',\n",
      "                                                       'FIPS_KDF_STEN': 'SKIP_SELF_TEEST_RUN',\n",
      "                                                       'FIPS_SHA_STEN': 'SKIP_SELF_TEEST_RUN',\n",
      "                                                       'ROTK0_USAGE': 'DebugCA_ImageCA_FwCA_ImageKey_FwKey',\n",
      "                                                       'ROTK1_USAGE': 'Unused',\n",
      "                                                       'ROTK2_USAGE': 'Unused',\n",
      "                                                       'ROTK3_USAGE': 'Unused',\n",
      "                                                       'SKIP_PM_SIGN_VERIFCATION': '0x0'}},\n",
      "                     'BOOT_CFG5': {   'bitfields': {   'USB_PID': '0x0000',\n",
      "                                                       'USB_VID': '0x0000'}},\n",
      "                     'BOOT_CFG6': {   'bitfields': {   'SDIO_PID': '0x0000',\n",
      "                                                       'SDIO_VID': '0x0000'}},\n",
      "                     'DCFG_CC_SOCU': {   'bitfields': {   'CRC8[7:0]': '0x00',\n",
      "                                                          'DFLT_CPU1DBGEN': 'DISABLED',\n",
      "                                                          'DFLT_CPU1NIDEN': 'DISABLED',\n",
      "                                                          'DFLT_CPU2DBGEN': 'DISABLED',\n",
      "                                                          'DFLT_CPU2NIDEN': 'DISABLED',\n",
      "                                                          'DFLT_DBGEN': 'DISABLED',\n",
      "                                                          'DFLT_FACMDEN': 'DISABLED',\n",
      "                                                          'DFLT_ISPCMDEN': 'DISABLED',\n",
      "                                                          'DFLT_NIDEN': 'DISABLED',\n",
      "                                                          'DFLT_SPIDEN': 'DISABLED',\n",
      "                                                          'DFLT_SPNIDEN': 'DISABLED',\n",
      "                                                          'DFLT_TAPEN': 'DISABLED',\n",
      "                                                          'FORCE_UUID_MATCH': '0x0',\n",
      "                                                          'PINNED_CPU1DBGEN': 'DAR_CC',\n",
      "                                                          'PINNED_CPU1NIDEN': 'DAR_CC',\n",
      "                                                          'PINNED_CPU2DBGEN': 'DAR_CC',\n",
      "                                                          'PINNED_CPU2NIDEN': 'DAR_CC',\n",
      "                                                          'PINNED_DBGEN': 'DAR_CC',\n",
      "                                                          'PINNED_FACMDEN': 'DAR_CC',\n",
      "                                                          'PINNED_ISPCMDEN': 'DAR_CC',\n",
      "                                                          'PINNED_NIDEN': 'DAR_CC',\n",
      "                                                          'PINNED_SPIDEN': 'DAR_CC',\n",
      "                                                          'PINNED_SPNIDEN': 'DAR_CC',\n",
      "                                                          'PINNED_TAPEN': 'DAR_CC'}},\n",
      "                     'DCFG_CC_SOCU_NS': {   'bitfields': {   'CRC8_NS[7:0]': '0x00',\n",
      "                                                             'DFLT_CPU1DBGEN_NS': 'DISABLED',\n",
      "                                                             'DFLT_CPU1NIDEN_NS': 'DISABLED',\n",
      "                                                             'DFLT_CPU2DBGEN_NS': 'DISABLED',\n",
      "                                                             'DFLT_CPU2NIDEN_NS': 'DISABLED',\n",
      "                                                             'DFLT_DBGEN_NS': 'DISABLED',\n",
      "                                                             'DFLT_FACMDEN_NS': 'DISABLED',\n",
      "                                                             'DFLT_ISPCMDEN_NS': 'DISABLED',\n",
      "                                                             'DFLT_NIDEN_NS': 'DISABLED',\n",
      "                                                             'DFLT_SPIDEN_NS': 'DISABLED',\n",
      "                                                             'DFLT_SPNIDEN_NS': 'DISABLED',\n",
      "                                                             'DFLT_TAPEN_NS': 'DISABLED',\n",
      "                                                             'FORCE_UUID_MATCH_NS': '0x0',\n",
      "                                                             'PINNED_CPU1DBGEN_NS': 'DAR_CC',\n",
      "                                                             'PINNED_CPU1NIDEN_NS': 'DAR_CC',\n",
      "                                                             'PINNED_CPU2DBGEN_NS': 'DAR_CC',\n",
      "                                                             'PINNED_CPU2NIDEN_NS': 'DAR_CC',\n",
      "                                                             'PINNED_DBGEN_NS': 'DAR_CC',\n",
      "                                                             'PINNED_FACMDEN_NS': 'DAR_CC',\n",
      "                                                             'PINNED_ISPCMDEN_NS': 'DAR_CC',\n",
      "                                                             'PINNED_NIDEN_NS': 'DAR_CC',\n",
      "                                                             'PINNED_SPIDEN_NS': 'DAR_CC',\n",
      "                                                             'PINNED_SPNIDEN_NS': 'DAR_CC',\n",
      "                                                             'PINNED_TAPEN_NS': 'DAR_CC'}},\n",
      "                     'LIFE_CYCLE_STATE': {   'bitfields': {   'LCS[7:0]': 'In-Field',\n",
      "                                                              'LCS_REDUNDANT[7:0]': 'In-Field',\n",
      "                                                              'Redundancy': '0x0000'}},\n",
      "                     'RKTH': {   'value': '0000000000000000000000000000000000000000000000000000000000000000'},\n",
      "                     'SEC_BOOT_CFG0': {   'bitfields': {   'FA_MODE_EN': '0x0',\n",
      "                                                           'REVOKE_ROOTKEY0': 'ENABLED',\n",
      "                                                           'REVOKE_ROOTKEY1': 'ENABLED',\n",
      "                                                           'REVOKE_ROOTKEY2': 'ENABLED',\n",
      "                                                           'REVOKE_ROOTKEY3': 'ENABLED',\n",
      "                                                           'Redundancy': '0x0000'}},\n",
      "                     'SEC_BOOT_CFG1': {   'bitfields': {   'DAP_VENDOR_USAGE': '0x0000',\n",
      "                                                           'Redundancy': '0x0000'}},\n",
      "                     'SEC_BOOT_CFG2': {   'bitfields': {   'REVOKE_IMG_KEY[15:0]': '0x0000',\n",
      "                                                           'Redundancy': '0x0000'}},\n",
      "                     'SEC_BOOT_CFG3': {   'bitfields': {   'REVOKE_IMG_KEY[31:16]': '0x0000',\n",
      "                                                           'Redundancy': '0x0000'}}}}\n"
     ]
    }
   ],
   "source": [
    "# modified shadowregs config for this example\n",
    "SR_TEMPLATE_PATH = os.path.join(INPUTS, \"sr_template_rw61x.yml\")\n",
    "\n",
    "with open(SR_TEMPLATE_PATH, \"r\") as sr_file:\n",
    "    print(\"Modified SR config:\")\n",
    "    pp.pprint(yaml.safe_load(sr_file))"
   ]
  },
  {
   "cell_type": "code",
   "execution_count": 92,
   "metadata": {},
   "outputs": [
    {
     "name": "stdout",
     "output_type": "stream",
     "text": [
      "shadowregs -i jlink -f rw61x loadconfig -c workspace/sr_template_rw61x.yml \n",
      "  #   Interface   Id           Description             \n",
      "-------------------------------------------------------\n",
      "  0   Jlink       1061995210   Segger J-Link MCU-Link  \n",
      "The Shadow registers has been loaded by configuration in workspace\\sr_template_rw61x.yml YAML file\n"
     ]
    }
   ],
   "source": [
    "# load modified shadowregs\n",
    "%! shadowregs -i $INTERFACE -f $FAMILY loadconfig -c $SR_TEMPLATE_PATH"
   ]
  },
  {
   "cell_type": "code",
   "execution_count": 11,
   "metadata": {},
   "outputs": [
    {
     "name": "stdout",
     "output_type": "stream",
     "text": [
      "shadowregs -i jlink -f rw61x setreg -r RKTH -v 0xdc41dd48d79b99ac8b91194483fc477c632d0b5632ae8a439476a98872971d3d \n",
      "  #   Interface   Id           Description             \n",
      "-------------------------------------------------------\n",
      "  0   Jlink       1061995210   Segger J-Link MCU-Link  \n",
      "The Shadow register RKTH has been set to 0xdc41dd48d79b99ac8b91194483fc477c632d0b5632ae8a439476a98872971d3d value\n"
     ]
    }
   ],
   "source": [
    "# RKTH specification\n",
    "%! shadowregs -i $INTERFACE -f $FAMILY setreg -r RKTH -v $rkth_val"
   ]
  },
  {
   "cell_type": "code",
   "execution_count": 93,
   "metadata": {},
   "outputs": [
    {
     "name": "stdout",
     "output_type": "stream",
     "text": [
      "shadowregs -i jlink -f rw61x reset \n",
      "  #   Interface   Id           Description             \n",
      "-------------------------------------------------------\n",
      "  0   Jlink       1061995210   Segger J-Link MCU-Link  \n",
      "The target has been reset.\n"
     ]
    }
   ],
   "source": [
    "# reset the device to load modified shodowregs\n",
    "%! shadowregs -i $INTERFACE -f $FAMILY reset"
   ]
  },
  {
   "cell_type": "code",
   "execution_count": 94,
   "metadata": {},
   "outputs": [
    {
     "name": "stdout",
     "output_type": "stream",
     "text": [
      "nxpdebugmbox -i jlink test-connection \n",
      "  #   Interface   Id           Description             \n",
      "-------------------------------------------------------\n",
      "  0   Jlink       1061995210   Segger J-Link MCU-Link  \n",
      "The device is not-accessible for debugging.\n"
     ]
    }
   ],
   "source": [
    "# check the device is not accessible for debugging\n",
    "%! nxpdebugmbox -i $INTERFACE test-connection"
   ]
  },
  {
   "cell_type": "markdown",
   "metadata": {},
   "source": [
    "## Debug authentication challenge\n",
    "In the previous steps, we loaded a configuration with all the keys and enabled the debug authentication in the device. We have also created the DC certificate and private key for the debug authentication challenge. In addition, a protocol version and a beacon must be specified.\n",
    "\n",
    "RW61x devices support two instantiations of debug authentication protocol versions (-p option). The versions are defined based on the different-sized ECDSA keys:\n",
    "- 2.0: Uses ECDSA P-256 signature verification RoT key(s)\n",
    "- 2.1: Uses ECDSA P-384 signature verification RoT key(s)\n",
    "\n",
    "The debug authentication process can be extended with beacons. The authentication beacon defines the system-specific debug policy use case such as: restricting debug authentication to only certain devices having specific system product ID during manufacturing phase."
   ]
  },
  {
   "cell_type": "code",
   "execution_count": 95,
   "metadata": {},
   "outputs": [
    {
     "name": "stdout",
     "output_type": "stream",
     "text": [
      "nxpdebugmbox -i jlink -p 2.0 auth -b 0 -c workspace/rw61x.dc -k keys/dck_ecc256.pem \n",
      "  #   Interface   Id           Description             \n",
      "-------------------------------------------------------\n",
      "  0   Jlink       1061995210   Segger J-Link MCU-Link  \n",
      "\u001b[33mWARNING:spsdk.dat.dac_packet:The DAC(Debug Authentication Challenge) RKTH doesn't match with DC(Debug Credential).For RW61x devices, this is correct behaviour. For LPC55S3x it indicates incorrect DC file,and needs to be fixed. (2251ms since start, dac_packet.py:98)\u001b[39m\n",
      "Debug Authentication ends successfully.\n"
     ]
    }
   ],
   "source": [
    "%! nxpdebugmbox -i $INTERFACE -p 2.0 auth -b 0 -c $DC_FILE_RW61X -k $DCK_PRIVATE_KEY_PATH"
   ]
  },
  {
   "cell_type": "code",
   "execution_count": 96,
   "metadata": {},
   "outputs": [
    {
     "name": "stdout",
     "output_type": "stream",
     "text": [
      "nxpdebugmbox -i jlink test-connection \n",
      "  #   Interface   Id           Description             \n",
      "-------------------------------------------------------\n",
      "  0   Jlink       1061995210   Segger J-Link MCU-Link  \n",
      "The device is accessible for debugging.\n"
     ]
    }
   ],
   "source": [
    "# check the device is accessible for debugging\n",
    "%! nxpdebugmbox -i $INTERFACE test-connection"
   ]
  }
 ],
 "metadata": {
  "kernelspec": {
   "display_name": "venv",
   "language": "python",
   "name": "python3"
  },
  "language_info": {
   "codemirror_mode": {
    "name": "ipython",
    "version": 3
   },
   "file_extension": ".py",
   "mimetype": "text/x-python",
   "name": "python",
   "nbconvert_exporter": "python",
   "pygments_lexer": "ipython3",
   "version": "3.9.13"
  }
 },
 "nbformat": 4,
 "nbformat_minor": 2
}
