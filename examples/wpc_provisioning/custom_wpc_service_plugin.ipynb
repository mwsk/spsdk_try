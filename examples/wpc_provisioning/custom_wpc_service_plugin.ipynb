{
  "cells": [
    {
      "cell_type": "markdown",
      "metadata": {},
      "source": [
        "# Creating a custom WPC Service adapter\n",
        "This chapter is for those users, who wish not to use EL2GO, but rather have their own solution.\n",
        "\n",
        "To help you getting started with creating a custom Service, we have a [Cookiecutter](https://cookiecutter.readthedocs.io/en/stable/) template located in: `<spsdk_repo>/examples/templates/cookiecutter-spsdk-wpc-service-plugin.zip`  \n",
        "This template will create a Python project, containing a plugin for SPSDK\n",
        "\n",
        "1. Install cookiecutter: `pip install cookiecutter`\n",
        "1. Create your project: `cookiecutter <spsdk_repo>/examples/plugins/templates/cookiecutter-spsdk-wpc-service-plugin.zip`\n",
        "    * follow the prompts\n",
        "    * your project will be created in the current working directory\n",
        "1. Class representing your adapter will be located in: `<your_project_name/your_project_name/your_project_name.py>`\n",
        "1. Implement necessary methods\n",
        "    * `get_validation_schemas`\n",
        "        * Use this method to provide JSON validation schema for your class (parameters for the `__init__` method)\n",
        "        * Schema will be used when instantiating your class using configuration data via `.load_from_config` method\n",
        "        * This schema will be also used to generate configuration file using `nxpwpc get-template`\n",
        "    * `get_wpc_cert`\n",
        "        * This method is the bread and butter of your adapter\n",
        "        * Here is where you'll implement the process of getting the WPC Certificate Chain\n",
        "1. Install your plugin into virtual environment where you have SPSDK\n",
        "    * `pip install (--editable) <path/to/your/project>`\n",
        "    * The `--editable` flag is used for development purposes. It will allow you to develop your plugin without a need to re-install your plugin after every change\n",
        "1. Verify your plugin was picked-up by SPSDK\n",
        "    * `nxpwpc get-template --help`\n",
        "    * You should see the name of your plugin in `--service-type` option\n",
        "    * Name of the plugin is set during project creation, also defined in your class as `identifier` attribute"
      ]
    },
    {
      "cell_type": "markdown",
      "metadata": {},
      "source": [
        "## Example\n",
        "\n",
        "Commands below will create a new WPC Service Plugin Python project."
      ]
    },
    {
      "cell_type": "code",
      "execution_count": 13,
      "metadata": {},
      "outputs": [
        {
          "name": "stdout",
          "output_type": "stream",
          "text": [
            "Looking in indexes: https://pypi.org/simple, https://nl2-nxrm.sw.nxp.com/repository/spsdk_pypi/simple/\n",
            "Collecting cookiecutter\n",
            "  Using cached cookiecutter-2.6.0-py3-none-any.whl.metadata (7.3 kB)\n",
            "Requirement already satisfied: binaryornot>=0.4.4 in c:\\users\\nxa17573\\repos\\spsdk-master\\venv\\lib\\site-packages (from cookiecutter) (0.4.4)\n",
            "Requirement already satisfied: Jinja2<4.0.0,>=2.7 in c:\\users\\nxa17573\\repos\\spsdk-master\\venv\\lib\\site-packages (from cookiecutter) (3.1.6)\n",
            "Requirement already satisfied: click<9.0.0,>=7.0 in c:\\users\\nxa17573\\repos\\spsdk-master\\venv\\lib\\site-packages (from cookiecutter) (8.1.8)\n",
            "Requirement already satisfied: pyyaml>=5.3.1 in c:\\users\\nxa17573\\repos\\spsdk-master\\venv\\lib\\site-packages (from cookiecutter) (6.0.2)\n",
            "Requirement already satisfied: python-slugify>=4.0.0 in c:\\users\\nxa17573\\repos\\spsdk-master\\venv\\lib\\site-packages (from cookiecutter) (8.0.4)\n",
            "Requirement already satisfied: requests>=2.23.0 in c:\\users\\nxa17573\\repos\\spsdk-master\\venv\\lib\\site-packages (from cookiecutter) (2.32.3)\n",
            "Requirement already satisfied: arrow in c:\\users\\nxa17573\\repos\\spsdk-master\\venv\\lib\\site-packages (from cookiecutter) (1.3.0)\n",
            "Requirement already satisfied: rich in c:\\users\\nxa17573\\repos\\spsdk-master\\venv\\lib\\site-packages (from cookiecutter) (14.0.0)\n",
            "Requirement already satisfied: chardet>=3.0.2 in c:\\users\\nxa17573\\repos\\spsdk-master\\venv\\lib\\site-packages (from binaryornot>=0.4.4->cookiecutter) (5.2.0)\n",
            "Requirement already satisfied: colorama in c:\\users\\nxa17573\\repos\\spsdk-master\\venv\\lib\\site-packages (from click<9.0.0,>=7.0->cookiecutter) (0.4.6)\n",
            "Requirement already satisfied: MarkupSafe>=2.0 in c:\\users\\nxa17573\\repos\\spsdk-master\\venv\\lib\\site-packages (from Jinja2<4.0.0,>=2.7->cookiecutter) (3.0.2)\n",
            "Requirement already satisfied: text-unidecode>=1.3 in c:\\users\\nxa17573\\repos\\spsdk-master\\venv\\lib\\site-packages (from python-slugify>=4.0.0->cookiecutter) (1.3)\n",
            "Requirement already satisfied: charset-normalizer<4,>=2 in c:\\users\\nxa17573\\repos\\spsdk-master\\venv\\lib\\site-packages (from requests>=2.23.0->cookiecutter) (3.4.1)\n",
            "Requirement already satisfied: idna<4,>=2.5 in c:\\users\\nxa17573\\repos\\spsdk-master\\venv\\lib\\site-packages (from requests>=2.23.0->cookiecutter) (3.10)\n",
            "Requirement already satisfied: urllib3<3,>=1.21.1 in c:\\users\\nxa17573\\repos\\spsdk-master\\venv\\lib\\site-packages (from requests>=2.23.0->cookiecutter) (2.4.0)\n",
            "Requirement already satisfied: certifi>=2017.4.17 in c:\\users\\nxa17573\\repos\\spsdk-master\\venv\\lib\\site-packages (from requests>=2.23.0->cookiecutter) (2025.1.31)\n",
            "Requirement already satisfied: python-dateutil>=2.7.0 in c:\\users\\nxa17573\\repos\\spsdk-master\\venv\\lib\\site-packages (from arrow->cookiecutter) (2.9.0.post0)\n",
            "Requirement already satisfied: types-python-dateutil>=2.8.10 in c:\\users\\nxa17573\\repos\\spsdk-master\\venv\\lib\\site-packages (from arrow->cookiecutter) (2.9.0.20241206)\n",
            "Requirement already satisfied: markdown-it-py>=2.2.0 in c:\\users\\nxa17573\\repos\\spsdk-master\\venv\\lib\\site-packages (from rich->cookiecutter) (3.0.0)\n",
            "Requirement already satisfied: pygments<3.0.0,>=2.13.0 in c:\\users\\nxa17573\\repos\\spsdk-master\\venv\\lib\\site-packages (from rich->cookiecutter) (2.19.1)\n",
            "Requirement already satisfied: mdurl~=0.1 in c:\\users\\nxa17573\\repos\\spsdk-master\\venv\\lib\\site-packages (from markdown-it-py>=2.2.0->rich->cookiecutter) (0.1.2)\n",
            "Requirement already satisfied: six>=1.5 in c:\\users\\nxa17573\\repos\\spsdk-master\\venv\\lib\\site-packages (from python-dateutil>=2.7.0->arrow->cookiecutter) (1.17.0)\n",
            "Using cached cookiecutter-2.6.0-py3-none-any.whl (39 kB)\n",
            "Installing collected packages: cookiecutter\n",
            "Successfully installed cookiecutter-2.6.0\n",
            "Looking in indexes: https://pypi.org/simple, https://nl2-nxrm.sw.nxp.com/repository/spsdk_pypi/simple/\n",
            "Obtaining my_wpc_service_plugin\n",
            "  Installing build dependencies: started\n",
            "  Installing build dependencies: finished with status 'done'\n",
            "  Checking if build backend supports build_editable: started\n",
            "  Checking if build backend supports build_editable: finished with status 'done'\n",
            "  Getting requirements to build editable: started\n",
            "  Getting requirements to build editable: finished with status 'done'\n",
            "  Preparing editable metadata (pyproject.toml): started\n",
            "  Preparing editable metadata (pyproject.toml): finished with status 'done'\n",
            "Building wheels for collected packages: my_wpc_service_plugin\n",
            "  Building editable for my_wpc_service_plugin (pyproject.toml): started\n",
            "  Building editable for my_wpc_service_plugin (pyproject.toml): finished with status 'done'\n",
            "  Created wheel for my_wpc_service_plugin: filename=my_wpc_service_plugin-0.1.0-0.editable-py3-none-any.whl size=5726 sha256=fbcecae3d1606064d825614dbcc08c4685862cec4d7b66882d3e0bc6db87bd01\n",
            "  Stored in directory: C:\\Users\\nxa17573\\AppData\\Local\\Temp\\pip-ephem-wheel-cache-7fkpqx7a\\wheels\\ff\\f0\\88\\3db2e91aca21d66acd109a6e1d564c72abb529658091b3694b\n",
            "Successfully built my_wpc_service_plugin\n",
            "Installing collected packages: my_wpc_service_plugin\n",
            "Successfully installed my_wpc_service_plugin-0.1.0\n"
          ]
        }
      ],
      "source": [
        "!pip install cookiecutter\n",
        "!cookiecutter ../plugins/templates/cookiecutter-spsdk-wpc-service-plugin.zip --overwrite-if-exists --replay --replay-file cookiecutter-replay-file.json\n",
        "!pip install -e my_wpc_service_plugin --no-deps"
      ]
    },
    {
      "cell_type": "code",
      "execution_count": 14,
      "metadata": {
        "execute_cell": false
      },
      "outputs": [
        {
          "name": "stdout",
          "output_type": "stream",
          "text": [
            "\n",
            "Help for nested command: 'get-template'\n",
            "Command Hierarchy: nxpwpc \u25b6 get-template\n",
            "\n",
            "\u2500\u2500\u2500\u2500\u2500\u2500\u2500\u2500\u2500\u2500\u2500\u2500\u2500\u2500\u2500\u2500\u2500\u2500\u2500\u2500\u2500\u2500\u2500\u2500 Root command (nxpwpc) help \u2500\u2500\u2500\u2500\u2500\u2500\u2500\u2500\u2500\u2500\u2500\u2500\u2500\u2500\u2500\u2500\u2500\u2500\u2500\u2500\u2500\u2500\u2500\u2500\n",
            "\n",
            "Options:\n",
            "  -v, --verbose  Print more detailed information\n",
            "  -vv, --debug   Display more debugging information.\n",
            "  --version      Show the version and exit.\n",
            "  --help         Show this message and exit.\n",
            "\n",
            "\u2500\u2500\u2500\u2500\u2500\u2500\u2500\u2500\u2500\u2500\u2500\u2500\u2500\u2500\u2500\u2500\u2500\u2500\u2500\u2500\u2500\u2500\u2500 Command (get-template) help \u2500\u2500\u2500\u2500\u2500\u2500\u2500\u2500\u2500\u2500\u2500\u2500\u2500\u2500\u2500\u2500\u2500\u2500\u2500\u2500\u2500\u2500\u2500\n",
            "Generate a configuration template.\n",
            "Usage: nxpwpc get-template [OPTIONS]\n",
            "\n",
            "Options:\n",
            "  -st, --service-type [el2go|mywpc]\n",
            "                                  Name of the WPC service type.  [required]\n",
            "  -tt, --target-type [mboot|model]\n",
            "                                  Name of the MCU target type.  [required]\n",
            "  -f, --family [mwct2015s|mwct2012|mwct2016s|mwct2014s..., and more. Use 'get-families' command to show all.]\n",
            "                                  [required] Select the chip family.\n",
            "  -r, --revision TEXT             Chip revision; if not specified, most recent\n",
            "                                  one will be used\n",
            "  -o, --output FILE               Path to a file, where to store the output.\n",
            "                                  [required]\n",
            "  --force                         Force overwriting of existing files.\n",
            "  --help                          Show this message and exit.\n"
          ]
        }
      ],
      "source": [
        "!nxpwpc get-template --help"
      ]
    },
    {
      "cell_type": "markdown",
      "metadata": {},
      "source": [
        "Please note the `mywpc` service type above"
      ]
    },
    {
      "cell_type": "code",
      "execution_count": 15,
      "metadata": {},
      "outputs": [
        {
          "name": "stdout",
          "output_type": "stream",
          "text": [
            "The WPC template for mwct2d17s, Revision: latest has been saved into config_with_plugin.yaml YAML file\n"
          ]
        }
      ],
      "source": [
        "!nxpwpc get-template -st mywpc -tt model -f mwct2d17s -o config_with_plugin.yaml --force"
      ]
    },
    {
      "cell_type": "markdown",
      "metadata": {},
      "source": [
        "Please note the `service_parameters` section of [config_with_plugin.yaml](./config_with_plugin.yaml).  \n",
        "Keys `param1` and `param2` are coming from `.get_validation_schemas` method from the plugin.  \n",
        "When instantiating the plugin class using `.load_from_config`, these two keys will will be passed to the `__init__` method."
      ]
    }
  ],
  "metadata": {
    "kernelspec": {
      "display_name": "venv",
      "language": "python",
      "name": "python3"
    },
    "language_info": {
      "codemirror_mode": {
        "name": "ipython",
        "version": 3
      },
      "file_extension": ".py",
      "mimetype": "text/x-python",
      "name": "python",
      "nbconvert_exporter": "python",
      "pygments_lexer": "ipython3",
      "version": "3.13.0"
    }
  },
  "nbformat": 4,
  "nbformat_minor": 2
}