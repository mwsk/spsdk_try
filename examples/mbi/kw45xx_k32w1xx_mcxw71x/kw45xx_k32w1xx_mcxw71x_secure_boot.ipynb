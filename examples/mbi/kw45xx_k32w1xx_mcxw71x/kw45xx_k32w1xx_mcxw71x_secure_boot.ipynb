{
 "cells": [
  {
   "attachments": {},
   "cell_type": "markdown",
   "metadata": {},
   "source": [
    "# KW45xx, K32W1xx and MCXW71x Secure Boot\n",
    "\n",
    "This notebook describes how to how to set up a basic secure boot on KW45xx, K32W1xx and MCXW71x devices using the SPSDK command line utilities.\n",
    "\n",
    "Secure Boot ensures authenticity, integrity and confidentiality of any software during the\n",
    "boot process and ensures that the intended secure level is reached. Secure Boot ensures that only properly signed (Original equipment manufacturer (OEM)-authentic) code can be executed on a device, protecting debug access is of utmost importance. Secure boot provides guarantee that unauthorized code cannot be executed on a given product.\n",
    "\n",
    "At the end of this example, the signed application will be provided and the chip will be secured for that reason only application signed by key's owner can boot. \n",
    "\n",
    "Here is the necessary steps to achieve this goal:\n",
    "- plain application\n",
    "- root of trust\n",
    "- create secured imaged (created based on rot and plain)\n",
    "- switch device to proper life cycle\n",
    "- load secure image\n",
    "- verification"
   ]
  },
  {
   "cell_type": "markdown",
   "metadata": {},
   "source": [
    "## 1. Prerequisites\n",
    "- SPSDK is needed with examples extension. `pip install spsdk[examples]` (Please refer to the [installation](../../_knowledge_base/installation_guide.rst) documentation.)\n",
    "\n",
    "- This example uses KW45xx-EVK/K32W1xx-EVK/FRDM-MCXW71x board\n",
    "\n",
    "  <img src=\"../../_data/img/boards/kw45xx-evk.png\" alt=\"kw45xx-evk\" height=\"300\">\n",
    "\n",
    "  <img src=\"../../_data/img/boards/k32w1xx-evk.png\" alt=\"k32w1xx-evk\" height=\"300\">\n",
    "\n",
    "  <img src=\"../../_data/img/boards/frdm-mcxw71x.png\" alt=\"frdm-mcxw71x\" height=\"300\" >"
   ]
  },
  {
   "cell_type": "markdown",
   "metadata": {},
   "source": [
    "Let's prepare also workspace and variables."
   ]
  },
  {
   "cell_type": "code",
   "execution_count": 1,
   "metadata": {
    "tags": [
     "remove-cell"
    ]
   },
   "outputs": [
    {
     "name": "stdout",
     "output_type": "stream",
     "text": [
      "env: JUPYTER_SPSDK=1\n",
      "Created `%!` as an alias for `%execute`.\n"
     ]
    }
   ],
   "source": [
    "# Initialization cell\n",
    "import os\n",
    "\n",
    "from spsdk.utils.jupyter_utils import YamlDiffWidget\n",
    "\n",
    "# This env variable sets colored logger output to STDOUT\n",
    "%env JUPYTER_SPSDK=1\n",
    "# Set a magic for command execution and echo\n",
    "%alias execute echo %l && %l\n",
    "%alias_magic ! execute"
   ]
  },
  {
   "cell_type": "code",
   "execution_count": 2,
   "metadata": {},
   "outputs": [],
   "source": [
    "WORKSPACE = \"workspace/\"  # change this to path to your workspace\n",
    "INPUTS = \"inputs/\"\n",
    "# verbosity of commands, might be -v or -vv for debug or blank for no additional info\n",
    "VERBOSITY = \"-v\"\n",
    "# choose family (kw45b41z8, kw45b41z5, k32w148, mcxw716a or mcxw716c)\n",
    "FAMILY = \"kw45b41z8\"\n",
    "MBI_USER_CONFIG = \"inputs/kw45xx_xip_signed.yaml\""
   ]
  },
  {
   "attachments": {},
   "cell_type": "markdown",
   "metadata": {},
   "source": [
    "## 2. Root of Trust Keys Preparation\n",
    "\n",
    "To create a signed image, you need to establish a Root of Trust (RoT) at the beginning, which will be used later to sign the image.\n",
    "\n",
    "- The EVK board (KW45xx-EVK/K32W1xx) comes with pre-burned fuses containing the Root Key Table Hash (RKTH) in a fuse called CUST_PROD_OEMFW_AUTH_PUK, provided by NXP. The corresponding keys are stored in the EVK_keys folder.\n",
    "\n",
    "- Generally, you can generate Root of Trust Keys (RoTKs)/Super Root Keys (SRKs) and optionally an Image Signing Key (ISK). To generate these keys, use the *nxpcrypto* application (refer to [How-to-get-keys-using-nxpcrypto](../../crypto/keys.ipynb)). By default, the script creates 4 RoTKs and 1 ISK. At least one RoTK is mandatory.\n",
    "\n",
    "- Based on the loaded keys, a Root Key Table Hash (RKTH) value is calculated. This RKTH should be loaded into the device fuses, which is why the keys cannot be changed for the device once set.\n"
   ]
  },
  {
   "attachments": {},
   "cell_type": "markdown",
   "metadata": {},
   "source": [
    "## 3. Prepare Master Boot Image (MBI)\n",
    "\n",
    "In order to achieve secure boot, we will use signed [mbi](../../_knowledge_base/mbi_summary.md) with by already prepared RoT keys. \n",
    "\n",
    "\n",
    "The structure of signed MBI is following:\n",
    "\n",
    "<img src=\"img/signed_image.png\" alt=\"Signed image structure\" height=\"400\"> \n",
    "\n",
    "\n",
    "In order to generate MBI file, nxpimage tool is used.\n",
    "The process of creating MBI in SPSDK is following:\n",
    " - Get the certification block used in signed MBI\n",
    " - Get the configuration file that describes MBI setting\n",
    "   - To start creating the configuration file, the template of that file could be used. The command is: 'nxpimage mbi get-templates'\n",
    " - Modify the configuration file to reflect the project needs\n",
    " - Use the configuration by 'nxpimage mbi export' command to create the final MBI file \n",
    "\n"
   ]
  },
  {
   "cell_type": "markdown",
   "metadata": {},
   "source": [
    "### 3.1 Preparing Certificate Block v2.1\n",
    "\n",
    "In order to create signed MBI the certification block that keeps the RoT info must be prepared.\n",
    "- In our case we have already prepared certification block to simplify the example (see [Certification block configuration v2.1](./inputs/cert_block_kw45_secure.yaml))\n",
    "- To learn how to create a certificate blok check the whole example is presented in dedicated notebook (see [How-to-get-cert-block](../../certificate_block/cert_block_v2_1.ipynb)). "
   ]
  },
  {
   "cell_type": "markdown",
   "metadata": {},
   "source": [
    "### 3.2 Preparing MBI configuration file\n",
    "\n",
    "Let's begin by creating a template configuration file using the `nxpimage mbi get-templates` command. To simplify this example, we have already prepared a certificate block, which can be found in the [kw45xx_xip_signed.yaml](./inputs/kw45xx_xip_signed.yaml) file. Below, we'll compare the differences between the template and our customized example to highlight the additions we've made."
   ]
  },
  {
   "cell_type": "code",
   "execution_count": null,
   "metadata": {
    "comments": {
     "certBlock": "Add path to the configuration file containing certificates or path to binary block",
     "enableTrustZone": "We also do not enable TrustZone in this example",
     "signPrivateKey": "Add path to your private key file for signing",
     "signProvider": "This is removed, because we are using private key in this example"
    },
    "tags": [
     "remove-input"
    ]
   },
   "outputs": [
    {
     "name": "stdout",
     "output_type": "stream",
     "text": [
      "nxpimage mbi get-templates -f kw45b41z8 -o workspace/ --force \n",
      "Creating workspace/kw45b41z8_xip_plain.yaml template file.\n",
      "Creating workspace/kw45b41z8_xip_crc.yaml template file.\n",
      "Creating workspace/kw45b41z8_xip_signed.yaml template file.\n",
      "Creating workspace/kw45b41z8_xip_nxp_signed.yaml template file.\n"
     ]
    },
    {
     "data": {
      "text/html": [
       "\n",
       "            \n",
       "            <style>\n",
       "                .yaml-diff { font-family: monospace; background-color: #f0f0f0; padding: 1em; border: 1px solid #c0c0c0; }\n",
       "                .yaml-key { color: #0000CC; font-weight: bold; }\n",
       "                .yaml-value { color: #006600; }\n",
       "                .yaml-commented-line { color: #008800; }\n",
       "                .yaml-list-item { color: #660066; }\n",
       "                .diff-removed { background-color: #ffaaaa; }\n",
       "                .diff-added { background-color: #aaffaa; }\n",
       "                .yaml-comment {\n",
       "                    background-color: #FF8C00;\n",
       "                    color: #000000;\n",
       "                    border-radius: 50%;\n",
       "                    padding: 0 0.3em;\n",
       "                    margin-left: 0.5em;\n",
       "                    font-size: 0.8em;\n",
       "                    cursor: help;\n",
       "                    font-weight: bold;\n",
       "                    text-shadow: 1px 1px 1px rgba(255, 255, 255, 0.7);\n",
       "                }\n",
       "                #toggleButton_fb9c6e3eac25eb1f06728ddcbc9833fa {\n",
       "                    background-color: #4CAF50;\n",
       "                    border: none;\n",
       "                    color: white;\n",
       "                    padding: 10px 20px;\n",
       "                    text-align: center;\n",
       "                    text-decoration: none;\n",
       "                    display: inline-block;\n",
       "                    font-size: 16px;\n",
       "                    margin: 4px 2px;\n",
       "                    cursor: pointer;\n",
       "                }\n",
       "            </style>\n",
       "            \n",
       "            \n",
       "            <script>\n",
       "            function toggleView_fb9c6e3eac25eb1f06728ddcbc9833fa() {\n",
       "                var diffView = document.getElementById('diffView_fb9c6e3eac25eb1f06728ddcbc9833fa');\n",
       "                var userConfigView = document.getElementById('userConfigView_fb9c6e3eac25eb1f06728ddcbc9833fa');\n",
       "                var button = document.getElementById('toggleButton_fb9c6e3eac25eb1f06728ddcbc9833fa');\n",
       "\n",
       "                if (diffView.style.display === 'none' && userConfigView.style.display === 'none') {\n",
       "                    diffView.style.display = 'block';\n",
       "                    userConfigView.style.display = 'none';\n",
       "                    button.textContent = 'Show User Config';\n",
       "                } else if (diffView.style.display === 'block') {\n",
       "                    diffView.style.display = 'none';\n",
       "                    userConfigView.style.display = 'block';\n",
       "                    button.textContent = 'Hide';\n",
       "                } else {\n",
       "                    diffView.style.display = 'none';\n",
       "                    userConfigView.style.display = 'none';\n",
       "                    button.textContent = 'Show Diff';\n",
       "                }\n",
       "            }\n",
       "            </script>\n",
       "            \n",
       "            <div class=\"yaml-diff-container\">\n",
       "            <h3>Configuration Differences</h3>\n",
       "            <button onclick=\"toggleView_fb9c6e3eac25eb1f06728ddcbc9833fa()\" id=\"toggleButton_fb9c6e3eac25eb1f06728ddcbc9833fa\">Show Diff</button>\n",
       "            \n",
       "            <a href=\"data:text/plain;base64,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\" download=\"user_config.yaml\">\n",
       "                <button style=\"background-color: #4CAF50; border: none; color: white; padding: 10px 20px; text-align: center; text-decoration: none; display: inline-block; font-size: 16px; margin: 4px 2px; cursor: pointer;\">\n",
       "                    Download Config\n",
       "                </button>\n",
       "            </a>\n",
       "            \n",
       "            <div id=\"diffView_fb9c6e3eac25eb1f06728ddcbc9833fa\" class=\"yaml-diff\" style=\"display:none;\"><pre class=\"yaml-diff\"><span class=\"yaml-commented-line\"># ===========================  mbi Configuration template for kw45b41z8, Revision: latest.  ============================</span><br><br><span class=\"yaml-commented-line\"># ======================================================================================================================</span><br><span class=\"yaml-commented-line\">#                                                 == General Options ==                                                 </span><br><span class=\"yaml-commented-line\"># ======================================================================================================================</span><br><span class=\"yaml-commented-line\"># -------------------------------------===== The chip family name [Required] =====--------------------------------------</span><br><span class=\"yaml-commented-line\"># Description: NXP chip family identifier.</span><br><span class=\"yaml-key\">family</span>: <span class=\"yaml-value\">kw45b41z8</span><br><span class=\"yaml-commented-line\"># -----------------------------------------===== MCU revision [Optional] =====------------------------------------------</span><br><span class=\"yaml-commented-line\"># Description: Revision of silicon. The 'latest' name, means most current revision.</span><br><span class=\"yaml-commented-line\"># Possible options: <a0, a1, a2, latest></span><br><span class=\"yaml-key\">revision</span>: <span class=\"yaml-value\">latest</span><br><span class=\"yaml-commented-line\"># ======================================================================================================================</span><br><span class=\"yaml-commented-line\">#                                                  == Basic Settings ==                                                 </span><br><span class=\"yaml-commented-line\"># ======================================================================================================================</span><br><span class=\"yaml-commented-line\"># --------------------------------------===== Application target [Required] =====---------------------------------------</span><br><span class=\"yaml-commented-line\"># Description: Definition if application is Execute in Place(XiP) or loaded to RAM during reset sequence.</span><br><span class=\"yaml-commented-line\"># Possible options: <xip></span><br><span class=\"yaml-key\">outputImageExecutionTarget</span>: <span class=\"yaml-value\">xip</span><br><span class=\"yaml-commented-line\"># -------------------------------===== Type of boot image authentication [Required] =====-------------------------------</span><br><span class=\"yaml-commented-line\"># Description: Specification of final master boot image authentication.</span><br><span class=\"yaml-commented-line\"># Possible options: <plain, crc, signed-nxp, signed></span><br><span class=\"yaml-key\">outputImageAuthenticationType</span>: <span class=\"yaml-value\">signed</span><br><span class=\"yaml-commented-line\"># ---------------------------------------===== Output Image name [Required] =====---------------------------------------</span><br><span class=\"yaml-commented-line\"># Description: The path for result binary file.</span><br><span class=\"diff-removed\"><span class=\"yaml-key\">masterBootOutputFile</span>: <span class=\"yaml-value\">my_mbi.bin</span></span><br><span class=\"diff-added\"><span class=\"yaml-key\">masterBootOutputFile</span>: <span class=\"yaml-value\">../workspace/kw45xx_mbi_xip_signed_hello_world.bin</span></span><br><span class=\"yaml-commented-line\"># ------------------------------------===== Plain application image [Required] =====------------------------------------</span><br><span class=\"yaml-commented-line\"># Description: The input application image to by modified to Master Boot Image.</span><br><span class=\"diff-removed\"><span class=\"yaml-key\">inputImageFile</span>: <span class=\"yaml-value\">my_application.bin</span></span><br><span class=\"diff-added\"><span class=\"yaml-key\">inputImageFile</span>: <span class=\"yaml-value\">../inputs/kw45_int_xip_hello_world_blue_led_blinky_loop.bin</span></span><br><span class=\"yaml-commented-line\"># --------------------------------===== Loading address of application [Required] =====---------------------------------</span><br><span class=\"yaml-commented-line\"># Description: Application loading address in RAM if not XiP, otherwise address of load in XiP.</span><br><span class=\"yaml-key\">outputImageExecutionAddress</span>: <span class=\"yaml-value\">0</span><br><span class=\"yaml-commented-line\"># ---------------------------------------===== Firmware version. [Optional] =====---------------------------------------</span><br><span class=\"yaml-commented-line\"># Description: Value compared with Secure_FW_Version monotonic counter value stored in protected memory (MCU specific).</span><br><span class=\"yaml-commented-line\"># If value is lower than value in protected memory, then is image rejected (rollback protection).</span><br><span class=\"yaml-key\">firmwareVersion</span>: <span class=\"yaml-value\">0</span><br><span class=\"yaml-commented-line\"># ======================================================================================================================</span><br><span class=\"yaml-commented-line\">#                                              == Certificate Block V2.1 ==                                             </span><br><span class=\"yaml-commented-line\"># ======================================================================================================================</span><br><span class=\"yaml-commented-line\"># -----------------------------===== Certificate Block binary/config file [Required] =====------------------------------</span><br><span class=\"yaml-commented-line\"># Description: Path to certificate block binary or config file.</span><br><span class=\"diff-removed\"><span class=\"yaml-key\">certBlock</span>: <span class=\"yaml-value\">cert_block.yaml</span> <span style=\"background-color: #FFFF00; border-radius: 5px; padding:\n",
       "2px 6px; margin-left: 5px; font-size: 0.8em;\">Add path to the configuration file containing certificates or path to binary block</span></span><br><span class=\"diff-added\"><span class=\"yaml-key\">certBlock</span>: <span class=\"yaml-value\">../inputs/cert_block_kw45_secure.yaml</span></span><br><span class=\"yaml-commented-line\"># ======================================================================================================================</span><br><span class=\"yaml-commented-line\">#                                              == Image Signing Settings ==                                             </span><br><span class=\"yaml-commented-line\"># ======================================================================================================================</span><br><span class=\"diff-added\"><span class=\"yaml-key\">signer</span>: <span class=\"yaml-value\">../../_data/keys/EVK_keys/RoT_key0_secp384r1_kw45xx.pem</span></span><br><span class=\"yaml-commented-line\"># -------------------------------------===== Signer configuration [Required] =====--------------------------------------</span><br><span class=\"yaml-commented-line\"># Description: Signature provider configuration in format 'type=<sp_type>;<key1>=<value1>;<key2>=<value2>' or path to a</span><br><span class=\"yaml-commented-line\"># private key.</span><br><span class=\"diff-removed\"><span class=\"yaml-key\">signer</span>: <span class=\"yaml-value\">type=file;file_path=root_prv_key.pem</span> <span style=\"background-color: #FFFF00; border-\n",
       "radius: 5px; padding: 2px 6px; margin-left: 5px; font-size: 0.8em;\">Add path to your private key file for signing</span></span><br><span class=\"yaml-commented-line\"># ======================================================================================================================</span><br><span class=\"yaml-commented-line\">#                                               == Trust Zone Settings ==                                               </span><br><span class=\"yaml-commented-line\"># ======================================================================================================================</span><br><span class=\"yaml-commented-line\"># ---------------------------------===== TrustZone Customization file [Optional] =====----------------------------------</span><br><span class=\"yaml-commented-line\"># Description: If not specified, but TrustZone is enabled(enableTrustZone) the default values are used.</span><br><span class=\"diff-removed\"><span class=\"yaml-key\">trustZonePresetFile</span>: <span class=\"yaml-value\">my_tz_custom.yaml</span></span><br><span class=\"yaml-commented-line\"># ======================================================================================================================</span><br><span class=\"yaml-commented-line\">#                                               == Add Manifest Digest ==                                               </span><br><span class=\"yaml-commented-line\"># ======================================================================================================================</span><br><span class=\"yaml-commented-line\"># --------------------------------------===== Add Manifest Digest [Optional] =====--------------------------------------</span><br><span class=\"yaml-commented-line\"># Description: Used for concurrent execution of ECDSA verify and hash calculation.</span><br><span class=\"diff-removed\"><span class=\"yaml-key\">addManifestDigest</span>: <span class=\"yaml-value\">true</span></span><br></pre></div>\n",
       "            <div id=\"userConfigView_fb9c6e3eac25eb1f06728ddcbc9833fa\" class=\"yaml-diff\" style=\"display:none;\"><pre class=\"yaml-diff\"><span class=\"yaml-commented-line\"># Copyright 2024-2025 NXP</span><br><span class=\"yaml-commented-line\">#</span><br><span class=\"yaml-commented-line\"># SPDX-License-Identifier: BSD-3-Clause</span><br><span class=\"yaml-commented-line\"># ==============  Master Boot Image Configuration template for kw45b41z8:latest, Plain Signed XIP Image.  ==============</span><br><br><span class=\"yaml-commented-line\"># ======================================================================================================================</span><br><span class=\"yaml-commented-line\">#                                                 == General Options ==</span><br><span class=\"yaml-commented-line\"># ======================================================================================================================</span><br><span class=\"yaml-commented-line\"># -------------------------------------===== The chip family name [Required] =====--------------------------------------</span><br><span class=\"yaml-commented-line\"># Description: NXP chip family identifier.</span><br><span class=\"yaml-commented-line\"># Possible options: <k32w148, kw45b41z5, kw45b41z8, lpc5502, lpc5504, lpc5506, lpc5512, lpc5514, lpc5516, lpc5526,</span><br><span class=\"yaml-commented-line\"># lpc5528, lpc5534, lpc5536, lpc55s04, lpc55s06, lpc55s14, lpc55s16, lpc55s26, lpc55s28, lpc55s36, lpc55s66, lpc55s69,</span><br><span class=\"yaml-commented-line\"># mc56f81646, mc56f81648, mc56f81666, mc56f81668, mc56f81746, mc56f81748, mc56f81766, mc56f81768, mc56f81866,</span><br><span class=\"yaml-commented-line\"># mc56f81868, mcxa132, mcxa133, mcxa142, mcxa143, mcxa144, mcxa145, mcxa146, mcxa152, mcxa153, mcxa154, mcxa155,</span><br><span class=\"yaml-commented-line\"># mcxa156, mcxn235, mcxn236, mcxn546, mcxn547, mcxn946, mcxn947, mcxw716a, mcxw716c, mimxrt533s, mimxrt555s, mimxrt595s,</span><br><span class=\"yaml-commented-line\"># mimxrt685s, mimxrt798s, mwct2012, mwct2012a, mwct20d2, mwct20d2a, nhs52s04, rw610, rw612></span><br><span class=\"yaml-key\">family</span>: <span class=\"yaml-value\">kw45b41z8</span><br><span class=\"yaml-commented-line\"># -----------------------------------------===== MCU revision [Optional] =====------------------------------------------</span><br><span class=\"yaml-commented-line\"># Description: Revision of silicon. The 'latest' name, means most current revision.</span><br><span class=\"yaml-commented-line\"># Possible options: <a0, a1, a2, latest></span><br><span class=\"yaml-key\">revision</span>: <span class=\"yaml-value\">latest</span><br><span class=\"yaml-commented-line\"># ======================================================================================================================</span><br><span class=\"yaml-commented-line\">#                                                  == Basic Settings ==</span><br><span class=\"yaml-commented-line\"># ======================================================================================================================</span><br><span class=\"yaml-commented-line\"># --------------------------------------===== Application target [Required] =====---------------------------------------</span><br><span class=\"yaml-commented-line\"># Description: Definition if application is Execute in Place(XiP) or loaded to RAM during reset sequence.</span><br><span class=\"yaml-commented-line\"># Possible options: <xip, load-to-ram></span><br><span class=\"yaml-key\">outputImageExecutionTarget</span>: <span class=\"yaml-value\">xip</span><br><span class=\"yaml-commented-line\"># -------------------------------===== Type of boot image authentication [Required] =====-------------------------------</span><br><span class=\"yaml-commented-line\"># Description: Specification of final master boot image authentication.</span><br><span class=\"yaml-commented-line\"># Possible options: <plain, crc, signed, signed-encrypted, signed-nxp></span><br><span class=\"yaml-key\">outputImageAuthenticationType</span>: <span class=\"yaml-value\">signed</span><br><span class=\"yaml-commented-line\"># ---------------------------------------===== Output Image name [Required] =====---------------------------------------</span><br><span class=\"yaml-commented-line\"># Description: The path for result binary file.</span><br><span class=\"yaml-key\">masterBootOutputFile</span>: <span class=\"yaml-value\">../workspace/kw45xx_mbi_xip_signed_hello_world.bin</span><br><span class=\"yaml-commented-line\"># ------------------------------------===== Plain application image [Required] =====------------------------------------</span><br><span class=\"yaml-commented-line\"># Description: The input application image to by modified to Master Boot Image.</span><br><span class=\"yaml-key\">inputImageFile</span>: <span class=\"yaml-value\">../inputs/kw45_int_xip_hello_world_blue_led_blinky_loop.bin</span><br><span class=\"yaml-commented-line\"># --------------------------------===== Loading address of application [Required] =====---------------------------------</span><br><span class=\"yaml-commented-line\"># Description: Application loading address in RAM if not XiP, otherwise address of load in XiP.</span><br><span class=\"yaml-key\">outputImageExecutionAddress</span>: <span class=\"yaml-value\">0</span><br><span class=\"yaml-commented-line\"># ---------------------------------------===== Firmware version. [Optional] =====---------------------------------------</span><br><span class=\"yaml-commented-line\"># Description: Value compared with Secure_FW_Version monotonic counter value stored in protected memory (MCU specific).</span><br><span class=\"yaml-commented-line\"># If value is lower than value in protected memory, then is image rejected (rollback protection).</span><br><span class=\"yaml-key\">firmwareVersion</span>: <span class=\"yaml-value\">0</span><br><span class=\"yaml-commented-line\"># ======================================================================================================================</span><br><span class=\"yaml-commented-line\">#                                              == Certificate Block V2.1 ==</span><br><span class=\"yaml-commented-line\"># ======================================================================================================================</span><br><span class=\"yaml-commented-line\"># -----------------------------===== Certificate Block binary/config file [Required] =====------------------------------</span><br><span class=\"yaml-commented-line\"># Description: Path to certificate block binary or config file.</span><br><span class=\"yaml-key\">certBlock</span>: <span class=\"yaml-value\">../inputs/cert_block_kw45_secure.yaml</span> <span style=\"background-color: #FFFF00; border-\n",
       "radius: 5px; padding: 2px 6px; margin-left: 5px; font-size: 0.8em;\">Add path to the configuration file containing certificates or path to binary block</span><br><span class=\"yaml-commented-line\"># ======================================================================================================================</span><br><span class=\"yaml-commented-line\">#                                              == Image Signing Settings ==</span><br><span class=\"yaml-commented-line\"># ======================================================================================================================</span><br><span class=\"yaml-commented-line\"># --------------------------===== Main Certificate private key [Conditionally required] =====---------------------------</span><br><span class=\"yaml-commented-line\"># Description: Main Certificate private key used to sign certificate.</span><br><span class=\"yaml-key\">signer</span>: <span class=\"yaml-value\">../../_data/keys/EVK_keys/RoT_key0_secp384r1_kw45xx.pem</span> <span style=\"background-color:\n",
       "#FFFF00; border-radius: 5px; padding: 2px 6px; margin-left: 5px; font-size: 0.8em;\">Add path to your private key file for signing</span><br></pre></div>\n",
       "            </div>\n",
       "            "
      ],
      "text/plain": [
       "<IPython.core.display.HTML object>"
      ]
     },
     "execution_count": 3,
     "metadata": {},
     "output_type": "execute_result"
    }
   ],
   "source": [
    "# Get difference of template and user YAML configuration\n",
    "YamlDiffWidget(\"inputs/kw45xx_k32w1xx_secure_boot.diffc\").html"
   ]
  },
  {
   "attachments": {},
   "cell_type": "markdown",
   "metadata": {},
   "source": [
    "### 3.3 MBI generation\n",
    "\n",
    "We have created certificates, keys and proper configuration required for the creation of MBI file. Let's create a MBI."
   ]
  },
  {
   "cell_type": "code",
   "execution_count": null,
   "metadata": {},
   "outputs": [
    {
     "name": "stdout",
     "output_type": "stream",
     "text": [
      "RKTH: 650d8097079ff27a3e8a2da14781b922fd8295b6c00bfa067f00e87f1a16b8b304bf710d45cbd591e2e24be83183922c\n",
      "Success. (Master Boot Image: workspace\\kw45xx_mbi_xip_signed_hello_world.bin created.)\n"
     ]
    }
   ],
   "source": [
    "# Execute MBI export command with our configuration\n",
    "! nxpimage mbi export -c $MBI_USER_CONFIG\n",
    "\n",
    "# Just check the MBI file has been properly created\n",
    "MBI_OUTPUT_FILE = WORKSPACE + \"kw45xx_mbi_xip_signed_hello_world.bin\"\n",
    "assert os.path.exists(MBI_OUTPUT_FILE)"
   ]
  },
  {
   "attachments": {},
   "cell_type": "markdown",
   "metadata": {},
   "source": [
    "## 4. Device preparation\n",
    "\n",
    "Now it's time to prepare the device. In this example we will use KW45xx-EVK/K32W1xx board.\n",
    "\n",
    "### Board preparation\n",
    "\n",
    "First step is to enter In System Programming (ISP) mode, this could be achieved by 3 scenarios:\n",
    "- Force ISP mode by HW pin\n",
    "  1) Put JP25 to (1-2)\n",
    "  2) Reset the board with SW4 pressed\n",
    "- Force ISP mode by debug mailbox command\n",
    "  - Connect debug probe and use *nxpdebugmbox ispmode -m 1* command\n",
    "- Native fall-down in case that no valid application is in chip\n",
    "  - In case that chip has no valid application to boot, the ISP mode is activated natively \n",
    "\n",
    "Use app *nxpdevscan* to check if the device is connected to the PC in ISP mode.\n",
    "\n",
    "\n",
    "**In our case, we already have burnt some fuses on EVK. Those KW45xx/K32Wxx EVK boards are distributed from NXP by already burned RoTKH information as has been already mentioned earlier.**"
   ]
  },
  {
   "cell_type": "code",
   "execution_count": null,
   "metadata": {
    "execute_cell": false
   },
   "outputs": [
    {
     "name": "stdout",
     "output_type": "stream",
     "text": [
      "nxpdevscan \n",
      "-------- Connected NXP USB Devices --------\n",
      "\n",
      "-------- Connected NXP UART Devices --------\n",
      "\n",
      "Port: COM10\n",
      "Type: mboot device\n",
      "\n",
      "-------- Connected NXP SIO Devices --------\n",
      "\n",
      "-------- Connected NXP UUU Devices --------\n",
      "\n"
     ]
    }
   ],
   "source": [
    "# check if the device is connected and detected by PC\n",
    "%! nxpdevscan"
   ]
  },
  {
   "cell_type": "code",
   "execution_count": null,
   "metadata": {},
   "outputs": [
    {
     "name": "stdout",
     "output_type": "stream",
     "text": [
      "blhost -p com10 get-property current-version \n",
      "Response status = 0 (0x0) Success.\n",
      "Response word 1 = 1258488064 (0x4b030100)\n",
      "Current Version = K3.1.0\n"
     ]
    }
   ],
   "source": [
    "# Choose com port got by nxpdevscan tool\n",
    "UART_CONNECTION = \"-p com10\"\n",
    "\n",
    "%! blhost $UART_CONNECTION get-property current-version"
   ]
  },
  {
   "attachments": {},
   "cell_type": "markdown",
   "metadata": {},
   "source": [
    "## 5. Load MBI\n",
    "\n",
    "Last step is to uploads MBI file with image to device."
   ]
  },
  {
   "cell_type": "code",
   "execution_count": null,
   "metadata": {},
   "outputs": [
    {
     "name": "stdout",
     "output_type": "stream",
     "text": [
      "blhost -p com10 flash-erase-all \n",
      "Response status = 0 (0x0) Success.\n"
     ]
    }
   ],
   "source": [
    "# 4.1 Erase all flash\n",
    "%! blhost $UART_CONNECTION flash-erase-all"
   ]
  },
  {
   "cell_type": "code",
   "execution_count": null,
   "metadata": {},
   "outputs": [
    {
     "name": "stdout",
     "output_type": "stream",
     "text": [
      "blhost -p com10 write-memory 0x0 workspace/kw45xx_mbi_xip_signed_hello_world.bin \n",
      "Writing memory\n",
      "Response status = 0 (0x0) Success.\n",
      "Response word 1 = 2872 (0xb38)\n"
     ]
    }
   ],
   "source": [
    "# 4.2 Uploads MBI\n",
    "%! blhost $UART_CONNECTION write-memory 0x0 $MBI_OUTPUT_FILE"
   ]
  },
  {
   "cell_type": "code",
   "execution_count": null,
   "metadata": {},
   "outputs": [
    {
     "name": "stdout",
     "output_type": "stream",
     "text": [
      "blhost -p com10 reset \n",
      "Response status = 0 (0x0) Success.\n"
     ]
    }
   ],
   "source": [
    "# 4.3 Reset to board to verify that image successfully boot\n",
    "%! blhost $UART_CONNECTION reset"
   ]
  },
  {
   "cell_type": "markdown",
   "metadata": {},
   "source": [
    "The application can boot. Right now the board is in OEM OPEN life cycle - every image can boot. You can check life cycle value by switching back to ISP mode and running command: \n",
    "\n",
    "%! blhost $UART_CONNECTION fuse-read 0xa 4\n",
    "\n",
    "Here is description of lifecycles:\n",
    "\n",
    "<img src=\"img/lifecycle_states.png\" alt=\"lifecycle states\" height=\"400\"> \n",
    "\n",
    "Let's enable secure boot feature in next chapter and limit the booting only for images signed by oem owned keys."
   ]
  },
  {
   "cell_type": "markdown",
   "metadata": {},
   "source": [
    "### 6. Secure device\n",
    "\n",
    "Once the secure boot is enabled, which means that the life cycle is shifted to OEM Closed (0x1F), the signed image is loaded and only applications signed with these keys can boot.\n",
    "\n",
    "Shifting the life cycle is done by writing the correct value to the fuse with address 0xa using the following command:\n",
    "\n",
    "\n",
    "blhost $UART_CONNECTION fuse-program 0xa '{{1F}}'\n",
    "\n",
    "\n",
    "> **WARNING:** This step is a destructive operation (burning fuses). Remember that shifting the lifecycle is a one-time operation and cannot be reverted.\n",
    "\n",
    "In the Closed lifecycle, only limited ISP commands are allowed (GetProperty, Reset, SetProperty, ReceiveSbFile). Test and debug ports are closed by default. If debug authentication is enabled, then the authentication process can be used to reopen debug ports.\n",
    "\n",
    "Once the life cycle is shifted, we will achieve the goal: the signed application boots, and the chip is secured. From now on, only applications signed by OEM-owned keys can boot.\n",
    "\n",
    "Moreover, firmware updates are only possible using the `blhost receive-sb-file` command.\n",
    "\n",
    "If you try to load an image that is signed by different keys, the application should not boot.\n"
   ]
  }
 ],
 "metadata": {
  "kernelspec": {
   "display_name": "venv",
   "language": "python",
   "name": "python3"
  },
  "language_info": {
   "codemirror_mode": {
    "name": "ipython",
    "version": 3
   },
   "file_extension": ".py",
   "mimetype": "text/x-python",
   "name": "python",
   "nbconvert_exporter": "python",
   "pygments_lexer": "ipython3",
   "version": "3.11.9"
  }
 },
 "nbformat": 4,
 "nbformat_minor": 4
}
