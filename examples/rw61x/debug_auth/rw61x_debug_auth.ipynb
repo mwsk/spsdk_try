{
  "cells": [
    {
      "cell_type": "markdown",
      "metadata": {},
      "source": [
        "# RW61x Debug Authentication"
      ]
    },
    {
      "cell_type": "markdown",
      "metadata": {},
      "source": [
        "## Introduction\n",
        "This jupyter notebook describes the steps for debug authentication (DAT) using the nxpdebugmbox app away from SPSDK team. The fundamental principles of debugging conflict with the principles of security: debugging requires access to the system state and system information, security requires the restriction of access to assets. Often, debug access is disabled completely before the products are deployed. This causes challenges for product design teams to complete the return material analysis. To address these challenges, the device supports a DAT protocol as a mechanism to authenticate the debugger. The product manufacturer approves the credentials before granting debug access to the device. So DAT is a key feature as it enables security during the complete lifecycle of a product.\n",
        "\n",
        "An example for implementing DAT has already been presented for MCXN9xx devices, so you can study the general principles of DAT from mcxn9xx_debug_auth.ipynb. The reason for creating this jupyter notebook was the numerous inquiries regarding the use of DAT on rw61x devices, considering the necessary configuration of registers, which MCXN9xx does not have, and the procedure was therefore not entirely clear to some users."
      ]
    },
    {
      "cell_type": "markdown",
      "metadata": {},
      "source": [
        "## Let's prepare the environment"
      ]
    },
    {
      "cell_type": "code",
      "execution_count": 1,
      "metadata": {},
      "outputs": [
        {
          "name": "stdout",
          "output_type": "stream",
          "text": [
            "env: JUPYTER_SPSDK=1\n",
            "Created `%!` as an alias for `%execute`.\n"
          ]
        }
      ],
      "source": [
        "%run ../../init_notebook.ipynb\n",
        "\n",
        "import os\n",
        "\n",
        "WORKSPACE = \"workspace/\"  # change this to path to your workspace\n",
        "KEYS = \"../../_data/keys/ecc256/\"  # change this to path to your keys\n",
        "INPUTS = \"inputs/\"\n",
        "\n",
        "# choose debug interface\n",
        "INTERFACE = \"jlink\"\n",
        "# choose family\n",
        "FAMILY = \"rw61x\""
      ]
    },
    {
      "cell_type": "markdown",
      "metadata": {},
      "source": [
        "## Generate root of trust keys and debug credential key\n",
        "Root of Trust Keys (RoTKs)\n",
        "- The device supports up to four RoTKs. At least one key pair is required.\n",
        "- Supported key types: secp256r1, secp384r1.\n",
        "\n",
        "Debug Credential key (DCK)\n",
        "- The public part of the key is associated with a debug credential (DC).\n",
        "- The private part is held by the user and used to produce signatures during authentication.\n",
        "\n",
        "In this example, we will use *nxpcrypto* app to generate secp256r1 keys"
      ]
    },
    {
      "cell_type": "code",
      "execution_count": 1,
      "metadata": {},
      "outputs": [],
      "source": [
        "# load generated key pair for ROTK0\n",
        "ROTK0_PRIVATE_KEY_PATH = os.path.join(KEYS, \"srk0_ecc256.pem\")\n",
        "ROTK0_PUBLIC_KEY_PATH = os.path.join(KEYS, \"srk0_ecc256.pub\")\n",
        "# verify that keys were loaded\n",
        "assert os.path.exists(ROTK0_PRIVATE_KEY_PATH)\n",
        "assert os.path.exists(ROTK0_PUBLIC_KEY_PATH)\n",
        "\n",
        "# load generated key pair for DCK\n",
        "DCK_PRIVATE_KEY_PATH = os.path.join(KEYS, \"dck_ecc256.pem\")\n",
        "DCK_PUBLIC_KEY_PATH = os.path.join(KEYS, \"dck_ecc256.pub\")\n",
        "# verify that keys were loaded\n",
        "assert os.path.exists(DCK_PRIVATE_KEY_PATH)\n",
        "assert os.path.exists(DCK_PUBLIC_KEY_PATH)"
      ]
    },
    {
      "cell_type": "markdown",
      "metadata": {},
      "source": [
        "## Generate debug credential file \n",
        "Debug Credential (DC) configuration including:\n",
        "- socc: Specifies the device family.\n",
        "- uuid: Universally Unique Identifier (UUID) is 128-bit IETF RFC4122 compliant. Controls whether to enforce UUID check during DC validation or not. If this field is set, only the DC with matching device UUID can unlock\n",
        "the debug access.\n",
        "- cc_socu: SoC Usage controls which debug domains are accessed via the authentication protocol.\n",
        "- cc_vu: Vendor Usage can be leveraged by vendors in product-specific ways.\n",
        "- cc_beacon: Credential beacon is associated with DC and system product. With credential beacon, debug authentication can be restricted to specific parts having matching system product ID in OTP.\n",
        "- rot_meta: Includes public parts of RoT key(s).\n",
        "- rot_id: Defines the root of trust identifier. Allows the debugger to infer which RoT public key(s) are acceptable to the device. The rot_id field is used.\n",
        "to bind the devices to specific certificate authority (CA) keys issuing the debug credentials.\n",
        "- dck: The public part of DCK.\n",
        "- rotk: RoT signature private key for the RoT meta chosen by rot_id to sign the image.\n",
        "- sign_provider: Signature provider configuration in format `type=<sp_type>;<key_number>=<rot_id>`."
      ]
    },
    {
      "cell_type": "code",
      "execution_count": 1,
      "metadata": {},
      "outputs": [
        {
          "name": "stdout",
          "output_type": "stream",
          "text": [
            "nxpdebugmbox get-template -f rw61x -o workspace/dc_config_default_rw61x.yml --force \n",
            "The configuration template file has been created.\n"
          ]
        }
      ],
      "source": [
        "# generate and modify DC config\n",
        "DC_CONFIG_DEFAULT_RW61X = os.path.join(WORKSPACE, \"dc_config_default_rw61x.yml\")\n",
        "\n",
        "%! nxpdebugmbox get-template -f $FAMILY -o $DC_CONFIG_DEFAULT_RW61X --force"
      ]
    },
    {
      "cell_type": "code",
      "execution_count": 1,
      "metadata": {},
      "outputs": [
        {
          "data": {
            "text/plain": [
              "True"
            ]
          },
          "execution_count": 1,
          "metadata": {},
          "output_type": "execute_result"
        }
      ],
      "source": [
        "DC_CONFIG_RW61X = os.path.join(INPUTS, \"dc_config_rw61x.yml\")\n",
        "os.path.exists(DC_CONFIG_RW61X)"
      ]
    },
    {
      "attachments": {},
      "cell_type": "markdown",
      "metadata": {},
      "source": [
        "In our case, we modified these items in the DC configuration template:\n",
        "1. Specify cc_socu that controls which debug domains are accessed via the authentication protocol.\\\n",
        "    ![image.png](img/9_image.png)\n",
        "2. Define path to the generated RoTK/SRK.\\\n",
        "    ![image-2.png](img/9_image-2.png)\n",
        "3. Define which RoTK will be the root of trust identifier <0, 1, 2, 3>.\\\n",
        "    ![image-3.png](img/9_image-3.png)\n",
        "3. Define path to the DCK.\\\n",
        "    ![image-4.png](img/9_image-4.png)\n",
        "4. Define path to the ROTK. RoT signature private key for the RoT meta chosen by rot_id to sign the image.\\\n",
        "    ![image-6.png](img/9_image-6.png)\n"
      ]
    },
    {
      "cell_type": "markdown",
      "metadata": {},
      "source": [
        "<span style=\"color:red\">NOTICE: Based on the chip revision choose socc. A1: socc = 0x4; A2: socc = 0xA!</span>"
      ]
    },
    {
      "cell_type": "code",
      "execution_count": 1,
      "metadata": {},
      "outputs": [
        {
          "name": "stdout",
          "output_type": "stream",
          "text": [
            "nxpdebugmbox -p 2.0 gendc -c inputs/dc_config_rw61x.yml -o workspace/rw61x.dc --force \n",
            "RKTH: dc41dd48d79b99ac8b91194483fc477c632d0b5632ae8a439476a98872971d3d\n",
            "Creating Debug credential file succeeded\n"
          ]
        }
      ],
      "source": [
        "# generate DC file according to exemplary config\n",
        "DC_FILE_RW61X = os.path.join(WORKSPACE, \"rw61x.dc\")\n",
        "\n",
        "%! nxpdebugmbox -p 2.0 gendc -c $DC_CONFIG_RW61X -o $DC_FILE_RW61X --force"
      ]
    },
    {
      "cell_type": "code",
      "execution_count": 1,
      "metadata": {},
      "outputs": [
        {
          "name": "stdout",
          "output_type": "stream",
          "text": [
            "nxpcrypto rot calculate-hash -f rw61x -k ../_data/keys/ecc256/srk0_ecc256.pub -o workspace/rkth.txt \n",
            "Result has been stored in: workspace/rkth.txt\n",
            "RoT hash: dc41dd48d79b99ac8b91194483fc477c632d0b5632ae8a439476a98872971d3d\n"
          ]
        }
      ],
      "source": [
        "# save RKTH\n",
        "RKTH_PATH = os.path.join(WORKSPACE, \"rkth.txt\")\n",
        "\n",
        "%! nxpcrypto rot calculate-hash -f rw61x -k $ROTK0_PUBLIC_KEY_PATH -o $RKTH_PATH\n",
        "\n",
        "# read RKTH\n",
        "with open(RKTH_PATH, \"rb\") as rkth:\n",
        "    rkth_val = f\"0x{rkth.read().hex()}\""
      ]
    },
    {
      "cell_type": "markdown",
      "metadata": {},
      "source": [
        "## Device preparation\n",
        "- Have the device in debug mode.\n",
        "\n",
        "![RW61X-EVK](img/RW61X-EVK.png \"RW61X-EVK\")"
      ]
    },
    {
      "cell_type": "code",
      "execution_count": 1,
      "metadata": {},
      "outputs": [
        {
          "name": "stdout",
          "output_type": "stream",
          "text": [
            "nxpdebugmbox -i jlink test-connection \n",
            "  #   Interface   Id           Description             \n",
            "-------------------------------------------------------\n",
            "  0   Jlink       1061995210   Segger J-Link MCU-Link  \n",
            "The device is accessible for debugging.\n"
          ]
        }
      ],
      "source": [
        "# check availability of debug probe\n",
        "%! nxpdebugmbox -i $INTERFACE test-connection"
      ]
    },
    {
      "cell_type": "markdown",
      "metadata": {},
      "source": [
        "## Shadow registers configuration\n",
        "The following is an introduction to one of the variants of the shadow register configuration for DAT. The illustrative use case that is presented is based on disabling the debug access control registers.\n",
        "- The debug access control rights and security policies are configurable. \n",
        "- The configuration fields are referred to as device configuration for credential constraints (DCFG_CC).\n",
        "- Life Cycle (LC) state in shadow registers to be configured should be either Develop2 (0x0707) or In-Field (0x0F0F).\n",
        "- The RKTH value must be specified."
      ]
    },
    {
      "cell_type": "code",
      "execution_count": 1,
      "metadata": {},
      "outputs": [
        {
          "name": "stdout",
          "output_type": "stream",
          "text": [
            "shadowregs -i jlink -f rw61x saveconfig -o workspace/sr_diff_rw61x.yml -d \n",
            "  #   Interface   Id           Description             \n",
            "-------------------------------------------------------\n",
            "  0   Jlink       1061995210   Segger J-Link MCU-Link  \n",
            "The Shadow registers has been saved into workspace/sr_diff_rw61x.yml YAML file\n"
          ]
        }
      ],
      "source": [
        "# verify that your shadowregs are in the default state\n",
        "SR_DIFF_PATH = os.path.join(WORKSPACE, \"sr_diff_rw61x.yml\")\n",
        "\n",
        "%! shadowregs -i $INTERFACE -f $FAMILY saveconfig -o $SR_DIFF_PATH -d"
      ]
    },
    {
      "cell_type": "code",
      "execution_count": 1,
      "metadata": {},
      "outputs": [
        {
          "name": "stdout",
          "output_type": "stream",
          "text": [
            "shadowregs -i jlink -f rw61x reset \n",
            "  #   Interface   Id           Description             \n",
            "-------------------------------------------------------\n",
            "  0   Jlink       1061995210   Segger J-Link MCU-Link  \n",
            "The target has been reset.\n"
          ]
        }
      ],
      "source": [
        "# optional but recommended: reset connected device\n",
        "%! shadowregs -i $INTERFACE -f $FAMILY reset"
      ]
    },
    {
      "cell_type": "code",
      "execution_count": 1,
      "metadata": {},
      "outputs": [
        {
          "name": "stdout",
          "output_type": "stream",
          "text": [
            "shadowregs -f rw61x get-template -o workspace/sr_template_default_rw61x.yml --force \n",
            "The Shadow registers template for rw61x has been saved into workspace/sr_template_default_rw61x.yml YAML file\n"
          ]
        }
      ],
      "source": [
        "# generate and modify shadowregs config\n",
        "SR_TEMPLATE_DEFAULT_PATH = os.path.join(WORKSPACE, \"sr_template_default_rw61x.yml\")\n",
        "\n",
        "%! shadowregs -f $FAMILY get-template -o $SR_TEMPLATE_DEFAULT_PATH --force"
      ]
    },
    {
      "cell_type": "code",
      "execution_count": 1,
      "metadata": {},
      "outputs": [
        {
          "data": {
            "text/plain": [
              "True"
            ]
          },
          "execution_count": 6,
          "metadata": {},
          "output_type": "execute_result"
        }
      ],
      "source": [
        "SR_TEMPLATE_PATH = os.path.join(INPUTS, \"sr_template_rw61x.yml\")\n",
        "os.path.exists(SR_TEMPLATE_PATH)"
      ]
    },
    {
      "attachments": {},
      "cell_type": "markdown",
      "metadata": {},
      "source": [
        "In our case, we modified these items in the SR configuration template:\n",
        "1. Set ROTKx_USAGE where x is index of RoTKs in the BOOT_CFG3 register based on how many keys you are using.\\\n",
        "    ![image.png](img/20_image.png)\\\n",
        "    ![image-2.png](img/20_image-2.png)\\\n",
        "    ![image-3.png](img/20_image-3.png)\\\n",
        "    ![image-4.png](img/20_image-4.png)\n",
        "2. Move the life cycle state to In-Field.\\\n",
        "    ![image-5.png](img/20_image-5.png)"
      ]
    },
    {
      "cell_type": "code",
      "execution_count": 1,
      "metadata": {},
      "outputs": [
        {
          "name": "stdout",
          "output_type": "stream",
          "text": [
            "shadowregs -i jlink -f rw61x loadconfig -c workspace/sr_template_rw61x.yml \n",
            "  #   Interface   Id           Description             \n",
            "-------------------------------------------------------\n",
            "  0   Jlink       1061995210   Segger J-Link MCU-Link  \n",
            "The Shadow registers has been loaded by configuration in workspace/sr_template_rw61x.yml YAML file\n"
          ]
        }
      ],
      "source": [
        "# load modified shadowregs\n",
        "%! shadowregs -i $INTERFACE -f $FAMILY loadconfig -c $SR_TEMPLATE_PATH"
      ]
    },
    {
      "cell_type": "code",
      "execution_count": 1,
      "metadata": {},
      "outputs": [
        {
          "name": "stdout",
          "output_type": "stream",
          "text": [
            "shadowregs -i jlink -f rw61x setreg -r RKTH -v 0xdc41dd48d79b99ac8b91194483fc477c632d0b5632ae8a439476a98872971d3d \n",
            "  #   Interface   Id           Description             \n",
            "-------------------------------------------------------\n",
            "  0   Jlink       1061995210   Segger J-Link MCU-Link  \n",
            "The Shadow register RKTH has been set to 0xdc41dd48d79b99ac8b91194483fc477c632d0b5632ae8a439476a98872971d3d value\n"
          ]
        }
      ],
      "source": [
        "# RKTH specification\n",
        "%! shadowregs -i $INTERFACE -f $FAMILY setreg -r RKTH -v $rkth_val"
      ]
    },
    {
      "cell_type": "code",
      "execution_count": 1,
      "metadata": {},
      "outputs": [
        {
          "name": "stdout",
          "output_type": "stream",
          "text": [
            "shadowregs -i jlink -f rw61x reset \n",
            "  #   Interface   Id           Description             \n",
            "-------------------------------------------------------\n",
            "  0   Jlink       1061995210   Segger J-Link MCU-Link  \n",
            "The target has been reset.\n"
          ]
        }
      ],
      "source": [
        "# reset the device to load modified shodowregs\n",
        "%! shadowregs -i $INTERFACE -f $FAMILY reset"
      ]
    },
    {
      "cell_type": "code",
      "execution_count": 1,
      "metadata": {},
      "outputs": [
        {
          "name": "stdout",
          "output_type": "stream",
          "text": [
            "nxpdebugmbox -i jlink test-connection \n",
            "  #   Interface   Id           Description             \n",
            "-------------------------------------------------------\n",
            "  0   Jlink       1061995210   Segger J-Link MCU-Link  \n",
            "The device is not-accessible for debugging.\n"
          ]
        }
      ],
      "source": [
        "# check the device is not accessible for debugging\n",
        "%! nxpdebugmbox -i $INTERFACE test-connection"
      ]
    },
    {
      "cell_type": "markdown",
      "metadata": {},
      "source": [
        "## Debug authentication challenge\n",
        "In the previous steps, we loaded a configuration with all the keys and enabled the debug authentication in the device. We have also created the DC certificate and private key for the debug authentication challenge. In addition, a protocol version and a beacon must be specified.\n",
        "\n",
        "RW61x devices support two instantiations of debug authentication protocol versions (-p option). The versions are defined based on the different-sized ECDSA keys:\n",
        "- 2.0: Uses ECDSA P-256 signature verification RoT key(s)\n",
        "- 2.1: Uses ECDSA P-384 signature verification RoT key(s)\n",
        "\n",
        "The debug authentication process can be extended with beacons. The authentication beacon defines the system-specific debug policy use case such as: restricting debug authentication to only certain devices having specific system product ID during manufacturing phase."
      ]
    },
    {
      "cell_type": "code",
      "execution_count": 1,
      "metadata": {},
      "outputs": [
        {
          "name": "stdout",
          "output_type": "stream",
          "text": [
            "nxpdebugmbox -i jlink -p 2.0 auth -b 0 -c workspace/rw61x.dc -k keys/dck_ecc256.pem \n",
            "  #   Interface   Id           Description             \n",
            "-------------------------------------------------------\n",
            "  0   Jlink       1061995210   Segger J-Link MCU-Link  \n",
            "\u001b[33mWARNING:spsdk.dat.dac_packet:The DAC(Debug Authentication Challenge) RKTH doesn't match with DC(Debug Credential).For RW61x devices, this is correct behaviour. For LPC55S3x it indicates incorrect DC file,and needs to be fixed. (2251ms since start, dac_packet.py:98)\u001b[39m\n",
            "Debug Authentication ends successfully.\n"
          ]
        }
      ],
      "source": [
        "%! nxpdebugmbox -i $INTERFACE -p 2.0 auth -b 0 -c $DC_FILE_RW61X -k $DCK_PRIVATE_KEY_PATH"
      ]
    },
    {
      "cell_type": "code",
      "execution_count": 1,
      "metadata": {},
      "outputs": [
        {
          "name": "stdout",
          "output_type": "stream",
          "text": [
            "nxpdebugmbox -i jlink test-connection \n",
            "  #   Interface   Id           Description             \n",
            "-------------------------------------------------------\n",
            "  0   Jlink       1061995210   Segger J-Link MCU-Link  \n",
            "The device is accessible for debugging.\n"
          ]
        }
      ],
      "source": [
        "# check the device is accessible for debugging\n",
        "%! nxpdebugmbox -i $INTERFACE test-connection"
      ]
    }
  ],
  "metadata": {
    "kernelspec": {
      "display_name": "venv",
      "language": "python",
      "name": "python3"
    },
    "language_info": {
      "codemirror_mode": {
        "name": "ipython",
        "version": 3
      },
      "file_extension": ".py",
      "mimetype": "text/x-python",
      "name": "python",
      "nbconvert_exporter": "python",
      "pygments_lexer": "ipython3",
      "version": "3.9.13"
    }
  },
  "nbformat": 4,
  "nbformat_minor": 2
}
