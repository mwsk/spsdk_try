{
 "cells": [
  {
   "attachments": {},
   "cell_type": "markdown",
   "metadata": {},
   "source": [
    "# KW45xx and K32W1xx Load NBU image\n",
    "\n",
    "The KW45 product family is a low-power, highly secure, single-chip wireless MCU.\n",
    "\n",
    "It is a three-core platform, with one core for each specific domain: application, security (EdgeLock), and radio.\n",
    "The radio domain features a Cortex-M3, Bluetooth LE Unit with dedicated flash. The memories integrated in\n",
    "radio consist of Bluetooth LE controller stack and radio drivers. KW45 boot ROM supports remote firmware\n",
    "update for the main flash (CM-33) and radio flash (CM-3).\n",
    "\n",
    "This application note focuses on the secure update of KW45 radio firmware by loading Narrow Band Unit (NBU) image to KW45xx/K32W1xx device."
   ]
  },
  {
   "cell_type": "markdown",
   "metadata": {},
   "source": [
    "## 1. Prerequisites\n",
    "- SPSDK is needed with examples extension. `pip install spsdk[examples]` (Please refer to the [installation](../../_knowledge_base/installation_guide.rst) documentation.)"
   ]
  },
  {
   "cell_type": "markdown",
   "metadata": {},
   "source": [
    "Let's prepare also workspace and variables."
   ]
  },
  {
   "cell_type": "code",
   "execution_count": 1,
   "metadata": {},
   "outputs": [
    {
     "name": "stdout",
     "output_type": "stream",
     "text": [
      "env: JUPYTER_SPSDK=1\n",
      "Created `%!` as an alias for `%execute`.\n"
     ]
    }
   ],
   "source": [
    "# Initialization cell\n",
    "from spsdk.utils.jupyter_utils import YamlDiffWidget\n",
    "\n",
    "# This env variable sets colored logger output to STDOUT\n",
    "%env JUPYTER_SPSDK=1\n",
    "# Set a magic for command execution and echo\n",
    "%alias execute echo %l && %l\n",
    "%alias_magic ! execute"
   ]
  },
  {
   "cell_type": "markdown",
   "metadata": {},
   "source": [
    "## 2. Root of Trust Keys Preparation\n",
    "\n",
    "To perform secure update, you need to establish a Root of Trust (RoT) at the beginning, which will be used later to perform update.\n",
    "\n",
    "- The EVK board (KW45xx-EVK/K32W1xx) comes with pre-burned fuses containing the Root Key Table Hash (RKTH) in a fuse called CUST_PROD_OEMFW_AUTH_PUK, provided by NXP. The corresponding keys are stored in the EVK_keys folder.\n",
    "\n",
    "- Generally, you can generate Root of Trust Keys (RoTKs)/Super Root Keys (SRKs) and optionally an Image Signing Key (ISK). To generate these keys, use the *nxpcrypto* application (refer to [How-to-get-keys-using-nxpcrypto](../../crypto/keys.ipynb)). By default, the script creates 4 RoTKs and 1 ISK. At least one RoTK is mandatory.\n",
    "\n",
    "- Based on the loaded keys, a Root Key Table Hash (RKTH) value is calculated. This RKTH should be loaded into the device fuses, which is why the keys cannot be changed for the device once set."
   ]
  },
  {
   "attachments": {},
   "cell_type": "markdown",
   "metadata": {},
   "source": [
    "##  3. Meaning of Container Key Blob Encryption Key\n",
    "\n",
    "On EVK boards Container Key Blob EncryptionKey (SB3KDK) is already burnt into fuse called CUST_PROD_OEMFW_ENC_SK, you can find these values in evk_keys folder."
   ]
  },
  {
   "attachments": {},
   "cell_type": "markdown",
   "metadata": {},
   "source": [
    "## 4. Prepare SB3.1 configuration file\n",
    "\n",
    "In order to generate SB3.1 file, npximage tool is used. The nxpimage tool generates the SB3.1 file according to the configuration file.\n",
    "Let's create a template for SB3.1. Modify examples according your needs. "
   ]
  },
  {
   "cell_type": "markdown",
   "metadata": {},
   "source": [
    "### 4.1 Preparing Certificate Block v2.1\n",
    "\n",
    "In order to create signed MBI the certification block that keeps the RoT info must be prepared.\n",
    "- In our case we have already prepared certification block to simplify the example (see [Certification block configuration v2.1](./inputs/cert_block_kw45_secure.yaml))\n",
    "- To learn how to create a certificate blok check the whole example is presented in dedicated notebook (see [How-to-get-cert-block](../../certificate_block/cert_block_v2_1.ipynb)). "
   ]
  },
  {
   "cell_type": "markdown",
   "metadata": {},
   "source": [
    "In our case, we modified items in the SB3.1 configuration template. The ready and working template you can find in inputs folder (see [inputs-folder](./inputs/sb31_config.yaml))."
   ]
  },
  {
   "cell_type": "code",
   "execution_count": 2,
   "metadata": {},
   "outputs": [
    {
     "name": "stdout",
     "output_type": "stream",
     "text": [
      "nxpimage sb31 get-template -f kw45b41z8 -o workspace/sb31_template.yaml --force \n",
      "Creating workspace/sb31_template.yaml template file.\n"
     ]
    },
    {
     "data": {
      "text/html": [
       "\n",
       "            \n",
       "            <style>\n",
       "                .yaml-diff { font-family: monospace; background-color: #f0f0f0; padding: 1em; border: 1px solid #c0c0c0; }\n",
       "                .yaml-key { color: #0000CC; font-weight: bold; }\n",
       "                .yaml-value { color: #006600; }\n",
       "                .yaml-commented-line { color: #008800; }\n",
       "                .yaml-list-item { color: #660066; }\n",
       "                .diff-removed { background-color: #ffaaaa; }\n",
       "                .diff-added { background-color: #aaffaa; }\n",
       "                .yaml-comment {\n",
       "                    background-color: #FF8C00;\n",
       "                    color: #000000;\n",
       "                    border-radius: 50%;\n",
       "                    padding: 0 0.3em;\n",
       "                    margin-left: 0.5em;\n",
       "                    font-size: 0.8em;\n",
       "                    cursor: help;\n",
       "                    font-weight: bold;\n",
       "                    text-shadow: 1px 1px 1px rgba(255, 255, 255, 0.7);\n",
       "                }\n",
       "                #toggleButton_b794696309a2fdde5db50803fa659e9b {\n",
       "                    background-color: #4CAF50;\n",
       "                    border: none;\n",
       "                    color: white;\n",
       "                    padding: 10px 20px;\n",
       "                    text-align: center;\n",
       "                    text-decoration: none;\n",
       "                    display: inline-block;\n",
       "                    font-size: 16px;\n",
       "                    margin: 4px 2px;\n",
       "                    cursor: pointer;\n",
       "                }\n",
       "            </style>\n",
       "            \n",
       "            \n",
       "            <script>\n",
       "            function toggleView_b794696309a2fdde5db50803fa659e9b() {\n",
       "                var diffView = document.getElementById('diffView_b794696309a2fdde5db50803fa659e9b');\n",
       "                var userConfigView = document.getElementById('userConfigView_b794696309a2fdde5db50803fa659e9b');\n",
       "                var button = document.getElementById('toggleButton_b794696309a2fdde5db50803fa659e9b');\n",
       "\n",
       "                if (diffView.style.display === 'none' && userConfigView.style.display === 'none') {\n",
       "                    diffView.style.display = 'block';\n",
       "                    userConfigView.style.display = 'none';\n",
       "                    button.textContent = 'Show User Config';\n",
       "                } else if (diffView.style.display === 'block') {\n",
       "                    diffView.style.display = 'none';\n",
       "                    userConfigView.style.display = 'block';\n",
       "                    button.textContent = 'Hide';\n",
       "                } else {\n",
       "                    diffView.style.display = 'none';\n",
       "                    userConfigView.style.display = 'none';\n",
       "                    button.textContent = 'Show Diff';\n",
       "                }\n",
       "            }\n",
       "            </script>\n",
       "            \n",
       "            <div class=\"yaml-diff-container\">\n",
       "            <h3>Configuration Differences</h3>\n",
       "            <button onclick=\"toggleView_b794696309a2fdde5db50803fa659e9b()\" id=\"toggleButton_b794696309a2fdde5db50803fa659e9b\">Show Diff</button>\n",
       "            \n",
       "            <a href=\"data:text/plain;base64,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\" download=\"user_config.yaml\">\n",
       "                <button style=\"background-color: #4CAF50; border: none; color: white; padding: 10px 20px; text-align: center; text-decoration: none; display: inline-block; font-size: 16px; margin: 4px 2px; cursor: pointer;\">\n",
       "                    Download Config\n",
       "                </button>\n",
       "            </a>\n",
       "            \n",
       "            <div id=\"diffView_b794696309a2fdde5db50803fa659e9b\" class=\"yaml-diff\" style=\"display:none;\"><pre class=\"yaml-diff\"><span class=\"yaml-commented-line\"># ===========================  sb31 Configuration template for kw45b41z8, Revision: latest.  ===========================</span><br><br><span class=\"yaml-commented-line\"># ======================================================================================================================</span><br><span class=\"yaml-commented-line\">#                                                 == General Options ==                                                 </span><br><span class=\"yaml-commented-line\"># ======================================================================================================================</span><br><span class=\"yaml-commented-line\"># -------------------------------------===== The chip family name [Required] =====--------------------------------------</span><br><span class=\"yaml-commented-line\"># Description: NXP chip family identifier.</span><br><span class=\"yaml-key\">family</span>: <span class=\"yaml-value\">kw45b41z8</span><br><span class=\"yaml-commented-line\"># -----------------------------------------===== MCU revision [Optional] =====------------------------------------------</span><br><span class=\"yaml-commented-line\"># Description: Revision of silicon. The 'latest' name, means most current revision.</span><br><span class=\"yaml-commented-line\"># Possible options: <a0, a1, a2, latest></span><br><span class=\"yaml-key\">revision</span>: <span class=\"yaml-value\">latest</span><br><span class=\"yaml-commented-line\"># ======================================================================================================================</span><br><span class=\"yaml-commented-line\">#                                                  == Basic Settings ==                                                 </span><br><span class=\"yaml-commented-line\"># ======================================================================================================================</span><br><span class=\"yaml-commented-line\"># ---------------------------------------===== Firmware version. [Optional] =====---------------------------------------</span><br><span class=\"yaml-commented-line\"># Description: Value compared with Secure_FW_Version monotonic counter value stored in protected memory (MCU specific).</span><br><span class=\"yaml-commented-line\"># If value is lower than value in protected memory, then is image rejected (rollback protection).</span><br><span class=\"yaml-key\">firmwareVersion</span>: <span class=\"yaml-value\">0</span><br><span class=\"yaml-commented-line\"># -----------------------------------------===== SB3 filename [Required] =====------------------------------------------</span><br><span class=\"yaml-commented-line\"># Description: Generated SB3 container filename.</span><br><span class=\"diff-removed\"><span class=\"yaml-key\">containerOutputFile</span>: <span class=\"yaml-value\">my_new.sb3</span> <span style=\"background-color: #FFFF00; border-radius: 5px;\n",
       "padding: 2px 6px; margin-left: 5px; font-size: 0.8em;\">Add path to our generated SB3 container</span></span><br><span class=\"diff-added\"><span class=\"yaml-key\">containerOutputFile</span>: <span class=\"yaml-value\">../workspace/sb3.sb3</span></span><br><span class=\"yaml-commented-line\"># ======================================================================================================================</span><br><span class=\"yaml-commented-line\">#                                              == Image Signing Settings ==                                             </span><br><span class=\"yaml-commented-line\"># ======================================================================================================================</span><br><span class=\"diff-added\"><span class=\"yaml-key\">signer</span>: <span class=\"yaml-value\">../../_data/keys/EVK_keys/RoT_key0_secp384r1_kw45xx.pem</span></span><br><span class=\"yaml-commented-line\"># -------------------------------------===== Signer configuration [Required] =====--------------------------------------</span><br><span class=\"yaml-commented-line\"># Description: Signature provider configuration in format 'type=<sp_type>;<key1>=<value1>;<key2>=<value2>' or path to a</span><br><span class=\"yaml-commented-line\"># private key.</span><br><span class=\"diff-removed\"><span class=\"yaml-key\">signer</span>: <span class=\"yaml-value\">type=file;file_path=root_prv_key.pem</span> <span style=\"background-color: #FFFF00; border-\n",
       "radius: 5px; padding: 2px 6px; margin-left: 5px; font-size: 0.8em;\">Add path to your private key file for signing</span></span><br><span class=\"yaml-commented-line\"># ======================================================================================================================</span><br><span class=\"yaml-commented-line\">#                                              == Certificate Block V2.1 ==                                             </span><br><span class=\"yaml-commented-line\"># ======================================================================================================================</span><br><span class=\"yaml-commented-line\"># -----------------------------===== Certificate Block binary/config file [Required] =====------------------------------</span><br><span class=\"yaml-commented-line\"># Description: Path to certificate block binary or config file.</span><br><span class=\"diff-removed\"><span class=\"yaml-key\">certBlock</span>: <span class=\"yaml-value\">cert_block.yaml</span> <span style=\"background-color: #FFFF00; border-radius: 5px; padding:\n",
       "2px 6px; margin-left: 5px; font-size: 0.8em;\">Add path to the configuration file containing certificates or path to binary block</span></span><br><span class=\"diff-added\"><span class=\"yaml-key\">certBlock</span>: <span class=\"yaml-value\">cert_block_kw45_secure.yaml</span></span><br><span class=\"yaml-commented-line\"># ======================================================================================================================</span><br><span class=\"yaml-commented-line\">#                                           == Secure Binary v3.1 Settings ==                                           </span><br><span class=\"yaml-commented-line\"># ======================================================================================================================</span><br><span class=\"yaml-commented-line\"># ----------------------------------------===== Part Common Key [Optional] =====----------------------------------------</span><br><span class=\"yaml-commented-line\"># Description: Path to PCK/NPK 256 or 128 bit key in plain hex string format or path to binary file or hex string.</span><br><span class=\"diff-removed\"><span class=\"yaml-key\">containerKeyBlobEncryptionKey</span>: <span class=\"yaml-value\">my_pck.txt</span> <span style=\"background-color: #FFFF00; border-radius:\n",
       "5px; padding: 2px 6px; margin-left: 5px; font-size: 0.8em;\">Add path to Part Common Key</span></span><br><span class=\"diff-added\"><span class=\"yaml-key\">containerKeyBlobEncryptionKey</span>: <span class=\"yaml-value\">../../_data/keys/EVK_keys/sb3kdk.txt</span></span><br><span class=\"yaml-commented-line\"># ----------------------------------===== Enable NXP Container format [Optional] =====----------------------------------</span><br><span class=\"yaml-commented-line\"># Description: Internal usage only, used for generating SB files with NXP content e.g. provisioning firmware, etc...</span><br><span class=\"yaml-key\">isNxpContainer</span>: <span class=\"yaml-value\">false</span><br><span class=\"yaml-commented-line\"># ---------------------------------------===== KDK access rights [Optional] =====---------------------------------------</span><br><span class=\"yaml-commented-line\"># Description: Accepted values are 0, 1, 2 and 3. Value used as key properties for key derivation process, more details</span><br><span class=\"yaml-commented-line\"># can be found in CSSv2 manual.</span><br><span class=\"yaml-commented-line\"># Possible options: <0, 1, 2, 3></span><br><span class=\"diff-removed\"><span class=\"yaml-key\">kdkAccessRights</span>: <span class=\"yaml-value\">0</span> <span style=\"background-color: #FFFF00; border-radius: 5px; padding: 2px 6px;\n",
       "margin-left: 5px; font-size: 0.8em;\">Set KDK access rights</span></span><br><span class=\"diff-added\"><span class=\"yaml-key\">kdkAccessRights</span>: <span class=\"yaml-value\">3</span></span><br><span class=\"yaml-commented-line\"># ---------------------------------===== Container configuration word [Optional] =====----------------------------------</span><br><span class=\"yaml-commented-line\"># Description: Flag value in SB3.1 manifest, not used by silicons with LPC55S3x ROM. Value can be kept 0, or it can be</span><br><span class=\"yaml-commented-line\"># removed from the configuration file.</span><br><span class=\"yaml-key\">containerConfigurationWord</span>: <span class=\"yaml-value\">0</span><br><span class=\"yaml-commented-line\"># ------------------------------------------===== Description [Optional] =====------------------------------------------</span><br><span class=\"yaml-commented-line\"># Description: Description up to 16 characters, longer will be truncated. Stored in SB3.1 manifest.</span><br><span class=\"diff-removed\"><span class=\"yaml-key\">description</span>: <span class=\"yaml-value\">This is description of generated SB file.</span> <span style=\"background-color: #FFFF00;\n",
       "border-radius: 5px; padding: 2px 6px; margin-left: 5px; font-size: 0.8em;\">Add description, which will be stored in Stored in SB3.1 manifest</span></span><br><span class=\"diff-added\"><span class=\"yaml-key\">description</span>: <span class=\"yaml-value\">384_none_nbu_only</span></span><br><span class=\"yaml-commented-line\"># ======================================================================================================================</span><br><span class=\"yaml-commented-line\">#                                       == Secure Binary v3.1 Commands Settings ==                                      </span><br><span class=\"yaml-commented-line\"># ======================================================================================================================</span><br><span class=\"yaml-commented-line\"># ----------------------------------------===== SB3.1 Commands [Required] =====-----------------------------------------</span><br><span class=\"yaml-commented-line\"># Description: Secure Binary v3.1 commands block, list of all possible options - Modify it according to your application</span><br><span class=\"yaml-key\">commands</span>:<br><span class=\"diff-removed\"><span class=\"yaml-key\">  -</span></span><br><span class=\"diff-added\"></span><br>  <span class=\"yaml-commented-line\"># ====================================================================================================================</span><br>  <span class=\"yaml-commented-line\">#                                          == List of possible 9 options. ==                                          </span><br>  <span class=\"yaml-commented-line\">#   Options [erase, load, execute, programFuses, programIFR, loadCMAC, loadHashLocking, fillMemory, checkFwVersion]   </span><br>  <span class=\"yaml-commented-line\"># ====================================================================================================================</span><br><br>  <span class=\"yaml-commented-line\">#  =========================== [Example of possible configuration: #0 , erase if not used] ============================</span><br>    <span class=\"yaml-commented-line\"># -------------------------------------------===== Erase [Required] =====-------------------------------------------</span><br>    <span class=\"yaml-commented-line\"># Description: Performs a flash erase of the given address range. The erase will be rounded up to the sector size.</span><br><span class=\"diff-removed\"><span class=\"yaml-key\">    erase</span>: <span style=\"background-color: #FFFF00; border-radius: 5px; padding: 2px 6px; margin-left: 5px; font-size:\n",
       "0.8em;\">Erase the flash before programming</span></span><br><span class=\"diff-added\"><span class=\"yaml-key\">  - </span>erase:</span><br>      <span class=\"yaml-commented-line\"># -----------------------------------------===== Address [Required] =====-----------------------------------------</span><br>      <span class=\"yaml-commented-line\"># Description: Address of memory block to be erased.</span><br><span class=\"diff-removed\"><span class=\"yaml-key\">      address</span>: <span class=\"yaml-value\">0</span></span><br><span class=\"diff-added\"><span class=\"yaml-key\">      address</span>: <span class=\"yaml-value\">0x48800000</span></span><br>      <span class=\"yaml-commented-line\"># ------------------------------------------===== Size [Required] =====-------------------------------------------</span><br>      <span class=\"yaml-commented-line\"># Description: Size of memory block to be erased.</span><br><span class=\"diff-removed\"><span class=\"yaml-key\">      size</span>: <span class=\"yaml-value\">4096</span></span><br><span class=\"diff-added\"><span class=\"yaml-key\">      size</span>: <span class=\"yaml-value\">0x30000</span></span><br>      <span class=\"yaml-commented-line\"># ----------------------------------------===== Memory ID [Optional] =====----------------------------------------</span><br>      <span class=\"yaml-commented-line\"># Description: ID of memory block to be erased.</span><br><span class=\"yaml-key\">      memoryId</span>: <span class=\"yaml-value\">0</span><br><br>  <span class=\"yaml-commented-line\">#  =========================== [Example of possible configuration: #1 , erase if not used] ============================</span><br>    <span class=\"yaml-commented-line\"># -------------------------------------------===== Load [Required] =====--------------------------------------------</span><br>    <span class=\"yaml-commented-line\"># Description: If set, then the data to write immediately follows the range header. The length field contains the</span><br>    <span class=\"yaml-commented-line\"># actual data length</span><br><span class=\"diff-removed\"><span class=\"yaml-key\">    load</span>: <span style=\"background-color: #FFFF00; border-radius: 5px; padding: 2px 6px; margin-left: 5px; font-size: 0.8em;\">Load\n",
       "the binary file to the flash</span></span><br><span class=\"diff-added\"><span class=\"yaml-key\">  - </span>load:</span><br>      <span class=\"yaml-commented-line\"># -----------------------------------------===== Address [Required] =====-----------------------------------------</span><br>      <span class=\"yaml-commented-line\"># Description: Address of memory block to be loaded.</span><br><span class=\"diff-removed\"><span class=\"yaml-key\">      address</span>: <span class=\"yaml-value\">0</span></span><br><span class=\"diff-added\"><span class=\"yaml-key\">      address</span>: <span class=\"yaml-value\">0x48800000</span></span><br>      <span class=\"yaml-commented-line\"># ----------------------------------------===== Memory ID [Optional] =====----------------------------------------</span><br>      <span class=\"yaml-commented-line\"># Description: ID of memory block to be loaded.</span><br><span class=\"diff-removed\"><span class=\"yaml-key\">      memoryId</span>: <span class=\"yaml-value\">0</span></span><br>      <span class=\"yaml-commented-line\"># -----------------------------===== Data to be loaded [Conditionally required] =====-----------------------------</span><br>      <span class=\"yaml-commented-line\"># Description: The data to be loaded, it could be defined in following formats:</span><br>      <span class=\"yaml-commented-line\">#   - 32-bit value. Value will be converted to binary in little endian format. Example: '0xB38AA899' or '0b111000'</span><br>      <span class=\"yaml-commented-line\">#   - Array of 32-bit binary values delimited by comma to be loaded. Individual 32-bit values will be stored in</span><br>      <span class=\"yaml-commented-line\"># little endian format. Example: 0x1234, 0x5678, 0, 12345678</span><br>      <span class=\"yaml-commented-line\">#   - Path to binary file. Example: my_binary.bin</span><br><span class=\"diff-removed\"><span class=\"yaml-key\">      data</span>: <span class=\"yaml-value\">my_binary.bin</span></span><br><span class=\"diff-added\"><span class=\"yaml-key\">      file</span>: <span class=\"yaml-value\">kw45b41_nbu_ble_1_9_14_1.xip</span></span><br><br>  <span class=\"yaml-commented-line\">#  =========================== [Example of possible configuration: #2 , erase if not used] ============================</span><br>    <span class=\"yaml-commented-line\"># ------------------------------------------===== Execute [Required] =====------------------------------------------</span><br>    <span class=\"yaml-commented-line\"># Description: Address is the jump-to address. No further processing of SB after jump, ROM do not expect to return.</span><br><span class=\"diff-removed\"><span class=\"yaml-key\">    execute</span>: <span style=\"background-color: #FFFF00; border-radius: 5px; padding: 2px 6px; margin-left: 5px; font-size: 0.8em;\">We\n",
       "do not use this command</span></span><br>      <span class=\"yaml-commented-line\"># -----------------------------------------===== Address [Required] =====-----------------------------------------</span><br>      <span class=\"yaml-commented-line\"># Description: Jump-to address to start execute code.</span><br><span class=\"diff-removed\"><span class=\"yaml-key\">      address</span>: <span class=\"yaml-value\">0</span></span><br><span class=\"diff-removed\"></span><br>  <span class=\"yaml-commented-line\">#  =========================== [Example of possible configuration: #3 , erase if not used] ============================</span><br>    <span class=\"yaml-commented-line\"># ---------------------------------------===== Program Fuses [Required] =====---------------------------------------</span><br>    <span class=\"yaml-commented-line\"># Description: Address is OTP index of fuses to be programmed (Check the reference manual for more information).</span><br>    <span class=\"yaml-commented-line\"># Values is a comma separated list of 32bit values.</span><br><span class=\"diff-removed\"><span class=\"yaml-key\">    programFuses</span>: <span style=\"background-color: #FFFF00; border-radius: 5px; padding: 2px 6px; margin-left: 5px; font-size:\n",
       "0.8em;\">We do not use this command</span></span><br>      <span class=\"yaml-commented-line\"># -----------------------------------------===== Address [Required] =====-----------------------------------------</span><br>      <span class=\"yaml-commented-line\"># Description: OTP Index of fuses to be programmed. Depends on the chip ROM.</span><br><span class=\"diff-removed\"><span class=\"yaml-key\">      address</span>: <span class=\"yaml-value\">0</span></span><br>      <span class=\"yaml-commented-line\"># --------------------------------------===== Binary values [Required] =====--------------------------------------</span><br>      <span class=\"yaml-commented-line\"># Description: 32bit binary values delimited by comma or one 32 bit integer to be programmed.</span><br><span class=\"diff-removed\"><span class=\"yaml-key\">      values</span>: <span class=\"yaml-value\">0x1234, 0x5678, 0, 12345678</span></span><br><span class=\"diff-removed\"></span><br>  <span class=\"yaml-commented-line\">#  =========================== [Example of possible configuration: #4 , erase if not used] ============================</span><br>    <span class=\"yaml-commented-line\"># ----------------------------------------===== Program IFR [Required] =====----------------------------------------</span><br>    <span class=\"yaml-commented-line\"># Description: The startAddress will be the address into the IFR region, length will be in number of bytes to write</span><br>    <span class=\"yaml-commented-line\"># to IFR region. The data to write to IFR region at the given address will immediately follow the header</span><br><span class=\"diff-removed\"><span class=\"yaml-key\">    programIFR</span>: <span style=\"background-color: #FFFF00; border-radius: 5px; padding: 2px 6px; margin-left: 5px; font-size:\n",
       "0.8em;\">We do not use this command</span></span><br>      <span class=\"yaml-commented-line\"># -----------------------------------------===== Address [Required] =====-----------------------------------------</span><br>      <span class=\"yaml-commented-line\"># Description: Address of IFR region to be programmed.</span><br><span class=\"diff-removed\"><span class=\"yaml-key\">      address</span>: <span class=\"yaml-value\">0</span></span><br>      <span class=\"yaml-commented-line\"># ---------------------------------------===== Binary file [Optional] =====---------------------------------------</span><br>      <span class=\"yaml-commented-line\"># Description: Binary file to be programmed.</span><br><span class=\"diff-removed\"><span class=\"yaml-key\">      file</span>: <span class=\"yaml-value\">my_binary.bin</span></span><br>      <span class=\"yaml-commented-line\"># --------------------------------------===== Binary value [Optional] =====---------------------------------------</span><br>      <span class=\"yaml-commented-line\"># Description: Binary value to be programmed, at least 4 bytes. Value will be converted to binary little endian</span><br>      <span class=\"yaml-commented-line\"># format.</span><br><span class=\"diff-removed\"><span class=\"yaml-key\">      value</span>: <span class=\"yaml-value\">'0xB38AA899'</span></span><br>      <span class=\"yaml-commented-line\"># -------------------------------------===== Binary values. [Optional] =====--------------------------------------</span><br>      <span class=\"yaml-commented-line\"># Description: 32-bit binary values delimited by comma to be programmed.</span><br><span class=\"diff-removed\"><span class=\"yaml-key\">      values</span>: <span class=\"yaml-value\">0x1234, 0x5678, 0, 12345678</span></span><br><span class=\"diff-removed\"></span><br>  <span class=\"yaml-commented-line\">#  =========================== [Example of possible configuration: #5 , erase if not used] ============================</span><br>    <span class=\"yaml-commented-line\"># -----------------------------------------===== Load CMAC [Required] =====-----------------------------------------</span><br>    <span class=\"yaml-commented-line\"># Description: If set, then the data to write immediately follows the range header. The length field contains the</span><br>    <span class=\"yaml-commented-line\"># actual data length. ROM is calculating cmac from loaded data and storing on address known by ROM decided based on</span><br>    <span class=\"yaml-commented-line\"># startAddress.</span><br><span class=\"diff-removed\"><span class=\"yaml-key\">    loadCMAC</span>: <span style=\"background-color: #FFFF00; border-radius: 5px; padding: 2px 6px; margin-left: 5px; font-size:\n",
       "0.8em;\">Load the binary file to the flash</span></span><br>      <span class=\"yaml-commented-line\"># -----------------------------------------===== Address [Required] =====-----------------------------------------</span><br>      <span class=\"yaml-commented-line\"># Description: Address of memory block to be CMAC loaded.</span><br><span class=\"diff-removed\"><span class=\"yaml-key\">      address</span>: <span class=\"yaml-value\">0</span></span><br>      <span class=\"yaml-commented-line\"># ----------------------------------------===== Memory ID [Optional] =====----------------------------------------</span><br>      <span class=\"yaml-commented-line\"># Description: ID of memory block to be CMAC loaded.</span><br><span class=\"diff-removed\"><span class=\"yaml-key\">      memoryId</span>: <span class=\"yaml-value\">0</span></span><br>      <span class=\"yaml-commented-line\"># ---------------------------------------===== Binary file [Required] =====---------------------------------------</span><br>      <span class=\"yaml-commented-line\"># Description: Binary file to be loaded.</span><br><span class=\"diff-removed\"><span class=\"yaml-key\">      file</span>: <span class=\"yaml-value\">my_cmac_binary.bin</span></span><br><span class=\"diff-removed\"></span><br>  <span class=\"yaml-commented-line\">#  =========================== [Example of possible configuration: #6 , erase if not used] ============================</span><br>    <span class=\"yaml-commented-line\"># ----------------------------------===== Load with HASH locking [Required] =====-----------------------------------</span><br>    <span class=\"yaml-commented-line\"># Description: If set, then the data to write immediately follows the range header. The length field contains the</span><br>    <span class=\"yaml-commented-line\"># actual data length. ROM is calculating hash of the data and storing the value in the last 64 bytes of the loaded</span><br>    <span class=\"yaml-commented-line\"># data, which are reserved for it.</span><br><span class=\"diff-removed\"><span class=\"yaml-key\">    loadHashLocking</span>: <span style=\"background-color: #FFFF00; border-radius: 5px; padding: 2px 6px; margin-left: 5px; font-size:\n",
       "0.8em;\">Load the binary file to the flash</span></span><br>      <span class=\"yaml-commented-line\"># -----------------------------------------===== Address [Required] =====-----------------------------------------</span><br>      <span class=\"yaml-commented-line\"># Description: Address of memory block to be loaded.</span><br><span class=\"diff-removed\"><span class=\"yaml-key\">      address</span>: <span class=\"yaml-value\">0</span></span><br>      <span class=\"yaml-commented-line\"># ----------------------------------------===== Memory ID [Optional] =====----------------------------------------</span><br>      <span class=\"yaml-commented-line\"># Description: ID of memory block to be loaded.</span><br><span class=\"diff-removed\"><span class=\"yaml-key\">      memoryId</span>: <span class=\"yaml-value\">0</span></span><br>      <span class=\"yaml-commented-line\"># ---------------------------------------===== Binary file [Required] =====---------------------------------------</span><br>      <span class=\"yaml-commented-line\"># Description: Binary file to be loaded.</span><br><span class=\"diff-removed\"><span class=\"yaml-key\">      file</span>: <span class=\"yaml-value\">my_hashlocking_binary.bin</span></span><br><span class=\"diff-removed\"></span><br>  <span class=\"yaml-commented-line\">#  =========================== [Example of possible configuration: #7 , erase if not used] ============================</span><br>    <span class=\"yaml-commented-line\"># ----------------------------------------===== Fill memory [Required] =====----------------------------------------</span><br>    <span class=\"yaml-commented-line\"># Description: Used for filling of the memory range by same repeated int32 pattern.</span><br><span class=\"diff-removed\"><span class=\"yaml-key\">    fillMemory</span>: <span style=\"background-color: #FFFF00; border-radius: 5px; padding: 2px 6px; margin-left: 5px; font-size:\n",
       "0.8em;\">We do not use this command</span></span><br>      <span class=\"yaml-commented-line\"># -----------------------------------------===== Address [Required] =====-----------------------------------------</span><br>      <span class=\"yaml-commented-line\"># Description: Address of memory block to be filled.</span><br><span class=\"diff-removed\"><span class=\"yaml-key\">      address</span>: <span class=\"yaml-value\">0</span></span><br>      <span class=\"yaml-commented-line\"># ------------------------------------------===== Size [Required] =====-------------------------------------------</span><br>      <span class=\"yaml-commented-line\"># Description: Size of memory block to be filled.</span><br><span class=\"diff-removed\"><span class=\"yaml-key\">      size</span>: <span class=\"yaml-value\">4096</span></span><br>      <span class=\"yaml-commented-line\"># -----------------------------------------===== Pattern [Required] =====-----------------------------------------</span><br>      <span class=\"yaml-commented-line\"># Description: Pattern which will be used to fill memory.</span><br><span class=\"diff-removed\"><span class=\"yaml-key\">      pattern</span>: <span class=\"yaml-value\">2779096485</span></span><br><span class=\"diff-removed\"></span><br>  <span class=\"yaml-commented-line\">#  =========================== [Example of possible configuration: #8 , erase if not used] ============================</span><br>    <span class=\"yaml-commented-line\"># ----------------------------------===== Check firmware version [Required] =====-----------------------------------</span><br>    <span class=\"yaml-commented-line\"># Description: Checks FW version value specified in command for specified counter ID. FW version value in command</span><br>    <span class=\"yaml-commented-line\"># must be greater than value programmed in OTP to be accepted, otherwise rollback is detected and receive SB fails</span><br><span class=\"diff-removed\"><span class=\"yaml-key\">    checkFwVersion</span>: <span style=\"background-color: #FFFF00; border-radius: 5px; padding: 2px 6px; margin-left: 5px; font-size:\n",
       "0.8em;\">We do not use this command</span></span><br>      <span class=\"yaml-commented-line\"># --------------------------------===== Value - Firmware version [Required] =====---------------------------------</span><br>      <span class=\"yaml-commented-line\"># Description: Firmware version to be compared.</span><br><span class=\"diff-removed\"><span class=\"yaml-key\">      value</span>: <span class=\"yaml-value\">1</span></span><br>      <span class=\"yaml-commented-line\"># ---------------------------------------===== Counter ID [Required] =====----------------------------------------</span><br>      <span class=\"yaml-commented-line\"># Description: ID of FW counter to be checked.</span><br>      <span class=\"yaml-commented-line\"># Possible options: <none, nonsecure, secure, radio, snt, bootloader></span><br><span class=\"diff-removed\"><span class=\"yaml-key\">      counterId</span>: <span class=\"yaml-value\">secure</span></span><br><span class=\"diff-removed\"></span></pre></div>\n",
       "            <div id=\"userConfigView_b794696309a2fdde5db50803fa659e9b\" class=\"yaml-diff\" style=\"display:none;\"><pre class=\"yaml-diff\"><span class=\"yaml-commented-line\"># Copyright 2024-2025 NXP</span><br><span class=\"yaml-commented-line\">#</span><br><span class=\"yaml-commented-line\"># SPDX-License-Identifier: BSD-3-Clause</span><br><span class=\"yaml-commented-line\"># =============================  Secure Binary v3.1 Configuration template for kw45b41z8.  =============================</span><br><br><span class=\"yaml-commented-line\"># ======================================================================================================================</span><br><span class=\"yaml-commented-line\">#                                                 == General Options ==</span><br><span class=\"yaml-commented-line\"># ======================================================================================================================</span><br><span class=\"yaml-commented-line\"># -------------------------------------===== The chip family name [Required] =====--------------------------------------</span><br><span class=\"yaml-commented-line\"># Description: NXP chip family identifier.</span><br><span class=\"yaml-commented-line\"># Possible options: <k32w148, kw45b41z5, kw45b41z8, lpc55s36, mcxn235, mcxn236, mcxn546, mcxn547, mcxn946, mcxn947,</span><br><span class=\"yaml-commented-line\"># mcxw716a, mcxw716c, mimxrt798s, rw610, rw612></span><br><span class=\"yaml-key\">family</span>: <span class=\"yaml-value\">kw45b41z8</span><br><span class=\"yaml-commented-line\"># -----------------------------------------===== MCU revision [Optional] =====------------------------------------------</span><br><span class=\"yaml-commented-line\"># Description: Revision of silicon. The 'latest' name, means most current revision.</span><br><span class=\"yaml-commented-line\"># Possible options: <a0, a1, a2, latest></span><br><span class=\"yaml-key\">revision</span>: <span class=\"yaml-value\">latest</span><br><span class=\"yaml-commented-line\"># ======================================================================================================================</span><br><span class=\"yaml-commented-line\">#                                                  == Basic Settings ==</span><br><span class=\"yaml-commented-line\"># ======================================================================================================================</span><br><span class=\"yaml-commented-line\"># ---------------------------------------===== Firmware version. [Optional] =====---------------------------------------</span><br><span class=\"yaml-commented-line\"># Description: Value compared with Secure_FW_Version monotonic counter value stored in protected memory (MCU specific).</span><br><span class=\"yaml-commented-line\"># If value is lower than value in protected memory, then is image rejected (rollback protection).</span><br><span class=\"yaml-key\">firmwareVersion</span>: <span class=\"yaml-value\">0</span><br><span class=\"yaml-commented-line\"># -----------------------------------------===== SB3 filename [Required] =====------------------------------------------</span><br><span class=\"yaml-commented-line\"># Description: Generated SB3 container filename.</span><br><span class=\"yaml-key\">containerOutputFile</span>: <span class=\"yaml-value\">../workspace/sb3.sb3</span> <span style=\"background-color: #FFFF00; border-radius:\n",
       "5px; padding: 2px 6px; margin-left: 5px; font-size: 0.8em;\">Add path to our generated SB3 container</span><br><span class=\"yaml-commented-line\"># ======================================================================================================================</span><br><span class=\"yaml-commented-line\">#                                              == Image Signing Settings ==</span><br><span class=\"yaml-commented-line\"># ======================================================================================================================</span><br><span class=\"yaml-commented-line\"># --------------------------===== Main Certificate private key [Conditionally required] =====---------------------------</span><br><span class=\"yaml-commented-line\"># Description: Main Certificate private key used to sign certificate.</span><br><span class=\"yaml-key\">signer</span>: <span class=\"yaml-value\">../../_data/keys/EVK_keys/RoT_key0_secp384r1_kw45xx.pem</span> <span style=\"background-color:\n",
       "#FFFF00; border-radius: 5px; padding: 2px 6px; margin-left: 5px; font-size: 0.8em;\">Add path to your private key file for signing</span><br><span class=\"yaml-commented-line\"># ======================================================================================================================</span><br><span class=\"yaml-commented-line\">#                                              == Certificate Block V2.1 ==</span><br><span class=\"yaml-commented-line\"># ======================================================================================================================</span><br><span class=\"yaml-commented-line\"># -----------------------------===== Certificate Block binary/config file [Required] =====------------------------------</span><br><span class=\"yaml-commented-line\"># Description: Path to certificate block binary or config file.</span><br><span class=\"yaml-key\">certBlock</span>: <span class=\"yaml-value\">cert_block_kw45_secure.yaml</span> <span style=\"background-color: #FFFF00; border-radius: 5px;\n",
       "padding: 2px 6px; margin-left: 5px; font-size: 0.8em;\">Add path to the configuration file containing certificates or path to binary block</span><br><span class=\"yaml-commented-line\"># ======================================================================================================================</span><br><span class=\"yaml-commented-line\">#                                           == Secure Binary v3.1 Settings ==</span><br><span class=\"yaml-commented-line\"># ======================================================================================================================</span><br><span class=\"yaml-commented-line\"># ----------------------------------------===== Part Common Key [Optional] =====----------------------------------------</span><br><span class=\"yaml-commented-line\"># Description: Path to PCK/NPK 256 or 128 bit key in plain hex string format or path to binary file or hex string.</span><br><span class=\"yaml-key\">containerKeyBlobEncryptionKey</span>: <span class=\"yaml-value\">../../_data/keys/EVK_keys/sb3kdk.txt</span> <span style=\"background-color:\n",
       "#FFFF00; border-radius: 5px; padding: 2px 6px; margin-left: 5px; font-size: 0.8em;\">Add path to Part Common Key</span><br><span class=\"yaml-commented-line\"># ----------------------------------===== Enable NXP Container format [Optional] =====----------------------------------</span><br><span class=\"yaml-commented-line\"># Description: Internal usage only, used for generating SB files with NXP content e.g. provisioning firmware, etc...</span><br><span class=\"yaml-key\">isNxpContainer</span>: <span class=\"yaml-value\">false</span><br><span class=\"yaml-commented-line\"># ---------------------------------------===== KDK access rights [Optional] =====---------------------------------------</span><br><span class=\"yaml-commented-line\"># Description: Accepted values are 0, 1, 2 and 3. Value used as key properties for key derivation process, more details</span><br><span class=\"yaml-commented-line\"># can be found in CSSv2 manual.</span><br><span class=\"yaml-commented-line\"># Possible options: <0, 1, 2, 3></span><br><span class=\"yaml-key\">kdkAccessRights</span>: <span class=\"yaml-value\">3</span> <span style=\"background-color: #FFFF00; border-radius: 5px; padding: 2px 6px;\n",
       "margin-left: 5px; font-size: 0.8em;\">Set KDK access rights</span><br><span class=\"yaml-commented-line\"># ---------------------------------===== Container configuration word [Optional] =====----------------------------------</span><br><span class=\"yaml-commented-line\"># Description: Flag value in SB3.1 manifest, not used by silicons with LPC55S3x ROM. Value can be kept 0, or it can be</span><br><span class=\"yaml-commented-line\"># removed from the configuration file.</span><br><span class=\"yaml-key\">containerConfigurationWord</span>: <span class=\"yaml-value\">0</span><br><span class=\"yaml-commented-line\"># ------------------------------------------===== Description [Optional] =====------------------------------------------</span><br><span class=\"yaml-commented-line\"># Description: Description up to 16 characters, longer will be truncated. Stored in SB3.1 manifest.</span><br><span class=\"yaml-key\">description</span>: <span class=\"yaml-value\">384_none_nbu_only</span> <span style=\"background-color: #FFFF00; border-radius: 5px;\n",
       "padding: 2px 6px; margin-left: 5px; font-size: 0.8em;\">Add description, which will be stored in Stored in SB3.1 manifest</span><br><span class=\"yaml-commented-line\"># ======================================================================================================================</span><br><span class=\"yaml-commented-line\">#                                       == Secure Binary v3.1 Commands Settings ==</span><br><span class=\"yaml-commented-line\"># ======================================================================================================================</span><br><span class=\"yaml-commented-line\"># ----------------------------------------===== SB3.1 Commands [Required] =====-----------------------------------------</span><br><span class=\"yaml-commented-line\"># Description: Secure Binary v3.1 commands block, list of all possible options - Modify it according to your application</span><br><span class=\"yaml-key\">commands</span>:<br><br>  <span class=\"yaml-commented-line\"># ====================================================================================================================</span><br>  <span class=\"yaml-commented-line\">#                                          == List of possible 9 options. ==</span><br>  <span class=\"yaml-commented-line\">#   Options [erase, load, execute, programFuses, programIFR, loadCMAC, loadHashLocking, fillMemory, checkFwVersion]</span><br>  <span class=\"yaml-commented-line\"># ====================================================================================================================</span><br><br>  <span class=\"yaml-commented-line\">#  =========================== [Example of possible configuration: #0 , erase if not used] ============================</span><br>    <span class=\"yaml-commented-line\"># -------------------------------------------===== Erase [Required] =====-------------------------------------------</span><br>    <span class=\"yaml-commented-line\"># Description: Performs a flash erase of the given address range. The erase will be rounded up to the sector size.</span><br><span class=\"yaml-key\">  - </span>erase: <span style=\"background-color: #FFFF00; border-radius: 5px; padding: 2px 6px; margin-left: 5px; font-size:\n",
       "0.8em;\">Erase the flash before programming</span><br>      <span class=\"yaml-commented-line\"># -----------------------------------------===== Address [Required] =====-----------------------------------------</span><br>      <span class=\"yaml-commented-line\"># Description: Address of memory block to be erased.</span><br><span class=\"yaml-key\">      address</span>: <span class=\"yaml-value\">0x48800000</span><br>      <span class=\"yaml-commented-line\"># ------------------------------------------===== Size [Required] =====-------------------------------------------</span><br>      <span class=\"yaml-commented-line\"># Description: Size of memory block to be erased.</span><br><span class=\"yaml-key\">      size</span>: <span class=\"yaml-value\">0x30000</span><br>      <span class=\"yaml-commented-line\"># ----------------------------------------===== Memory ID [Optional] =====----------------------------------------</span><br>      <span class=\"yaml-commented-line\"># Description: ID of memory block to be erased.</span><br><span class=\"yaml-key\">      memoryId</span>: <span class=\"yaml-value\">0</span><br><br>  <span class=\"yaml-commented-line\">#  =========================== [Example of possible configuration: #1 , erase if not used] ============================</span><br>    <span class=\"yaml-commented-line\"># -------------------------------------------===== Load [Required] =====--------------------------------------------</span><br>    <span class=\"yaml-commented-line\"># Description: If set, then the data to write immediately follows the range header. The length field contains the</span><br>    <span class=\"yaml-commented-line\"># actual data length</span><br><span class=\"yaml-key\">  - </span>load: <span style=\"background-color: #FFFF00; border-radius: 5px; padding: 2px 6px; margin-left: 5px; font-size: 0.8em;\">Load\n",
       "the binary file to the flash</span><br>      <span class=\"yaml-commented-line\"># -----------------------------------------===== Address [Required] =====-----------------------------------------</span><br>      <span class=\"yaml-commented-line\"># Description: Address of memory block to be loaded.</span><br><span class=\"yaml-key\">      address</span>: <span class=\"yaml-value\">0x48800000</span><br>      <span class=\"yaml-commented-line\"># ----------------------------------------===== Memory ID [Optional] =====----------------------------------------</span><br>      <span class=\"yaml-commented-line\"># Description: ID of memory block to be loaded.</span><br>      <span class=\"yaml-commented-line\"># memoryId: 0</span><br>      <span class=\"yaml-commented-line\"># --------------------------------------===== Binary file. [Optional] =====---------------------------------------</span><br>      <span class=\"yaml-commented-line\"># Description: Binary file to be loaded.</span><br><span class=\"yaml-key\">      file</span>: <span class=\"yaml-value\">kw45b41_nbu_ble_1_9_14_1.xip</span><br>      <span class=\"yaml-commented-line\"># -------------------------------------===== Binary values. [Optional] =====--------------------------------------</span><br>      <span class=\"yaml-commented-line\"># Description: 32-bit binary values delimited by comma to be loaded.</span><br>      <span class=\"yaml-commented-line\"># values: 0x1234, 0x5678, 0, 12345678</span><br>      <span class=\"yaml-commented-line\"># --------------------------------------===== Binary value [Optional] =====---------------------------------------</span><br>      <span class=\"yaml-commented-line\"># Description: Binary value to be loaded. Value will be converted to binary little endian format.</span><br>      <span class=\"yaml-commented-line\"># value: '0xB38AA899'</span><br>      <span class=\"yaml-commented-line\"># -------------------------------------===== Authentication [Optional] =====--------------------------------------</span><br>      <span class=\"yaml-commented-line\"># Description: If authentication is not used, just omit this option or set 'none'.</span><br>      <span class=\"yaml-commented-line\"># Possible options: <none, cmac, hashlocking></span><br>      <span class=\"yaml-commented-line\"># authentication: cmac</span><br></pre></div>\n",
       "            </div>\n",
       "            "
      ],
      "text/plain": [
       "<IPython.core.display.HTML object>"
      ]
     },
     "execution_count": 2,
     "metadata": {},
     "output_type": "execute_result"
    }
   ],
   "source": [
    "# Get difference of template and user YAML configuration\n",
    "YamlDiffWidget(\"inputs/kw45xx_sb31.diffc\").html"
   ]
  },
  {
   "attachments": {},
   "cell_type": "markdown",
   "metadata": {},
   "source": [
    "### 4.2 SB3.1 generation\n",
    "\n",
    "We have created certificates and keys required for the creation of SB3.1 file. Let's create a SB3.1."
   ]
  },
  {
   "cell_type": "code",
   "execution_count": 3,
   "metadata": {},
   "outputs": [
    {
     "name": "stdout",
     "output_type": "stream",
     "text": [
      "nxpimage sb31 export -c inputs/sb31_config.yaml \n",
      "RKTH: 650d8097079ff27a3e8a2da14781b922fd8295b6c00bfa067f00e87f1a16b8b304bf710d45cbd591e2e24be83183922c\n",
      "Success. (Secure binary 3.1: workspace/sb3.sb3 created.)\n"
     ]
    }
   ],
   "source": [
    "%! nxpimage sb31 export -c inputs/sb31_config.yaml"
   ]
  },
  {
   "attachments": {},
   "cell_type": "markdown",
   "metadata": {},
   "source": [
    "## 5. Device preparation\n",
    "\n",
    "Now it's time to prepare the device. In this example we will use KW45xx-EVK/K32W1xx board.\n",
    "\n",
    "### Board preparation\n",
    "\n",
    "First step is to enter In System Programming (ISP) mode, this could be achieved by 3 scenarios:\n",
    "- Force ISP mode by HW pin\n",
    "  1) Put JP25 to (1-2)\n",
    "  2) Reset the board with SW4 pressed\n",
    "- Force ISP mode by debug mailbox command\n",
    "  - Connect debug probe and use *nxpdebugmbox ispmode -m 1* command\n",
    "- Native fall-down in case that no valid application is in chip\n",
    "  - In case that chip has no valid application to boot, the ISP mode is activated natively \n",
    "\n",
    "Use app *nxpdevscan* to check if the device is connected to the PC in ISP mode.\n",
    "\n",
    "\n",
    "**In our case, we already have burnt some fuses on EVK. Those KW45xx/K32Wxx EVK boards are distributed from NXP by already burned RoTKH and SB3KDK information as has been already mentioned earlier.**\n",
    "\n",
    "  <img src=\"../../_data/img/boards/kw45xx-evk.png\" alt=\"kw45xx-evk\" height=\"300\">\n",
    "\n",
    "  <img src=\"../../_data/img/boards/k32w1xx-evk.png\" alt=\"k32w1xx-evk\" height=\"300\">\n"
   ]
  },
  {
   "cell_type": "code",
   "execution_count": 4,
   "metadata": {},
   "outputs": [
    {
     "name": "stdout",
     "output_type": "stream",
     "text": [
      "nxpdevscan \n",
      "-------- Connected NXP USB Devices --------\n",
      "\n",
      "-------- Connected NXP UART Devices --------\n",
      "\n",
      "Port: COM10\n",
      "Type: mboot device\n",
      "\n",
      "-------- Connected NXP SIO Devices --------\n",
      "\n",
      "-------- Connected NXP UUU Devices --------\n",
      "\n"
     ]
    }
   ],
   "source": [
    "# check if the device is connected and detected by PC\n",
    "%! nxpdevscan"
   ]
  },
  {
   "cell_type": "code",
   "execution_count": 5,
   "metadata": {},
   "outputs": [],
   "source": [
    "# choose com port\n",
    "UART_CONNECTION = \"-p com10\""
   ]
  },
  {
   "attachments": {},
   "cell_type": "markdown",
   "metadata": {},
   "source": [
    "## Send SB3.1 file to device\n",
    "\n",
    "Last step is to upload SB3.1 file with NBU image to device. Command `blhost receive-sb-file` is used to update the image on CM33 flash or radio (CM3) flash via ISP.\n",
    "With this command, a KW45 device receives a secure binary (SB) file, decrypts, authenticates, and programs\n",
    "the image to the target memory."
   ]
  },
  {
   "cell_type": "code",
   "execution_count": 6,
   "metadata": {},
   "outputs": [
    {
     "name": "stdout",
     "output_type": "stream",
     "text": [
      "blhost -p com10 receive-sb-file workspace/sb3.sb3 \n",
      "Sending SB file\n",
      "Response status = 0 (0x0) Success.\n"
     ]
    }
   ],
   "source": [
    "# uploads SB3.1\n",
    "%! blhost $UART_CONNECTION receive-sb-file workspace/sb3.sb3"
   ]
  }
 ],
 "metadata": {
  "kernelspec": {
   "display_name": "venv_uv",
   "language": "python",
   "name": "python3"
  },
  "language_info": {
   "codemirror_mode": {
    "name": "ipython",
    "version": 3
   },
   "file_extension": ".py",
   "mimetype": "text/x-python",
   "name": "python",
   "nbconvert_exporter": "python",
   "pygments_lexer": "ipython3",
   "version": "3.10.6"
  }
 },
 "nbformat": 4,
 "nbformat_minor": 4
}
