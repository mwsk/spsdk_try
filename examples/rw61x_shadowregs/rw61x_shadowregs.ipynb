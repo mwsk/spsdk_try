{
    "cells": [
        {
            "cell_type": "markdown",
            "metadata": {},
            "source": [
                "# RW61x Shadow Registers"
            ]
        },
        {
            "cell_type": "markdown",
            "metadata": {},
            "source": [
                "## Introduction\n",
                "The NXP tool, shadowregs (see <a href=\"https://spsdk.readthedocs.io/en/latest/apps/shadowregs.html\">User Guide</a>), control your OTP fuses during development or testing. It enables the creation of \"copies\" of OTP fuses in the form of shadow registers. After each power-on reset, these shadow registers are cleared, and the default OTP fuses are loaded. It's important to note two small limitations: the device must be in a lifecycle that supports shadow registers, and certain registers are not included in shadow registers."
            ]
        },
        {
            "cell_type": "markdown",
            "metadata": {},
            "source": [
                "## Supported Commands\n",
                "- fuses-script - Generate BLHOST script to burn up fuses in device by configuration.\n",
                "- get-template - Generate the template of Shadow registers YAML configuration file.\n",
                "- getreg - Print the current value of one shadow register.\n",
                "- loadconfig - Load new state of shadow registers from YAML file into micro controller.\n",
                "- printregs - Print all Shadow registers including theirs current values.\n",
                "- reset - Reset connected device.\n",
                "- saveconfig - Save current state of shadow registers to YAML file.\n",
                "- setreg - The command sets a value of one shadow register defined by parameter."
            ]
        },
        {
            "cell_type": "markdown",
            "metadata": {},
            "source": [
                "## Let's prepare the environment"
            ]
        },
        {
            "cell_type": "code",
            "execution_count": 6,
            "metadata": {},
            "outputs": [
                {
                    "name": "stdout",
                    "output_type": "stream",
                    "text": [
                        "env: JUPYTER_SPSDK=1\n",
                        "Created `%!` as an alias for `%execute`.\n"
                    ]
                }
            ],
            "source": [
                "%run ../init_notebook.ipynb\n",
                "\n",
                "import os\n",
                "import pprint\n",
                "import yaml\n",
                "\n",
                "pp = pprint.PrettyPrinter(indent=4)\n",
                "\n",
                "WORKSPACE = \"workspace/\" # change this to path to your workspace\n",
                "INPUTS = \"inputs/\"\n",
                "\n",
                "# choose debug interface\n",
                "INTERFACE = \"-i jlink\"\n",
                "# family\n",
                "FAMILY = \"-f rw61x\""
            ]
        },
        {
            "cell_type": "markdown",
            "metadata": {},
            "source": [
                "## Device preparation\n",
                "- Have the device in debug mode.\n",
                "\n",
                "![RW61X-EVK](img/RW61X-EVK.png \"RW61X-EVK\")"
            ]
        },
        {
            "cell_type": "code",
            "execution_count": 7,
            "metadata": {},
            "outputs": [
                {
                    "name": "stdout",
                    "output_type": "stream",
                    "text": [
                        "nxpdebugmbox -i jlink test-connection \n",
                        "  #   Interface   Id           Description             \n",
                        "-------------------------------------------------------\n",
                        "  0   Jlink       1061995210   Segger J-Link MCU-Link  \n",
                        "The device is accessible for debugging.\n"
                    ]
                }
            ],
            "source": [
                "# check availability of debug probe \n",
                "%! nxpdebugmbox $INTERFACE test-connection"
            ]
        },
        {
            "cell_type": "markdown",
            "metadata": {},
            "source": [
                "## Compare the current state of shadowregs with defaults\n",
                "- Verify that your shadow registers are in the default state."
            ]
        },
        {
            "cell_type": "code",
            "execution_count": 8,
            "metadata": {},
            "outputs": [
                {
                    "name": "stdout",
                    "output_type": "stream",
                    "text": [
                        "shadowregs -i jlink -f rw61x saveconfig -o workspace/sr_diff_rw61x.yml -d \n",
                        "  #   Interface   Id           Description             \n",
                        "-------------------------------------------------------\n",
                        "  0   Jlink       1061995210   Segger J-Link MCU-Link  \n",
                        "The Shadow registers has been saved into spsdk\\examples\\rw61x_shadowregs\\workspace\\sr_diff_rw61x.yml YAML file\n"
                    ]
                }
            ],
            "source": [
                "# save differences comparing to defaults\n",
                "SR_DIFF_PATH = os.path.join(WORKSPACE, \"sr_diff_rw61x.yml\")\n",
                "\n",
                "%! shadowregs $INTERFACE $FAMILY saveconfig -o $SR_DIFF_PATH -d"
            ]
        },
        {
            "cell_type": "code",
            "execution_count": 9,
            "metadata": {},
            "outputs": [
                {
                    "name": "stdout",
                    "output_type": "stream",
                    "text": [
                        "shadowregs -i jlink -f rw61x reset \n",
                        "  #   Interface   Id           Description             \n",
                        "-------------------------------------------------------\n",
                        "  0   Jlink       1061995210   Segger J-Link MCU-Link  \n",
                        "The target has been reset.\n"
                    ]
                }
            ],
            "source": [
                "# optional but recommended: reset connected device\n",
                "%! shadowregs $INTERFACE $FAMILY reset"
            ]
        },
        {
            "cell_type": "markdown",
            "metadata": {},
            "source": [
                "## Generate shadowregs template"
            ]
        },
        {
            "cell_type": "code",
            "execution_count": 10,
            "metadata": {},
            "outputs": [
                {
                    "name": "stdout",
                    "output_type": "stream",
                    "text": [
                        "shadowregs -f rw61x get-template -o workspace/sr_template_rw61x.yml --force \n",
                        "The Shadow registers template for rw61x has been saved into spsdk\\examples\\rw61x_shadowregs\\workspace\\sr_template_rw61x.yml YAML file\n"
                    ]
                }
            ],
            "source": [
                "# generate the template of shadow registers\n",
                "SR_TEMPLATE_PATH = os.path.join(WORKSPACE, \"sr_template_rw61x.yml\")\n",
                "\n",
                "%! shadowregs $FAMILY get-template -o $SR_TEMPLATE_PATH --force"
            ]
        },
        {
            "cell_type": "markdown",
            "metadata": {},
            "source": [
                "## Prepare shadowregs for dual boot\n",
                "In this section, one of the possible use cases of shadow registers will be presented.\n",
                "\n",
                "- Dual boot is normally not possible on RW61x devices without configuring the registers.\n",
                "- Dual boot represents the possibility to write two images and always boot the image that has the higher image version.\n",
                "\n",
                "<span style=\"color:red\">NOTICE: Switch the device to ISP mode (U38: OFF OFF OFF ON)!</span>"
            ]
        },
        {
            "cell_type": "code",
            "execution_count": 11,
            "metadata": {},
            "outputs": [
                {
                    "name": "stdout",
                    "output_type": "stream",
                    "text": [
                        "Shadowregs config:\n",
                        "{   'family': 'rt5xx',\n",
                        "    'registers': {   'BOOT_CFG0': {   'BOOT_CLK_SPEED': 0,\n",
                        "                                      'BOOT_FAIL_PIN': 0,\n",
                        "                                      'BOOT_FAIL_PORT': 0,\n",
                        "                                      'DEFAULT_ISP_MODE': 'AUTO_ISP',\n",
                        "                                      'DICE_INC_OTP': 'NOT_INCLUDED',\n",
                        "                                      'DICE_SKIP': 'DISABLED',\n",
                        "                                      'PRIMARY_BOOT_SOURCE': 'FLEXSPI_BOOT',\n",
                        "                                      'REDUNDANT_SPI_PORT': 'FC0',\n",
                        "                                      'SECURE_BOOT_EN': 'DISABLED',\n",
                        "                                      'STOP_ON_FAILURE': 0,\n",
                        "                                      'TZM_IMAGE_TYPE': 'IGNORED'},\n",
                        "                     'BOOT_CFG1': {   'FLEXSPI_AUTO_PROBE_EN': 'FLASH_AUTO_PROBE',\n",
                        "                                      'FLEXSPI_DUMMY_CYCLES': 'AUTO_PROB',\n",
                        "                                      'FLEXSPI_FLASH_TYPE': 'FLEXSPI_SDR_3B',\n",
                        "                                      'FLEXSPI_FREQUENCY': 'FLEXSPI_100MHZ',\n",
                        "                                      'FLEXSPI_HOLD_TIME': 'NO_DELAY',\n",
                        "                                      'FLEXSPI_PROBE_TYPE': 'QSPI_NOR',\n",
                        "                                      'FLEXSPI_PWR_HOLD_TIME': 'NO_DELAY',\n",
                        "                                      'FLEXSPI_RST_HOLD_TIME': 'NO_DELAY',\n",
                        "                                      'FLEXSPI_RST_SEQ': 'NO_RESET_PERFORMED',\n",
                        "                                      'FLEXSPI_WUP_HOLD_TIME': 'NO_DELAY',\n",
                        "                                      'FLEXSPI_WUP_SEQ': 'NO_RESET_PERFORMED'},\n",
                        "                     'BOOT_CFG2': {   'FLEXSPI_DELAY_CELL_NUM': 0,\n",
                        "                                      'FLEXSPI_IMAGE_OFFSET': '0x1',\n",
                        "                                      'FLEXSPI_IMAGE_SIZE': 'SIZE_OFFSET'},\n",
                        "                     'BOOT_CFG3': {   'ENABLE_CRC_CHECK': 0,\n",
                        "                                      'ENF_CNSA': 'P-256_KEY',\n",
                        "                                      'FIPS_AES_STEN': 'SKIP_SELF_TEEST_RUN',\n",
                        "                                      'FIPS_CMAC_STEN': 'SKIP_SELF_TEEST_RUN',\n",
                        "                                      'FIPS_DRBG_STEN': 'SKIP_SELF_TEEST_RUN',\n",
                        "                                      'FIPS_ECDSA_STEN': 'SKIP_SELF_TEEST_RUN',\n",
                        "                                      'FIPS_KDF_STEN': 'SKIP_SELF_TEEST_RUN',\n",
                        "                                      'FIPS_SHA_STEN': 'SKIP_SELF_TEEST_RUN',\n",
                        "                                      'ROTK0_USAGE': 'DebugCA_ImageCA_FwCA_ImageKey_FwKey',\n",
                        "                                      'ROTK1_USAGE': 'DebugCA_ImageCA_FwCA_ImageKey_FwKey',\n",
                        "                                      'ROTK2_USAGE': 'DebugCA_ImageCA_FwCA_ImageKey_FwKey',\n",
                        "                                      'ROTK3_USAGE': 'DebugCA_ImageCA_FwCA_ImageKey_FwKey',\n",
                        "                                      'SKIP_PM_SIGN_VERIFCATION': 0},\n",
                        "                     'BOOT_CFG5': {'USB_PID': 0, 'USB_VID': 0},\n",
                        "                     'BOOT_CFG6': {'SDIO_PID': 0, 'SDIO_VID': 0},\n",
                        "                     'DCFG_CC_SOCU': {   'DFLT_CPU1DBGEN': 'DISABLED',\n",
                        "                                         'DFLT_CPU1NIDEN': 'DISABLED',\n",
                        "                                         'DFLT_CPU2DBGEN': 'DISABLED',\n",
                        "                                         'DFLT_CPU2NIDEN': 'DISABLED',\n",
                        "                                         'DFLT_DBGEN': 'DISABLED',\n",
                        "                                         'DFLT_FACMDEN': 'DISABLED',\n",
                        "                                         'DFLT_ISPCMDEN': 'DISABLED',\n",
                        "                                         'DFLT_NIDEN': 'DISABLED',\n",
                        "                                         'DFLT_SPIDEN': 'DISABLED',\n",
                        "                                         'DFLT_SPNIDEN': 'DISABLED',\n",
                        "                                         'DFLT_TAPEN': 'DISABLED',\n",
                        "                                         'FORCE_UUID_MATCH': 0,\n",
                        "                                         'PINNED_CPU1DBGEN': 'DAR_CC',\n",
                        "                                         'PINNED_CPU1NIDEN': 'DAR_CC',\n",
                        "                                         'PINNED_CPU2DBGEN': 'DAR_CC',\n",
                        "                                         'PINNED_CPU2NIDEN': 'DAR_CC',\n",
                        "                                         'PINNED_DBGEN': 'DAR_CC',\n",
                        "                                         'PINNED_FACMDEN': 'DAR_CC',\n",
                        "                                         'PINNED_ISPCMDEN': 'DAR_CC',\n",
                        "                                         'PINNED_NIDEN': 'DAR_CC',\n",
                        "                                         'PINNED_SPIDEN': 'DAR_CC',\n",
                        "                                         'PINNED_SPNIDEN': 'DAR_CC',\n",
                        "                                         'PINNED_TAPEN': 'DAR_CC'},\n",
                        "                     'DCFG_CC_SOCU_AP': '0x00000000',\n",
                        "                     'DCFG_CC_SOCU_NS': {   'DFLT_CPU1DBGEN_NS': 'DISABLED',\n",
                        "                                            'DFLT_CPU1NIDEN_NS': 'DISABLED',\n",
                        "                                            'DFLT_CPU2DBGEN_NS': 'DISABLED',\n",
                        "                                            'DFLT_CPU2NIDEN_NS': 'DISABLED',\n",
                        "                                            'DFLT_DBGEN_NS': 'DISABLED',\n",
                        "                                            'DFLT_FACMDEN_NS': 'DISABLED',\n",
                        "                                            'DFLT_ISPCMDEN_NS': 'DISABLED',\n",
                        "                                            'DFLT_NIDEN_NS': 'DISABLED',\n",
                        "                                            'DFLT_SPIDEN_NS': 'DISABLED',\n",
                        "                                            'DFLT_SPNIDEN_NS': 'DISABLED',\n",
                        "                                            'DFLT_TAPEN_NS': 'DISABLED',\n",
                        "                                            'FORCE_UUID_MATCH_NS': 0,\n",
                        "                                            'PINNED_CPU1DBGEN_NS': 'DAR_CC',\n",
                        "                                            'PINNED_CPU1NIDEN_NS': 'DAR_CC',\n",
                        "                                            'PINNED_CPU2DBGEN_NS': 'DAR_CC',\n",
                        "                                            'PINNED_CPU2NIDEN_NS': 'DAR_CC',\n",
                        "                                            'PINNED_DBGEN_NS': 'DAR_CC',\n",
                        "                                            'PINNED_FACMDEN_NS': 'DAR_CC',\n",
                        "                                            'PINNED_ISPCMDEN_NS': 'DAR_CC',\n",
                        "                                            'PINNED_NIDEN_NS': 'DAR_CC',\n",
                        "                                            'PINNED_SPIDEN_NS': 'DAR_CC',\n",
                        "                                            'PINNED_SPNIDEN_NS': 'DAR_CC',\n",
                        "                                            'PINNED_TAPEN_NS': 'DAR_CC'},\n",
                        "                     'LIFE_CYCLE_STATE': {   'LCS[7:0]': 'Develop2',\n",
                        "                                             'LCS_REDUNDANT[7:0]': 'Develop2',\n",
                        "                                             'Redundancy': 0},\n",
                        "                     'RKTH': '0000000000000000000000000000000000000000000000000000000000000000',\n",
                        "                     'SEC_BOOT_CFG0': {   'FA_MODE_EN': 0,\n",
                        "                                          'REVOKE_ROOTKEY0': 'ENABLED',\n",
                        "                                          'REVOKE_ROOTKEY1': 'ENABLED',\n",
                        "                                          'REVOKE_ROOTKEY2': 'ENABLED',\n",
                        "                                          'REVOKE_ROOTKEY3': 'ENABLED',\n",
                        "                                          'Redundancy': 0},\n",
                        "                     'SEC_BOOT_CFG1': {'DAP_VENDOR_USAGE': 0, 'Redundancy': 0},\n",
                        "                     'SEC_BOOT_CFG2': {   'REVOKE_IMG_KEY[15:0]': 0,\n",
                        "                                          'Redundancy': 0},\n",
                        "                     'SEC_BOOT_CFG3': {   'REVOKE_IMG_KEY[31:16]': 0,\n",
                        "                                          'Redundancy': 0}},\n",
                        "    'revision': 'latest'}\n"
                    ]
                }
            ],
            "source": [
                "# modification of shadowregs for dual boot\n",
                "with open(SR_TEMPLATE_PATH) as sr_rw61x:\n",
                "    # load yaml configuration to dictionary\n",
                "    sr = yaml.safe_load(sr_rw61x)\n",
                "    # change paths\n",
                "    sr[\"registers\"][\"BOOT_CFG0\"][\"DICE_SKIP\"] = \"DISABLED\"\n",
                "    sr[\"registers\"][\"BOOT_CFG0\"][\"PRIMARY_BOOT_SOURCE\"] = \"FLEXSPI_BOOT\"\n",
                "    sr[\"registers\"][\"BOOT_CFG2\"][\"FLEXSPI_IMAGE_OFFSET\"] = \"0x1\"\n",
                "    sr[\"registers\"][\"LIFE_CYCLE_STATE\"][\"LCS[7:0]\"] = \"Develop2\"\n",
                "    sr[\"registers\"][\"LIFE_CYCLE_STATE\"][\"LCS_REDUNDANT[7:0]\"] = \"Develop2\"\n",
                "\n",
                "with open(SR_TEMPLATE_PATH, \"w+\") as sr_rw61x:\n",
                "    print(\"Shadowregs config:\")\n",
                "    pp.pprint(sr)\n",
                "    # dump the dictionary back to YAML\n",
                "    yaml.dump(sr, sr_rw61x)"
            ]
        },
        {
            "cell_type": "code",
            "execution_count": 12,
            "metadata": {},
            "outputs": [
                {
                    "name": "stdout",
                    "output_type": "stream",
                    "text": [
                        "nxpdevscan \n",
                        "-------- Connected NXP SDIO Devices --------\n",
                        "\n",
                        "-------- Connected NXP USB Devices --------\n",
                        "\n",
                        "-------- Connected NXP UART Devices --------\n",
                        "\n",
                        "Port: COM5\n",
                        "Type: mboot device\n",
                        "\n",
                        "-------- Connected NXP SIO Devices --------\n",
                        "\n"
                    ]
                }
            ],
            "source": [
                "# list available connected devices\n",
                "%! nxpdevscan"
            ]
        },
        {
            "cell_type": "code",
            "execution_count": 13,
            "metadata": {},
            "outputs": [],
            "source": [
                "# choose com port for rw61x\n",
                "UART_CONNECTION = \"-p com5\""
            ]
        },
        {
            "cell_type": "code",
            "execution_count": 14,
            "metadata": {},
            "outputs": [
                {
                    "name": "stdout",
                    "output_type": "stream",
                    "text": [
                        "blhost -p com5 write-memory 0x2000F000 inputs/converted_fcb.bin \n",
                        "Writing memory\n",
                        "Response status = 0 (0x0) Success.\n",
                        "Response word 1 = 512 (0x200)\n",
                        "blhost -p com5 configure-memory 9 0x2000F000 \n",
                        "Response status = 0 (0x0) Success.\n",
                        "blhost -p com5 flash-erase-region 0x08000000 25000 \n",
                        "Response status = 0 (0x0) Success.\n",
                        "blhost -p com5 flash-erase-region 0x08040000 25000 \n",
                        "Response status = 0 (0x0) Success.\n",
                        "blhost -p com5 fill-memory 0x2000F000 4 0xF000000F \n",
                        "Response status = 0 (0x0) Success.\n",
                        "blhost -p com5 configure-memory 9 0x2000F000 \n",
                        "Response status = 0 (0x0) Success.\n",
                        "blhost -p com5 write-memory 0x08040400 inputs/converted_fcb.bin \n",
                        "Writing memory\n",
                        "Response status = 0 (0x0) Success.\n",
                        "Response word 1 = 512 (0x200)\n"
                    ]
                }
            ],
            "source": [
                "# memory configuration\n",
                "FCB_PATH = os.path.join(INPUTS, \"converted_fcb.bin\")\n",
                "\n",
                "%! blhost $UART_CONNECTION write-memory 0x2000F000 $FCB_PATH\n",
                "%! blhost $UART_CONNECTION configure-memory 9 0x2000F000\n",
                "%! blhost $UART_CONNECTION flash-erase-region 0x08000000 25000\n",
                "%! blhost $UART_CONNECTION flash-erase-region 0x08040000 25000\n",
                "%! blhost $UART_CONNECTION fill-memory 0x2000F000 4 0xF000000F \n",
                "%! blhost $UART_CONNECTION configure-memory 9 0x2000F000\n",
                "%! blhost $UART_CONNECTION write-memory 0x08040400 $FCB_PATH"
            ]
        },
        {
            "cell_type": "code",
            "execution_count": 15,
            "metadata": {},
            "outputs": [
                {
                    "name": "stdout",
                    "output_type": "stream",
                    "text": [
                        "blhost -p com5 write-memory 0x08000600 inputs/img_v0.bin \n",
                        "Writing memory\n",
                        "Response status = 0 (0x0) Success.\n",
                        "Response word 1 = 4 (0x4)\n",
                        "blhost -p com5 write-memory 0x08001000 inputs/mbi_crc_led_blinky.bin \n",
                        "Writing memory\n",
                        "Response status = 0 (0x0) Success.\n",
                        "Response word 1 = 14008 (0x36b8)\n",
                        "blhost -p com5 write-memory 0x08040600 inputs/img_v1.bin \n",
                        "Writing memory\n",
                        "Response status = 0 (0x0) Success.\n",
                        "Response word 1 = 4 (0x4)\n",
                        "blhost -p com5 write-memory 0x08041000 inputs/mbi_crc_hello_world.bin \n",
                        "Writing memory\n",
                        "Response status = 0 (0x0) Success.\n",
                        "Response word 1 = 22044 (0x561c)\n"
                    ]
                }
            ],
            "source": [
                "# write images and versions\n",
                "LED_BLINKY_PATH = os.path.join(INPUTS, \"mbi_crc_led_blinky.bin\")\n",
                "HELLO_WORLD_PATH = os.path.join(INPUTS, \"mbi_crc_hello_world.bin\")\n",
                "IMG_V0_PATH = os.path.join(INPUTS, \"img_v0.bin\")\n",
                "IMG_V1_PATH = os.path.join(INPUTS, \"img_v1.bin\")\n",
                "\n",
                "%! blhost $UART_CONNECTION write-memory 0x08000600 $IMG_V0_PATH\n",
                "%! blhost $UART_CONNECTION write-memory 0x08001000 $LED_BLINKY_PATH\n",
                "\n",
                "%! blhost $UART_CONNECTION write-memory 0x08040600 $IMG_V1_PATH\n",
                "%! blhost $UART_CONNECTION write-memory 0x08041000 $HELLO_WORLD_PATH"
            ]
        },
        {
            "cell_type": "code",
            "execution_count": 16,
            "metadata": {},
            "outputs": [
                {
                    "name": "stdout",
                    "output_type": "stream",
                    "text": [
                        "shadowregs -i jlink -f rw61x loadconfig -c workspace/sr_template_rw61x.yml \n",
                        "  #   Interface   Id           Description             \n",
                        "-------------------------------------------------------\n",
                        "  0   Jlink       1061995210   Segger J-Link MCU-Link  \n",
                        "The Shadow registers has been loaded by configuration in spsdk\\examples\\rw61x_shadowregs\\workspace\\sr_template_rw61x.yml YAML file\n"
                    ]
                }
            ],
            "source": [
                "# load modified shadowregs\n",
                "%! shadowregs $INTERFACE $FAMILY loadconfig -c $SR_TEMPLATE_PATH"
            ]
        },
        {
            "cell_type": "code",
            "execution_count": 17,
            "metadata": {},
            "outputs": [
                {
                    "name": "stdout",
                    "output_type": "stream",
                    "text": [
                        "shadowregs -i jlink -f rw61x reset \n",
                        "  #   Interface   Id           Description             \n",
                        "-------------------------------------------------------\n",
                        "  0   Jlink       1061995210   Segger J-Link MCU-Link  \n",
                        "The target has been reset.\n"
                    ]
                }
            ],
            "source": [
                "# reset the device and run image\n",
                "%! shadowregs $INTERFACE $FAMILY reset"
            ]
        }
    ],
    "metadata": {
        "kernelspec": {
            "display_name": "venv",
            "language": "python",
            "name": "python3"
        },
        "language_info": {
            "codemirror_mode": {
                "name": "ipython",
                "version": 3
            },
            "file_extension": ".py",
            "mimetype": "text/x-python",
            "name": "python",
            "nbconvert_exporter": "python",
            "pygments_lexer": "ipython3",
            "version": "3.9.13"
        },
        "mystnb": {
            "execution_mode": "off"
        }
    },
    "nbformat": 4,
    "nbformat_minor": 2
}