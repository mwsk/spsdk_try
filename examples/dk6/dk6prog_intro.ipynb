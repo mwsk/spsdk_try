{
 "cells": [
  {
   "attachments": {},
   "cell_type": "markdown",
   "metadata": {},
   "source": [
    "# DK6 Programming tool\n",
    "\n",
    "This example shows the basic operations with the SPSDK dk6prog CLI application.\n",
    "\n",
    "DK6 Programming tool also known as DK6Prog is an alternative tool to [\"JN51xx Production Flash Programmer\"](https://www.nxp.com/docs/en/user-guide/JN-UG-3099.pdf). DK6Prog is part of the SPSDK and written in Python. DK6 is a name that was given to development kit for K32W, JN51xx and QN90xx devices. [https://www.nxp.com/products/wireless/multiprotocol-mcus/advanced-development-kit-for-k32w061-and-jn5189-88:IOTZTB-DK006](https://www.nxp.com/products/wireless/multiprotocol-mcus/advanced-development-kit-for-k32w061-and-jn5189-88:IOTZTB-DK006)\n",
    "\n",
    "DK6 development kit is utilizing FTDI chip for sending ISP sequence in GPIO bitbang mode.\n",
    "\n",
    "> **_NOTE:_** Before running this Notebook, please make sure to install DK6 support in SPSDK: *pip install -e \".[dk6]\"*\n",
    "\n",
    "## Backends\n",
    "User might select between four backends that will be used for communication. \n",
    "\n",
    "- [PYFTDI](https://eblot.github.io/pyftdi/index.html) is a pure Python implementation of libFTDI. Default selection for Linux and macOS.\n",
    "- [PYLIBFTDI](https://pypi.org/project/pylibftdi/) is a Ctypes wrapper for libFTDI, which is an open source implementation of FTDI D2xx driver.\n",
    "- FTD2XX is a Ctypes wrapper for official FTDI D2XX library. Default selection for Windows.\n",
    "- PYSERIAL is meant for pure UART communication; bitbang mode is not supported.\n",
    "\n",
    "Backends are selected with *-b* or *--backend* option.\n",
    "\n",
    "## 1. Prerequisites\n",
    "- SPSDK is needed with examples extension. `pip install spsdk[examples]` (Please refer to the [installation](../_knowledge_base/installation_guide.rst) documentation.)\n",
    "\n",
    "- This example uses DK6 board\n",
    "\n",
    "\n",
    "### 1.1 DK6 Board overview\n",
    "![image.png](img/image.png)\n",
    "\n",
    "### 1.2 CLI operations\n",
    "\n",
    "1. Connect the USB cable to *FTDI USB* slot.\n",
    "2. Connect JP7 and JP4 to UART0 - FTDI\n",
    "3. Issue *dk6prog listdev* optionally with the *-b* option to select the backend\n",
    "4. Get the DEVICE ID\n",
    "5. Issue any command specifying DEVICE ID with *-d* parameter\n",
    "\n"
   ]
  },
  {
   "cell_type": "code",
   "execution_count": 6,
   "metadata": {},
   "outputs": [
    {
     "name": "stdout",
     "output_type": "stream",
     "text": [
      "env: JUPYTER_SPSDK=1\n",
      "Created `%!` as an alias for `%execute`.\n",
      "dk6prog  listdev \n",
      "\n",
      "This is an experimental utility. Use with caution!\n",
      "\n",
      "List of available devices:\n",
      "DEVICE ID: 0, VID: N/A, PID: N/A, Serial number: b'DN03TA7S', Description: b'DK6 Carrier Board', Address: 67330069, Backend: Backend.FTD2xx\n"
     ]
    }
   ],
   "source": [
    "%env JUPYTER_SPSDK=1\n",
    "# Set a magic for command execution and echo\n",
    "%alias execute echo %l && %l\n",
    "%alias_magic ! execute\n",
    "\n",
    "DEVICE_ID = \"0\"\n",
    "NO_VERBOSE = \"\"\n",
    "VERBOSE = \"-v\"\n",
    "DEBUG = \"-vv\"\n",
    "VERBOSITY = NO_VERBOSE\n",
    "\n",
    "# Get the device ID\n",
    "%! dk6prog $VERBOSITY listdev"
   ]
  },
  {
   "attachments": {},
   "cell_type": "markdown",
   "metadata": {},
   "source": [
    "## 2. ISP Protocol\n",
    "\n",
    "- ISP sequence is controlled by FTDI CBUS pins in bitbang mode (or\n",
    "manually with ISP button)\n",
    "-  Memory must be open in desired access mode before reading/writing\n",
    "-  Default 115200 baud rate 8N1, no ABR (support up to 1 MBd)\n",
    "-  ISP authentication (Signed unlock key n=288), Authenticated\n",
    "commands not implemented (SHA-256 + signature)\n",
    "- Encrypted transfer AES-CTR – not implemented\n",
    "\n",
    "## 3. Memory operations\n",
    "What's supported:\n",
    "\n",
    "- Read – read to file, stdout\n",
    "- Write – write to file, stdout\n",
    "- Erase – erase and check if memory is erased\n",
    "- Info – info about chip, memories, etc.\n",
    "- Command chaining – multiple commands might be chained\n",
    "\n",
    "At first, let's print the memory map of the device using the *info* command and see what's available.\n",
    "\n"
   ]
  },
  {
   "cell_type": "code",
   "execution_count": 7,
   "metadata": {},
   "outputs": [
    {
     "name": "stdout",
     "output_type": "stream",
     "text": [
      "dk6prog -d 0  info \n",
      "\n",
      "This is an experimental utility. Use with caution!\n",
      "\n",
      "Chip ID: 0x88888888\n",
      "ROM Version: 0x140000cc\n",
      "MAC Address: FF:FF:FF:FF:FF:FF:FF:FF\n",
      "\n",
      "Detected DEVICE: QN9090\n",
      "\n",
      "  Memory   Memory ID   Base Address   Length    Sector Size   Memory Type   Access            \n",
      "----------------------------------------------------------------------------------------------\n",
      "  FLASH    0           0x0            0x9de00   0x200         FLASH         All is available  \n",
      "  PSECT    1           0x0            0x1e0     0x10          FLASH         All is available  \n",
      "  pFLASH   2           0x0            0x1e0     0x10          FLASH         All is available  \n",
      "  Config   3           0x9fc00        0x200     0x200         FLASH         All is available  \n",
      "  EFUSE    4           0x0            0x80      0x2           EFUSE (OTP)   Write Enabled     \n",
      "  ROM      5           0x3000000      0x20000   0x1           ROM           Write Enabled     \n",
      "  RAM0     6           0x4000000      0x16000   0x1           RAM           Write Enabled     \n",
      "  RAM1     7           0x4020000      0x10000   0x1           RAM           Write Enabled     \n"
     ]
    }
   ],
   "source": [
    "%! dk6prog -d $DEVICE_ID $VERBOSITY info"
   ]
  },
  {
   "cell_type": "code",
   "execution_count": 8,
   "metadata": {},
   "outputs": [
    {
     "name": "stdout",
     "output_type": "stream",
     "text": [
      "dk6prog  -d 0 read 0x96000 8 FLASH \n",
      "\n",
      "This is an experimental utility. Use with caution!\n",
      "\n",
      "Reading memory\n",
      "Read 8/8 bytes from 0x96000:0x96008 Memory ID: FLASH\n",
      "de ad de ad de ad de ad\n"
     ]
    }
   ],
   "source": [
    "# read 8 bytes from flash at addr 0x96000\n",
    "%! dk6prog $VERBOSITY -d $DEVICE_ID read 0x96000 8 FLASH"
   ]
  },
  {
   "cell_type": "code",
   "execution_count": 9,
   "metadata": {},
   "outputs": [
    {
     "name": "stdout",
     "output_type": "stream",
     "text": [
      "dk6prog  -d 0 read -o data.bin 0x96000 8 FLASH \n",
      "\n",
      "This is an experimental utility. Use with caution!\n",
      "\n",
      "Reading memory\n",
      "Read 8/8 bytes from 0x96000:0x96008 Memory ID: FLASH\n",
      "Writing data to data.bin\n"
     ]
    }
   ],
   "source": [
    "# read data to file\n",
    "%! dk6prog $VERBOSITY -d $DEVICE_ID read -o data.bin 0x96000 8 FLASH"
   ]
  },
  {
   "cell_type": "code",
   "execution_count": 10,
   "metadata": {},
   "outputs": [
    {
     "name": "stdout",
     "output_type": "stream",
     "text": [
      "dk6prog  -d 0 erase 0x96000 8 FLASH \n",
      "\n",
      "This is an experimental utility. Use with caution!\n",
      "\n",
      "Erasing memory\n"
     ]
    }
   ],
   "source": [
    "# erase 8 bytes from flash\n",
    "%! dk6prog $VERBOSITY -d $DEVICE_ID erase 0x96000 8 FLASH"
   ]
  },
  {
   "cell_type": "code",
   "execution_count": 11,
   "metadata": {},
   "outputs": [
    {
     "name": "stdout",
     "output_type": "stream",
     "text": [
      "dk6prog  -d 0 write 0x96000 [[123456789abcdef0]] 8 FLASH \n",
      "\n",
      "This is an experimental utility. Use with caution!\n",
      "\n",
      "Writing memory\n",
      "Written 8 bytes to memory ID FLASH at address 0x96000\n"
     ]
    }
   ],
   "source": [
    "# writes data to flash, read it and erase them\n",
    "%! dk6prog $VERBOSITY -d $DEVICE_ID write 0x96000 [[123456789abcdef0]] 8 FLASH"
   ]
  },
  {
   "cell_type": "code",
   "execution_count": 12,
   "metadata": {},
   "outputs": [
    {
     "name": "stdout",
     "output_type": "stream",
     "text": [
      "dk6prog  -d 0 read 0x96000 8 FLASH \n",
      "\n",
      "This is an experimental utility. Use with caution!\n",
      "\n",
      "Reading memory\n",
      "Read 8/8 bytes from 0x96000:0x96008 Memory ID: FLASH\n",
      "12 34 56 78 9a bc de f0\n"
     ]
    }
   ],
   "source": [
    "# read data\n",
    "%! dk6prog $VERBOSITY -d $DEVICE_ID read 0x96000 8 FLASH"
   ]
  },
  {
   "cell_type": "code",
   "execution_count": 13,
   "metadata": {},
   "outputs": [
    {
     "name": "stdout",
     "output_type": "stream",
     "text": [
      "dk6prog  -d 0 erase 0x96000 8 FLASH \n",
      "\n",
      "This is an experimental utility. Use with caution!\n",
      "\n",
      "Erasing memory\n"
     ]
    }
   ],
   "source": [
    "# erase data\n",
    "%! dk6prog $VERBOSITY -d $DEVICE_ID erase 0x96000 8 FLASH"
   ]
  }
 ],
 "metadata": {
  "kernelspec": {
   "display_name": "venv312",
   "language": "python",
   "name": "python3"
  },
  "language_info": {
   "codemirror_mode": {
    "name": "ipython",
    "version": 3
   },
   "file_extension": ".py",
   "mimetype": "text/x-python",
   "name": "python",
   "nbconvert_exporter": "python",
   "pygments_lexer": "ipython3",
   "version": "3.12.4"
  },
  "orig_nbformat": 4
 },
 "nbformat": 4,
 "nbformat_minor": 2
}
