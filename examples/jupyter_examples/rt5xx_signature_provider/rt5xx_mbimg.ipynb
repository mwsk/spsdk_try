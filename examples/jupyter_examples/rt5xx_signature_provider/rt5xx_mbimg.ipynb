{
 "cells": [
  {
   "attachments": {},
   "cell_type": "markdown",
   "metadata": {},
   "source": [
    "# Masterboot image with Signature Provider\n",
    "\n",
    "This notebook describes how to use a custom remote signing service for signing the masterboot image.\n"
   ]
  },
  {
   "cell_type": "code",
   "execution_count": 1,
   "metadata": {},
   "outputs": [
    {
     "name": "stdout",
     "output_type": "stream",
     "text": [
      "env: JUPYTER_SPSDK=1\n",
      "Created `%!` as an alias for `%execute`.\n"
     ]
    }
   ],
   "source": [
    "%run ../init_notebook.ipynb\n",
    "\n",
    "import pprint\n",
    "import os\n",
    "\n",
    "pp = pprint.PrettyPrinter(indent=4)\n",
    "\n",
    "plugins_dir = 'plugins/'\n",
    "\n",
    "SASP_PLUGIN = os.path.join(plugins_dir, 'sasp.py')\n",
    "WORKSPACE = \"workspace/mbimg/\" # change this to path to your workspace\n",
    "DATA_DIR = \"data_mbimg/\" # change this to path to your workspace\n",
    "VERBOSITY = \"-v\" # verbosity of commands, might be -v or -vv for debug or blank for no additional info"
   ]
  },
  {
   "attachments": {},
   "cell_type": "markdown",
   "metadata": {},
   "source": [
    "### Signature Provider Plugin\n",
    "\n",
    "First, we need to setup the Signature Provider plugin and start the custom HSM. In order to do that, open this [notebook](signature_provider.ipynb) and follow the instructions there. Once you are done, come back and continue here."
   ]
  },
  {
   "attachments": {},
   "cell_type": "markdown",
   "metadata": {},
   "source": [
    "### Config File Setup\n",
    "\n",
    "The masterboot image configuration file must be updated in order to integrate the custom Signature Provider.\n",
    "\n",
    "The signature provider configuration must meet following rules:\n",
    "  - Configuration key\n",
    "    - key names `sign_provider` or `signProvider` are allowed\n",
    "\n",
    "  - Configuration value\n",
    "    - format `\"type=<sp_type>;<key1>=<value1>;<key2>=<value2>;...\"`\n",
    "    - the `sp_type` has to match the sp_type class attribute defined in the custom signature provider(`plugins/sasp.py`)\n",
    "    - the remaining key-value pairs are passed to the `__init__` method of the concrete Signature Provider\n",
    "    - e.g.: `\"type=file;file_path=private_key.pem\"` will instantiate `spsdk.crypto.PlainFileSP(file_path='private_key.pem')`"
   ]
  },
  {
   "cell_type": "code",
   "execution_count": 2,
   "metadata": {},
   "outputs": [
    {
     "name": "stdout",
     "output_type": "stream",
     "text": [
      "nxpimage -v mbi get-templates -f rt5xx -o workspace/mbimg/ \n",
      "Creating c:\\spsdk\\examples\\jupyter_examples\\rt5xx_signature_provider\\workspace\\mbimg\\rt5xx_ext_xip_plain.yaml template file.\n",
      "Creating c:\\spsdk\\examples\\jupyter_examples\\rt5xx_signature_provider\\workspace\\mbimg\\rt5xx_ext_xip_crc.yaml template file.\n",
      "Creating c:\\spsdk\\examples\\jupyter_examples\\rt5xx_signature_provider\\workspace\\mbimg\\rt5xx_ext_xip_signed.yaml template file.\n",
      "Creating c:\\spsdk\\examples\\jupyter_examples\\rt5xx_signature_provider\\workspace\\mbimg\\rt5xx_ram_plain.yaml template file.\n",
      "Creating c:\\spsdk\\examples\\jupyter_examples\\rt5xx_signature_provider\\workspace\\mbimg\\rt5xx_ram_crc.yaml template file.\n",
      "Creating c:\\spsdk\\examples\\jupyter_examples\\rt5xx_signature_provider\\workspace\\mbimg\\rt5xx_ram_signed.yaml template file.\n",
      "Creating c:\\spsdk\\examples\\jupyter_examples\\rt5xx_signature_provider\\workspace\\mbimg\\rt5xx_ram_encrypted.yaml template file.\n",
      "\"All files are ready in folder 'workspace/mbimg/'\"\n"
     ]
    }
   ],
   "source": [
    "import yaml\n",
    "import os\n",
    "import shutil\n",
    "from spsdk.utils.misc import load_configuration\n",
    "# choose family for the MCU\n",
    "FAMILY = \"rt5xx\"\n",
    "\n",
    "%! nxpimage $VERBOSITY mbi get-templates -f $FAMILY -o $WORKSPACE\n",
    "\n",
    "CONFIG_PATH = os.path.join(WORKSPACE, \"rt5xx_ext_xip_signed.yaml\")\n",
    "# just for verification that the template was generated\n",
    "assert os.path.exists(CONFIG_PATH)\n",
    "\n",
    "# we can remove all optional setting as we don't need them for thsi example\n",
    "filtered_config = []\n",
    "with open(CONFIG_PATH, 'r') as file:\n",
    "    for line in file:\n",
    "        if '[Optional]' not in line:\n",
    "            filtered_config.append(line)\n",
    "\n",
    "with open(CONFIG_PATH, 'w') as file:\n",
    "    for line in filtered_config:\n",
    "        file.write(f\"{line}\")\n",
    "\n",
    "# update the config so it uses our custom Signature Provider\n",
    "config = load_configuration(CONFIG_PATH)\n",
    "\n",
    "# either the 'mainCertPrivateKeyFile' or 'signProvider' setting can be used\n",
    "del config['mainCertPrivateKeyFile']\n",
    "config['signProvider'] = 'type=sasp;key_number=0'\n",
    "config['rootCertificate0File'] = 'root_k0_signed_cert0_noca.der.cert'\n",
    "with open(CONFIG_PATH, 'w') as file:\n",
    "    yaml.dump(config, file, default_flow_style=False)\n",
    "\n",
    "# copy additional files needed for masterboot image creation\n",
    "files_needed = ['my_application.bin', 'root_k0_signed_cert0_noca.der.cert']\n",
    "for file in files_needed:\n",
    "    shutil.copyfile(os.path.join(DATA_DIR, file), os.path.join(WORKSPACE, file))\n",
    "\n",
    "pp.pprint(f\"All files are ready in folder '{WORKSPACE}'\")"
   ]
  },
  {
   "attachments": {},
   "cell_type": "markdown",
   "metadata": {},
   "source": [
    "### Execution\n",
    "\n",
    "At this point, we have everything we need to run nxpimage application using remote HSM for image signing."
   ]
  },
  {
   "cell_type": "code",
   "execution_count": 3,
   "metadata": {},
   "outputs": [
    {
     "name": "stdout",
     "output_type": "stream",
     "text": [
      "nxpimage -v mbi export --plugin plugins/sasp.py workspace/mbimg/rt5xx_ext_xip_signed.yaml \n",
      "\u001b[37m\u001b[1mINFO:spsdk.image.mbi_mixin:RKTH: db31d46c717711a8231cbc38b1de8a6e8657e1f733e04c2ee4b62fcea59149fa\u001b[39m\u001b[0m\n",
      "Success. (Master Boot Image: c:/spsdk/examples/jupyter_examples/rt5xx_signature_provider/workspace/mbimg/my_mbi.bin created.)\n"
     ]
    }
   ],
   "source": [
    "%! nxpimage $VERBOSITY mbi export --plugin $SASP_PLUGIN $CONFIG_PATH\n",
    "\n",
    "# check if the signed image exists\n",
    "output_file = os.path.join(WORKSPACE, config['masterBootOutputFile'])\n",
    "assert os.path.exists(output_file)"
   ]
  },
  {
   "attachments": {},
   "cell_type": "markdown",
   "metadata": {},
   "source": [
    "### HSM teardown\n",
    "\n",
    "Last step is to stop custom HSM. In order to do that, open again the [notebook](sahsm.ipynb) and stop the running jupyter notebook code cell."
   ]
  },
  {
   "attachments": {},
   "cell_type": "markdown",
   "metadata": {},
   "source": []
  }
 ],
 "metadata": {
  "kernelspec": {
   "display_name": "venv",
   "language": "python",
   "name": "python3"
  },
  "language_info": {
   "codemirror_mode": {
    "name": "ipython",
    "version": 3
   },
   "file_extension": ".py",
   "mimetype": "text/x-python",
   "name": "python",
   "nbconvert_exporter": "python",
   "pygments_lexer": "ipython3",
   "version": "3.10.6"
  },
  "orig_nbformat": 4
 },
 "nbformat": 4,
 "nbformat_minor": 2
}
