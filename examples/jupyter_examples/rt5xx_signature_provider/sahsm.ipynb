{
 "cells": [
  {
   "attachments": {},
   "cell_type": "markdown",
   "metadata": {},
   "source": [
    "### HSM setup\n",
    "\n",
    "HSM provide the required secure environment that is needed to generate and protect the cryptographic keys used to protect and authenticate sensitive data.\n",
    "\n",
    "We will use a simple Flask REST API service representing the remote HSM machine.\n",
    "\n",
    "Looking into `hsm` directory, we can see following files:\n",
    "- `hsm/sahsm.py` is an example of a remote signing service.\n",
    "- `hsm/hsm_k0_cert0_2048.pem` test private key used for signing the data.\n",
    "- `hsm/hsm_k1_cert0_2048.pem` test private key used for signing the data.\n",
    "\n",
    "IN order to start the HSM service, run following code:"
   ]
  },
  {
   "cell_type": "code",
   "execution_count": 4,
   "metadata": {},
   "outputs": [
    {
     "name": "stdout",
     "output_type": "stream",
     "text": [
      "Collecting flask\n",
      "  Using cached Flask-2.3.2-py3-none-any.whl (96 kB)\n",
      "Collecting requests\n",
      "  Using cached requests-2.31.0-py3-none-any.whl (62 kB)\n",
      "Requirement already satisfied: Werkzeug>=2.3.3 in c:\\users\\nxf93270\\repos\\spsdk_1\\venv\\lib\\site-packages (from flask) (2.3.4)\n",
      "Requirement already satisfied: Jinja2>=3.1.2 in c:\\users\\nxf93270\\repos\\spsdk_1\\venv\\lib\\site-packages (from flask) (3.1.2)\n",
      "Requirement already satisfied: itsdangerous>=2.1.2 in c:\\users\\nxf93270\\repos\\spsdk_1\\venv\\lib\\site-packages (from flask) (2.1.2)\n",
      "Requirement already satisfied: click>=8.1.3 in c:\\users\\nxf93270\\repos\\spsdk_1\\venv\\lib\\site-packages (from flask) (8.1.3)\n",
      "Requirement already satisfied: blinker>=1.6.2 in c:\\users\\nxf93270\\repos\\spsdk_1\\venv\\lib\\site-packages (from flask) (1.6.2)\n",
      "Requirement already satisfied: charset-normalizer<4,>=2 in c:\\users\\nxf93270\\repos\\spsdk_1\\venv\\lib\\site-packages (from requests) (3.1.0)\n",
      "Requirement already satisfied: idna<4,>=2.5 in c:\\users\\nxf93270\\repos\\spsdk_1\\venv\\lib\\site-packages (from requests) (3.4)\n",
      "Requirement already satisfied: urllib3<3,>=1.21.1 in c:\\users\\nxf93270\\repos\\spsdk_1\\venv\\lib\\site-packages (from requests) (2.0.2)\n",
      "Requirement already satisfied: certifi>=2017.4.17 in c:\\users\\nxf93270\\repos\\spsdk_1\\venv\\lib\\site-packages (from requests) (2023.5.7)\n",
      "Requirement already satisfied: colorama in c:\\users\\nxf93270\\repos\\spsdk_1\\venv\\lib\\site-packages (from click>=8.1.3->flask) (0.4.6)\n",
      "Requirement already satisfied: MarkupSafe>=2.0 in c:\\users\\nxf93270\\repos\\spsdk_1\\venv\\lib\\site-packages (from Jinja2>=3.1.2->flask) (2.1.3)\n",
      "Installing collected packages: requests, flask\n",
      "Successfully installed flask-2.3.2 requests-2.31.0\n",
      " * Serving Flask app 'hsm.sahsm'\n",
      " * Debug mode: off\n"
     ]
    }
   ],
   "source": [
    "# Install a the required dependencies into the current Jupyter kernel\n",
    "import sys\n",
    "!{sys.executable} -m pip install flask requests\n",
    "\n",
    "# Start remote signing service\n",
    "from hsm.sahsm import APP\n",
    "APP.run()\n",
    "# This will keep running\n"
   ]
  }
 ],
 "metadata": {
  "kernelspec": {
   "display_name": "venv",
   "language": "python",
   "name": "python3"
  },
  "language_info": {
   "codemirror_mode": {
    "name": "ipython",
    "version": 3
   },
   "file_extension": ".py",
   "mimetype": "text/x-python",
   "name": "python",
   "nbconvert_exporter": "python",
   "pygments_lexer": "ipython3",
   "version": "3.10.6"
  },
  "orig_nbformat": 4
 },
 "nbformat": 4,
 "nbformat_minor": 2
}
