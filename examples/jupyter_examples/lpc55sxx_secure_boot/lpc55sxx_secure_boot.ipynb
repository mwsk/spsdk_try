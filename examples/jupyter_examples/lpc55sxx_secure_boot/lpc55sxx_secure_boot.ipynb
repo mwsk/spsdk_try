{
 "cells": [
  {
   "cell_type": "markdown",
   "metadata": {},
   "source": [
    "# LPC55Sxx Secure Boot\n",
    "\n",
    "This notebook describes how to set up a basic secure boot on LPC55Sxx devices using the SPSDK command line utilities, it is based on the application note https://www.nxp.com/docs/en/application-note/AN12283.pdf. \n",
    "\n",
    "### Image preparation\n",
    "First step is to prepare a binary file in BIN or SREC format. Usually the output from the IDE is in ELF (AXF) format. ELF file cannot be used directly, it needs to be converted to plain (BIN) binary. To get the raw binary file you can for example use the arm-none-eabi-objcopy which is part of the armgcc toolchain. In MCUXpresso You can configure it as a post build step, this is better described here: https://mcuoneclipse.com/2017/03/29/mcuxpresso-ide-s-record-intel-hex-and-binary-files/\n",
    "\n",
    "Another option is to use the SPSDK nxpimage tool that can convert ELF file to BIN. "
   ]
  },
  {
   "cell_type": "code",
   "execution_count": 1,
   "metadata": {},
   "outputs": [
    {
     "name": "stdout",
     "output_type": "stream",
     "text": [
      "Created `%!` as an alias for `%execute`.\n",
      "nxpimage -v utils binary-image convert -i lpcxpresso55s69_led_blinky.axf -f BIN workspace/lpcxpresso55s69_led_blinky.bin \n",
      "Success. (Converted file: workspace\\lpcxpresso55s69_led_blinky.bin created.)\n"
     ]
    },
    {
     "name": "stderr",
     "output_type": "stream",
     "text": [
      "WARNING:spsdk.utils.images:Elf file support is experimental. Take that with care. (1494ms since start, images.py:531)\n",
      "INFO:spsdk.apps.nxpimage:\n",
      "+==0x0000_0000= lpcxpresso55s69_led_blinky.axf ==+\n",
      "|                  Size: 8.8 kB                  |\n",
      "|The image loaded from: c:/repos/spsdk_master/exa|\n",
      "|mples/jupyter_examples/lpc55sxx_secure_boot/lpcx|\n",
      "|          presso55s69_led_blinky.axf .          |\n",
      "|+==0x0000_0000= Segment 0 =====================+|\n",
      "||                 Size: 8.8 kB                 ||\n",
      "|+==0x0000_2273=================================+|\n",
      "+==0x0000_2273===================================+\n",
      "\n"
     ]
    }
   ],
   "source": [
    "%alias execute echo %l && %l\n",
    "%alias_magic ! execute\n",
    "\n",
    "import os\n",
    "import pprint\n",
    "\n",
    "pp = pprint.PrettyPrinter(indent=4)\n",
    "\n",
    "WORKSPACE = \"workspace/\" # change this to path to your workspace\n",
    "VERBOSITY = \"-v\" # verbosity of commands, might be -v or -vv for debug or blank for no additional info\n",
    "\n",
    "ELF_PATH = \"lpcxpresso55s69_led_blinky.axf\"\n",
    "BINARY_FILE = WORKSPACE + \"lpcxpresso55s69_led_blinky.bin\"\n",
    "\n",
    "# convert the elf file to bin using nxpimage\n",
    "%! nxpimage $VERBOSITY utils binary-image convert -i $ELF_PATH -f BIN $BINARY_FILE\n",
    "\n",
    "assert os.path.exists(BINARY_FILE)"
   ]
  },
  {
   "cell_type": "markdown",
   "metadata": {},
   "source": [
    "### MBI preparation\n",
    "\n",
    "We used the *nxpimage* tool for image conversion. *Nxpimage* tool is a successor to an elftosb tool.\n",
    "Plain binary file can be used directly for the unsecure boot. To setup a secure boot we need to generate Master Boot Image (MBI). MBI can also be used directly or as an output to Secure Binary container in addition to raw binary it might contain CRC checksum, certificates and ARM TrustZone configuration.\n",
    "\n",
    "There are three types of MBI for LP55sxx based on the authentication type: Plain, CRC and Signed and two variants of CRC and Signed images based on the execution target, either XIP (Executed in place) or in RAM.\n",
    "\n",
    "![Plain Image](img/plain_image.png \"Plain Image\")\n",
    "\n",
    "![CRC Unsigned Image](img/crc_image.png \"CRC Unsigned Image\")\n",
    "\n",
    "These images contain a CRC32 field computed on the entire image (excluding the CRC32 field).\n",
    "\n",
    "![Signed Image](img/signed_image.png \"Signed Image\")\n",
    "\n",
    "LPC55Sxx devices support booting of RSA2048 signed images using RSASSA-PKCS1-v1_5 signature verification. LPC55Sxx devices support 2048-bit or 4096-bit RSA keys and X.509 V3 certificates.\n",
    "Image validation is a two-step process. The first step is the validation of the X.509 certificate inserted in the image. This contains the image public key used in the second step to validate the entire image (including the certificate) to allow customers to add additional PKI structure.\n",
    "The signed image boot supports up to 4 Root of Trust (RoT) keys and up to 16 Image key certificates with image revocation feature.\n",
    "\n",
    "Generation of MBI is done with the *nxpimage* tool. First, we need to get the configuration template that will be used as a starting point\n"
   ]
  },
  {
   "cell_type": "code",
   "execution_count": 2,
   "metadata": {},
   "outputs": [
    {
     "name": "stdout",
     "output_type": "stream",
     "text": [
      "nxpimage -v mbi get-templates -f lpc55s6x workspace/templates \n",
      "Creating c:\\repos\\spsdk_master\\examples\\jupyter_examples\\lpc55sxx_secure_boot\\workspace\\templates\\lpc55s6x_int_xip_plain.yaml template file.\n",
      "Creating c:\\repos\\spsdk_master\\examples\\jupyter_examples\\lpc55sxx_secure_boot\\workspace\\templates\\lpc55s6x_int_xip_crc.yaml template file.\n",
      "Creating c:\\repos\\spsdk_master\\examples\\jupyter_examples\\lpc55sxx_secure_boot\\workspace\\templates\\lpc55s6x_int_xip_signed.yaml template file.\n",
      "Creating c:\\repos\\spsdk_master\\examples\\jupyter_examples\\lpc55sxx_secure_boot\\workspace\\templates\\lpc55s6x_ram_crc.yaml template file.\n",
      "Creating c:\\repos\\spsdk_master\\examples\\jupyter_examples\\lpc55sxx_secure_boot\\workspace\\templates\\lpc55s6x_ram_signed.yaml template file.\n"
     ]
    }
   ],
   "source": [
    "# generate template for mbi\n",
    "TEMPLATES_PATH = WORKSPACE + \"templates\"\n",
    "# choose family for the MCU\n",
    "FAMILY = \"lpc55s6x\"\n",
    "\n",
    "%! nxpimage $VERBOSITY mbi get-templates -f $FAMILY $TEMPLATES_PATH\n",
    "# just for verification that the template was generated\n",
    "assert os.path.exists(os.path.join(TEMPLATES_PATH, \"lpc55s6x_int_xip_signed.yaml\"))"
   ]
  },
  {
   "cell_type": "markdown",
   "metadata": {},
   "source": [
    "Now open the lpc55s6x_int_xip_signed.yml with your favorite text editor. You should see a similar file to this:\n",
    "\n",
    "```yaml\n",
    "# ===========  Master Boot Image Configuration template for lpc55s6x, Plain Signed XIP Image.  ===========\n",
    "# ----------------------------------------------------------------------------------------------------\n",
    "#                                         == Basic Settings ==                                        \n",
    "# ----------------------------------------------------------------------------------------------------\n",
    "family: lpc55s6x  # [Required], MCU family, MCU family name., Possible options:['lpc552x', 'lpc551x', 'lpc55xx', 'lpc55s6x', 'lpc550x', 'lpc55s2x']\n",
    "outputImageExecutionTarget: Internal flash (XIP) # [Required], Application target, Definition if application is Execute in Place(XiP) or loaded to RAM during reset sequence., Possible options:['Internal flash (XIP)', 'External flash (XIP)', 'Internal Flash (XIP)', 'External Flash (XIP)', 'RAM', 'ram', 'xip']\n",
    "outputImageAuthenticationType: Signed # [Required], Type of boot image authentication, Specification of final master boot image authentication., Possible options:['Plain', 'CRC', 'Signed', 'Encrypted + Signed', 'encrypted', 'signed', 'crc']\n",
    "masterBootOutputFile: my_mbi.bin # [Required], Master Boot Image name, The file for Master Boot Image result file.\n",
    "inputImageFile: my_application.bin # [Required], Plain application image, The input application image to by modified to Master Boot Image.\n",
    "# ----------------------------------------------------------------------------------------------------\n",
    "#                                      == Trust Zone Settings ==                                      \n",
    "# ----------------------------------------------------------------------------------------------------\n",
    "enableTrustZone: false # [Optional], TrustZone enable option, If not specified, the Trust zone is disabled.\n",
    "trustZonePresetFile: my_tz_custom.yaml # [Optional], TrustZone Customization file, If not specified, but TrustZone is enabled(enableTrustZone) the default values are used.\n",
    "# ----------------------------------------------------------------------------------------------------\n",
    "#                                    == Certificate V2 Settings ==                                    \n",
    "# ----------------------------------------------------------------------------------------------------\n",
    "mainCertPrivateKeyFile: my_prv_key.pem # [Optional], Main Certificate private key, Main Certificate private key used to sign certificate\n",
    "imageBuildNumber: 0 # [Optional], Image Build Number, If it's omitted, it will be used 0 as default value.\n",
    "chainCertificate0File0: chain_certificate0_depth0.pem # [Optional], Chain certificate 0 for root 0, Chain certificate 0 for root certificate 0\n",
    "chainCertificate0File1: chain_certificate0_depth1.pem # [Optional], Chain certificate 1 for root 0, Chain certificate 1 for root certificate 0\n",
    "chainCertificate0File2: chain_certificate0_depth2.pem # [Optional], Chain certificate 2 for root 0, Chain certificate 2 for root certificate 0\n",
    "chainCertificate0File3: chain_certificate0_depth3.pem # [Optional], Chain certificate 3 for root 0, Chain certificate 3 for root certificate 0\n",
    "chainCertificate1File0: chain_certificate1_depth0.pem # [Optional], Chain certificate 0 for root 1, Chain certificate 0 for root certificate 1\n",
    "chainCertificate1File1: chain_certificate1_depth1.pem # [Optional], Chain certificate 1 for root 1, Chain certificate 1 for root certificate 1\n",
    "chainCertificate1File2: chain_certificate1_depth2.pem # [Optional], Chain certificate 2 for root 1, Chain certificate 2 for root certificate 1\n",
    "chainCertificate1File3: chain_certificate1_depth3.pem # [Optional], Chain certificate 3 for root 1, Chain certificate 3 for root certificate 1\n",
    "chainCertificate2File0: chain_certificate2_depth0.pem # [Optional], Chain certificate 0 for root 2, Chain certificate 0 for root certificate 2\n",
    "chainCertificate2File1: chain_certificate2_depth1.pem # [Optional], Chain certificate 1 for root 2, Chain certificate 1 for root certificate 2\n",
    "chainCertificate2File2: chain_certificate2_depth2.pem # [Optional], Chain certificate 2 for root 2, Chain certificate 2 for root certificate 2\n",
    "chainCertificate2File3: chain_certificate2_depth3.pem # [Optional], Chain certificate 3 for root 2, Chain certificate 3 for root certificate 2\n",
    "chainCertificate3File0: chain_certificate3_depth0.pem # [Optional], Chain certificate 0 for root 3, Chain certificate 0 for root certificate 3\n",
    "chainCertificate3File1: chain_certificate3_depth1.pem # [Optional], Chain certificate 1 for root 3, Chain certificate 1 for root certificate 3\n",
    "chainCertificate3File2: chain_certificate3_depth2.pem # [Optional], Chain certificate 2 for root 3, Chain certificate 2 for root certificate 3\n",
    "chainCertificate3File3: chain_certificate3_depth3.pem # [Optional], Chain certificate 3 for root 3, Chain certificate 3 for root certificate 3\n",
    "mainCertChainId: 0 # [Optional], Main Certificate Chain Index, Index of chain certificate that is used as a main.\n",
    "# ----------------------------------------------------------------------------------------------------\n",
    "#                                      == Certificate Settings ==                                     \n",
    "# ----------------------------------------------------------------------------------------------------\n",
    "rootCertificate0File: my_certificate0.pem # [Required], Root Certificate File 0, Root certificate file index 0.\n",
    "rootCertificate1File: my_certificate1.pem # [Optional], Root Certificate File 1, Root certificate file index 1.\n",
    "rootCertificate2File: my_certificate2.pem # [Optional], Root Certificate File 2, Root certificate file index 2.\n",
    "rootCertificate3File: my_certificate3.pem # [Optional], Root Certificate File 3, Root certificate file index 3.\n",
    "mainRootCertId: 0 # [Optional], Main Certificate Index, Index of certificate that is used as a main.\n",
    "\n",
    "```\n",
    "Required fields are marked with [Required] in the comment. We have to change path to masterBootOutputFile that will contain our resulting MBI and inputImageFile which is source image. \n",
    "In this example we won't enable TrustZone. However, we need to set certificates, for our example we set one root certificate and one chain certificate.\n",
    "\n",
    "```yaml\n",
    "# ===========  Master Boot Image Configuration template for lpc55s6x, Plain Signed XIP Image.  ===========\n",
    "# ----------------------------------------------------------------------------------------------------\n",
    "#                                         == Basic Settings ==                                        \n",
    "# ----------------------------------------------------------------------------------------------------\n",
    "family: lpc55s6x  # [Required], MCU family, MCU family name., Possible options:['lpc552x', 'lpc551x', 'lpc55xx', 'lpc55s6x', 'lpc550x', 'lpc55s2x']\n",
    "outputImageExecutionTarget: Internal flash (XIP) # [Required], Application target, Definition if application is Execute in Place(XiP) or loaded to RAM during reset sequence., Possible options:['Internal flash (XIP)', 'External flash (XIP)', 'Internal Flash (XIP)', 'External Flash (XIP)', 'RAM', 'ram', 'xip']\n",
    "outputImageAuthenticationType: Signed # [Required], Type of boot image authentication, Specification of final master boot image authentication., Possible options:['Plain', 'CRC', 'Signed', 'Encrypted + Signed', 'encrypted', 'signed', 'crc']\n",
    "masterBootOutputFile: my_mbi.bin # [Required], Master Boot Image name, The file for Master Boot Image result file.\n",
    "inputImageFile: my_application.bin # [Required], Plain application image, The input application image to by modified to Master Boot Image.\n",
    "# ----------------------------------------------------------------------------------------------------\n",
    "#                                    == Certificate V2 Settings ==                                    \n",
    "# ----------------------------------------------------------------------------------------------------\n",
    "mainCertPrivateKeyFile: my_prv_key.pem # [Optional], Main Certificate private key, Main Certificate private key used to sign certificate\n",
    "chainCertificate0File0: chain_certificate0_depth0.pem # [Optional], Chain certificate 0 for root 0, Chain certificate 0 for root certificate 0\n",
    "mainCertChainId: 0 # [Optional], Main Certificate Chain Index, Index of chain certificate that is used as a main.\n",
    "# ----------------------------------------------------------------------------------------------------\n",
    "#                                      == Certificate Settings ==                                     \n",
    "# ----------------------------------------------------------------------------------------------------\n",
    "rootCertificate0File: my_certificate0.pem # [Required], Root Certificate File 0, Root certificate file index 0.\n",
    "mainRootCertId: 0 # [Optional], Main Certificate Index, Index of certificate that is used as a main.\n",
    "\n",
    "```"
   ]
  },
  {
   "cell_type": "markdown",
   "metadata": {},
   "source": [
    "### Keys preparation\n",
    "\n",
    "First we need to generate private key that will be used to sign certificates. We can use *nxpcrypto* app for this purpose. We need to create RSA 2048 keys (NXP Protocol version 1.0) or RSA4096.\n"
   ]
  },
  {
   "cell_type": "code",
   "execution_count": 3,
   "metadata": {},
   "outputs": [
    {
     "name": "stdout",
     "output_type": "stream",
     "text": [
      "nxpcrypto -v key generate -k rsa2048 workspace/rsa2048_key.pem --force \n",
      "The key pair has been created: C:\\repos\\spsdk_master\\examples\\jupyter_examples\\lpc55sxx_secure_boot\\workspace\\rsa2048_key.pub, C:\\repos\\spsdk_master\\examples\\jupyter_examples\\lpc55sxx_secure_boot\\workspace\\rsa2048_key.pem\n"
     ]
    },
    {
     "name": "stderr",
     "output_type": "stream",
     "text": [
      "INFO:spsdk.apps.nxpkeygen:Generating RSA private key...\n",
      "INFO:spsdk.apps.nxpkeygen:Generating RSA corresponding public key...\n",
      "INFO:spsdk.apps.nxpkeygen:Saving RSA key pair...\n"
     ]
    }
   ],
   "source": [
    "# generate RSA 2048 public and private key\n",
    "PRIVATE_KEY_PATH = WORKSPACE + \"rsa2048_key.pem\"\n",
    "PUBLIC_KEY_PATH = WORKSPACE + \"rsa2048_key.pub\"\n",
    "\n",
    "%! nxpcrypto $VERBOSITY key generate -k rsa2048 $PRIVATE_KEY_PATH --force\n",
    "\n",
    "# verify that keys were generated\n",
    "assert os.path.exists(PRIVATE_KEY_PATH)\n",
    "assert os.path.exists(PUBLIC_KEY_PATH)"
   ]
  },
  {
   "cell_type": "markdown",
   "metadata": {},
   "source": [
    "### Certificates preparation\n",
    "\n",
    "Then we need to create certificates. As we already mentioned we will create one root certificate and one chain certificate. We will again use *nxpcrypto* app. First we need to get template."
   ]
  },
  {
   "cell_type": "code",
   "execution_count": 4,
   "metadata": {},
   "outputs": [
    {
     "name": "stdout",
     "output_type": "stream",
     "text": [
      "nxpcrypto -v cert get-template workspace/root_cert_template.yml --force \n",
      "The configuration template file has been created: C:\\repos\\spsdk_master\\examples\\jupyter_examples\\lpc55sxx_secure_boot\\workspace\\root_cert_template.yml\n"
     ]
    },
    {
     "name": "stderr",
     "output_type": "stream",
     "text": [
      "INFO:spsdk.apps.nxpcertgen:Creating Certificate template...\n"
     ]
    },
    {
     "name": "stdout",
     "output_type": "stream",
     "text": [
      "nxpcrypto -v cert get-template workspace/chain_cert_template.yml --force \n",
      "The configuration template file has been created: C:\\repos\\spsdk_master\\examples\\jupyter_examples\\lpc55sxx_secure_boot\\workspace\\chain_cert_template.yml\n"
     ]
    },
    {
     "name": "stderr",
     "output_type": "stream",
     "text": [
      "INFO:spsdk.apps.nxpcertgen:Creating Certificate template...\n"
     ]
    }
   ],
   "source": [
    "# obtain a template for root cert\n",
    "ROOT_CERT_CONFIG_PATH = WORKSPACE + \"root_cert_template.yml\"\n",
    "%! nxpcrypto $VERBOSITY cert get-template $ROOT_CERT_CONFIG_PATH --force\n",
    "\n",
    "# obtain a template for root cert\n",
    "CHAIN_CERT_CONFIG_PATH = WORKSPACE + \"chain_cert_template.yml\"\n",
    "%! nxpcrypto $VERBOSITY cert get-template $CHAIN_CERT_CONFIG_PATH --force\n"
   ]
  },
  {
   "cell_type": "markdown",
   "metadata": {},
   "source": [
    "Configuration template for certificates should look like this:\n",
    "```yaml\n",
    "# This is template for configuration file used for generating certificates\n",
    "\n",
    "# ==============================================\n",
    "# Issuer identification fields\n",
    "# ==============================================\n",
    "# All available option can be found within class NameOID in\n",
    "# cryptography/src/cryptography/x509/oid.py at https://github.com/pyca/cryptography\n",
    "\n",
    "issuer:\n",
    "  COMMON_NAME: NXP\n",
    "  COUNTRY_NAME: CZ\n",
    "  LOCALITY_NAME: Roznov pod Radhostem\n",
    "  STATE_OR_PROVINCE_NAME: Morava\n",
    "  STREET_ADDRESS: 1.maje 1009\n",
    "  ORGANIZATION_NAME: SPSDK Team\n",
    "\n",
    "# ==============================================\n",
    "# Subject identification fields\n",
    "# ==============================================\n",
    "# All available option can be found within class NameOID in\n",
    "# cryptography/src/cryptography/x509/oid.py at https://github.com/pyca/cryptography\n",
    "subject:\n",
    "  COMMON_NAME: NXP - SPSDK\n",
    "  COUNTRY_NAME: CZ\n",
    "  LOCALITY_NAME: Roznov pod Radhostem\n",
    "  STATE_OR_PROVINCE_NAME: Morava\n",
    "  STREET_ADDRESS: 1.maje 1009\n",
    "  ORGANIZATION_NAME: SPSDK Team\n",
    "  POSTAL_CODE: 756 61\n",
    "\n",
    "# ==============================================\n",
    "# The certificate settings\n",
    "# ==============================================\n",
    "\n",
    "# Path, where issuer private key is stored\n",
    "issuer_private_key: issuer_key.pem\n",
    "# Path, where subject public key is stored\n",
    "subject_public_key: subject_key.pub\n",
    "# Serial number of certificate\n",
    "serial_number: 12346578\n",
    "# Validity duration in days\n",
    "duration: 3650\n",
    "\n",
    "# ==============================================\n",
    "# Certificate basic extensions\n",
    "# ==============================================\n",
    "extensions:\n",
    "  BASIC_CONSTRAINTS:\n",
    "    # Delegate certificate as a signing authority to create an intermediate certificates.\n",
    "    ca: false  # Valid values true|false\n",
    "    # Integer length of the path of certificate signature from a given certificate, back to the root certificate\n",
    "    path_length: 0\n",
    "```\n",
    "Certificates are in x.509 format and should be DER encoded. Root certificates must have *ca* (Certificate authority) set to true and must be self-signed. That means that issuer must be same as a subject."
   ]
  },
  {
   "cell_type": "code",
   "execution_count": 5,
   "metadata": {},
   "outputs": [
    {
     "name": "stdout",
     "output_type": "stream",
     "text": [
      "Root Certificate config:\n",
      "{   'duration': 3650,\n",
      "    'extensions': {'BASIC_CONSTRAINTS': {'ca': True, 'path_length': 0}},\n",
      "    'issuer': {   'COMMON_NAME': 'NXP',\n",
      "                  'COUNTRY_NAME': 'CZ',\n",
      "                  'LOCALITY_NAME': 'Roznov pod Radhostem',\n",
      "                  'ORGANIZATION_NAME': 'SPSDK Team',\n",
      "                  'STATE_OR_PROVINCE_NAME': 'Morava',\n",
      "                  'STREET_ADDRESS': '1.maje 1009'},\n",
      "    'issuer_private_key': 'workspace/rsa2048_key.pem',\n",
      "    'serial_number': 12346578,\n",
      "    'subject': {   'COMMON_NAME': 'NXP',\n",
      "                   'COUNTRY_NAME': 'CZ',\n",
      "                   'LOCALITY_NAME': 'Roznov pod Radhostem',\n",
      "                   'ORGANIZATION_NAME': 'SPSDK Team',\n",
      "                   'STATE_OR_PROVINCE_NAME': 'Morava',\n",
      "                   'STREET_ADDRESS': '1.maje 1009'},\n",
      "    'subject_public_key': 'workspace/rsa2048_key.pub'}\n",
      "Chain certificate config:\n",
      "{   'duration': 3650,\n",
      "    'extensions': {'BASIC_CONSTRAINTS': {'ca': False, 'path_length': 0}},\n",
      "    'issuer': {   'COMMON_NAME': 'NXP',\n",
      "                  'COUNTRY_NAME': 'CZ',\n",
      "                  'LOCALITY_NAME': 'Roznov pod Radhostem',\n",
      "                  'ORGANIZATION_NAME': 'SPSDK Team',\n",
      "                  'STATE_OR_PROVINCE_NAME': 'Morava',\n",
      "                  'STREET_ADDRESS': '1.maje 1009'},\n",
      "    'issuer_private_key': 'workspace/rsa2048_key.pem',\n",
      "    'serial_number': 12346578,\n",
      "    'subject': {   'COMMON_NAME': 'NXP - SPSDK',\n",
      "                   'COUNTRY_NAME': 'CZ',\n",
      "                   'LOCALITY_NAME': 'Roznov pod Radhostem',\n",
      "                   'ORGANIZATION_NAME': 'SPSDK Team',\n",
      "                   'POSTAL_CODE': '756 61',\n",
      "                   'STATE_OR_PROVINCE_NAME': 'Morava',\n",
      "                   'STREET_ADDRESS': '1.maje 1009'},\n",
      "    'subject_public_key': 'workspace/rsa2048_key.pub'}\n",
      "nxpcrypto -v cert generate -c workspace/root_cert_template.yml -e DER -o workspace/ROT1_sha256_2048_65537_v3_ca_crt.der --force \n",
      "The certificate file has been created: C:\\repos\\spsdk_master\\examples\\jupyter_examples\\lpc55sxx_secure_boot\\workspace\\ROT1_sha256_2048_65537_v3_ca_crt.der\n"
     ]
    },
    {
     "name": "stderr",
     "output_type": "stream",
     "text": [
      "INFO:spsdk.apps.nxpcertgen:Generating Certificate...\n",
      "INFO:spsdk.apps.nxpcertgen:Loading configuration from yml file...\n",
      "INFO:spsdk.apps.nxpcertgen:Saving the generated certificate to the specified path...\n",
      "INFO:spsdk.apps.nxpcertgen:Certificate generated successfully...\n"
     ]
    },
    {
     "name": "stdout",
     "output_type": "stream",
     "text": [
      "nxpcrypto -v cert generate -c workspace/chain_cert_template.yml -e DER -o workspace/IMG1_1_sha256_2048_65537_v3_usr_key.pem --force \n",
      "The certificate file has been created: C:\\repos\\spsdk_master\\examples\\jupyter_examples\\lpc55sxx_secure_boot\\workspace\\IMG1_1_sha256_2048_65537_v3_usr_key.pem\n"
     ]
    },
    {
     "name": "stderr",
     "output_type": "stream",
     "text": [
      "INFO:spsdk.apps.nxpcertgen:Generating Certificate...\n",
      "INFO:spsdk.apps.nxpcertgen:Loading configuration from yml file...\n",
      "INFO:spsdk.apps.nxpcertgen:Saving the generated certificate to the specified path...\n",
      "INFO:spsdk.apps.nxpcertgen:Certificate generated successfully...\n"
     ]
    }
   ],
   "source": [
    "ROOT_0_CERT_PATH = WORKSPACE + \"ROT1_sha256_2048_65537_v3_ca_crt.der\"\n",
    "CHAIN_CERT_0 = WORKSPACE + \"IMG1_1_sha256_2048_65537_v3_usr_key.pem\"\n",
    "\n",
    "import yaml\n",
    "\n",
    "assert os.path.exists(ROOT_CERT_CONFIG_PATH)\n",
    "assert os.path.exists(CHAIN_CERT_CONFIG_PATH)\n",
    "\n",
    "# Create configuration for root certificate\n",
    "with open(ROOT_CERT_CONFIG_PATH) as cert_config:\n",
    "    # load yaml configuration to dictionary\n",
    "    cert = yaml.safe_load(cert_config)\n",
    "    # make certificate self-signed\n",
    "    cert['subject'] = cert['issuer'] \n",
    "    # change certificate authority to True\n",
    "    cert['extensions']['BASIC_CONSTRAINTS']['ca'] = True\n",
    "    # change path to private and public keys\n",
    "    cert['issuer_private_key'] = PRIVATE_KEY_PATH\n",
    "    cert['subject_public_key'] = PUBLIC_KEY_PATH\n",
    "\n",
    "with open(ROOT_CERT_CONFIG_PATH, \"w+\") as cert_config:\n",
    "    print(\"Root Certificate config:\")\n",
    "    pp.pprint(cert)\n",
    "    # dump the dictionary back to YAML\n",
    "    yaml.dump(cert, cert_config)\n",
    "\n",
    "# Create configuration for chain certificate\n",
    "with open(CHAIN_CERT_CONFIG_PATH) as cert_config:\n",
    "    # load yaml configuration to dictionary\n",
    "    cert = yaml.safe_load(cert_config)\n",
    "    # change certificate authority to False\n",
    "    cert['extensions']['BASIC_CONSTRAINTS']['ca'] = False\n",
    "    # change path to private and public keys\n",
    "    cert['issuer_private_key'] = PRIVATE_KEY_PATH\n",
    "    cert['subject_public_key'] = PUBLIC_KEY_PATH\n",
    "\n",
    "with open(CHAIN_CERT_CONFIG_PATH, \"w+\") as cert_config:\n",
    "    print(\"Chain certificate config:\")\n",
    "    pp.pprint(cert)\n",
    "    # dump the dictionary back to YAML\n",
    "    yaml.dump(cert, cert_config)\n",
    "    \n",
    "# Generate root certificate\n",
    "%! nxpcrypto $VERBOSITY cert generate -c $ROOT_CERT_CONFIG_PATH -e DER -o $ROOT_0_CERT_PATH --force\n",
    "# Generate chain certificate\n",
    "%! nxpcrypto $VERBOSITY cert generate -c $CHAIN_CERT_CONFIG_PATH -e DER -o $CHAIN_CERT_0 --force\n",
    "\n",
    "# verify that certificates were generated\n",
    "assert os.path.exists(ROOT_0_CERT_PATH)\n",
    "assert os.path.exists(CHAIN_CERT_0)\n"
   ]
  },
  {
   "cell_type": "markdown",
   "metadata": {},
   "source": [
    "### MBI generation\n",
    "\n",
    "We have created certificates and keys required for the creation of Master Boot Image. So now it's time to create a MBI."
   ]
  },
  {
   "cell_type": "code",
   "execution_count": 6,
   "metadata": {},
   "outputs": [
    {
     "name": "stdout",
     "output_type": "stream",
     "text": [
      "nxpimage -v mbi export workspace/mbi_config_lpc55s6x.yml \n",
      "Success. (Master Boot Image: c:/repos/spsdk_master/examples/jupyter_examples/lpc55sxx_secure_boot/workspace/lpc55s6x_mbi.bin created.)\n"
     ]
    },
    {
     "name": "stderr",
     "output_type": "stream",
     "text": [
      "INFO:spsdk.image.mbi_mixin:RKTH: 59e0079da0c53fefbd4a28f2cc7066b8a3921ad9c3e4661dd4cf7ebf6ed13f02\n"
     ]
    }
   ],
   "source": [
    "MBI_BIN_NAME = \"lpc55s6x_mbi.bin\"\n",
    "MBI_CONFIG_PATH = WORKSPACE + \"mbi_config_lpc55s6x.yml\"\n",
    "\n",
    "\n",
    "mbi_config = f\"\"\"# ===========  Master Boot Image Configuration template for lpc55s6x, Plain Signed XIP Image.  ===========\n",
    "# ----------------------------------------------------------------------------------------------------\n",
    "#                                         == Basic Settings ==                                        \n",
    "# ----------------------------------------------------------------------------------------------------\n",
    "family: {FAMILY}  # [Required], MCU family, MCU family name., Possible options:['lpc552x', 'lpc551x', 'lpc55xx', 'lpc55s6x', 'lpc550x', 'lpc55s2x']\n",
    "outputImageExecutionTarget: Internal flash (XIP) # [Required], Application target, Definition if application is Execute in Place(XiP) or loaded to RAM during reset sequence., Possible options:['Internal flash (XIP)', 'External flash (XIP)', 'Internal Flash (XIP)', 'External Flash (XIP)', 'RAM', 'ram', 'xip']\n",
    "outputImageAuthenticationType: Signed # [Required], Type of boot image authentication, Specification of final master boot image authentication., Possible options:['Plain', 'CRC', 'Signed', 'Encrypted + Signed', 'encrypted', 'signed', 'crc']\n",
    "masterBootOutputFile: {MBI_BIN_NAME} # [Required], Master Boot Image name, The file for Master Boot Image result file.\n",
    "inputImageFile: {BINARY_FILE} # [Required], Plain application image, The input application image to by modified to Master Boot Image.\n",
    "# ----------------------------------------------------------------------------------------------------\n",
    "#                                    == Certificate V2 Settings ==                                    \n",
    "# ----------------------------------------------------------------------------------------------------\n",
    "mainCertPrivateKeyFile: {PRIVATE_KEY_PATH} # [Optional], Main Certificate private key, Main Certificate private key used to sign certificate\n",
    "chainCertificate0File0: {CHAIN_CERT_0} # [Optional], Chain certificate 0 for root 0, Chain certificate 0 for root certificate 0\n",
    "mainCertChainId: 0 # [Optional], Main Certificate Chain Index, Index of chain certificate that is used as a main.\n",
    "# ----------------------------------------------------------------------------------------------------\n",
    "#                                      == Certificate Settings ==                                     \n",
    "# ----------------------------------------------------------------------------------------------------\n",
    "rootCertificate0File: {ROOT_0_CERT_PATH} # [Required], Root Certificate File 0, Root certificate file index 0.\n",
    "mainRootCertId: 0 # [Optional], Main Certificate Index, Index of certificate that is used as a main.\"\"\"\n",
    "\n",
    "# write configuration tp file\n",
    "with open(MBI_CONFIG_PATH, \"w+\") as mbi_file:\n",
    "    mbi_file.write(mbi_config)\n",
    "    \n",
    "assert os.path.exists(MBI_CONFIG_PATH)\n",
    "\n",
    "# export Master Boot Image\n",
    "%! nxpimage $VERBOSITY mbi export $MBI_CONFIG_PATH\n",
    "\n",
    "BIN_OUTPUT_PATH = WORKSPACE + MBI_BIN_NAME\n",
    "assert os.path.exists(BIN_OUTPUT_PATH)\n"
   ]
  },
  {
   "cell_type": "markdown",
   "metadata": {},
   "source": [
    "Now we have a bootable MBI that we could test, but in order to do that we have to configure PFR.\n",
    "\n",
    "### PFR\n",
    "PFR - Protected Flash Region. LPC55Sxx contains configuration for the boot ROM in flash region which is protected. This protected region contains settings of boot configuration, security policy, PRINCE settings and so on.\n",
    "\n",
    "Protected Flash Region with four regions:\n",
    "1. Customer in-field Programming Area (CFPA)\n",
    "  - Image revoke\n",
    "  - RoT key revoke\n",
    "2. Customer Manufacturing Programming Area (CMPA)\n",
    "  - Boot configuration\n",
    "  - RoT key table hash\n",
    "  - Debug configuration \n",
    "  - Prince configuration\n",
    "3. Key Storage for PUF\n",
    "4. NXP unique ID and manufacturing system\n",
    "\n",
    "![PFR](img/pfr.png \"PFR\")\n",
    "\n",
    "For PFR configuration there's tool *PFR*. Let's prepare PFR configuration for CFPA and CMPA pages."
   ]
  },
  {
   "cell_type": "code",
   "execution_count": 7,
   "metadata": {},
   "outputs": [
    {
     "name": "stdout",
     "output_type": "stream",
     "text": [
      "pfr get-template -t cmpa -d lpc55s6x -o workspace/cmpa_lpc55s6x.yml \n",
      "PFR cmpa configuration template has been created.\n",
      "Result has been stored in: C:\\repos\\spsdk_master\\examples\\jupyter_examples\\lpc55sxx_secure_boot\\workspace\\cmpa_lpc55s6x.yml\n",
      "pfr get-template -t cfpa -d lpc55s6x -o workspace/cfpa_lpc55s6x.yml \n",
      "PFR cfpa configuration template has been created.\n",
      "Result has been stored in: C:\\repos\\spsdk_master\\examples\\jupyter_examples\\lpc55sxx_secure_boot\\workspace\\cfpa_lpc55s6x.yml\n"
     ]
    }
   ],
   "source": [
    "\n",
    "CMPA_TEMPLATE_PATH = WORKSPACE + \"cmpa_lpc55s6x.yml\"\n",
    "CFPA_TEMPLATE_PATH = WORKSPACE + \"cfpa_lpc55s6x.yml\"\n",
    "\n",
    "# get CMPA template\n",
    "%! pfr get-template -t cmpa -d $FAMILY -o $CMPA_TEMPLATE_PATH\n",
    "\n",
    "# get CFPA template\n",
    "%! pfr get-template -t cfpa -d $FAMILY -o $CFPA_TEMPLATE_PATH"
   ]
  },
  {
   "cell_type": "markdown",
   "metadata": {},
   "source": [
    "### CMPA page preparation\n"
   ]
  },
  {
   "cell_type": "code",
   "execution_count": 8,
   "metadata": {},
   "outputs": [
    {
     "name": "stdout",
     "output_type": "stream",
     "text": [
      "CMPA config:\n",
      "{   'description': {   'device': 'lpc55s6x',\n",
      "                       'revision': '1b',\n",
      "                       'type': 'CMPA',\n",
      "                       'version': '1.9.1+sp.ear1'},\n",
      "    'settings': {   'BOOT_CFG': {   'bitfields': {   'BOOT_FAILURE_PIN': '0x00',\n",
      "                                                     'BOOT_SPEED': 'SYSTEM_SPEED_CODE',\n",
      "                                                     'DEFAULT_ISP_MODE': 'AUTO_ISP',\n",
      "                                                     'USB_SPEED': 'USB_SPEED_0'}},\n",
      "                    'CUSTOMER_DEFINED0': {'value': '0x00000000'},\n",
      "                    'CUSTOMER_DEFINED1': {'value': '0x00000000'},\n",
      "                    'CUSTOMER_DEFINED10': {'value': '0x00000000'},\n",
      "                    'CUSTOMER_DEFINED11': {'value': '0x00000000'},\n",
      "                    'CUSTOMER_DEFINED12': {'value': '0x00000000'},\n",
      "                    'CUSTOMER_DEFINED13': {'value': '0x00000000'},\n",
      "                    'CUSTOMER_DEFINED14': {'value': '0x00000000'},\n",
      "                    'CUSTOMER_DEFINED15': {'value': '0x00000000'},\n",
      "                    'CUSTOMER_DEFINED16': {'value': '0x00000000'},\n",
      "                    'CUSTOMER_DEFINED17': {'value': '0x00000000'},\n",
      "                    'CUSTOMER_DEFINED18': {'value': '0x00000000'},\n",
      "                    'CUSTOMER_DEFINED19': {'value': '0x00000000'},\n",
      "                    'CUSTOMER_DEFINED2': {'value': '0x00000000'},\n",
      "                    'CUSTOMER_DEFINED20': {'value': '0x00000000'},\n",
      "                    'CUSTOMER_DEFINED21': {'value': '0x00000000'},\n",
      "                    'CUSTOMER_DEFINED22': {'value': '0x00000000'},\n",
      "                    'CUSTOMER_DEFINED23': {'value': '0x00000000'},\n",
      "                    'CUSTOMER_DEFINED24': {'value': '0x00000000'},\n",
      "                    'CUSTOMER_DEFINED25': {'value': '0x00000000'},\n",
      "                    'CUSTOMER_DEFINED26': {'value': '0x00000000'},\n",
      "                    'CUSTOMER_DEFINED27': {'value': '0x00000000'},\n",
      "                    'CUSTOMER_DEFINED28': {'value': '0x00000000'},\n",
      "                    'CUSTOMER_DEFINED29': {'value': '0x00000000'},\n",
      "                    'CUSTOMER_DEFINED3': {'value': '0x00000000'},\n",
      "                    'CUSTOMER_DEFINED30': {'value': '0x00000000'},\n",
      "                    'CUSTOMER_DEFINED31': {'value': '0x00000000'},\n",
      "                    'CUSTOMER_DEFINED32': {'value': '0x00000000'},\n",
      "                    'CUSTOMER_DEFINED33': {'value': '0x00000000'},\n",
      "                    'CUSTOMER_DEFINED34': {'value': '0x00000000'},\n",
      "                    'CUSTOMER_DEFINED35': {'value': '0x00000000'},\n",
      "                    'CUSTOMER_DEFINED36': {'value': '0x00000000'},\n",
      "                    'CUSTOMER_DEFINED37': {'value': '0x00000000'},\n",
      "                    'CUSTOMER_DEFINED38': {'value': '0x00000000'},\n",
      "                    'CUSTOMER_DEFINED39': {'value': '0x00000000'},\n",
      "                    'CUSTOMER_DEFINED4': {'value': '0x00000000'},\n",
      "                    'CUSTOMER_DEFINED40': {'value': '0x00000000'},\n",
      "                    'CUSTOMER_DEFINED41': {'value': '0x00000000'},\n",
      "                    'CUSTOMER_DEFINED42': {'value': '0x00000000'},\n",
      "                    'CUSTOMER_DEFINED43': {'value': '0x00000000'},\n",
      "                    'CUSTOMER_DEFINED44': {'value': '0x00000000'},\n",
      "                    'CUSTOMER_DEFINED45': {'value': '0x00000000'},\n",
      "                    'CUSTOMER_DEFINED46': {'value': '0x00000000'},\n",
      "                    'CUSTOMER_DEFINED47': {'value': '0x00000000'},\n",
      "                    'CUSTOMER_DEFINED48': {'value': '0x00000000'},\n",
      "                    'CUSTOMER_DEFINED49': {'value': '0x00000000'},\n",
      "                    'CUSTOMER_DEFINED5': {'value': '0x00000000'},\n",
      "                    'CUSTOMER_DEFINED50': {'value': '0x00000000'},\n",
      "                    'CUSTOMER_DEFINED51': {'value': '0x00000000'},\n",
      "                    'CUSTOMER_DEFINED52': {'value': '0x00000000'},\n",
      "                    'CUSTOMER_DEFINED53': {'value': '0x00000000'},\n",
      "                    'CUSTOMER_DEFINED54': {'value': '0x00000000'},\n",
      "                    'CUSTOMER_DEFINED55': {'value': '0x00000000'},\n",
      "                    'CUSTOMER_DEFINED6': {'value': '0x00000000'},\n",
      "                    'CUSTOMER_DEFINED7': {'value': '0x00000000'},\n",
      "                    'CUSTOMER_DEFINED8': {'value': '0x00000000'},\n",
      "                    'CUSTOMER_DEFINED9': {'value': '0x00000000'},\n",
      "                    'DCFG_CC_SOCU_DFLT': {   'bitfields': {   'CPU1_DBGEN': 'DISABLED',\n",
      "                                                              'CPU1_NIDEN': 'DISABLED',\n",
      "                                                              'DBGEN': 'DISABLED',\n",
      "                                                              'FA_ME_CMD_EN': 'DISABLED',\n",
      "                                                              'ISP_CMD_EN': 'DISABLED',\n",
      "                                                              'NIDEN': 'DISABLED',\n",
      "                                                              'SPIDEN': 'DISABLED',\n",
      "                                                              'SPNIDEN': 'DISABLED',\n",
      "                                                              'TAPEN': 'DISABLED'}},\n",
      "                    'DCFG_CC_SOCU_PIN': {   'bitfields': {   'CPU1_DBGEN': 'USE_DAP',\n",
      "                                                             'CPU1_NIDEN': 'USE_DAP',\n",
      "                                                             'DBGEN': 'USE_DAP',\n",
      "                                                             'FA_ME_CMD_EN': 'USE_DAP',\n",
      "                                                             'ISP_CMD_EN': 'USE_DAP',\n",
      "                                                             'NIDEN': 'USE_DAP',\n",
      "                                                             'SPIDEN': 'USE_DAP',\n",
      "                                                             'SPNIDEN': 'USE_DAP',\n",
      "                                                             'TAPEN': 'USE_DAP',\n",
      "                                                             'UUID_CHECK': 'DISABLED'}},\n",
      "                    'PRINCE_BASE_ADDR': {   'bitfields': {   'ADDR0_PRG': '0x0',\n",
      "                                                             'ADDR1_PRG': '0x0',\n",
      "                                                             'ADDR2_PRG': '0x0',\n",
      "                                                             'LOCK_REG0': 'UNLOCK',\n",
      "                                                             'LOCK_REG1': 'UNLOCK',\n",
      "                                                             'REG0_ERASE_CHECK_EN': 'DISABLE',\n",
      "                                                             'REG1_ERASE_CHECK_EN': 'DISABLE',\n",
      "                                                             'REG2_ERASE_CHECK_EN': 'DISABLE'}},\n",
      "                    'PRINCE_SR_0': {'value': '0x00000000'},\n",
      "                    'PRINCE_SR_1': {'value': '0x00000000'},\n",
      "                    'PRINCE_SR_2': {'value': '0x00000000'},\n",
      "                    'ROTKH': {   'value': '0000000000000000000000000000000000000000000000000000000000000000'},\n",
      "                    'SDIO_CFG': {'value': '0x00000000'},\n",
      "                    'SECURE_BOOT_CFG': {   'bitfields': {   'BLOCK_ENROLL': 'ALLOW',\n",
      "                                                            'BLOCK_SET_KEY': 'ALLOW',\n",
      "                                                            'DICE_CUST_CFG': 'NOT_INCLUDE',\n",
      "                                                            'DICE_INC_NXP_CFG': 'NOT_INCLUDE',\n",
      "                                                            'DICE_INC_SEC_EPOCH': '0x0',\n",
      "                                                            'RSA4K': 'RSA2048',\n",
      "                                                            'SEC_BOOT_EN': 'SECURE_BOOT_CFG_SEC_BOOT_EN_ENABLE_0',\n",
      "                                                            'SKIP_DICE': 'SECURE_BOOT_CFG_SKIP_DICE_DISABLE_0',\n",
      "                                                            'TZM_IMAGE_TYPE': 'HEADER'}},\n",
      "                    'SPI_FLASH_CFG': {   'bitfields': {   'SPI_RECOVERY_BOOT_EN': '0x0'}},\n",
      "                    'USB_ID': {   'bitfields': {   'USB_PRODUCT_ID': '0x0000',\n",
      "                                                   'USB_VENDOR_ID': '0x0000'}},\n",
      "                    'VENDOR_USAGE': {'bitfields': {'VENDOR_USAGE': '0x0000'}},\n",
      "                    'XTAL_16MHZ_CAPABANK_TRIM': {   'bitfields': {   'PCB_XIN_PARA_CAP_PF_X100': '0x00',\n",
      "                                                                     'PCB_XOUT_PARA_CAP_PF_X100': '0x00',\n",
      "                                                                     'TRIM_VALID': 'NOT_TRIM',\n",
      "                                                                     'XTAL_LOAD_CAP_IEC_PF_X100': '0x00'}},\n",
      "                    'XTAL_32KHZ_CAPABANK_TRIM': {   'bitfields': {   'PCB_XIN_PARA_CAP_PF_X100': '0x00',\n",
      "                                                                     'PCB_XOUT_PARA_CAP_PF_X100': '0x00',\n",
      "                                                                     'TRIM_VALID': 'NOT_TRIM',\n",
      "                                                                     'XTAL_LOAD_CAP_IEC_PF_X100': '0x00'}}}}\n",
      "pfr -v generate-binary -c workspace/cmpa_lpc55s6x.yml -o workspace/cmpa.bin -e workspace/mbi_config_lpc55s6x.yml \n",
      "Success. (PFR binary has been generated.\n",
      "Result has been stored in: C:\\repos\\spsdk_master\\examples\\jupyter_examples\\lpc55sxx_secure_boot\\workspace\\cmpa.bin\n"
     ]
    },
    {
     "name": "stderr",
     "output_type": "stream",
     "text": [
      "WARNING:spsdk.utils.registers:Bitfield SECURE_BOOT_CFG_SEC_BOOT_EN_ENABLE_0 not found, trying backward compatibility mode with ENABLE_0 (1320ms since start, registers.py:1201)\n",
      "WARNING:spsdk.utils.registers:Bitfield SECURE_BOOT_CFG_SKIP_DICE_DISABLE_0 not found, trying backward compatibility mode with DISABLE_0 (1320ms since start, registers.py:1201)\n",
      "INFO:spsdk.pfr.pfrc:OK: Brick condition not fulfilled\n",
      "INFO:spsdk.pfr.pfrc:OK: Brick condition not fulfilled\n",
      "INFO:spsdk.pfr.pfrc:OK: Brick condition not fulfilled\n",
      "INFO:spsdk.utils.crypto.rkht:ROTKH: 59e0079da0c53fefbd4a28f2cc7066b8a3921ad9c3e4661dd4cf7ebf6ed13f02\n"
     ]
    }
   ],
   "source": [
    "assert os.path.exists(CMPA_TEMPLATE_PATH)\n",
    "    \n",
    "CMPA_BIN = WORKSPACE + \"cmpa.bin\"\n",
    "\n",
    "with open(CMPA_TEMPLATE_PATH) as cmpa_config:\n",
    "    # load yaml configuration to dictionary\n",
    "    cmpa = yaml.safe_load(cmpa_config)\n",
    "    # Enable secure boot\n",
    "    cmpa['settings']['SECURE_BOOT_CFG']['bitfields']['SEC_BOOT_EN'] = \"SECURE_BOOT_CFG_SEC_BOOT_EN_ENABLE_0\"\n",
    "    # disable DICE\n",
    "    cmpa['settings']['SECURE_BOOT_CFG']['bitfields']['SKIP_DICE'] = \"SECURE_BOOT_CFG_SKIP_DICE_DISABLE_0\"\n",
    "\n",
    "with open(CMPA_TEMPLATE_PATH, \"w+\") as cmpa_config:\n",
    "    print(\"CMPA config:\")\n",
    "    pp.pprint(cmpa)\n",
    "    # dump the dictionary back to YAML\n",
    "    yaml.dump(cmpa, cmpa_config)\n",
    "\n",
    "# Generate CMPA binary\n",
    "%! pfr $VERBOSITY generate-binary -c $CMPA_TEMPLATE_PATH -o $CMPA_BIN -e $MBI_CONFIG_PATH\n",
    "\n",
    "assert os.path.exists(CMPA_BIN)"
   ]
  },
  {
   "cell_type": "markdown",
   "metadata": {},
   "source": [
    "## Device preparation\n",
    "\n",
    "Now it's time to prepare the device (enroll keys, load pfr...). In this example we will use LPCXpresso55S69 Evaluation kit.\n",
    "\n",
    "First step is to enter ISP mode, this could be achieved by either shorting J10 or by simultaneously pressing ISP button and reset button.\n",
    "\n",
    "LPCXpresso55S69 supports UART and USB-HID interface for the ISP programming. In the picture below we used UART, if you want to use USB, connect the cable to high speed USB port.\n",
    "\n",
    "![lpc55s69](img/lpc55s69.png \"lpc55s69\")\n",
    "\n",
    "\n",
    "We could use app *nxpdevscan* to check if the device is connected to the PC in ISP mode.\n",
    "\n"
   ]
  },
  {
   "cell_type": "code",
   "execution_count": 9,
   "metadata": {},
   "outputs": [
    {
     "name": "stdout",
     "output_type": "stream",
     "text": [
      "nxpdevscan \n",
      "-------- Connected NXP USB Devices --------\n",
      "\n",
      "LPC-LINK2 CMSIS-DAP V5.224 - NXP Semiconductors\n",
      "Vendor ID: 0x1fc9\n",
      "Product ID: 0x0090\n",
      "Path: HID\\VID_1FC9&PID_0090&MI_00\\7&36E95AFB&0&0000\n",
      "Path Hash: 77e5c391\n",
      "Name: \n",
      "Serial number: NRA2AQHR\n",
      "\n",
      "LPC-LINK2 DATA PORT - NXP Semiconductors\n",
      "Vendor ID: 0x1fc9\n",
      "Product ID: 0x0090\n",
      "Path: HID\\VID_1FC9&PID_0090&MI_04\\7&25C3B40A&0&0000\n",
      "Path Hash: c297936f\n",
      "Name: \n",
      "Serial number: NRA2AQHR\n",
      "\n",
      "LPCSIO - NXP Semiconductors\n",
      "Vendor ID: 0x1fc9\n",
      "Product ID: 0x0090\n",
      "Path: HID\\VID_1FC9&PID_0090&MI_03\\7&38F3D048&0&0000\n",
      "Path Hash: 5f15a706\n",
      "Name: \n",
      "Serial number: NRA2AQHR\n",
      "\n",
      "-------- Connected NXP UART Devices --------\n",
      "\n",
      "Port: COM25\n",
      "Type: mboot device\n",
      "\n",
      "-------- Connected NXP SIO Devices --------\n",
      "\n",
      "LIBUSBSIO - NXP Semiconductors, LPCSIO\n",
      "Vendor ID: 0x1fc9\n",
      "Product ID: 0x0090\n",
      "Path: HID\\VID_1FC9&PID_0090&MI_03\\7&38F3D048&0&0000\n",
      "Path Hash: 5f15a706\n",
      "Serial number: NRA2AQHR\n",
      "Interface number: 3\n",
      "Release number: 256\n",
      "\n"
     ]
    }
   ],
   "source": [
    "# check if the device is connected and detected by PC\n",
    "%! nxpdevscan"
   ]
  },
  {
   "cell_type": "code",
   "execution_count": 10,
   "metadata": {},
   "outputs": [
    {
     "name": "stdout",
     "output_type": "stream",
     "text": [
      "blhost -p com25 get-property current-version \n",
      "Response status = 0 (0x0) Success.\n",
      "Response word 1 = 1258487808 (0x4b030000)\n",
      "Current Version = K3.0.0\n"
     ]
    }
   ],
   "source": [
    "USB_CONNECTION = \"-u lpc55\" \n",
    "# choose com port or /dev\n",
    "UART_CONNECTION = \"-p com25\"\n",
    "\n",
    "# comment if you want to use UART\n",
    "CONNECTION = UART_CONNECTION\n",
    "# CONNECTION = UART_CONNECTION\n",
    "\n",
    "%! blhost $CONNECTION get-property current-version\n"
   ]
  },
  {
   "cell_type": "markdown",
   "metadata": {},
   "source": [
    "### Key store erase\n",
    "\n",
    "You might erase key store by writing a file containing zero bytes with size 3*512 = 1536 B."
   ]
  },
  {
   "cell_type": "code",
   "execution_count": 11,
   "metadata": {},
   "outputs": [
    {
     "name": "stdout",
     "output_type": "stream",
     "text": [
      "blhost -p com25 set-property 29 1 \n",
      "Response status = 0 (0x0) Success.\n",
      "blhost -p com25 write-memory 0x9E600 zero_1536.bin \n",
      "Writing memory\n",
      "Response status = 0 (0x0) Success.\n",
      "Response word 1 = 1536 (0x600)\n",
      "blhost -p com25 set-property 29 0 \n",
      "Response status = 0 (0x0) Success.\n"
     ]
    }
   ],
   "source": [
    "# first you need to set property 29 - PFR key store update option\n",
    "%! blhost $CONNECTION set-property 29 1\n",
    "\n",
    "# now write the file containing zero bytes to the location of key store\n",
    "%! blhost $CONNECTION write-memory 0x9E600 zero_1536.bin\n",
    "\n",
    "# set the property 29 back to 0\n",
    "%! blhost $CONNECTION set-property 29 0\n"
   ]
  },
  {
   "cell_type": "markdown",
   "metadata": {},
   "source": [
    "### CFPA page preparation\n",
    "\n",
    "By default, the CFPA (Customer field programmable area) page is cleared. There are registers related to secure boot. ROTKH_REVOKE field at CFPA page has to be set up to accept signed images with created certificates.\n",
    "\n",
    "So we have to enable root key 0 (*RoTK0_EN*). Another important register is *VERSION*, it's monotonic counter which needs to be incremented after every CFPA page update.\n",
    "\n",
    "In this example we will create unsealed versions of CMPA and CFPA, it means that they could be updated. Sealed (locked) version of CFPA and CMPA might be generated using the *-a* or *--add-seal* option.\n"
   ]
  },
  {
   "cell_type": "code",
   "execution_count": 12,
   "metadata": {},
   "outputs": [
    {
     "name": "stdout",
     "output_type": "stream",
     "text": [
      "pfr read -d lpc55s6x -p com25 -t cfpa -o workspace/cfpa.bin -y workspace/cfpa_parsed.yaml --show-diff \n",
      "CFPA page address on lpc55s6x is 0x9de00\n",
      "CFPA data stored to C:\\repos\\spsdk_master\\examples\\jupyter_examples\\lpc55sxx_secure_boot\\workspace\\cfpa.bin\n",
      "Parsed config stored to C:\\repos\\spsdk_master\\examples\\jupyter_examples\\lpc55sxx_secure_boot\\workspace\\cfpa_parsed.yaml\n",
      "Parsed CFPA from the processor\n",
      "{   'description': {   'device': 'lpc55s6x',\n",
      "                       'revision': '1b',\n",
      "                       'type': 'CFPA',\n",
      "                       'version': '1.9.1+sp.ear1'},\n",
      "    'settings': {   'CMPA_PROG_IN_PROGRESS': {'value': '0x5CC55AA5'},\n",
      "                    'ROTKH_REVOKE': {'bitfields': {'RoTK0_EN': 'ENABLED'}},\n",
      "                    'VERSION': {'value': '0x00000001'}}}\n",
      "CFPA config:\n",
      "{   'description': {   'device': 'lpc55s6x',\n",
      "                       'revision': '1b',\n",
      "                       'type': 'CFPA',\n",
      "                       'version': '1.9.1+sp.ear1'},\n",
      "    'settings': {   'CMPA_PROG_IN_PROGRESS': {'value': '0x00000000'},\n",
      "                    'CUSTOMER_DEFINED0': {'value': '0x00000000'},\n",
      "                    'CUSTOMER_DEFINED1': {'value': '0x00000000'},\n",
      "                    'CUSTOMER_DEFINED10': {'value': '0x00000000'},\n",
      "                    'CUSTOMER_DEFINED11': {'value': '0x00000000'},\n",
      "                    'CUSTOMER_DEFINED12': {'value': '0x00000000'},\n",
      "                    'CUSTOMER_DEFINED13': {'value': '0x00000000'},\n",
      "                    'CUSTOMER_DEFINED14': {'value': '0x00000000'},\n",
      "                    'CUSTOMER_DEFINED15': {'value': '0x00000000'},\n",
      "                    'CUSTOMER_DEFINED16': {'value': '0x00000000'},\n",
      "                    'CUSTOMER_DEFINED17': {'value': '0x00000000'},\n",
      "                    'CUSTOMER_DEFINED18': {'value': '0x00000000'},\n",
      "                    'CUSTOMER_DEFINED19': {'value': '0x00000000'},\n",
      "                    'CUSTOMER_DEFINED2': {'value': '0x00000000'},\n",
      "                    'CUSTOMER_DEFINED20': {'value': '0x00000000'},\n",
      "                    'CUSTOMER_DEFINED21': {'value': '0x00000000'},\n",
      "                    'CUSTOMER_DEFINED22': {'value': '0x00000000'},\n",
      "                    'CUSTOMER_DEFINED23': {'value': '0x00000000'},\n",
      "                    'CUSTOMER_DEFINED24': {'value': '0x00000000'},\n",
      "                    'CUSTOMER_DEFINED25': {'value': '0x00000000'},\n",
      "                    'CUSTOMER_DEFINED26': {'value': '0x00000000'},\n",
      "                    'CUSTOMER_DEFINED27': {'value': '0x00000000'},\n",
      "                    'CUSTOMER_DEFINED28': {'value': '0x00000000'},\n",
      "                    'CUSTOMER_DEFINED29': {'value': '0x00000000'},\n",
      "                    'CUSTOMER_DEFINED3': {'value': '0x00000000'},\n",
      "                    'CUSTOMER_DEFINED30': {'value': '0x00000000'},\n",
      "                    'CUSTOMER_DEFINED31': {'value': '0x00000000'},\n",
      "                    'CUSTOMER_DEFINED32': {'value': '0x00000000'},\n",
      "                    'CUSTOMER_DEFINED33': {'value': '0x00000000'},\n",
      "                    'CUSTOMER_DEFINED34': {'value': '0x00000000'},\n",
      "                    'CUSTOMER_DEFINED35': {'value': '0x00000000'},\n",
      "                    'CUSTOMER_DEFINED36': {'value': '0x00000000'},\n",
      "                    'CUSTOMER_DEFINED37': {'value': '0x00000000'},\n",
      "                    'CUSTOMER_DEFINED38': {'value': '0x00000000'},\n",
      "                    'CUSTOMER_DEFINED39': {'value': '0x00000000'},\n",
      "                    'CUSTOMER_DEFINED4': {'value': '0x00000000'},\n",
      "                    'CUSTOMER_DEFINED40': {'value': '0x00000000'},\n",
      "                    'CUSTOMER_DEFINED41': {'value': '0x00000000'},\n",
      "                    'CUSTOMER_DEFINED42': {'value': '0x00000000'},\n",
      "                    'CUSTOMER_DEFINED43': {'value': '0x00000000'},\n",
      "                    'CUSTOMER_DEFINED44': {'value': '0x00000000'},\n",
      "                    'CUSTOMER_DEFINED45': {'value': '0x00000000'},\n",
      "                    'CUSTOMER_DEFINED46': {'value': '0x00000000'},\n",
      "                    'CUSTOMER_DEFINED47': {'value': '0x00000000'},\n",
      "                    'CUSTOMER_DEFINED48': {'value': '0x00000000'},\n",
      "                    'CUSTOMER_DEFINED49': {'value': '0x00000000'},\n",
      "                    'CUSTOMER_DEFINED5': {'value': '0x00000000'},\n",
      "                    'CUSTOMER_DEFINED50': {'value': '0x00000000'},\n",
      "                    'CUSTOMER_DEFINED51': {'value': '0x00000000'},\n",
      "                    'CUSTOMER_DEFINED52': {'value': '0x00000000'},\n",
      "                    'CUSTOMER_DEFINED53': {'value': '0x00000000'},\n",
      "                    'CUSTOMER_DEFINED54': {'value': '0x00000000'},\n",
      "                    'CUSTOMER_DEFINED55': {'value': '0x00000000'},\n",
      "                    'CUSTOMER_DEFINED6': {'value': '0x00000000'},\n",
      "                    'CUSTOMER_DEFINED7': {'value': '0x00000000'},\n",
      "                    'CUSTOMER_DEFINED8': {'value': '0x00000000'},\n",
      "                    'CUSTOMER_DEFINED9': {'value': '0x00000000'},\n",
      "                    'DCFG_CC_SOCU_NS_DFLT': {   'bitfields': {   'CPU1_DBGEN': 'DISABLED',\n",
      "                                                                 'CPU1_NIDEN': 'DISABLED',\n",
      "                                                                 'DBGEN': 'DISABLED',\n",
      "                                                                 'FA_ME_CMD_EN': 'DISABLED',\n",
      "                                                                 'ISP_CMD_EN': 'DISABLED',\n",
      "                                                                 'NIDEN': 'DISABLED',\n",
      "                                                                 'SPIDEN': 'DISABLED',\n",
      "                                                                 'SPNIDEN': 'DISABLED',\n",
      "                                                                 'TAPEN': 'DISABLED'}},\n",
      "                    'DCFG_CC_SOCU_NS_PIN': {   'bitfields': {   'CPU1_DBGEN': 'USE_DAP',\n",
      "                                                                'CPU1_NIDEN': 'USE_DAP',\n",
      "                                                                'DBGEN': 'USE_DAP',\n",
      "                                                                'FA_ME_CMD_EN': 'USE_DAP',\n",
      "                                                                'ISP_CMD_EN': 'USE_DAP',\n",
      "                                                                'NIDEN': 'USE_DAP',\n",
      "                                                                'SPIDEN': 'USE_DAP',\n",
      "                                                                'SPNIDEN': 'USE_DAP',\n",
      "                                                                'TAPEN': 'USE_DAP',\n",
      "                                                                'UUID_CHECK': 'DISABLED'}},\n",
      "                    'ENABLE_FA_MODE': {'value': '0x00000000'},\n",
      "                    'HEADER': {'value': '0x00000000'},\n",
      "                    'IMAGE_KEY_REVOKE': {'value': '0x00000000'},\n",
      "                    'NS_FW_Version': {'value': '0x00000000'},\n",
      "                    'PRINCE_REGION0_IV_BODY0': {'value': '0x00000000'},\n",
      "                    'PRINCE_REGION0_IV_BODY1': {'value': '0x00000000'},\n",
      "                    'PRINCE_REGION0_IV_BODY10': {'value': '0x00000000'},\n",
      "                    'PRINCE_REGION0_IV_BODY11': {'value': '0x00000000'},\n",
      "                    'PRINCE_REGION0_IV_BODY2': {'value': '0x00000000'},\n",
      "                    'PRINCE_REGION0_IV_BODY3': {'value': '0x00000000'},\n",
      "                    'PRINCE_REGION0_IV_BODY4': {'value': '0x00000000'},\n",
      "                    'PRINCE_REGION0_IV_BODY5': {'value': '0x00000000'},\n",
      "                    'PRINCE_REGION0_IV_BODY6': {'value': '0x00000000'},\n",
      "                    'PRINCE_REGION0_IV_BODY7': {'value': '0x00000000'},\n",
      "                    'PRINCE_REGION0_IV_BODY8': {'value': '0x00000000'},\n",
      "                    'PRINCE_REGION0_IV_BODY9': {'value': '0x00000000'},\n",
      "                    'PRINCE_REGION0_IV_HEADER0': {'value': '0x00000000'},\n",
      "                    'PRINCE_REGION0_IV_HEADER1': {   'bitfields': {   'INDEX': '0x0',\n",
      "                                                                      'SIZE': '0x0',\n",
      "                                                                      'TYPE': '0x0'}},\n",
      "                    'PRINCE_REGION1_IV_BODY0': {'value': '0x00000000'},\n",
      "                    'PRINCE_REGION1_IV_BODY1': {'value': '0x00000000'},\n",
      "                    'PRINCE_REGION1_IV_BODY10': {'value': '0x00000000'},\n",
      "                    'PRINCE_REGION1_IV_BODY11': {'value': '0x00000000'},\n",
      "                    'PRINCE_REGION1_IV_BODY2': {'value': '0x00000000'},\n",
      "                    'PRINCE_REGION1_IV_BODY3': {'value': '0x00000000'},\n",
      "                    'PRINCE_REGION1_IV_BODY4': {'value': '0x00000000'},\n",
      "                    'PRINCE_REGION1_IV_BODY5': {'value': '0x00000000'},\n",
      "                    'PRINCE_REGION1_IV_BODY6': {'value': '0x00000000'},\n",
      "                    'PRINCE_REGION1_IV_BODY7': {'value': '0x00000000'},\n",
      "                    'PRINCE_REGION1_IV_BODY8': {'value': '0x00000000'},\n",
      "                    'PRINCE_REGION1_IV_BODY9': {'value': '0x00000000'},\n",
      "                    'PRINCE_REGION1_IV_HEADER0': {'value': '0x00000000'},\n",
      "                    'PRINCE_REGION1_IV_HEADER1': {   'bitfields': {   'INDEX': '0x0',\n",
      "                                                                      'SIZE': '0x0',\n",
      "                                                                      'TYPE': '0x0'}},\n",
      "                    'PRINCE_REGION2_IV_BODY0': {'value': '0x00000000'},\n",
      "                    'PRINCE_REGION2_IV_BODY1': {'value': '0x00000000'},\n",
      "                    'PRINCE_REGION2_IV_BODY10': {'value': '0x00000000'},\n",
      "                    'PRINCE_REGION2_IV_BODY11': {'value': '0x00000000'},\n",
      "                    'PRINCE_REGION2_IV_BODY2': {'value': '0x00000000'},\n",
      "                    'PRINCE_REGION2_IV_BODY3': {'value': '0x00000000'},\n",
      "                    'PRINCE_REGION2_IV_BODY4': {'value': '0x00000000'},\n",
      "                    'PRINCE_REGION2_IV_BODY5': {'value': '0x00000000'},\n",
      "                    'PRINCE_REGION2_IV_BODY6': {'value': '0x00000000'},\n",
      "                    'PRINCE_REGION2_IV_BODY7': {'value': '0x00000000'},\n",
      "                    'PRINCE_REGION2_IV_BODY8': {'value': '0x00000000'},\n",
      "                    'PRINCE_REGION2_IV_BODY9': {'value': '0x00000000'},\n",
      "                    'PRINCE_REGION2_IV_HEADER0': {'value': '0x00000000'},\n",
      "                    'PRINCE_REGION2_IV_HEADER1': {   'bitfields': {   'INDEX': '0x0',\n",
      "                                                                      'SIZE': '0x0',\n",
      "                                                                      'TYPE': '0x0'}},\n",
      "                    'ROTKH_REVOKE': {   'bitfields': {   'RoTK0_EN': 'ROTKH_REVOKE_RoTK0_EN_ENABLED',\n",
      "                                                         'RoTK1_EN': 'INVALID',\n",
      "                                                         'RoTK2_EN': 'INVALID',\n",
      "                                                         'RoTK3_EN': 'INVALID'}},\n",
      "                    'S_FW_Version': {'value': '0x00000000'},\n",
      "                    'VENDOR_USAGE': {   'bitfields': {   'DBG_VENDOR_USAGE': '0x0000'}},\n",
      "                    'VERSION': {'value': '0x2'}}}\n",
      "pfr -v generate-binary -c workspace/cfpa_lpc55s6x.yml -o workspace/cfpa.bin \n",
      "Success. (PFR binary has been generated.\n",
      "Result has been stored in: C:\\repos\\spsdk_master\\examples\\jupyter_examples\\lpc55sxx_secure_boot\\workspace\\cfpa.bin\n"
     ]
    },
    {
     "name": "stderr",
     "output_type": "stream",
     "text": [
      "WARNING:spsdk.utils.registers:Bitfield ROTKH_REVOKE_RoTK0_EN_ENABLED not found, trying backward compatibility mode with ENABLED (1668ms since start, registers.py:1201)\n",
      "INFO:spsdk.pfr.pfrc:OK: Brick condition not fulfilled\n",
      "INFO:spsdk.pfr.pfrc:OK: Brick condition not fulfilled\n",
      "INFO:spsdk.pfr.pfrc:OK: Brick condition not fulfilled\n",
      "INFO:spsdk.pfr.pfrc:OK: Brick condition not fulfilled\n",
      "INFO:spsdk.pfr.pfrc:OK: Brick condition not fulfilled\n"
     ]
    }
   ],
   "source": [
    "CFPA_BIN = WORKSPACE + \"cfpa.bin\"\n",
    "CFPA_PARSED = WORKSPACE + \"cfpa_parsed.yaml\"\n",
    "\n",
    "# First, read the current CFPA page on the processor and parse it to YAML\n",
    "%! pfr read -d $FAMILY $CONNECTION -t cfpa -o $CFPA_BIN -y $CFPA_PARSED --show-diff\n",
    "\n",
    "assert os.path.exists(CFPA_TEMPLATE_PATH)\n",
    "assert os.path.exists(CFPA_PARSED)\n",
    "\n",
    "with open(CFPA_PARSED) as cfpa_parsed:\n",
    "    # load yaml configuration to dictionary\n",
    "    cfpa = yaml.safe_load(cfpa_parsed)\n",
    "    print(\"Parsed CFPA from the processor\")\n",
    "    pp.pprint(cfpa)\n",
    "    # parse actual value of the VERSION monotonic counter\n",
    "    CFPA_VERSION = int(cfpa['settings']['VERSION']['value'], 16)\n",
    "\n",
    "with open(CFPA_TEMPLATE_PATH) as cfpa_config:\n",
    "    # load yaml configuration to dictionary\n",
    "    cfpa = yaml.safe_load(cfpa_config)\n",
    "    # Enable root certificate 0\n",
    "    cfpa['settings']['ROTKH_REVOKE']['bitfields']['RoTK0_EN'] = \"ROTKH_REVOKE_RoTK0_EN_ENABLED\"\n",
    "    # VERSION monotonic counter has to be increased after every CFPA page update\n",
    "    CFPA_VERSION += 1\n",
    "    cfpa['settings']['VERSION']['value'] = hex(CFPA_VERSION)\n",
    "\n",
    "with open(CFPA_TEMPLATE_PATH, \"w+\") as cfpa_config:\n",
    "    print(\"CFPA config:\")\n",
    "    pp.pprint(cfpa)\n",
    "    # dump the dictionary back to YAML\n",
    "    yaml.dump(cfpa, cfpa_config)\n",
    "    \n",
    "\n",
    "# Generate CFPA binary\n",
    "%! pfr $VERBOSITY generate-binary -c $CFPA_TEMPLATE_PATH -o $CFPA_BIN\n",
    "\n",
    "assert os.path.exists(CFPA_BIN)"
   ]
  },
  {
   "cell_type": "markdown",
   "metadata": {},
   "source": [
    "### PFR write\n",
    "Now that we have enrolled key store, it's time to write CFPA and CMPA pages. We could use pfr tool or blhost.\n"
   ]
  },
  {
   "cell_type": "code",
   "execution_count": 13,
   "metadata": {},
   "outputs": [
    {
     "name": "stdout",
     "output_type": "stream",
     "text": [
      "pfr write -p com25 -t cfpa -d lpc55s6x -b workspace/cfpa.bin \n",
      "CFPA page address on lpc55s6x is 0x9de00\n",
      "CFPA data written to device.\n",
      "pfr write -p com25 -t cmpa -d lpc55s6x -b workspace/cmpa.bin \n",
      "CMPA page address on lpc55s6x is 0x9e400\n",
      "CMPA data written to device.\n"
     ]
    }
   ],
   "source": [
    "# write CFPA\n",
    "%! pfr write $CONNECTION -t cfpa -d $FAMILY -b $CFPA_BIN\n",
    "# this is the same as \n",
    "#%! blhost $CONNECTION write-memory 0x0009DE00 $CFPA_BIN\"\n",
    "\n",
    "# write CMPA\n",
    "%! pfr write $CONNECTION -t cmpa -d $FAMILY -b $CMPA_BIN\n"
   ]
  },
  {
   "cell_type": "markdown",
   "metadata": {},
   "source": [
    "### Write MBI\n",
    "\n",
    " Last step is to write master boot image to device. "
   ]
  },
  {
   "cell_type": "code",
   "execution_count": 14,
   "metadata": {},
   "outputs": [
    {
     "name": "stdout",
     "output_type": "stream",
     "text": [
      "blhost -p com25 flash-erase-region 0 0x10000 \n",
      "Response status = 0 (0x0) Success.\n",
      "blhost -p com25 write-memory 0 workspace/lpc55s6x_mbi.bin \n",
      "Writing memory\n",
      "Response status = 0 (0x0) Success.\n",
      "Response word 1 = 11064 (0x2b38)\n"
     ]
    }
   ],
   "source": [
    "# Erase flash first\n",
    "%! blhost $CONNECTION flash-erase-region 0 0x10000\n",
    "\n",
    "# write MBI\n",
    "%! blhost $CONNECTION write-memory 0 $BIN_OUTPUT_PATH"
   ]
  }
 ],
 "metadata": {
  "interpreter": {
   "hash": "54d7387d81c97206a249badb1da04b078898b2a023da8bd304bb67391685412f"
  },
  "kernelspec": {
   "display_name": "Python 3 (ipykernel)",
   "language": "python",
   "name": "python3"
  },
  "language_info": {
   "codemirror_mode": {
    "name": "ipython",
    "version": 3
   },
   "file_extension": ".py",
   "mimetype": "text/x-python",
   "name": "python",
   "nbconvert_exporter": "python",
   "pygments_lexer": "ipython3",
   "version": "3.9.0"
  }
 },
 "nbformat": 4,
 "nbformat_minor": 4
}
