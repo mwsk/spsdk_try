{
 "cells": [
  {
   "attachments": {},
   "cell_type": "markdown",
   "metadata": {},
   "source": [
    "# i.MX 93 AHAB with flashloader \n",
    "\n",
    "This notebook describes how to build the bootable AHAB image with ELE firmware and flashloader firmware with MBOOT protocol support and how to use NXPELE and BLHOST apps.\n",
    "\n",
    "## Set up the environment\n",
    "\n",
    "- SPSDK is needed with examples extension. pip install spsdk[examples] (refer to the installation documentation)\n",
    "- This demo was tested with i.MX93 EVK board.\n",
    "\n",
    "## Image preparation\n",
    "First we need to prepare AHAB image for CM33 core containing ELE firmware and our flashloader. We can use SPSDK *nxpimage* tool for image preparation.\n",
    "Configuration file that generates signed AHAB image containing ELE FW and flashloader might look like this:\n",
    "\n",
    "```yaml\n",
    "---\n",
    "# ----------------------------------------------------------------------------------------------------\n",
    "# ===========  Advanced High-Assurance Boot Configuration template for rt1180.  ===========\n",
    "# ----------------------------------------------------------------------------------------------------\n",
    "#                                        == General Options ==\n",
    "family: mx93 # [Required], MCU family, Family identifier including the chip revision. If revision is not present, latest revision is used as default., Possible options:['rt118x']\n",
    "revision: a0 # [Optional], MCU revision, Revision of silicon, Possible options:['a0']\n",
    "image_type: serial_downloader # [Required], Type of image, The final use of image, this setting is changing the style of offsets in final container., Possible options:['xip', 'non_xip', 'serial_downloader']\n",
    "output: ..\\outputs/flashloader_signed.bin # [Required], Output AHAB file name, Revision of silicon\n",
    "containers: # [Required], List of containers present in AHAB., The order of containers in the list defines the order in AHAB.\n",
    "  - # ----------------------------------------------------------------------------------------------------\n",
    "    #                     == Binary Container format to add to AHAB image ==\n",
    "    # ----------------------------------------------------------------------------------------------------\n",
    "    binary_container: # [Required], Binary AHAB container\n",
    "      path: inputs/mx93a0-ele-fw.img # [Required], The AHAB container binary file, The binary file that contains AHAB \"my_binary_container.bin\n",
    "  - # [Example of possible configuration #1]\n",
    "    # ----------------------------------------------------------------------------------------------------\n",
    "    #                  == Configuration Container format to add to AHAB image ==\n",
    "    # ----------------------------------------------------------------------------------------------------\n",
    "    container: # [Required], AHAB Container\n",
    "      srk_set: oem # [Required], Super Root Key (SRK) set, Defines which set is used to authenticate the container., Possible options:['none', 'oem', 'nxp']\n",
    "      used_srk_id: 0 # [Conditionally required], Used SRK, Which key from SRK set is being used.\n",
    "      srk_revoke_mask: 0 # [Optional], SRK revoke mask, Bitmask to indicate which SRKs to revoke. Bit set to 1 means revoke key. Bit 0 = revoke SRK_0, bit 1 = revoke SRK_1 etc.\n",
    "      fuse_version: 0 # [Required], Fuse version, The value must be equal or greater than the version stored in fuses to allow loading this container.\n",
    "      sw_version: 0 # [Required], Software version, Number used by Privileged Host Boot Companion (PHBC) to select between multiple images with same Fuse version field.\n",
    "      signing_key:\n",
    "        inputs/keys/ecc256/srk0_ecc256.pem # [Conditionally required], AHAB container signing key, Private key used for sign the container header. Header can be signed by SRK or by image key that was signed by SRK. If an image key is used, it must be the same algorithm and key size as the SRK. In both cases, the referenced SRK must not have been revoked.\n",
    "        # ----------------------------------------------------------------------------------------------------\n",
    "        #               == Configuration of AHAB Container images (array of multiple images) ==\n",
    "        # ----------------------------------------------------------------------------------------------------\n",
    "      images: # [Required], Image array, Array of image entries.\n",
    "        - image_path: inputs/mx93_mboot_0x304A0000.bin # [Required], Image path, Path to image binary (absolute/relative).\n",
    "          image_offset: \"0x10000\" # [Required], Image offset in AHAB container, Relative address for start of AHAB image (can contain multiple AHAB containers). In case of XiP type of AHAB image, the load_address and entry_point must correspond to this values. Example of setting of load_address - AHAB_IMAGE_ADDRESS+IMAGE_OFFSET=LOAD_ADDRESS\n",
    "          load_address: \"0x304A0000\" # [Required], Image destination address, Address the image is written to in memory (absolute address in system memory).\n",
    "          entry_point: \"0x304A0000\" # [Required], Image entry point, Image entry point (absolute address). Valid only for executable image types.\n",
    "          image_type: executable # [Required], Image type, Kind of image., Possible options:['executable', 'data', 'dcd_image', 'seco', 'provisioning_image', 'provisioning_data']\n",
    "          core_id: cortex-m33 # [Required], Core ID, Defines the core the image is dedicated for., Possible options:['cortex-m33', 'cortex-m7']\n",
    "          is_encrypted: false # [Required], Image encryption, Determines, whether image is encrypted or not.\n",
    "          boot_flags: 0 # [Optional], Boot flags, Boot flags controlling SCFW boot.\n",
    "          meta_data_start_cpu_id: 0 # [Optional], Start CPU ID, Resource ID of CPU to be started\n",
    "          meta_data_mu_cpu_id: 0 # [Optional], CPU memory unit start ID, Resource ID of the MU associated with the CPU\n",
    "          meta_data_start_partition_id: 0 # [Optional], Start partition ID, Partition ID of the partition to start\n",
    "          hash_type: sha384 # [Optional], Images HASH type, HASH type of image. All images in the container must have the same HASH type., Possible options:['sha256', 'sha384', 'sha512']\n",
    "        # ----------------------------------------------------------------------------------------------------\n",
    "        #                                == Configuration of AHAB SRK table ==\n",
    "        # ----------------------------------------------------------------------------------------------------\n",
    "      srk_table: # [Conditionally required], SRK Table, SRK (Super Root key) table definition.\n",
    "        srk_array: # [Required], Super Root Key (SRK) table, Table containing the used SRK records. All SRKs must be of the same type. Supported signing algorithms are: RSASSA-PSS or ECDSA. Supported hash algorithms: sha256, sha384, sha512. Supported key sizes/curves: prime256v1, sec384r1, sec512r1, rsa2048, rsa4096. Certificate may be of Certificate Authority.\n",
    "          - inputs/keys/ecc256/srk0_ecc256.pub # SRK key, Path to SRK Key file.\n",
    "          - inputs/keys/ecc256/srk1_ecc256.pub # SRK key, Path to SRK Key file.\n",
    "          - inputs/keys/ecc256/srk2_ecc256.pub # SRK key, Path to SRK Key file.\n",
    "          - inputs/keys/ecc256/srk3_ecc256.pub # SRK key, Path to SRK Key file.\n"
   ]
  },
  {
   "cell_type": "code",
   "execution_count": 4,
   "metadata": {},
   "outputs": [
    {
     "name": "stdout",
     "output_type": "stream",
     "text": [
      "Created `%!` as an alias for `%execute`.\n",
      "nxpimage -v ahab export -c ahab_config_flashloader_signed256.yaml \n",
      "Success. (AHAB: C:/Users/nxf46245/spsdk/examples/jupyter_examples/imx93/outputs/flashloader_signed.bin created.)\n",
      "Generated SRK hash files (c:\\Users\\nxf46245\\spsdk\\examples\\jupyter_examples\\imx93\\flashloader_signed_oem1_srk_hash*.*).\n"
     ]
    },
    {
     "name": "stderr",
     "output_type": "stream",
     "text": [
      "WARNING:spsdk.image.ahab.ahab_container:The obsolete key 'image_type':serial_downloader has been converted into 'target_memory':serial_downloader (741ms since start, ahab_container.py:3514)\n",
      "INFO:spsdk.apps.nxpimage:Created AHAB Image:\n",
      "Name:      AHAB Image\n",
      "Starts:    0x0\n",
      "Ends:      0x147a7\n",
      "Size:      Size: 83.9 kB; 83,880 B\n",
      "Alignment: 1 B\n",
      "AHAB Image for mx93_a0\n",
      "\n",
      "INFO:spsdk.apps.nxpimage:Created AHAB Image memory map:\n",
      "\n",
      "\u001b[90m+==0x0000_0000= AHAB Image =======================+\n",
      "\u001b[90m|             Size: 83.9 kB; 83,880 B             |\n",
      "\u001b[90m|             AHAB Image for mx93_a0              |\n",
      "\u001b[90m|\u001b[34m+==0x0000_0000= AHAB Container 0 ===============+\u001b[90m|\n",
      "\u001b[90m|\u001b[34m|                  Size: 544 B                  |\u001b[90m|\n",
      "\u001b[90m|\u001b[34m|        AHAB Container for nxp_SWver:0         |\u001b[90m|\n",
      "\u001b[90m|\u001b[34m+==0x0000_021f==================================+\u001b[90m|\n",
      "\u001b[90m|                   Gap: 480 B                    |\n",
      "\u001b[90m|\u001b[32m+==0x0000_0400= AHAB Container 1 ===============+\u001b[90m|\n",
      "\u001b[90m|\u001b[32m|                  Size: 544 B                  |\u001b[90m|\n",
      "\u001b[90m|\u001b[32m|        AHAB Container for oem_SWver:0         |\u001b[90m|\n",
      "\u001b[90m|\u001b[32m+==0x0000_061f==================================+\u001b[90m|\n",
      "\u001b[90m|                   Gap: 6.6 kB                   |\n",
      "\u001b[90m|\u001b[36m+==0x0000_2000= Container 0 AHAB Data Image 0 ==+\u001b[90m|\n",
      "\u001b[90m|\u001b[36m|            Size: 58.1 kB; 58,144 B            |\u001b[90m|\n",
      "\u001b[90m|\u001b[36m|AHAB encrypted data block with seco Image Type.|\u001b[90m|\n",
      "\u001b[90m|\u001b[36m+==0x0001_031f==================================+\u001b[90m|\n",
      "\u001b[90m|                   Gap: 224 B                    |\n",
      "\u001b[90m|\u001b[33m+==0x0001_0400= Container 1 AHAB Data Image 0 ==+\u001b[90m|\n",
      "\u001b[90m|\u001b[33m|            Size: 17.3 kB; 17,320 B            |\u001b[90m|\n",
      "\u001b[90m|\u001b[33m|  AHAB data block with executable Image Type.  |\u001b[90m|\n",
      "\u001b[90m|\u001b[33m+==0x0001_47a7==================================+\u001b[90m|\n",
      "\u001b[90m+==0x0001_47a7====================================+\n",
      "\u001b[39m\n"
     ]
    }
   ],
   "source": [
    "%alias execute echo %l && %l\n",
    "%alias_magic ! execute\n",
    "\n",
    "WORKSPACE = \"workspace/\" # change this to path to your workspace\n",
    "VERBOSITY = \"-v\" # verbosity of commands, might be -v or -vv for debug or blank for no additional info\n",
    "AHAB_CONFIGURATION = \"ahab_config_flashloader_signed256.yaml\"\n",
    "AHAB_IMAGE = \"outputs/flashloader_signed.bin\"\n",
    "\n",
    "# export AHAB image with flashloader\n",
    "%! nxpimage $VERBOSITY ahab export -c $AHAB_CONFIGURATION \n",
    "\n"
   ]
  },
  {
   "cell_type": "markdown",
   "metadata": {},
   "source": [
    "## Image download\n",
    "We use SPSDK tool *sdpshost* to load the image. So at first, we need to set up board boot configuration to Cortex-M serial downloader mode (1011) and load the image to OCRAM. Application should start immediately after loading the image."
   ]
  },
  {
   "cell_type": "code",
   "execution_count": 36,
   "metadata": {},
   "outputs": [
    {
     "name": "stdout",
     "output_type": "stream",
     "text": [
      "\n",
      "!!! THIS IS AN EXPERIMENTAL UTILITY! USE WITH CAUTION !!!\n",
      "\n",
      "\n",
      "!!! THIS IS AN EXPERIMENTAL UTILITY! USE WITH CAUTION !!!\n",
      "\n",
      "\u001b[37m\u001b[1mINFO:spsdk.sdp.sdps:Connect: OO Blank 93 (0x1FC9, 0x014E)\u001b[39m\u001b[0m\n",
      "\u001b[37m\u001b[1mINFO:spsdk.sdp.sdps:TX-CMD: WriteFile(length=83888)\u001b[39m\u001b[0m\n"
     ]
    },
    {
     "name": "stderr",
     "output_type": "stream",
     "text": [
      "INFO:libusbsio:Loading SIO library: C:\\Users\\nxf46245\\spsdk\\venv\\Lib\\site-packages\\libusbsio\\bin\\x64\\libusbsio.dll\n",
      "INFO:libusbsio:HID enumeration[2652857619696]: initialized\n",
      "INFO:libusbsio:HID enumeration[2652857619696]: finished, total 14 devices\n",
      "INFO:libusbsio.hidapi.dev:Opening HID device at path: 'b'\\\\\\\\?\\\\hid#vid_1fc9&pid_014e#6&6466ab0&0&0000#{4d1e55b2-f16f-11cf-88cb-001111000030}''\n",
      "INFO:libusbsio.hidapi.dev:HID device 2652814117008 is now open\n",
      "INFO:libusbsio.hidapi.dev:HID device 2652814117008 closed\n"
     ]
    }
   ],
   "source": [
    "# use SDPSHOST tool to download the image\n",
    "! sdpshost $VERBOSITY -u mx93 -n MX93 write-file outputs/flashloader_signed.bin\n",
    " "
   ]
  },
  {
   "cell_type": "markdown",
   "metadata": {},
   "source": [
    "## Nxpdevscan\n",
    "The flashloader application should start immediately after loading to OCRAM.\n",
    "\n",
    "To determine the port where the flashloader communicates we can use the *nxpdevscan* app."
   ]
  },
  {
   "cell_type": "code",
   "execution_count": 37,
   "metadata": {},
   "outputs": [
    {
     "name": "stdout",
     "output_type": "stream",
     "text": [
      "nxpdevscan -p \n",
      "-------- Connected NXP UART Devices --------\n",
      "\n",
      "Port: COM41\n",
      "Type: mboot device\n",
      "\n"
     ]
    }
   ],
   "source": [
    "# Check which port is used by flashloader\n",
    "\n",
    "%! nxpdevscan -p "
   ]
  },
  {
   "cell_type": "markdown",
   "metadata": {},
   "source": [
    "# BLHOST\n",
    "\n",
    "To verify the communication with blhost we can try the blhost get-property command."
   ]
  },
  {
   "cell_type": "code",
   "execution_count": 38,
   "metadata": {},
   "outputs": [
    {
     "name": "stdout",
     "output_type": "stream",
     "text": [
      "blhost -p com41 get-property 1 \n",
      "Response status = 0 (0x0) Success.\n",
      "Response word 1 = 1258424320 (0x4b020800)\n",
      "Current Version = K2.8.0\n"
     ]
    }
   ],
   "source": [
    "# modify the UART port according to the nxpdevscan\n",
    "CONNECTION = \"-p com41\"\n",
    "# get-property 1 returns version of the flashloader\n",
    "%! blhost $CONNECTION get-property 1"
   ]
  },
  {
   "cell_type": "code",
   "execution_count": 39,
   "metadata": {},
   "outputs": [
    {
     "name": "stdout",
     "output_type": "stream",
     "text": [
      "blhost -p com41 get-property 18 \n",
      "Response status = 0 (0x0) Success.\n",
      "Response word 1 = 2442643059 (0x9197c673)\n",
      "Response word 2 = 2573725851 (0x9967f09b)\n",
      "Response word 3 = 1195651327 (0x474430ff)\n",
      "Response word 4 = 1979819762 (0x7601a6f2)\n",
      "Unique Device Identification = 73 C6 97 91 9B F0 67 99 FF 30 44 47 F2 A6 01 76\n"
     ]
    }
   ],
   "source": [
    "# get property 18 returns UUID of the device\n",
    "%! blhost $CONNECTION get-property 18"
   ]
  },
  {
   "cell_type": "code",
   "execution_count": 43,
   "metadata": {},
   "outputs": [
    {
     "name": "stdout",
     "output_type": "stream",
     "text": [
      "blhost -p com41 get-property 7 \n",
      "Response status = 0 (0x0) Success.\n",
      "Response word 1 = 25227228 (0x180efdc)\n",
      "Available Commands = ['ReadMemory', 'WriteMemory', 'FillMemory', 'GetProperty', 'ReceiveSBFile', 'Execute', 'Call', 'Reset', 'SetProperty', 'FlashProgramOnce', 'FlashReadOnce', 'FlashReadResource', 'UpdateLifeCycle', 'EleMessage']\n"
     ]
    }
   ],
   "source": [
    "# get property 7 returns available commands\n",
    "%! blhost $CONNECTION get-property 7"
   ]
  },
  {
   "cell_type": "code",
   "execution_count": 48,
   "metadata": {},
   "outputs": [
    {
     "name": "stdout",
     "output_type": "stream",
     "text": [
      "blhost -p com41 read-memory 0x304f0000 100 -h \n",
      "Reading memory\n",
      "00000000: 1C DB F7 7A 59 B9 0C 96  AC 9F F7 E1 ED 51 EE DD  ...zY........Q..\n",
      "00000010: ED 22 88 C9 2F B2 EC 0B  7D 15 56 33 FC 22 2E 72  .\"../...}.V3.\".r\n",
      "00000020: 33 56 22 73 2A 2F 1F 00  B7 29 E6 F8 9D 0B C4 E1  3V\"s*/...)......\n",
      "00000030: C2 E9 0F 77 33 CC 31 D4  48 14 01 99 D9 C6 60 6A  ...w3.1.H.....`j\n",
      "00000040: FB 17 39 E3 4A 8D 4C 01  4D 68 9D 95 E5 EE 6D 43  ..9.J.L.Mh....mC\n",
      "00000050: 60 23 56 68 F0 83 D1 61  03 EE 8E E5 79 88 12 04  `#Vh...a....y...\n",
      "00000060: E8 74 53 84                                       .tS.\n",
      "Response status = 0 (0x0) Success.\n",
      "Response word 1 = 100 (0x64)\n",
      "Read 100 of 100 bytes.\n"
     ]
    }
   ],
   "source": [
    "# Lets's read some data from OCRAM with hexdump output\n",
    "%! blhost $CONNECTION read-memory 0x304f0000 100 -h"
   ]
  },
  {
   "cell_type": "markdown",
   "metadata": {},
   "source": [
    "## NXPELE\n",
    "\n",
    "NXPELE is a tool that can communicate with the EdgeLock enclave. It might be used for example for writing and reading the fuses and keyblob generation."
   ]
  },
  {
   "cell_type": "code",
   "execution_count": 12,
   "metadata": {},
   "outputs": [
    {
     "name": "stdout",
     "output_type": "stream",
     "text": [
      "nxpele -f mx93 -p com41 get-info \n",
      "ELE get info ends successfully:\n",
      "Command:          0xda\n",
      "Version:          1\n",
      "Length:           92\n",
      "SoC ID:           9300\n",
      "SoC version:      A000\n",
      "Life Cycle:       OEM_OPEN - 0x0010\n",
      "SSSM state:       4\n",
      "UUID:             f2a60176ff3044479bf0679973c69791\n",
      "SHA256 ROM PATCH: 0563db6df6388ec7f5b2bba52110bebdfa0302b6e3a39493e03c7c9be7ab8686\n",
      "SHA256 FW:        4d352fbbd4ecaac4359847e98f7851ac3f05e105005363ed5ff244b2a64176e9\n",
      "\n"
     ]
    }
   ],
   "source": [
    "# get information about the ELE\n",
    "%! nxpele -f mx93 $CONNECTION get-info"
   ]
  },
  {
   "cell_type": "code",
   "execution_count": 25,
   "metadata": {
    "tags": []
   },
   "outputs": [
    {
     "name": "stdout",
     "output_type": "stream",
     "text": [
      "nxpele -f mx93 -p com41 read-common-fuse -i 128 \n",
      "Read common fuse ends successfully.\n",
      "Fuse ID_128: 0x00000000\n",
      "\n"
     ]
    }
   ],
   "source": [
    "# read fuse with index 128 OEM_SRKH[255:224]\n",
    "%! nxpele -f mx93 $CONNECTION read-common-fuse -i 128"
   ]
  },
  {
   "cell_type": "code",
   "execution_count": 40,
   "metadata": {
    "tags": []
   },
   "outputs": [
    {
     "name": "stdout",
     "output_type": "stream",
     "text": [
      "nxpele -f mx93 -p com41 read-shadow-fuse -i 320 \n",
      "Read shadow fuse ends successfully.\n",
      "Fuse ID_320: 0x00000000\n",
      "\n"
     ]
    }
   ],
   "source": [
    "# read shadow fuse with index 320 MAC4_ADDR_31_0[31:0] (Reserved)\n",
    "%! nxpele -f mx93 $CONNECTION read-shadow-fuse -i 320"
   ]
  },
  {
   "cell_type": "code",
   "execution_count": 41,
   "metadata": {
    "tags": []
   },
   "outputs": [
    {
     "name": "stdout",
     "output_type": "stream",
     "text": [
      "nxpele -f mx93 -p com41 write-shadow-fuse -i 320 -d 0x12345678 \n",
      "ELE write shadow fuse ends successfully.\n"
     ]
    }
   ],
   "source": [
    "# write shadow fuse with index index 320 MAC4_ADDR_31_0[31:0] (Reserved)\n",
    "%! nxpele -f mx93 $CONNECTION write-shadow-fuse -i 320 -d 0x12345678"
   ]
  },
  {
   "cell_type": "code",
   "execution_count": 42,
   "metadata": {
    "tags": []
   },
   "outputs": [
    {
     "name": "stdout",
     "output_type": "stream",
     "text": [
      "nxpele -f mx93 -p com41 read-shadow-fuse -i 320 \n",
      "Read shadow fuse ends successfully.\n",
      "Fuse ID_320: 0x12345678\n",
      "\n"
     ]
    }
   ],
   "source": [
    "# read shadow fuse with index index 320 MAC4_ADDR_31_0[31:0] (Reserved)\n",
    "%! nxpele -f mx93 $CONNECTION read-shadow-fuse -i 320"
   ]
  }
 ],
 "metadata": {
  "kernelspec": {
   "display_name": "Python 3 (ipykernel)",
   "language": "python",
   "name": "python3"
  },
  "language_info": {
   "codemirror_mode": {
    "name": "ipython",
    "version": 3
   },
   "file_extension": ".py",
   "mimetype": "text/x-python",
   "name": "python",
   "nbconvert_exporter": "python",
   "pygments_lexer": "ipython3",
   "version": "3.11.0"
  },
  "vscode": {
   "interpreter": {
    "hash": "7e49b31b08ee6a6d8509263078c11b076a18c33ce0e89644813165ae065c47df"
   }
  }
 },
 "nbformat": 4,
 "nbformat_minor": 4
}
