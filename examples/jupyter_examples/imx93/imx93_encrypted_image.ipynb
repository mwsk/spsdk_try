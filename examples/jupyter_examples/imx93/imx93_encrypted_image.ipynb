{
 "cells": [
  {
   "cell_type": "markdown",
   "metadata": {},
   "source": [
    "# i.MX 93 encrypted and signed image\n",
    "\n",
    "This notebook describes how to build the bootable AHAB image with ELE firmware and user application (led blinky in this example) and sign it and encrypt it using the secure EdgeLock enclave.\n",
    "\n",
    "## Set up the environment\n",
    "\n",
    "- SPSDK is needed with examples extension. pip install spsdk[examples] (refer to the installation documentation)\n",
    "- This demo was tested with i.MX93 EVK board.\n",
    "\n",
    "\n",
    "# Flashloader\n",
    "\n",
    "We need to load flashloader first in order to communicate with the ELE using the mboot protocol. This is better described in \"imx93_flashloader\" notebook. Let's run it.\n",
    "\n"
   ]
  },
  {
   "cell_type": "code",
   "execution_count": 1,
   "metadata": {},
   "outputs": [
    {
     "name": "stdout",
     "output_type": "stream",
     "text": [
      "Created `%!` as an alias for `%execute`.\n",
      "nxpimage -v ahab export ahab_config_flashloader_signed256.yaml \n",
      "\u001b[37m\u001b[1mINFO:spsdk.apps.nxpimage:Created AHAB Image:\n",
      "Name:      AHAB Image\n",
      "Starts:    0x0\n",
      "Ends:      0x147af\n",
      "Size:      83.9 kB\n",
      "Alignment: 1 B\n",
      "AHAB Image for mx93_a0\n",
      "\u001b[39m\u001b[0m\n",
      "\u001b[37m\u001b[1mINFO:spsdk.apps.nxpimage:Created AHAB Image memory map:\n",
      "\n",
      "\u001b[90m+==0x0000_0000= AHAB Image =======================+\n",
      "\u001b[90m|                  Size: 83.9 kB                  |\n",
      "\u001b[90m|             AHAB Image for mx93_a0              |\n",
      "\u001b[90m|\u001b[34m+==0x0000_0000= AHAB Container 0 ===============+\u001b[90m|\n",
      "\u001b[90m|\u001b[34m|                  Size: 544 B                  |\u001b[90m|\n",
      "\u001b[90m|\u001b[34m|        AHAB Container for nxp_SWver:0         |\u001b[90m|\n",
      "\u001b[90m|\u001b[34m+==0x0000_021f==================================+\u001b[90m|\n",
      "\u001b[90m|                   Gap: 480 B                    |\n",
      "\u001b[90m|\u001b[32m+==0x0000_0400= AHAB Container 1 ===============+\u001b[90m|\n",
      "\u001b[90m|\u001b[32m|                  Size: 544 B                  |\u001b[90m|\n",
      "\u001b[90m|\u001b[32m|        AHAB Container for oem_SWver:0         |\u001b[90m|\n",
      "\u001b[90m|\u001b[32m+==0x0000_061f==================================+\u001b[90m|\n",
      "\u001b[90m|                   Gap: 6.6 kB                   |\n",
      "\u001b[90m|\u001b[36m+==0x0000_2000= Container 0 AHAB Data Image 0 ==+\u001b[90m|\n",
      "\u001b[90m|\u001b[36m|                 Size: 58.1 kB                 |\u001b[90m|\n",
      "\u001b[90m|\u001b[36m|AHAB encrypted data block with seco Image Type.|\u001b[90m|\n",
      "\u001b[90m|\u001b[36m+==0x0001_031f==================================+\u001b[90m|\n",
      "\u001b[90m|                   Gap: 224 B                    |\n",
      "\u001b[90m|\u001b[33m+==0x0001_0400= Container 1 AHAB Data Image 0 ==+\u001b[90m|\n",
      "\u001b[90m|\u001b[33m|                 Size: 17.3 kB                 |\u001b[90m|\n",
      "\u001b[90m|\u001b[33m|  AHAB data block with executable Image Type.  |\u001b[90m|\n",
      "\u001b[90m|\u001b[33m+==0x0001_47af==================================+\u001b[90m|\n",
      "\u001b[90m+==0x0001_47af====================================+\n",
      "\u001b[39m\u001b[39m\u001b[0m\n",
      "Success. (AHAB: C:/Users/nxf46245/spsdk/examples/jupyter_examples/imx93/outputs/flashloader_signed.bin created.)\n",
      "Generated SRK hash files (C:\\Users\\nxf46245\\spsdk\\examples\\jupyter_examples\\imx93\\flashloader_signed_oem1_srk_hash*.*).\n",
      "\n",
      "!!! THIS IS AN EXPERIMENTAL UTILITY! USE WITH CAUTION !!!\n",
      "\n",
      "\n",
      "!!! THIS IS AN EXPERIMENTAL UTILITY! USE WITH CAUTION !!!\n",
      "\n",
      "\u001b[37m\u001b[1mINFO:spsdk.sdp.sdps:Connect: OO Blank 93 (0x1FC9, 0x014E)\u001b[39m\u001b[0m\n",
      "\u001b[37m\u001b[1mINFO:spsdk.sdp.sdps:TX-CMD: WriteFile(length=83888)\u001b[39m\u001b[0m\n"
     ]
    },
    {
     "name": "stderr",
     "output_type": "stream",
     "text": [
      "INFO:libusbsio:Loading SIO library: C:\\Users\\nxf46245\\spsdk\\venv\\Lib\\site-packages\\libusbsio\\bin\\x64\\libusbsio.dll\n",
      "INFO:libusbsio:HID enumeration[2294280356624]: initialized\n",
      "INFO:libusbsio:HID enumeration[2294280356624]: finished, total 14 devices\n",
      "INFO:libusbsio.hidapi.dev:Opening HID device at path: 'b'\\\\\\\\?\\\\hid#vid_1fc9&pid_014e#6&6466ab0&0&0000#{4d1e55b2-f16f-11cf-88cb-001111000030}''\n",
      "INFO:libusbsio.hidapi.dev:HID device 2294237082624 is now open\n",
      "INFO:libusbsio.hidapi.dev:HID device 2294237082624 closed\n"
     ]
    },
    {
     "name": "stdout",
     "output_type": "stream",
     "text": [
      "nxpdevscan -p \n",
      "-------- Connected NXP UART Devices --------\n",
      "\n",
      "Port: COM41\n",
      "Type: mboot device\n",
      "\n",
      "blhost -p com41 get-property 1 \n",
      "Response status = 0 (0x0) Success.\n",
      "Response word 1 = 1258424320 (0x4b020800)\n",
      "Current Version = K2.8.0\n",
      "blhost -p com41 get-property 18 \n",
      "Response status = 0 (0x0) Success.\n",
      "Response word 1 = 2442643059 (0x9197c673)\n",
      "Response word 2 = 2573725851 (0x9967f09b)\n",
      "Response word 3 = 1195651327 (0x474430ff)\n",
      "Response word 4 = 1979819762 (0x7601a6f2)\n",
      "Unique Device Identification = 73 C6 97 91 9B F0 67 99 FF 30 44 47 F2 A6 01 76\n",
      "blhost -p com41 get-property 7 \n",
      "Response status = 0 (0x0) Success.\n",
      "Response word 1 = 25227228 (0x180efdc)\n",
      "Available Commands = ['ReadMemory', 'WriteMemory', 'FillMemory', 'GetProperty', 'ReceiveSBFile', 'Execute', 'Call', 'Reset', 'SetProperty', 'FlashProgramOnce', 'FlashReadOnce', 'FlashReadResource', 'UpdateLifeCycle', 'EleMessage']\n",
      "blhost -p com41 read-memory 0x304f0000 100 -h \n",
      "Reading memory\n",
      "00000000: 5E DB D7 6E 7D BB 0D B6  AC 9F F3 E1 ED 53 E4 DD  ^..n}........S..\n",
      "00000010: ED 22 80 C9 2B B2 EC 1F  ED 15 D6 33 FF 22 AE 72  .\"..+......3.\".r\n",
      "00000020: B3 56 32 72 8A 2F 1F 10  B7 09 86 CA 9E 8B C4 E1  .V2r./..........\n",
      "00000030: C2 A9 4F 77 33 8D 33 DC  58 1C 01 29 D1 D6 60 62  ..Ow3.3.X..)..`b\n",
      "00000040: F9 16 39 63 0A 8D 58 41  4D 68 F5 95 E7 EE 4D 4B  ..9c..XAMh....MK\n",
      "00000050: 60 23 56 58 F0 C2 D0 61  03 EE 8F 65 41 98 12 24  `#VX...a...eA..$\n",
      "00000060: CC 74 53 84                                       .tS.\n",
      "Response status = 0 (0x0) Success.\n",
      "Response word 1 = 100 (0x64)\n",
      "Read 100 of 100 bytes.\n",
      "nxpele -f mx93 -p com41 get-info \n",
      "ELE get info ends successfully:\n",
      "Command:          0xda\n",
      "Version:          1\n",
      "Length:           92\n",
      "SoC ID:           9300\n",
      "SoC version:      A000\n",
      "Life Cycle:       OEM_OPEN - 0x0010\n",
      "SSSM state:       4\n",
      "UUID:             f2a60176ff3044479bf0679973c69791\n",
      "SHA256 ROM PATCH: 0563db6df6388ec7f5b2bba52110bebdfa0302b6e3a39493e03c7c9be7ab8686\n",
      "SHA256 FW:        4d352fbbd4ecaac4359847e98f7851ac3f05e105005363ed5ff244b2a64176e9\n",
      "\n",
      "nxpele -f mx93 -p com41 read-common-fuse -i 128 \n",
      "Read common fuse ends successfully.\n",
      "Fuse ID_128: 0x00000000\n",
      "\n",
      "nxpele -f mx93 -p com41 read-shadow-fuse -i 320 \n",
      "Read shadow fuse ends successfully.\n",
      "Fuse ID_320: 0x00000000\n",
      "\n",
      "nxpele -f mx93 -p com41 write-shadow-fuse -i 320 -d 0x12345678 \n",
      "ELE write shadow fuse ends successfully.\n",
      "nxpele -f mx93 -p com41 read-shadow-fuse -i 320 \n",
      "Read shadow fuse ends successfully.\n",
      "Fuse ID_320: 0x12345678\n",
      "\n"
     ]
    }
   ],
   "source": [
    "%run ./imx93_flashloader.ipynb"
   ]
  },
  {
   "cell_type": "markdown",
   "metadata": {},
   "source": [
    "# NXPELE keyblob generation\n",
    "\n",
    "We can create DEK keyblob for image encryption using the *nxpele* application.\n",
    "For this demo we have chosen AES CBC mode with key size 128 bits. "
   ]
  },
  {
   "cell_type": "code",
   "execution_count": 2,
   "metadata": {},
   "outputs": [
    {
     "name": "stdout",
     "output_type": "stream",
     "text": [
      "\u001b[37m\u001b[1mINFO:spsdk.ele.ele_comm:ELE communicator is using 1024 B size buffer at 304B0000 address in mx93 target.\u001b[39m\u001b[0m\n",
      "\u001b[37m\u001b[1mINFO:spsdk.mboot.mcuboot:Connect: com41\u001b[39m\u001b[0m\n",
      "\u001b[37m\u001b[1mINFO:spsdk.mboot.mcuboot:CMD: WriteMemory(address=0x304B0000, length=32, mem_id=0)\u001b[39m\u001b[0m\n",
      "\u001b[37m\u001b[1mINFO:spsdk.mboot.mcuboot:CMD: GetProperty('MaxPacketSize', index=0)\u001b[39m\u001b[0m\n",
      "\u001b[37m\u001b[1mINFO:spsdk.mboot.mcuboot:CMD: Max Packet Size = 512\u001b[39m\u001b[0m\n",
      "\u001b[37m\u001b[1mINFO:spsdk.mboot.mcuboot:CMD: Successfully Send 32 out of 32 Bytes\u001b[39m\u001b[0m\n",
      "\u001b[37m\u001b[1mINFO:spsdk.mboot.mcuboot:CMD: WriteMemory(address=0x304B0020, length=24, mem_id=0)\u001b[39m\u001b[0m\n",
      "\u001b[37m\u001b[1mINFO:spsdk.mboot.mcuboot:CMD: GetProperty('MaxPacketSize', index=0)\u001b[39m\u001b[0m\n",
      "\u001b[37m\u001b[1mINFO:spsdk.mboot.mcuboot:CMD: Max Packet Size = 512\u001b[39m\u001b[0m\n",
      "\u001b[37m\u001b[1mINFO:spsdk.mboot.mcuboot:CMD: Successfully Send 24 out of 24 Bytes\u001b[39m\u001b[0m\n",
      "\u001b[37m\u001b[1mINFO:spsdk.mboot.mcuboot:CMD: EleMessage Command (cmdMsgAddr=0x304B0000, cmdMsgCnt=8)\u001b[39m\u001b[0m\n",
      "\u001b[37m\u001b[1mINFO:spsdk.mboot.mcuboot:CMD: EleMessage Response (respMsgAddr=0x304B0038, respMsgCnt=2)\u001b[39m\u001b[0m\n",
      "\u001b[37m\u001b[1mINFO:spsdk.mboot.mcuboot:CMD: ReadMemory(address=0x304B0038, length=8, mem_id=0)\u001b[39m\u001b[0m\n",
      "\u001b[37m\u001b[1mINFO:spsdk.mboot.mcuboot:CMD: Successfully Received 8 from 8 Bytes\u001b[39m\u001b[0m\n",
      "\u001b[37m\u001b[1mINFO:spsdk.mboot.mcuboot:CMD: ReadMemory(address=0x304B0040, length=512, mem_id=0)\u001b[39m\u001b[0m\n",
      "\u001b[37m\u001b[1mINFO:spsdk.mboot.mcuboot:CMD: Successfully Received 512 from 512 Bytes\u001b[39m\u001b[0m\n",
      "\u001b[37m\u001b[1mINFO:spsdk.ele.ele_comm:Sent message information:\n",
      "Command:         Generate KeyBlob request. - (0xaf)\n",
      "Command words:   8\n",
      "Command data:    True\n",
      "Response words:  2\n",
      "Response data:   True\n",
      "Response status: Success\n",
      "\n",
      "KeyBlob type:    DEK\n",
      "Key ID:          0\n",
      "Algorithm:       AES_CBC\n",
      "Key size:        128 bits\n",
      "\u001b[39m\u001b[0m\n",
      "\u001b[37m\u001b[1mINFO:spsdk.mboot.mcuboot:Closing: com41\u001b[39m\u001b[0m\n",
      "ELE generate DEK key blob ends successfully:\n",
      "0048008101100300ad34e02b02e4c366649e5831576288daf1bacea1c5b36c23731045f60a530c82563bc5346c30db89585e964fbf833219897b8616c71d9f6d48be80da010b9ee7\n"
     ]
    }
   ],
   "source": [
    "CONNECTION = \"-p com41\"\n",
    "\n",
    "! nxpele $VERBOSITY $CONNECTION -f mx93 generate-keyblob DEK -a AES_CBC -i 0 -k inputs/keys/dek_key.txt -s 128 -o outputs/dek_keyblob.bin "
   ]
  },
  {
   "attachments": {},
   "cell_type": "markdown",
   "metadata": {},
   "source": [
    "## Image preparation\n",
    "Now we should be ready to prepare the AHAB image for CM33 core containing ELE firmware and our application. We can use SPSDK *nxpimage* tool for image preparation.\n",
    "Configuration file that generates signed and encrypted AHAB image containing ELE FW and flashloader might look like this:\n",
    "\n",
    "```yaml\n",
    "---\n",
    "# ----------------------------------------------------------------------------------------------------\n",
    "# ===========  Advanced High-Assurance Boot Configuration template for rt1180.  ===========\n",
    "# ----------------------------------------------------------------------------------------------------\n",
    "#                                        == General Options ==\n",
    "family: mx93 # [Required], MCU family, Family identifier including the chip revision. If revision is not present, latest revision is used as default., Possible options:['rt118x']\n",
    "revision: a0 # [Optional], MCU revision, Revision of silicon, Possible options:['a0']\n",
    "image_type: serial_downloader # [Required], Type of image, The final use of image, this setting is changing the style of offsets in final container., Possible options:['xip', 'non_xip', 'serial_downloader']\n",
    "output: outputs/led_blink.bin # [Required], Output AHAB file name, Revision of silicon\n",
    "containers: # [Required], List of containers present in AHAB., The order of containers in the list defines the order in AHAB.\n",
    "  - # ----------------------------------------------------------------------------------------------------\n",
    "    #                     == Binary Container format to add to AHAB image ==\n",
    "    # ----------------------------------------------------------------------------------------------------\n",
    "    binary_container: # [Required], Binary AHAB container\n",
    "      path: inputs/mx93a0-ele-fw.img # [Required], The AHAB container binary file, The binary file that contains AHAB \"my_binary_container.bin\n",
    "  - # [Example of possible configuration #1]\n",
    "    # ----------------------------------------------------------------------------------------------------\n",
    "    #                  == Configuration Container format to add to AHAB image ==\n",
    "    # ----------------------------------------------------------------------------------------------------\n",
    "    container: # [Required], AHAB Container\n",
    "      srk_set: oem # [Required], Super Root Key (SRK) set, Defines which set is used to authenticate the container., Possible options:['none', 'oem', 'nxp']\n",
    "      used_srk_id: 0 # [Conditionally required], Used SRK, Which key from SRK set is being used.\n",
    "      srk_revoke_mask: 0 # [Optional], SRK revoke mask, Bitmask to indicate which SRKs to revoke. Bit set to 1 means revoke key. Bit 0 = revoke SRK_0, bit 1 = revoke SRK_1 etc.\n",
    "      fuse_version: 0 # [Required], Fuse version, The value must be equal or greater than the version stored in fuses to allow loading this container.\n",
    "      sw_version: 0 # [Required], Software version, Number used by Privileged Host Boot Companion (PHBC) to select between multiple images with same Fuse version field.\n",
    "      signing_key:\n",
    "        inputs/keys/ecc256/srk0_ecc256.pem # [Conditionally required], AHAB container signing key, Private key used for sign the container header. Header can be signed by SRK or by image key that was signed by SRK. If an image key is used, it must be the same algorithm and key size as the SRK. In both cases, the referenced SRK must not have been revoked.\n",
    "        # ----------------------------------------------------------------------------------------------------\n",
    "        #               == Configuration of AHAB Container images (array of multiple images) ==\n",
    "        # ----------------------------------------------------------------------------------------------------\n",
    "      images: # [Required], Image array, Array of image entries.\n",
    "        - image_path: inputs/mx93_led_blink_0x304a0000.bin # [Required], Image path, Path to image binary (absolute/relative).\n",
    "          image_offset: \"0x10000\" # [Required], Image offset in AHAB container, Relative address for start of AHAB image (can contain multiple AHAB containers). In case of XiP type of AHAB image, the load_address and entry_point must correspond to this values. Example of setting of load_address - AHAB_IMAGE_ADDRESS+IMAGE_OFFSET=LOAD_ADDRESS\n",
    "          load_address: \"0x304a0000\" # [Required], Image destination address, Address the image is written to in memory (absolute address in system memory).\n",
    "          entry_point: \"0x304a0000\" # [Required], Image entry point, Image entry point (absolute address). Valid only for executable image types.\n",
    "          image_type: executable # [Required], Image type, Kind of image., Possible options:['executable', 'data', 'dcd_image', 'seco', 'provisioning_image', 'provisioning_data']\n",
    "          core_id: cortex-m33 # [Required], Core ID, Defines the core the image is dedicated for., Possible options:['cortex-m33', 'cortex-m7']\n",
    "          is_encrypted: true # [Required], Image encryption, Determines, whether image is encrypted or not.\n",
    "          boot_flags: 0 # [Optional], Boot flags, Boot flags controlling SCFW boot.\n",
    "          meta_data_start_cpu_id: 0 # [Optional], Start CPU ID, Resource ID of CPU to be started\n",
    "          meta_data_mu_cpu_id: 0 # [Optional], CPU memory unit start ID, Resource ID of the MU associated with the CPU\n",
    "          meta_data_start_partition_id: 0 # [Optional], Start partition ID, Partition ID of the partition to start\n",
    "          hash_type: sha384 # [Optional], Images HASH type, HASH type of image. All images in the container must have the same HASH type., Possible options:['sha256', 'sha384', 'sha512']\n",
    "        # ----------------------------------------------------------------------------------------------------\n",
    "        #                                == Configuration of AHAB SRK table ==\n",
    "        # ----------------------------------------------------------------------------------------------------\n",
    "      srk_table: # [Conditionally required], SRK Table, SRK (Super Root key) table definition.\n",
    "        srk_array: # [Required], Super Root Key (SRK) table, Table containing the used SRK records. All SRKs must be of the same type. Supported signing algorithms are: RSASSA-PSS or ECDSA. Supported hash algorithms: sha256, sha384, sha512. Supported key sizes/curves: prime256v1, sec384r1, sec512r1, rsa2048, rsa4096. Certificate may be of Certificate Authority.\n",
    "          - inputs/keys/ecc256/srk0_ecc256.pub # SRK key, Path to SRK Key file.\n",
    "          - inputs/keys/ecc256/srk1_ecc256.pub # SRK key, Path to SRK Key file.\n",
    "          - inputs/keys/ecc256/srk2_ecc256.pub # SRK key, Path to SRK Key file.\n",
    "          - inputs/keys/ecc256/srk3_ecc256.pub # SRK key, Path to SRK Key file.\n",
    "      blob: # [Optional], Encryption blob, Encryption blob container definition\n",
    "        key_identifier: 0\n",
    "        dek_key_size: 128 # [Required], DEK key size, Data Encryption key size. Used for AES CBC-MAC (128/192/256 size), Possible options:[128, 192, 256]\n",
    "        dek_key: inputs/keys/dek_key.txt # [Required], DEK key, Data Encryption key. Used for AES CBC-MAC (128/192/256 size). The HEX format is accepted\n",
    "        dek_keyblob: outputs/dek_keyblob.bin # [Required], DEK keyblob, Wrapped Data Encryption key. Used for AES CBC-MAC (128/192/256 size). The HEX format is accepted\n",
    "\n",
    "``` \n",
    "\n",
    "All necessary files are prepared in the *inputs* directory. "
   ]
  },
  {
   "cell_type": "code",
   "execution_count": 6,
   "metadata": {},
   "outputs": [
    {
     "name": "stdout",
     "output_type": "stream",
     "text": [
      "Created `%!` as an alias for `%execute`.\n",
      "nxpimage -v ahab export -c ahab_config_led_blink_encrypted_signed256.yaml \n",
      "Success. (AHAB: C:/Users/nxf46245/spsdk/examples/jupyter_examples/imx93/outputs/led_blink.bin created.)\n",
      "Generated SRK hash files (c:\\Users\\nxf46245\\spsdk\\examples\\jupyter_examples\\imx93\\led_blink_oem1_srk_hash*.*).\n"
     ]
    },
    {
     "name": "stderr",
     "output_type": "stream",
     "text": [
      "WARNING:spsdk.image.ahab.ahab_container:The obsolete key 'image_type':serial_downloader has been converted into 'target_memory':serial_downloader (699ms since start, ahab_container.py:3514)\n",
      "INFO:spsdk.apps.nxpimage:Created AHAB Image:\n",
      "Name:      AHAB Image\n",
      "Starts:    0x0\n",
      "Ends:      0x11b8f\n",
      "Size:      Size: 72.6 kB; 72,592 B\n",
      "Alignment: 1 B\n",
      "AHAB Image for mx93_a0\n",
      "\n",
      "INFO:spsdk.apps.nxpimage:Created AHAB Image memory map:\n",
      "\n",
      "\u001b[90m+==0x0000_0000= AHAB Image =======================+\n",
      "\u001b[90m|             Size: 72.6 kB; 72,592 B             |\n",
      "\u001b[90m|             AHAB Image for mx93_a0              |\n",
      "\u001b[90m|\u001b[34m+==0x0000_0000= AHAB Container 0 ===============+\u001b[90m|\n",
      "\u001b[90m|\u001b[34m|                  Size: 544 B                  |\u001b[90m|\n",
      "\u001b[90m|\u001b[34m|        AHAB Container for nxp_SWver:0         |\u001b[90m|\n",
      "\u001b[90m|\u001b[34m+==0x0000_021f==================================+\u001b[90m|\n",
      "\u001b[90m|                   Gap: 480 B                    |\n",
      "\u001b[90m|\u001b[32m+==0x0000_0400= AHAB Container 1 ===============+\u001b[90m|\n",
      "\u001b[90m|\u001b[32m|                  Size: 616 B                  |\u001b[90m|\n",
      "\u001b[90m|\u001b[32m|        AHAB Container for oem_SWver:0         |\u001b[90m|\n",
      "\u001b[90m|\u001b[32m+==0x0000_0667==================================+\u001b[90m|\n",
      "\u001b[90m|                   Gap: 6.6 kB                   |\n",
      "\u001b[90m|\u001b[36m+==0x0000_2000= Container 0 AHAB Data Image 0 ==+\u001b[90m|\n",
      "\u001b[90m|\u001b[36m|            Size: 58.1 kB; 58,144 B            |\u001b[90m|\n",
      "\u001b[90m|\u001b[36m|AHAB encrypted data block with seco Image Type.|\u001b[90m|\n",
      "\u001b[90m|\u001b[36m+==0x0001_031f==================================+\u001b[90m|\n",
      "\u001b[90m|                   Gap: 224 B                    |\n",
      "\u001b[90m|\u001b[33m+==0x0001_0400= Container 1 AHAB Data Image 0 ==+\u001b[90m|\n",
      "\u001b[90m|\u001b[33m|             Size: 6.0 kB; 6,032 B             |\u001b[90m|\n",
      "\u001b[90m|\u001b[33m|AHAB encrypted data block with executable Image|\u001b[90m|\n",
      "\u001b[90m|\u001b[33m|                     Type.                     |\u001b[90m|\n",
      "\u001b[90m|\u001b[33m+==0x0001_1b8f==================================+\u001b[90m|\n",
      "\u001b[90m+==0x0001_1b8f====================================+\n",
      "\u001b[39m\n"
     ]
    }
   ],
   "source": [
    "%alias execute echo %l && %l\n",
    "%alias_magic ! execute\n",
    "\n",
    "WORKSPACE = \"workspace/\" # change this to path to your workspace\n",
    "VERBOSITY = \"-v\" # verbosity of commands, might be -v or -vv for debug or blank for no additional info\n",
    "AHAB_CONFIGURATION = \"ahab_config_led_blink_encrypted_signed256.yaml\"\n",
    "AHAB_IMAGE = \"outputs/led_blink.bin\"\n",
    "\n",
    "# export AHAB image with flashloader\n",
    "%! nxpimage $VERBOSITY ahab export -c $AHAB_CONFIGURATION \n",
    "\n"
   ]
  },
  {
   "cell_type": "markdown",
   "metadata": {},
   "source": [
    "# Fuse write and lifecycle move\n",
    "\n",
    "We need to write fuses and move the lifecycle to OEM_CLOSED in order to lock the part. Writing fuses can be done with the BCF (blhost batch file) script that was generated together with the AHAB image. Moving the lifecycle is done using the blhost *update-life-cycle*. The last step will be to reset the chip using the *nxpele* application.\n",
    "\n",
    "The script for writing fuses with blhost is automatically generated.\n",
    "```yaml\n",
    "# BLHOST SRK Hash fuses programming script\n",
    "# Generated by SPSDK 1.11.0\n",
    "# Chip: mx93 rev:a0\n",
    "# SRK Hash(Big Endian): cb2cc774b2dcec92c840eca0646b78f8d3661d3a43ed265a490a13aca75e190a\n",
    "\n",
    "#  OEM SRKH7 fuses.\n",
    "efuse-program-once 0x80 0x74c72ccb\n",
    "#  OEM SRKH6 fuses.\n",
    "efuse-program-once 0x81 0x92ecdcb2\n",
    "#  OEM SRKH5 fuses.\n",
    "efuse-program-once 0x82 0xa0ec40c8\n",
    "#  OEM SRKH4 fuses.\n",
    "efuse-program-once 0x83 0xf8786b64\n",
    "#  OEM SRKH3 fuses.\n",
    "efuse-program-once 0x84 0x3a1d66d3\n",
    "#  OEM SRKH2 fuses.\n",
    "efuse-program-once 0x85 0x5a26ed43\n",
    "#  OEM SRKH1 fuses.\n",
    "efuse-program-once 0x86 0xac130a49\n",
    "#  OEM SRKH0 fuses.\n",
    "efuse-program-once 0x87 0x0a195ea7\n",
    "```"
   ]
  },
  {
   "cell_type": "code",
   "execution_count": 4,
   "metadata": {},
   "outputs": [
    {
     "name": "stderr",
     "output_type": "stream",
     "text": [
      "ERROR:SPSDK: ELE Communication failed with mBoot: MBoot: EleMessage interrupted -> No response packet from target device\n"
     ]
    }
   ],
   "source": [
    "# !!! CAUTION the below commands lock the part !!! #\n",
    "# write fuses\n",
    "#! blhost $CONNECTION batch outputs/flashloader_signed_oem1_srk_hash_blhost.bcf\n",
    "\n",
    "# move lifecycle\n",
    "#! blhost $CONNECTION update-life-cycle 8\n",
    "\n",
    "# Reset the chip\n",
    "! nxpele -f mx93 $CONNECTION reset\n"
   ]
  },
  {
   "cell_type": "markdown",
   "metadata": {},
   "source": [
    "## Image download\n",
    "We use SPSDK tool *sdpshost* to load the image. So at first, we need to set up board boot configuration to Cortex-M serial downloader mode (1011) and load the image to OCRAM. Application should start immediately after loading the image."
   ]
  },
  {
   "cell_type": "code",
   "execution_count": 5,
   "metadata": {},
   "outputs": [
    {
     "name": "stdout",
     "output_type": "stream",
     "text": [
      "\n",
      "!!! THIS IS AN EXPERIMENTAL UTILITY! USE WITH CAUTION !!!\n",
      "\n",
      "\n",
      "!!! THIS IS AN EXPERIMENTAL UTILITY! USE WITH CAUTION !!!\n",
      "\n"
     ]
    }
   ],
   "source": [
    "# use SDPSHOST tool to download the image\n",
    "! sdpshost -u mx93 -n MX93 write-file $AHAB_IMAGE\n",
    "# use UUU tool to download the image\n",
    "# %! uuu -b emmc inputs/uboot_singleboot_flash.bin $AHAB_IMAGE "
   ]
  }
 ],
 "metadata": {
  "kernelspec": {
   "display_name": "Python 3 (ipykernel)",
   "language": "python",
   "name": "python3"
  },
  "language_info": {
   "codemirror_mode": {
    "name": "ipython",
    "version": 3
   },
   "file_extension": ".py",
   "mimetype": "text/x-python",
   "name": "python",
   "nbconvert_exporter": "python",
   "pygments_lexer": "ipython3",
   "version": "3.11.0"
  },
  "vscode": {
   "interpreter": {
    "hash": "7e49b31b08ee6a6d8509263078c11b076a18c33ce0e89644813165ae065c47df"
   }
  }
 },
 "nbformat": 4,
 "nbformat_minor": 4
}
