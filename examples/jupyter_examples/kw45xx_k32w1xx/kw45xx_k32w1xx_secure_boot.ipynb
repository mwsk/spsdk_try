{
 "cells": [
  {
   "attachments": {},
   "cell_type": "markdown",
   "metadata": {},
   "source": [
    "# KW45xx and K32W1xx Secure Boot\n",
    "\n",
    "This notebook describes how to how to set up a basic secure boot on KW45xx/K32W1xx devices using the SPSDK command line utilities."
   ]
  },
  {
   "attachments": {},
   "cell_type": "markdown",
   "metadata": {},
   "source": [
    "### Keys preparation\n",
    "\n",
    "First we need to generate RoTKs (Root of Trust Keys) and optionally ISK (Image Signing Certificate). We will use *nxpcrypto* app for this purpose. \n",
    "Script by default generates 4 RoTKs and 1 ISK key (full set of possible keys). Feel free to modify it according your needs.\n",
    "RoTK 0 generation is mandatory.\n",
    "\n",
    "See the script's comments and modify the script according to the application security requirements. \n",
    "Key generation is done only once on the beginning. Based on generated keys, RoTKTH value is calculated and loaded in the device fuses so that's why keys cannot be changed anymore for the device.\n",
    "\n"
   ]
  },
  {
   "cell_type": "code",
   "execution_count": 1,
   "metadata": {},
   "outputs": [
    {
     "name": "stdout",
     "output_type": "stream",
     "text": [
      "env: JUPYTER_SPSDK=1\n",
      "Created `%!` as an alias for `%execute`.\n"
     ]
    }
   ],
   "source": [
    "%run ../init_notebook.ipynb\n",
    "\n",
    "import os\n",
    "import pprint\n",
    "\n",
    "pp = pprint.PrettyPrinter(indent=4)\n",
    "\n",
    "WORKSPACE = \"workspace/\" # change this to path to your workspace\n",
    "VERBOSITY = \"\" # verbosity of commands, might be -v or -vv for debug or blank for no additional info"
   ]
  },
  {
   "cell_type": "code",
   "execution_count": 2,
   "metadata": {},
   "outputs": [
    {
     "name": "stdout",
     "output_type": "stream",
     "text": [
      "nxpcrypto  key generate -k secp384r1 workspace/ec_pk_secp384r1_cert0.pem --force \n",
      "The key pair has been created: C:\\spsdk\\examples\\jupyter_examples\\kw45xx_k32w1xx\\workspace\\ec_pk_secp384r1_cert0.pub, C:\\spsdk\\examples\\jupyter_examples\\kw45xx_k32w1xx\\workspace\\ec_pk_secp384r1_cert0.pem\n",
      "nxpcrypto  key generate -k secp384r1 workspace/ec_pk_secp384r1_cert1.pem --force \n",
      "The key pair has been created: C:\\spsdk\\examples\\jupyter_examples\\kw45xx_k32w1xx\\workspace\\ec_pk_secp384r1_cert1.pub, C:\\spsdk\\examples\\jupyter_examples\\kw45xx_k32w1xx\\workspace\\ec_pk_secp384r1_cert1.pem\n",
      "nxpcrypto  key generate -k secp384r1 workspace/ec_pk_secp384r1_cert2.pem --force \n",
      "The key pair has been created: C:\\spsdk\\examples\\jupyter_examples\\kw45xx_k32w1xx\\workspace\\ec_pk_secp384r1_cert2.pub, C:\\spsdk\\examples\\jupyter_examples\\kw45xx_k32w1xx\\workspace\\ec_pk_secp384r1_cert2.pem\n",
      "nxpcrypto  key generate -k secp384r1 workspace/ec_pk_secp384r1_cert3.pem --force \n",
      "The key pair has been created: C:\\spsdk\\examples\\jupyter_examples\\kw45xx_k32w1xx\\workspace\\ec_pk_secp384r1_cert3.pub, C:\\spsdk\\examples\\jupyter_examples\\kw45xx_k32w1xx\\workspace\\ec_pk_secp384r1_cert3.pem\n",
      "nxpcrypto  key generate -k secp384r1 workspace/ec_pk_secp384r1_sign_cert.pem --force \n",
      "The key pair has been created: C:\\spsdk\\examples\\jupyter_examples\\kw45xx_k32w1xx\\workspace\\ec_pk_secp384r1_sign_cert.pub, C:\\spsdk\\examples\\jupyter_examples\\kw45xx_k32w1xx\\workspace\\ec_pk_secp384r1_sign_cert.pem\n"
     ]
    }
   ],
   "source": [
    "# generate private key based on secp384r1 curve - ROTK0\n",
    "ROTK0_PRIVATE_KEY_PATH = WORKSPACE + \"ec_pk_secp384r1_cert0.pem\"\n",
    "ROTK0_PUBLIC_KEY_PATH = WORKSPACE + \"ec_pk_secp384r1_cert0.pub\"\n",
    "\n",
    "%! nxpcrypto $VERBOSITY key generate -k secp384r1 $ROTK0_PRIVATE_KEY_PATH --force\n",
    "\n",
    "# verify that keys were generated\n",
    "assert os.path.exists(ROTK0_PRIVATE_KEY_PATH)\n",
    "assert os.path.exists(ROTK0_PUBLIC_KEY_PATH)\n",
    "\n",
    "\n",
    "# generate private key based on secp384r1 curve - ROTK1\n",
    "ROTK1_PRIVATE_KEY_PATH = WORKSPACE + \"ec_pk_secp384r1_cert1.pem\"\n",
    "ROTK1_PUBLIC_KEY_PATH = WORKSPACE + \"ec_pk_secp384r1_cert1.pub\"\n",
    "\n",
    "%! nxpcrypto $VERBOSITY key generate -k secp384r1 $ROTK1_PRIVATE_KEY_PATH --force\n",
    "\n",
    "# verify that keys were generated\n",
    "assert os.path.exists(ROTK1_PRIVATE_KEY_PATH)\n",
    "assert os.path.exists(ROTK1_PUBLIC_KEY_PATH)\n",
    "\n",
    "\n",
    "# generate private key based on secp384r1 curve - ROTK2\n",
    "ROTK2_PRIVATE_KEY_PATH = WORKSPACE + \"ec_pk_secp384r1_cert2.pem\"\n",
    "ROTK2_PUBLIC_KEY_PATH = WORKSPACE + \"ec_pk_secp384r1_cert2.pub\"\n",
    "\n",
    "%! nxpcrypto $VERBOSITY key generate -k secp384r1 $ROTK2_PRIVATE_KEY_PATH --force\n",
    "\n",
    "# verify that keys were generated\n",
    "assert os.path.exists(ROTK2_PRIVATE_KEY_PATH)\n",
    "assert os.path.exists(ROTK2_PUBLIC_KEY_PATH)\n",
    "\n",
    "\n",
    "# generate private key based on secp384r1 curve - ROTK3\n",
    "ROTK3_PRIVATE_KEY_PATH = WORKSPACE + \"ec_pk_secp384r1_cert3.pem\"\n",
    "ROTK3_PUBLIC_KEY_PATH = WORKSPACE + \"ec_pk_secp384r1_cert3.pub\"\n",
    "\n",
    "%! nxpcrypto $VERBOSITY key generate -k secp384r1 $ROTK3_PRIVATE_KEY_PATH --force\n",
    "\n",
    "# verify that keys were generated\n",
    "assert os.path.exists(ROTK3_PRIVATE_KEY_PATH)\n",
    "assert os.path.exists(ROTK3_PUBLIC_KEY_PATH)\n",
    "\n",
    "\n",
    "# generate private key based on secp384r1 curve - ISK\n",
    "ISK_PRIVATE_KEY_PATH = WORKSPACE + \"ec_pk_secp384r1_sign_cert.pem\"\n",
    "ISK_PUBLIC_KEY_PATH = WORKSPACE + \"ec_pk_secp384r1_sign_cert.pub\"\n",
    "\n",
    "%! nxpcrypto $VERBOSITY key generate -k secp384r1 $ISK_PRIVATE_KEY_PATH --force\n",
    "\n",
    "# verify that keys were generated\n",
    "assert os.path.exists(ISK_PRIVATE_KEY_PATH)\n",
    "assert os.path.exists(ISK_PUBLIC_KEY_PATH)"
   ]
  },
  {
   "attachments": {},
   "cell_type": "markdown",
   "metadata": {},
   "source": [
    "### Certificates preparation\n",
    "\n",
    "Generate self-signed x509 certificate(s) containing public key for private key generated in previous step (ROTKX). \n",
    "Application *nxpcrypto* will be used. First step is to get a template."
   ]
  },
  {
   "cell_type": "code",
   "execution_count": 3,
   "metadata": {},
   "outputs": [
    {
     "name": "stdout",
     "output_type": "stream",
     "text": [
      "nxpcrypto  cert get-template workspace/cert0_template.yml --force \n",
      "The configuration template file has been created: C:\\spsdk\\examples\\jupyter_examples\\kw45xx_k32w1xx\\workspace\\cert0_template.yml\n",
      "nxpcrypto  cert get-template workspace/cert1_template.yml --force \n",
      "The configuration template file has been created: C:\\spsdk\\examples\\jupyter_examples\\kw45xx_k32w1xx\\workspace\\cert1_template.yml\n",
      "nxpcrypto  cert get-template workspace/cert2_template.yml --force \n",
      "The configuration template file has been created: C:\\spsdk\\examples\\jupyter_examples\\kw45xx_k32w1xx\\workspace\\cert2_template.yml\n",
      "nxpcrypto  cert get-template workspace/cert3_template.yml --force \n",
      "The configuration template file has been created: C:\\spsdk\\examples\\jupyter_examples\\kw45xx_k32w1xx\\workspace\\cert3_template.yml\n",
      "nxpcrypto  cert get-template workspace/sign_cert_template.yml --force \n",
      "The configuration template file has been created: C:\\spsdk\\examples\\jupyter_examples\\kw45xx_k32w1xx\\workspace\\sign_cert_template.yml\n"
     ]
    }
   ],
   "source": [
    "# obtain a template for root cert ROTK0\n",
    "ROOT0_CERT_CONFIG_PATH = WORKSPACE + \"cert0_template.yml\"\n",
    "%! nxpcrypto $VERBOSITY cert get-template $ROOT0_CERT_CONFIG_PATH --force\n",
    "\n",
    "# obtain a template for root cert ROTK1\n",
    "ROOT1_CERT_CONFIG_PATH = WORKSPACE + \"cert1_template.yml\"\n",
    "%! nxpcrypto $VERBOSITY cert get-template $ROOT1_CERT_CONFIG_PATH --force\n",
    "\n",
    "# obtain a template for root cert ROTK2\n",
    "ROOT2_CERT_CONFIG_PATH = WORKSPACE + \"cert2_template.yml\"\n",
    "%! nxpcrypto $VERBOSITY cert get-template $ROOT2_CERT_CONFIG_PATH --force\n",
    "\n",
    "# obtain a template for root cert ROTK3\n",
    "ROOT3_CERT_CONFIG_PATH = WORKSPACE + \"cert3_template.yml\"\n",
    "%! nxpcrypto $VERBOSITY cert get-template $ROOT3_CERT_CONFIG_PATH --force\n",
    "\n",
    "# obtain a template for root cert ISK\n",
    "ISK_CERT_CONFIG_PATH = WORKSPACE + \"sign_cert_template.yml\"\n",
    "%! nxpcrypto $VERBOSITY cert get-template $ISK_CERT_CONFIG_PATH --force"
   ]
  },
  {
   "attachments": {},
   "cell_type": "markdown",
   "metadata": {},
   "source": [
    "Configuration template for certificates should look like this:\n",
    "```yaml\n",
    "# This is template for configuration file used for generating certificates\n",
    "\n",
    "# ==============================================\n",
    "# Issuer identification fields\n",
    "# ==============================================\n",
    "# All available option can be found within class NameOID in\n",
    "# cryptography/src/cryptography/x509/oid.py at https://github.com/pyca/cryptography\n",
    "\n",
    "issuer:\n",
    "  COMMON_NAME: NXP\n",
    "  COUNTRY_NAME: CZ\n",
    "  LOCALITY_NAME: Roznov pod Radhostem\n",
    "  STATE_OR_PROVINCE_NAME: Morava\n",
    "  STREET_ADDRESS: 1.maje 1009\n",
    "  ORGANIZATION_NAME: SPSDK Team\n",
    "\n",
    "# ==============================================\n",
    "# Subject identification fields\n",
    "# ==============================================\n",
    "# All available option can be found within class NameOID in\n",
    "# cryptography/src/cryptography/x509/oid.py at https://github.com/pyca/cryptography\n",
    "subject:\n",
    "  COMMON_NAME: NXP - SPSDK\n",
    "  COUNTRY_NAME: CZ\n",
    "  LOCALITY_NAME: Roznov pod Radhostem\n",
    "  STATE_OR_PROVINCE_NAME: Morava\n",
    "  STREET_ADDRESS: 1.maje 1009\n",
    "  ORGANIZATION_NAME: SPSDK Team\n",
    "  POSTAL_CODE: 756 61\n",
    "\n",
    "# ==============================================\n",
    "# The certificate settings\n",
    "# ==============================================\n",
    "\n",
    "# Path, where issuer private key is stored\n",
    "issuer_private_key: issuer_key.pem\n",
    "# Path, where subject public key is stored\n",
    "subject_public_key: subject_key.pub\n",
    "# Serial number of certificate\n",
    "serial_number: 12346578\n",
    "# Validity duration in days\n",
    "duration: 3650\n",
    "\n",
    "# ==============================================\n",
    "# Certificate basic extensions\n",
    "# ==============================================\n",
    "extensions:\n",
    "  BASIC_CONSTRAINTS:\n",
    "    # Delegate certificate as a signing authority to create an intermediate certificates.\n",
    "    ca: false  # Valid values true|false\n",
    "    # Integer length of the path of certificate signature from a given certificate, back to the root certificate\n",
    "    path_length: 0\n",
    "```\n",
    "Certificates are in x.509 format and should be DER encoded."
   ]
  },
  {
   "cell_type": "code",
   "execution_count": 4,
   "metadata": {},
   "outputs": [
    {
     "name": "stdout",
     "output_type": "stream",
     "text": [
      "Root Certificate config:\n",
      "{   'duration': 3650,\n",
      "    'extensions': {'BASIC_CONSTRAINTS': {'ca': False, 'path_length': 0}},\n",
      "    'issuer': {   'COMMON_NAME': 'NXP',\n",
      "                  'COUNTRY_NAME': 'CZ',\n",
      "                  'LOCALITY_NAME': 'Roznov pod Radhostem',\n",
      "                  'ORGANIZATION_NAME': 'SPSDK Team',\n",
      "                  'STATE_OR_PROVINCE_NAME': 'Morava',\n",
      "                  'STREET_ADDRESS': '1.maje 1009'},\n",
      "    'issuer_private_key': 'workspace/ec_pk_secp384r1_cert0.pem',\n",
      "    'serial_number': 12346578,\n",
      "    'subject': {   'COMMON_NAME': 'NXP - SPSDK',\n",
      "                   'COUNTRY_NAME': 'CZ',\n",
      "                   'LOCALITY_NAME': 'Roznov pod Radhostem',\n",
      "                   'ORGANIZATION_NAME': 'SPSDK Team',\n",
      "                   'POSTAL_CODE': '756 61',\n",
      "                   'STATE_OR_PROVINCE_NAME': 'Morava',\n",
      "                   'STREET_ADDRESS': '1.maje 1009'},\n",
      "    'subject_public_key': 'workspace/ec_pk_secp384r1_cert0.pub'}\n",
      "Root Certificate config:\n",
      "{   'duration': 3650,\n",
      "    'extensions': {'BASIC_CONSTRAINTS': {'ca': False, 'path_length': 0}},\n",
      "    'issuer': {   'COMMON_NAME': 'NXP',\n",
      "                  'COUNTRY_NAME': 'CZ',\n",
      "                  'LOCALITY_NAME': 'Roznov pod Radhostem',\n",
      "                  'ORGANIZATION_NAME': 'SPSDK Team',\n",
      "                  'STATE_OR_PROVINCE_NAME': 'Morava',\n",
      "                  'STREET_ADDRESS': '1.maje 1009'},\n",
      "    'issuer_private_key': 'workspace/ec_pk_secp384r1_cert1.pem',\n",
      "    'serial_number': 12346578,\n",
      "    'subject': {   'COMMON_NAME': 'NXP - SPSDK',\n",
      "                   'COUNTRY_NAME': 'CZ',\n",
      "                   'LOCALITY_NAME': 'Roznov pod Radhostem',\n",
      "                   'ORGANIZATION_NAME': 'SPSDK Team',\n",
      "                   'POSTAL_CODE': '756 61',\n",
      "                   'STATE_OR_PROVINCE_NAME': 'Morava',\n",
      "                   'STREET_ADDRESS': '1.maje 1009'},\n",
      "    'subject_public_key': 'workspace/ec_pk_secp384r1_cert1.pub'}\n",
      "Root Certificate config:\n",
      "{   'duration': 3650,\n",
      "    'extensions': {'BASIC_CONSTRAINTS': {'ca': False, 'path_length': 0}},\n",
      "    'issuer': {   'COMMON_NAME': 'NXP',\n",
      "                  'COUNTRY_NAME': 'CZ',\n",
      "                  'LOCALITY_NAME': 'Roznov pod Radhostem',\n",
      "                  'ORGANIZATION_NAME': 'SPSDK Team',\n",
      "                  'STATE_OR_PROVINCE_NAME': 'Morava',\n",
      "                  'STREET_ADDRESS': '1.maje 1009'},\n",
      "    'issuer_private_key': 'workspace/ec_pk_secp384r1_cert2.pem',\n",
      "    'serial_number': 12346578,\n",
      "    'subject': {   'COMMON_NAME': 'NXP - SPSDK',\n",
      "                   'COUNTRY_NAME': 'CZ',\n",
      "                   'LOCALITY_NAME': 'Roznov pod Radhostem',\n",
      "                   'ORGANIZATION_NAME': 'SPSDK Team',\n",
      "                   'POSTAL_CODE': '756 61',\n",
      "                   'STATE_OR_PROVINCE_NAME': 'Morava',\n",
      "                   'STREET_ADDRESS': '1.maje 1009'},\n",
      "    'subject_public_key': 'workspace/ec_pk_secp384r1_cert2.pub'}\n",
      "Root Certificate config:\n",
      "{   'duration': 3650,\n",
      "    'extensions': {'BASIC_CONSTRAINTS': {'ca': False, 'path_length': 0}},\n",
      "    'issuer': {   'COMMON_NAME': 'NXP',\n",
      "                  'COUNTRY_NAME': 'CZ',\n",
      "                  'LOCALITY_NAME': 'Roznov pod Radhostem',\n",
      "                  'ORGANIZATION_NAME': 'SPSDK Team',\n",
      "                  'STATE_OR_PROVINCE_NAME': 'Morava',\n",
      "                  'STREET_ADDRESS': '1.maje 1009'},\n",
      "    'issuer_private_key': 'workspace/ec_pk_secp384r1_cert3.pem',\n",
      "    'serial_number': 12346578,\n",
      "    'subject': {   'COMMON_NAME': 'NXP - SPSDK',\n",
      "                   'COUNTRY_NAME': 'CZ',\n",
      "                   'LOCALITY_NAME': 'Roznov pod Radhostem',\n",
      "                   'ORGANIZATION_NAME': 'SPSDK Team',\n",
      "                   'POSTAL_CODE': '756 61',\n",
      "                   'STATE_OR_PROVINCE_NAME': 'Morava',\n",
      "                   'STREET_ADDRESS': '1.maje 1009'},\n",
      "    'subject_public_key': 'workspace/ec_pk_secp384r1_cert3.pub'}\n",
      "Root Certificate config:\n",
      "{   'duration': 3650,\n",
      "    'extensions': {'BASIC_CONSTRAINTS': {'ca': False, 'path_length': 0}},\n",
      "    'issuer': {   'COMMON_NAME': 'NXP',\n",
      "                  'COUNTRY_NAME': 'CZ',\n",
      "                  'LOCALITY_NAME': 'Roznov pod Radhostem',\n",
      "                  'ORGANIZATION_NAME': 'SPSDK Team',\n",
      "                  'STATE_OR_PROVINCE_NAME': 'Morava',\n",
      "                  'STREET_ADDRESS': '1.maje 1009'},\n",
      "    'issuer_private_key': 'workspace/ec_pk_secp384r1_sign_cert.pem',\n",
      "    'serial_number': 12346578,\n",
      "    'subject': {   'COMMON_NAME': 'NXP - SPSDK',\n",
      "                   'COUNTRY_NAME': 'CZ',\n",
      "                   'LOCALITY_NAME': 'Roznov pod Radhostem',\n",
      "                   'ORGANIZATION_NAME': 'SPSDK Team',\n",
      "                   'POSTAL_CODE': '756 61',\n",
      "                   'STATE_OR_PROVINCE_NAME': 'Morava',\n",
      "                   'STREET_ADDRESS': '1.maje 1009'},\n",
      "    'subject_public_key': 'workspace/ec_pk_secp384r1_sign_cert.pub'}\n",
      "nxpcrypto  cert generate -c workspace/cert0_template.yml -o workspace/ec_secp384r1_cert0.pem --force \n",
      "The certificate file has been created: C:\\spsdk\\examples\\jupyter_examples\\kw45xx_k32w1xx\\workspace\\ec_secp384r1_cert0.pem\n",
      "nxpcrypto  cert generate -c workspace/cert1_template.yml -o workspace/ec_secp384r1_cert1.pem --force \n",
      "The certificate file has been created: C:\\spsdk\\examples\\jupyter_examples\\kw45xx_k32w1xx\\workspace\\ec_secp384r1_cert1.pem\n",
      "nxpcrypto  cert generate -c workspace/cert2_template.yml -o workspace/ec_secp384r1_cert2.pem --force \n",
      "The certificate file has been created: C:\\spsdk\\examples\\jupyter_examples\\kw45xx_k32w1xx\\workspace\\ec_secp384r1_cert2.pem\n",
      "nxpcrypto  cert generate -c workspace/cert3_template.yml -o workspace/ec_secp384r1_cert3.pem --force \n",
      "The certificate file has been created: C:\\spsdk\\examples\\jupyter_examples\\kw45xx_k32w1xx\\workspace\\ec_secp384r1_cert3.pem\n",
      "nxpcrypto  cert generate -c workspace/sign_cert_template.yml -o workspace/ec_secp384r1_sign_cert.pem --force \n",
      "The certificate file has been created: C:\\spsdk\\examples\\jupyter_examples\\kw45xx_k32w1xx\\workspace\\ec_secp384r1_sign_cert.pem\n"
     ]
    }
   ],
   "source": [
    "ROOT_0_CERT_PATH = WORKSPACE + \"ec_secp384r1_cert0.pem\"\n",
    "ROOT_1_CERT_PATH = WORKSPACE + \"ec_secp384r1_cert1.pem\"\n",
    "ROOT_2_CERT_PATH = WORKSPACE + \"ec_secp384r1_cert2.pem\"\n",
    "ROOT_3_CERT_PATH = WORKSPACE + \"ec_secp384r1_cert3.pem\"\n",
    "ISK_CERT_PATH = WORKSPACE + \"ec_secp384r1_sign_cert.pem\"\n",
    "\n",
    "# Fill the configuration file accordingly\n",
    "import yaml\n",
    "\n",
    "assert os.path.exists(ROOT0_CERT_CONFIG_PATH)\n",
    "assert os.path.exists(ROOT1_CERT_CONFIG_PATH)\n",
    "assert os.path.exists(ROOT2_CERT_CONFIG_PATH)\n",
    "assert os.path.exists(ROOT3_CERT_CONFIG_PATH)\n",
    "\n",
    "# Create configuration for root certificate 0 \n",
    "with open(ROOT0_CERT_CONFIG_PATH) as cert_config:\n",
    "    # load yaml configuration to dictionary\n",
    "    cert = yaml.safe_load(cert_config)\n",
    "    # change path to private and public keys\n",
    "    cert['issuer_private_key'] = ROTK0_PRIVATE_KEY_PATH\n",
    "    cert['subject_public_key'] = ROTK0_PUBLIC_KEY_PATH\n",
    "\n",
    "with open(ROOT0_CERT_CONFIG_PATH, \"w+\") as cert_config:\n",
    "    print(\"Root Certificate config:\")\n",
    "    pp.pprint(cert)\n",
    "    # dump the dictionary back to YAML\n",
    "    yaml.dump(cert, cert_config)\n",
    "\n",
    "# Create configuration for root certificate 1\n",
    "with open(ROOT1_CERT_CONFIG_PATH) as cert_config:\n",
    "    # load yaml configuration to dictionary\n",
    "    cert = yaml.safe_load(cert_config)\n",
    "    # change path to private and public keys\n",
    "    cert['issuer_private_key'] = ROTK1_PRIVATE_KEY_PATH\n",
    "    cert['subject_public_key'] = ROTK1_PUBLIC_KEY_PATH\n",
    "\n",
    "with open(ROOT1_CERT_CONFIG_PATH, \"w+\") as cert_config:\n",
    "    print(\"Root Certificate config:\")\n",
    "    pp.pprint(cert)\n",
    "    # dump the dictionary back to YAML\n",
    "    yaml.dump(cert, cert_config)\n",
    "\n",
    "# Create configuration for root certificate 2\n",
    "with open(ROOT2_CERT_CONFIG_PATH) as cert_config:\n",
    "    # load yaml configuration to dictionary\n",
    "    cert = yaml.safe_load(cert_config)\n",
    "    # change path to private and public keys\n",
    "    cert['issuer_private_key'] = ROTK2_PRIVATE_KEY_PATH\n",
    "    cert['subject_public_key'] = ROTK2_PUBLIC_KEY_PATH\n",
    "\n",
    "with open(ROOT2_CERT_CONFIG_PATH, \"w+\") as cert_config:\n",
    "    print(\"Root Certificate config:\")\n",
    "    pp.pprint(cert)\n",
    "    # dump the dictionary back to YAML\n",
    "    yaml.dump(cert, cert_config)\n",
    "\n",
    "# Create configuration for root certificate 3\n",
    "with open(ROOT3_CERT_CONFIG_PATH) as cert_config:\n",
    "    # load yaml configuration to dictionary\n",
    "    cert = yaml.safe_load(cert_config)\n",
    "    # change path to private and public keys\n",
    "    cert['issuer_private_key'] = ROTK3_PRIVATE_KEY_PATH\n",
    "    cert['subject_public_key'] = ROTK3_PUBLIC_KEY_PATH\n",
    "\n",
    "with open(ROOT3_CERT_CONFIG_PATH, \"w+\") as cert_config:\n",
    "    print(\"Root Certificate config:\")\n",
    "    pp.pprint(cert)\n",
    "    # dump the dictionary back to YAML\n",
    "    yaml.dump(cert, cert_config)\n",
    "\n",
    "# Create configuration for ISK certificate \n",
    "with open(ISK_CERT_CONFIG_PATH) as cert_config:\n",
    "    # load yaml configuration to dictionary\n",
    "    cert = yaml.safe_load(cert_config)\n",
    "    # change path to private and public keys\n",
    "    cert['issuer_private_key'] = ISK_PRIVATE_KEY_PATH\n",
    "    cert['subject_public_key'] = ISK_PUBLIC_KEY_PATH\n",
    "\n",
    "with open(ISK_CERT_CONFIG_PATH, \"w+\") as cert_config:\n",
    "    print(\"Root Certificate config:\")\n",
    "    pp.pprint(cert)\n",
    "    # dump the dictionary back to YAML\n",
    "    yaml.dump(cert, cert_config)\n",
    "\n",
    "\n",
    "# Generate root certificates 0\n",
    "%! nxpcrypto $VERBOSITY cert generate -c $ROOT0_CERT_CONFIG_PATH -o $ROOT_0_CERT_PATH --force\n",
    "# Generate root certificates 1\n",
    "%! nxpcrypto $VERBOSITY cert generate -c $ROOT1_CERT_CONFIG_PATH -o $ROOT_1_CERT_PATH --force\n",
    "# Generate root certificates 2\n",
    "%! nxpcrypto $VERBOSITY cert generate -c $ROOT2_CERT_CONFIG_PATH -o $ROOT_2_CERT_PATH --force\n",
    "# Generate root certificates 3\n",
    "%! nxpcrypto $VERBOSITY cert generate -c $ROOT3_CERT_CONFIG_PATH -o $ROOT_3_CERT_PATH --force\n",
    "\n",
    "# Generate ISK certificate\n",
    "%! nxpcrypto $VERBOSITY cert generate -c $ISK_CERT_CONFIG_PATH -o $ISK_CERT_PATH --force\n",
    "\n",
    "# verify that certificates were generated\n",
    "assert os.path.exists(ROOT_0_CERT_PATH)\n",
    "assert os.path.exists(ROOT_1_CERT_PATH)\n",
    "assert os.path.exists(ROOT_2_CERT_PATH)\n",
    "assert os.path.exists(ROOT_3_CERT_PATH)\n",
    "assert os.path.exists(ISK_CERT_PATH)"
   ]
  },
  {
   "attachments": {},
   "cell_type": "markdown",
   "metadata": {},
   "source": [
    "### Prepare MBI configuration file\n",
    "\n",
    "In order to generate MBI file, npximage tool is used. The nxpimage tool generates the MBI file according to the configuration file.\n",
    "Let's create a template for MBI. Modify examples according your needs. "
   ]
  },
  {
   "cell_type": "code",
   "execution_count": 5,
   "metadata": {},
   "outputs": [
    {
     "name": "stdout",
     "output_type": "stream",
     "text": [
      "nxpimage  mbi get-templates -f kw45xx -o workspace/MBI \n",
      "Creating c:\\spsdk\\examples\\jupyter_examples\\kw45xx_k32w1xx\\workspace\\MBI\\kw45xx_int_xip_plain.yaml template file.\n",
      "Creating c:\\spsdk\\examples\\jupyter_examples\\kw45xx_k32w1xx\\workspace\\MBI\\kw45xx_int_xip_crc.yaml template file.\n",
      "Creating c:\\spsdk\\examples\\jupyter_examples\\kw45xx_k32w1xx\\workspace\\MBI\\kw45xx_int_xip_signed.yaml template file.\n",
      "Creating c:\\spsdk\\examples\\jupyter_examples\\kw45xx_k32w1xx\\workspace\\MBI\\kw45xx_int_xip_nxp_signed.yaml template file.\n"
     ]
    }
   ],
   "source": [
    "MBI_PATH = WORKSPACE + \"MBI\"\n",
    "%! nxpimage $VERBOSITY mbi get-templates -f kw45xx -o $MBI_PATH\n",
    "# For K32W1XX device:\n",
    "# %! nxpimage $VERBOSITY sb31 get-template -f k32w1xx -o $MBI_PATH"
   ]
  },
  {
   "cell_type": "code",
   "execution_count": 6,
   "metadata": {},
   "outputs": [
    {
     "name": "stdout",
     "output_type": "stream",
     "text": [
      "MBI:\n",
      "{   'family': 'kw45xx',\n",
      "    'firmwareVersion': 0,\n",
      "    'inputImageFile': 'hello_world_UART0.bin',\n",
      "    'mainRootCertId': 0,\n",
      "    'mainRootCertPrivateKeyFile': 'workspace/ec_pk_secp384r1_cert0.pem',\n",
      "    'manifestDigestHashAlgorithm': 'sha256',\n",
      "    'masterBootOutputFile': 'my_mbi.bin',\n",
      "    'noSignature': False,\n",
      "    'outputImageAuthenticationType': 'Signed',\n",
      "    'outputImageExecutionAddress': 0,\n",
      "    'outputImageExecutionTarget': 'Internal flash (XIP)',\n",
      "    'rootCertificate0File': 'workspace/ec_secp384r1_cert0.pem',\n",
      "    'rootCertificate1File': 'workspace/ec_secp384r1_cert1.pem',\n",
      "    'rootCertificate2File': 'workspace/ec_secp384r1_cert2.pem',\n",
      "    'rootCertificate3File': 'workspace/ec_secp384r1_cert3.pem',\n",
      "    'rootCertificateEllipticCurve': 'secp384r1',\n",
      "    'signingCertificateConstraint': 0,\n",
      "    'useIsk': False}\n"
     ]
    }
   ],
   "source": [
    "MBI_TEMPLATE = MBI_PATH + \"/\" + \"kw45xx_int_xip_signed.yaml\"\n",
    "MBI_OUTPUT_FILE = MBI_PATH + \"/\" + \"my_mbi.bin\"\n",
    "INPUT_IMAGE_FILE = \"hello_world_UART0.bin\"\n",
    "import yaml\n",
    "assert os.path.exists(MBI_TEMPLATE)\n",
    "\n",
    "# Create configuration for MBI\n",
    "with open(MBI_TEMPLATE) as mbi_config:\n",
    "    # load yaml configuration to dictionary\n",
    "    mbi = yaml.safe_load(mbi_config)\n",
    "    # change paths\n",
    "    mbi['rootCertificate0File'] = ROOT_0_CERT_PATH\n",
    "    mbi['rootCertificate1File'] = ROOT_1_CERT_PATH\n",
    "    mbi['rootCertificate2File'] = ROOT_2_CERT_PATH\n",
    "    mbi['rootCertificate3File'] = ROOT_3_CERT_PATH\n",
    "    mbi['mainRootCertId'] = 0\n",
    "    mbi['mainRootCertPrivateKeyFile'] = ROTK0_PRIVATE_KEY_PATH\n",
    "    mbi['rootCertificateEllipticCurve'] = \"secp384r1\"\n",
    "    mbi['inputImageFile'] = INPUT_IMAGE_FILE\n",
    "    del mbi['enableTrustZone']\n",
    "    del mbi['trustZonePresetFile']\n",
    "    del mbi['binaryCertificateBlock']\n",
    "    # Choose between two scenarios:\n",
    "\n",
    "    # # scenario 1\n",
    "    # # if you want to use ISK:\n",
    "    # mbi['useIsk'] = True\n",
    "    # mbi['signingCertificateFile'] = ISK_CERT_PATH\n",
    "    # mbi['signingCertificatePrivateKeyFile'] = ISK_PRIVATE_KEY_PATH\n",
    "    # mbi['signingCertificateConstraint'] = 0\n",
    "    # mbi['iskCertificateEllipticCurve'] = \"secp384r1\"\n",
    "    # # [optional, can contain user data\n",
    "    # del mbi['signCertData']\n",
    "\n",
    "    # scenario 2\n",
    "    #if you do not use ISK:\n",
    "    mbi['useIsk'] = False\n",
    "    del mbi['signingCertificatePrivateKeyFile']\n",
    "    del mbi['signingCertificateFile']\n",
    "    del mbi['signCertData']\n",
    "    del mbi['iskSignProvider']\n",
    "    del mbi['signProvider']\n",
    "\n",
    "    # This is common for both scenarios:\n",
    "\n",
    "with open(MBI_TEMPLATE, \"w+\") as mbi_config:\n",
    "    print(\"MBI:\")\n",
    "    pp.pprint(mbi)\n",
    "    # dump the dictionary back to YAML\n",
    "    yaml.dump(mbi, mbi_config)"
   ]
  },
  {
   "attachments": {},
   "cell_type": "markdown",
   "metadata": {},
   "source": [
    "### MBI generation\n",
    "\n",
    "We have created certificates and keys required for the creation of MBI file. Let's create a MBI."
   ]
  },
  {
   "cell_type": "code",
   "execution_count": 7,
   "metadata": {},
   "outputs": [
    {
     "name": "stdout",
     "output_type": "stream",
     "text": [
      "nxpimage -v mbi export workspace/MBI/kw45xx_int_xip_signed.yaml \n",
      "\u001b[37m\u001b[1mINFO:spsdk.utils.crypto.cert_blocks:RoTKTH: 9fa47edbeb32ce004d913cc5a0db98efb504edc3701221587efd4c3062c71d3a7ade6a77502ca600f9517454521153c2\u001b[39m\u001b[0m\n",
      "Success. (Master Boot Image: c:/spsdk/examples/jupyter_examples/kw45xx_k32w1xx/workspace/MBI/my_mbi.bin created.)\n"
     ]
    }
   ],
   "source": [
    "# Verbosity needs to be at least info (-v) in order to get SB3KDK and RoTKTH values\n",
    "# %! nxpimage $VERBOSITY mbi export $MBI_TEMPLATE\n",
    "%! nxpimage $VERBOSITY mbi export $MBI_TEMPLATE\n",
    "assert os.path.exists(MBI_OUTPUT_FILE)"
   ]
  },
  {
   "attachments": {},
   "cell_type": "markdown",
   "metadata": {},
   "source": [
    "## Device preparation\n",
    "\n",
    "Now it's time to prepare the device. In this example we will use KW45xx-EVK/K32W1xx board.\n",
    "\n",
    "First step is to enter ISP mode, this could be achieved by:\n",
    "\n",
    "1 ) Put JP25 to (1-2)\n",
    "\n",
    "2 ) Reset the board with SW4 pressed\n",
    "\n",
    "![KW45xx-EVK](img/KW45xx-EVK.png \"KW45xx-EVK\")\n",
    "\n",
    "![K32W1xx-EVK](img/K32W1xx-EVK.png \"K32W1xx-EVK\")\n",
    "\n",
    "\n",
    "Use app *nxpdevscan* to check if the device is connected to the PC in ISP mode.\n",
    "\n"
   ]
  },
  {
   "cell_type": "code",
   "execution_count": 8,
   "metadata": {},
   "outputs": [
    {
     "name": "stdout",
     "output_type": "stream",
     "text": [
      "nxpdevscan \n",
      "-------- Connected NXP USB Devices --------\n",
      "\n",
      "-------- Connected NXP UART Devices --------\n",
      "\n",
      "Port: COM6\n",
      "Type: mboot device\n",
      "\n",
      "-------- Connected NXP SIO Devices --------\n",
      "\n"
     ]
    }
   ],
   "source": [
    "# check if the device is connected and detected by PC\n",
    "%! nxpdevscan"
   ]
  },
  {
   "cell_type": "code",
   "execution_count": 9,
   "metadata": {},
   "outputs": [
    {
     "name": "stdout",
     "output_type": "stream",
     "text": [
      "blhost -p com6 get-property current-version \n",
      "Response status = 0 (0x0) Success.\n",
      "Response word 1 = 1258488064 (0x4b030100)\n",
      "Current Version = K3.1.0\n"
     ]
    }
   ],
   "source": [
    "# choose com port\n",
    "UART_CONNECTION = \"-p com6\"\n",
    "\n",
    "%! blhost $UART_CONNECTION get-property current-version"
   ]
  },
  {
   "attachments": {},
   "cell_type": "markdown",
   "metadata": {},
   "source": [
    "### Program device fuses with keys/RoTKTH generated in previous steps\n",
    "To program fuses blhost tool is used. Device needs to be in ISP mode, where it can communicate with blhost and process blhost commands.\n",
    "To serve the purpose of this document, ISP communication only over UART peripheral is considered for scripts. \n",
    "Also, accurate COMx port must be used.\n",
    "-\tWARNING!!! This step is destructive operation (burning fuses), be sure that you set value of RoTKH correctly in script as printed in output from nxpimage"
   ]
  },
  {
   "cell_type": "code",
   "execution_count": 10,
   "metadata": {},
   "outputs": [
    {
     "name": "stdout",
     "output_type": "stream",
     "text": [
      "blhost -p com6 set-property 0x16 1 \n",
      "Response status = 0 (0x0) Success.\n",
      "blhost -p com6 fuse-program 0x1F [[9fa47edbeb32ce004d913cc5a0db98efb504edc3701221587efd4c3062c71d3a7ade6a77502ca600f9517454521153c2]] \n",
      "Response status = 0 (0x0) Success.\n",
      "Response word 1 = 48 (0x30)\n",
      "blhost -p com6 set-property 0x16 0 \n",
      "Response status = 0 (0x0) Success.\n"
     ]
    }
   ],
   "source": [
    "# Increase voltage for fuse burning\n",
    "%! blhost $UART_CONNECTION set-property 0x16 1\n",
    "# program RoTKTH (CUST_PROD_OEMFW_AUTH_PUK)\n",
    "# put value RoTKTH generated by nxpimage\n",
    "%! blhost $UART_CONNECTION fuse-program 0x1F [[9fa47edbeb32ce004d913cc5a0db98efb504edc3701221587efd4c3062c71d3a7ade6a77502ca600f9517454521153c2]]\n",
    "# Set voltage to normal value\n",
    "%! blhost $UART_CONNECTION set-property 0x16 0"
   ]
  },
  {
   "attachments": {},
   "cell_type": "markdown",
   "metadata": {},
   "source": [
    "### Send MBI file to device\n",
    "\n",
    "Last step is to uploads MBI file with NBU image to device."
   ]
  },
  {
   "cell_type": "code",
   "execution_count": 11,
   "metadata": {},
   "outputs": [
    {
     "name": "stdout",
     "output_type": "stream",
     "text": [
      "blhost -p com6 write-memory 0x0 workspace/MBI/my_mbi.bin \n",
      "Writing memory\n",
      "Response status = 0 (0x0) Success.\n",
      "Response word 1 = 2904 (0xb58)\n"
     ]
    }
   ],
   "source": [
    "# uploads MBI\n",
    "%! blhost $UART_CONNECTION write-memory 0x0 $MBI_OUTPUT_FILE"
   ]
  },
  {
   "cell_type": "code",
   "execution_count": 12,
   "metadata": {},
   "outputs": [
    {
     "name": "stdout",
     "output_type": "stream",
     "text": [
      "blhost -p com6 reset \n",
      "Response status = 0 (0x0) Success.\n"
     ]
    }
   ],
   "source": [
    "%! blhost $UART_CONNECTION reset"
   ]
  }
 ],
 "metadata": {
  "kernelspec": {
   "display_name": "Python 3 (ipykernel)",
   "language": "python",
   "name": "python3"
  },
  "language_info": {
   "codemirror_mode": {
    "name": "ipython",
    "version": 3
   },
   "file_extension": ".py",
   "mimetype": "text/x-python",
   "name": "python",
   "nbconvert_exporter": "python",
   "pygments_lexer": "ipython3",
   "version": "3.10.8"
  },
  "vscode": {
   "interpreter": {
    "hash": "4ab21a5ebbf811bd5fc1902f6d9a7de0ca45b807ca8a4f69822a44f79381cc89"
   }
  }
 },
 "nbformat": 4,
 "nbformat_minor": 4
}
