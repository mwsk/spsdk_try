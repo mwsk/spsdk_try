{
 "cells": [
  {
   "attachments": {},
   "cell_type": "markdown",
   "metadata": {},
   "source": [
    "# MC56F81xxx/MWCT2xxx Device HSM and Secure Boot\n",
    "\n",
    "This notebook describes how to setup basic secure boot on MC56F81xxx/MWCT2xxx devices using the SPSDK *nxpdevhsm* and *nxpimage* applications.\n",
    "\n",
    "Secure Boot ensures authenticity, integrity and confidentiality of any software during the\n",
    "boot process and ensures that the intended secure level is reached. Secure Boot ensures that only properly signed (Original equipment manufacturer (OEM)-authentic) code can be executed on a device, protecting debug access is of utmost importance. Secure boot provides guarantee that unauthorized code cannot be executed on a given product.\n",
    "\n",
    "## 1. Prerequisites\n",
    "\n",
    "- SPSDK is needed with examples extension. `pip install spsdk[examples]` (Please refer to the [installation](../../_knowledge_base/installation_guide.rst) documentation.)\n",
    "\n",
    "- This example uses KW45xx-EVK/K32W1xx-EVK board\n",
    "\n",
    "Prepare a plain binary image as an input for the *nxpimage* tool. There are two sample applications in workspace with OPEN and CLOSED lifecycles."
   ]
  },
  {
   "cell_type": "code",
   "execution_count": 1,
   "metadata": {
    "tags": [
     "remove-cell"
    ]
   },
   "outputs": [
    {
     "name": "stdout",
     "output_type": "stream",
     "text": [
      "env: JUPYTER_SPSDK=1\n",
      "Created `%!` as an alias for `%execute`.\n"
     ]
    }
   ],
   "source": [
    "from spsdk.utils.jupyter_utils import YamlDiffWidget\n",
    "\n",
    "# This env variable sets colored logger output to STDOUT\n",
    "%env JUPYTER_SPSDK=1\n",
    "# Set a magic for command execution and echo\n",
    "%alias execute echo %l && %l\n",
    "%alias_magic ! execute"
   ]
  },
  {
   "cell_type": "code",
   "execution_count": 2,
   "metadata": {},
   "outputs": [],
   "source": [
    "FAMILY = \"mwct20d2\"  # change this to your family\n",
    "WORKSPACE = \"workspace/\"  # change this to path to your workspace\n",
    "DATA = \"inputs/\"  # data folder that contains input images\n",
    "VERBOSITY = (\n",
    "    \"\"  # verbosity of commands, might be -v or -vv for debug or blank for no additional info\n",
    ")"
   ]
  },
  {
   "attachments": {},
   "cell_type": "markdown",
   "metadata": {},
   "source": [
    "### 1.1 Signed image (MBI)\n",
    "\n",
    "In the picture below there's a layout of signed image.\n",
    "\n",
    "![Signed Image Layout](img/image_layout.png \"Signed Image Layout\")"
   ]
  },
  {
   "attachments": {},
   "cell_type": "markdown",
   "metadata": {},
   "source": [
    "## 2. Certificate block\n",
    "\n",
    "First step is to create certificate block and then signed image.\n",
    "\n",
    "Certificate block configuration contains ISK certificate, self-signed or NXP signed. If the key is self-signed, signing key or signature provider must be provided. In this example we will use already prepared key-pair from the workspace directory. User should prepare their own key-pair using the nxpcrypto application.\n",
    "\n",
    "You might use *get-template* command to obtain template configuration for cert-block.\n"
   ]
  },
  {
   "cell_type": "code",
   "execution_count": 3,
   "metadata": {},
   "outputs": [
    {
     "name": "stdout",
     "output_type": "stream",
     "text": [
      "nxpimage -v cert-block get-template -f mwct20d2 -o workspace/cert_block_template.yaml --force \n",
      "Creating workspace/cert_block_template.yaml template file.\n"
     ]
    },
    {
     "data": {
      "text/html": [
       "\n",
       "            \n",
       "            <style>\n",
       "                .yaml-diff { font-family: monospace; background-color: #f0f0f0; padding: 1em; border: 1px solid #c0c0c0; }\n",
       "                .yaml-key { color: #0000CC; font-weight: bold; }\n",
       "                .yaml-value { color: #006600; }\n",
       "                .yaml-commented-line { color: #008800; }\n",
       "                .yaml-list-item { color: #660066; }\n",
       "                .diff-removed { background-color: #ffaaaa; }\n",
       "                .diff-added { background-color: #aaffaa; }\n",
       "                .yaml-comment {\n",
       "                    background-color: #FF8C00;\n",
       "                    color: #000000;\n",
       "                    border-radius: 50%;\n",
       "                    padding: 0 0.3em;\n",
       "                    margin-left: 0.5em;\n",
       "                    font-size: 0.8em;\n",
       "                    cursor: help;\n",
       "                    font-weight: bold;\n",
       "                    text-shadow: 1px 1px 1px rgba(255, 255, 255, 0.7);\n",
       "                }\n",
       "                #toggleButton_e7d899b8c9c0e29f751bd72b89f95227 {\n",
       "                    background-color: #4CAF50;\n",
       "                    border: none;\n",
       "                    color: white;\n",
       "                    padding: 10px 20px;\n",
       "                    text-align: center;\n",
       "                    text-decoration: none;\n",
       "                    display: inline-block;\n",
       "                    font-size: 16px;\n",
       "                    margin: 4px 2px;\n",
       "                    cursor: pointer;\n",
       "                }\n",
       "            </style>\n",
       "            \n",
       "            \n",
       "            <script>\n",
       "            function toggleView_e7d899b8c9c0e29f751bd72b89f95227() {\n",
       "                var diffView = document.getElementById('diffView_e7d899b8c9c0e29f751bd72b89f95227');\n",
       "                var userConfigView = document.getElementById('userConfigView_e7d899b8c9c0e29f751bd72b89f95227');\n",
       "                var button = document.getElementById('toggleButton_e7d899b8c9c0e29f751bd72b89f95227');\n",
       "\n",
       "                if (diffView.style.display === 'none' && userConfigView.style.display === 'none') {\n",
       "                    diffView.style.display = 'block';\n",
       "                    userConfigView.style.display = 'none';\n",
       "                    button.textContent = 'Show User Config';\n",
       "                } else if (diffView.style.display === 'block') {\n",
       "                    diffView.style.display = 'none';\n",
       "                    userConfigView.style.display = 'block';\n",
       "                    button.textContent = 'Hide';\n",
       "                } else {\n",
       "                    diffView.style.display = 'none';\n",
       "                    userConfigView.style.display = 'none';\n",
       "                    button.textContent = 'Show Diff';\n",
       "                }\n",
       "            }\n",
       "            </script>\n",
       "            \n",
       "            <div class=\"yaml-diff-container\">\n",
       "            <h3>Configuration Differences</h3>\n",
       "            <button onclick=\"toggleView_e7d899b8c9c0e29f751bd72b89f95227()\" id=\"toggleButton_e7d899b8c9c0e29f751bd72b89f95227\">Show Diff</button>\n",
       "            \n",
       "            <a href=\"data:text/plain;base64,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\" download=\"user_config.yaml\">\n",
       "                <button style=\"background-color: #4CAF50; border: none; color: white; padding: 10px 20px; text-align: center; text-decoration: none; display: inline-block; font-size: 16px; margin: 4px 2px; cursor: pointer;\">\n",
       "                    Download Config\n",
       "                </button>\n",
       "            </a>\n",
       "            \n",
       "            <div id=\"diffView_e7d899b8c9c0e29f751bd72b89f95227\" class=\"yaml-diff\" style=\"display:none;\"><pre class=\"yaml-diff\"><span class=\"yaml-commented-line\"># ========================  cert_block Configuration template for mwct20d2, Revision: latest.  =========================</span><br><br><span class=\"diff-added\"><span class=\"yaml-key\">-</span>--</span><br><span class=\"yaml-commented-line\"># ======================================================================================================================</span><br><span class=\"yaml-commented-line\">#                                                 == General Options ==                                                 </span><br><span class=\"yaml-commented-line\"># ======================================================================================================================</span><br><span class=\"yaml-commented-line\"># -------------------------------------===== The chip family name [Required] =====--------------------------------------</span><br><span class=\"yaml-commented-line\"># Description: NXP chip family identifier.</span><br><span class=\"yaml-key\">family</span>: <span class=\"yaml-value\">mwct20d2</span><br><span class=\"yaml-commented-line\"># -----------------------------------------===== MCU revision [Optional] =====------------------------------------------</span><br><span class=\"yaml-commented-line\"># Description: Revision of silicon. The 'latest' name, means most current revision.</span><br><span class=\"yaml-commented-line\"># Possible options: <b1, latest></span><br><span class=\"yaml-key\">revision</span>: <span class=\"yaml-value\">latest</span><br><span class=\"yaml-commented-line\"># ======================================================================================================================</span><br><span class=\"yaml-commented-line\">#                                             == ISK Certificate Settings ==                                            </span><br><span class=\"yaml-commented-line\"># ======================================================================================================================</span><br><span class=\"yaml-commented-line\"># -------------===== True if certificate is self signed, false for NXP Signed certificate [Optional] =====--------------</span><br><span class=\"yaml-commented-line\"># Description: NXP Signed = false, Self signed = true</span><br><span class=\"yaml-key\">selfSigned</span>: <span class=\"yaml-value\">true</span> <span style=\"background-color: #FFFF00; border-radius: 5px; padding: 2px 6px;\n",
       "margin-left: 5px; font-size: 0.8em;\">set to true for self-signed certificate</span><br><span class=\"yaml-commented-line\"># ---------------------------------===== ISK public key [Conditionally required] =====----------------------------------</span><br><span class=\"yaml-commented-line\"># Description: Path to ISK public key.</span><br><span class=\"diff-removed\"><span class=\"yaml-key\">iskPublicKey</span>: <span class=\"yaml-value\">sign_cert.pub</span> <span style=\"background-color: #FFFF00; border-radius: 5px; padding:\n",
       "2px 6px; margin-left: 5px; font-size: 0.8em;\">Add path to the ISK public key file</span></span><br><span class=\"diff-added\"><span class=\"yaml-key\">iskPublicKey</span>: <span class=\"yaml-value\">ec_secp256r1_sign_cert.pem</span></span><br><span class=\"yaml-commented-line\"># -------------------------------===== Signature Provider [Conditionally required] =====--------------------------------</span><br><span class=\"yaml-commented-line\"># Description: Signature provider configuration in format 'type=<sp_type>;<key1>=<value1>;<key2>=<value2>' a path to a</span><br><span class=\"yaml-commented-line\"># Main root Certification Private Key.</span><br><span class=\"diff-removed\"><span class=\"yaml-key\">signer</span>: <span class=\"yaml-value\">type=file;file_path=root_prv_key.pem</span> <span style=\"background-color: #FFFF00; border-\n",
       "radius: 5px; padding: 2px 6px; margin-left: 5px; font-size: 0.8em;\">Add path to your private key file for signing</span></span><br><span class=\"diff-added\"><span class=\"yaml-key\">signer</span>: <span class=\"yaml-value\">ec_pk_secp256r1_sign_cert.pem</span></span><br><span class=\"yaml-commented-line\"># ======================================================================================================================</span><br><span class=\"yaml-commented-line\">#                                                  == Basic Settings ==                                                 </span><br><span class=\"yaml-commented-line\"># ======================================================================================================================</span><br><span class=\"yaml-commented-line\"># --------------------------------------===== cert block filename [Required] =====--------------------------------------</span><br><span class=\"yaml-commented-line\"># Description: Generated cert block filename.</span><br><span class=\"diff-removed\"><span class=\"yaml-key\">containerOutputFile</span>: <span class=\"yaml-value\">cert_block.bin</span> <span style=\"background-color: #FFFF00; border-radius: 5px;\n",
       "padding: 2px 6px; margin-left: 5px; font-size: 0.8em;\">Add path to the output file for the container</span></span><br><span class=\"diff-added\"><span class=\"yaml-key\">containerOutputFile</span>: <span class=\"yaml-value\">../workspace/cert_block.bin</span></span><br></pre></div>\n",
       "            <div id=\"userConfigView_e7d899b8c9c0e29f751bd72b89f95227\" class=\"yaml-diff\" style=\"display:none;\"><pre class=\"yaml-diff\"><span class=\"yaml-commented-line\"># Copyright 2023-2025 NXP</span><br><span class=\"yaml-commented-line\">#</span><br><span class=\"yaml-commented-line\"># SPDX-License-Identifier: BSD-3-Clause</span><br><br><span class=\"yaml-key\">-</span>--<br><span class=\"yaml-commented-line\"># =====================================  Certification Block for MC56xx template  ======================================</span><br><span class=\"yaml-commented-line\"># ======================================================================================================================</span><br><span class=\"yaml-commented-line\">#                                                 == General Options ==</span><br><span class=\"yaml-commented-line\"># ======================================================================================================================</span><br><span class=\"yaml-commented-line\"># -------------------------------------===== The chip family name [Required] =====--------------------------------------</span><br><span class=\"yaml-commented-line\"># Description: NXP chip family identifier.</span><br><span class=\"yaml-key\">family</span>: <span class=\"yaml-value\">mwct20d2</span><br><span class=\"yaml-commented-line\"># -----------------------------------------===== MCU revision [Optional] =====------------------------------------------</span><br><span class=\"yaml-commented-line\"># Description: Revision of silicon. The 'latest' name, means most current revision.</span><br><span class=\"yaml-commented-line\"># Possible options: <b1, latest></span><br><span class=\"yaml-key\">revision</span>: <span class=\"yaml-value\">latest</span><br><span class=\"yaml-commented-line\"># ======================================================================================================================</span><br><span class=\"yaml-commented-line\">#                                             == ISK Certificate Settings ==</span><br><span class=\"yaml-commented-line\"># ======================================================================================================================</span><br><span class=\"yaml-key\">selfSigned</span>: <span class=\"yaml-value\">true</span> <span style=\"background-color: #FFFF00; border-radius: 5px; padding: 2px 6px;\n",
       "margin-left: 5px; font-size: 0.8em;\">set to true for self-signed certificate</span><br><span class=\"yaml-commented-line\"># ---------------------------------===== ISK public key [Conditionally required] =====----------------------------------</span><br><span class=\"yaml-commented-line\"># Description: Path to ISK public key.</span><br><span class=\"yaml-key\">iskPublicKey</span>: <span class=\"yaml-value\">ec_secp256r1_sign_cert.pem</span> <span style=\"background-color: #FFFF00; border-radius:\n",
       "5px; padding: 2px 6px; margin-left: 5px; font-size: 0.8em;\">Add path to the ISK public key file</span><br><span class=\"yaml-commented-line\"># -----------------------===== Main root Certification Private Key [Conditionally required] =====-----------------------</span><br><span class=\"yaml-commented-line\"># Description: Path to Main root Certification Private Key.</span><br><span class=\"yaml-key\">signer</span>: <span class=\"yaml-value\">ec_pk_secp256r1_sign_cert.pem</span> <span style=\"background-color: #FFFF00; border-radius: 5px;\n",
       "padding: 2px 6px; margin-left: 5px; font-size: 0.8em;\">Add path to your private key file for signing</span><br><span class=\"yaml-commented-line\"># ======================================================================================================================</span><br><span class=\"yaml-commented-line\">#                                                  == Basic Settings ==</span><br><span class=\"yaml-commented-line\"># ======================================================================================================================</span><br><span class=\"yaml-commented-line\"># --------------------------------------===== cert block filename [Required] =====--------------------------------------</span><br><span class=\"yaml-commented-line\"># Description: Generated cert block filename.</span><br><span class=\"yaml-key\">containerOutputFile</span>: <span class=\"yaml-value\">../workspace/cert_block.bin</span> <span style=\"background-color: #FFFF00; border-\n",
       "radius: 5px; padding: 2px 6px; margin-left: 5px; font-size: 0.8em;\">Add path to the output file for the container</span><br></pre></div>\n",
       "            </div>\n",
       "            "
      ],
      "text/plain": [
       "<IPython.core.display.HTML object>"
      ]
     },
     "execution_count": 3,
     "metadata": {},
     "output_type": "execute_result"
    }
   ],
   "source": [
    "YamlDiffWidget(\"inputs/mc56_devhsm_cert_block.diffc\").html"
   ]
  },
  {
   "attachments": {},
   "cell_type": "markdown",
   "metadata": {},
   "source": [
    "## 3. Generate signed image (MBI) and Cert Block\n",
    "\n",
    "Template configuration for MBI might be created with *get-templates* command with proper device family (mc56f81868 or mwct20d2).\n",
    "The only supported outputImageAuthenticationType is *signed* and outputImageExecutionTarget is *xip*.\n",
    "\n",
    "User must provide input binary file built with CodeWarrior that contains properly configured BCA and FCB sections. (Do not forget the lifecycle!. Lifecycle is setup in the application - flash.h). Lifecycle might be updated in the MBI configuration using the lifeCycle property.\n",
    "\n",
    "*addCertHash* option will append certificate hash to the offset 0x4A0. This should be only used to test the image before writing certificate hash to IFR. After IFR has been written, it's no longer necessary to append hash to image.\n",
    "\n",
    "User should also provide private key or signature provider that will be used for image signature.\n",
    "\n",
    "> Generated MBI should be split to two parts at 0x800 and 0XC00 to exclude DUK Certificate block. This part of memory is write protected, when using the blhost write-memory. However, it could be written using the SBx.\n",
    "\n"
   ]
  },
  {
   "cell_type": "code",
   "execution_count": 4,
   "metadata": {},
   "outputs": [
    {
     "name": "stdout",
     "output_type": "stream",
     "text": [
      "nxpimage -v mbi get-templates -f mwct20d2 -o workspace/templates --force \n",
      "Creating workspace/templates/mwct20d2_xip_signed.yaml template file.\n",
      "Creating workspace/templates/mwct20d2_xip_plain.yaml template file.\n"
     ]
    },
    {
     "data": {
      "text/html": [
       "\n",
       "            \n",
       "            <style>\n",
       "                .yaml-diff { font-family: monospace; background-color: #f0f0f0; padding: 1em; border: 1px solid #c0c0c0; }\n",
       "                .yaml-key { color: #0000CC; font-weight: bold; }\n",
       "                .yaml-value { color: #006600; }\n",
       "                .yaml-commented-line { color: #008800; }\n",
       "                .yaml-list-item { color: #660066; }\n",
       "                .diff-removed { background-color: #ffaaaa; }\n",
       "                .diff-added { background-color: #aaffaa; }\n",
       "                .yaml-comment {\n",
       "                    background-color: #FF8C00;\n",
       "                    color: #000000;\n",
       "                    border-radius: 50%;\n",
       "                    padding: 0 0.3em;\n",
       "                    margin-left: 0.5em;\n",
       "                    font-size: 0.8em;\n",
       "                    cursor: help;\n",
       "                    font-weight: bold;\n",
       "                    text-shadow: 1px 1px 1px rgba(255, 255, 255, 0.7);\n",
       "                }\n",
       "                #toggleButton_eeac0482efea0415dba83ac170f26f1c {\n",
       "                    background-color: #4CAF50;\n",
       "                    border: none;\n",
       "                    color: white;\n",
       "                    padding: 10px 20px;\n",
       "                    text-align: center;\n",
       "                    text-decoration: none;\n",
       "                    display: inline-block;\n",
       "                    font-size: 16px;\n",
       "                    margin: 4px 2px;\n",
       "                    cursor: pointer;\n",
       "                }\n",
       "            </style>\n",
       "            \n",
       "            \n",
       "            <script>\n",
       "            function toggleView_eeac0482efea0415dba83ac170f26f1c() {\n",
       "                var diffView = document.getElementById('diffView_eeac0482efea0415dba83ac170f26f1c');\n",
       "                var userConfigView = document.getElementById('userConfigView_eeac0482efea0415dba83ac170f26f1c');\n",
       "                var button = document.getElementById('toggleButton_eeac0482efea0415dba83ac170f26f1c');\n",
       "\n",
       "                if (diffView.style.display === 'none' && userConfigView.style.display === 'none') {\n",
       "                    diffView.style.display = 'block';\n",
       "                    userConfigView.style.display = 'none';\n",
       "                    button.textContent = 'Show User Config';\n",
       "                } else if (diffView.style.display === 'block') {\n",
       "                    diffView.style.display = 'none';\n",
       "                    userConfigView.style.display = 'block';\n",
       "                    button.textContent = 'Hide';\n",
       "                } else {\n",
       "                    diffView.style.display = 'none';\n",
       "                    userConfigView.style.display = 'none';\n",
       "                    button.textContent = 'Show Diff';\n",
       "                }\n",
       "            }\n",
       "            </script>\n",
       "            \n",
       "            <div class=\"yaml-diff-container\">\n",
       "            <h3>Configuration Differences</h3>\n",
       "            <button onclick=\"toggleView_eeac0482efea0415dba83ac170f26f1c()\" id=\"toggleButton_eeac0482efea0415dba83ac170f26f1c\">Show Diff</button>\n",
       "            \n",
       "            <a href=\"data:text/plain;base64,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\" download=\"user_config.yaml\">\n",
       "                <button style=\"background-color: #4CAF50; border: none; color: white; padding: 10px 20px; text-align: center; text-decoration: none; display: inline-block; font-size: 16px; margin: 4px 2px; cursor: pointer;\">\n",
       "                    Download Config\n",
       "                </button>\n",
       "            </a>\n",
       "            \n",
       "            <div id=\"diffView_eeac0482efea0415dba83ac170f26f1c\" class=\"yaml-diff\" style=\"display:none;\"><pre class=\"yaml-diff\"><span class=\"diff-added\"></span><br><span class=\"yaml-commented-line\"># ============================  mbi Configuration template for mwct20d2, Revision: latest.  ============================</span><br><br><span class=\"yaml-commented-line\"># ======================================================================================================================</span><br><span class=\"yaml-commented-line\">#                                                 == General Options ==                                                 </span><br><span class=\"yaml-commented-line\"># ======================================================================================================================</span><br><span class=\"yaml-commented-line\"># -------------------------------------===== The chip family name [Required] =====--------------------------------------</span><br><span class=\"yaml-commented-line\"># Description: NXP chip family identifier.</span><br><span class=\"yaml-key\">family</span>: <span class=\"yaml-value\">mwct20d2</span><br><span class=\"yaml-commented-line\"># -----------------------------------------===== MCU revision [Optional] =====------------------------------------------</span><br><span class=\"yaml-commented-line\"># Description: Revision of silicon. The 'latest' name, means most current revision.</span><br><span class=\"yaml-commented-line\"># Possible options: <b1, latest></span><br><span class=\"yaml-key\">revision</span>: <span class=\"yaml-value\">latest</span><br><span class=\"yaml-commented-line\"># ======================================================================================================================</span><br><span class=\"yaml-commented-line\">#                                                  == Basic Settings ==                                                 </span><br><span class=\"yaml-commented-line\"># ======================================================================================================================</span><br><span class=\"yaml-commented-line\"># --------------------------------------===== Application target [Required] =====---------------------------------------</span><br><span class=\"yaml-commented-line\"># Description: Definition if application is Execute in Place(XiP) or loaded to RAM during reset sequence.</span><br><span class=\"yaml-commented-line\"># Possible options: <xip></span><br><span class=\"yaml-key\">outputImageExecutionTarget</span>: <span class=\"yaml-value\">xip</span><br><span class=\"yaml-commented-line\"># -------------------------------===== Type of boot image authentication [Required] =====-------------------------------</span><br><span class=\"yaml-commented-line\"># Description: Specification of final master boot image authentication.</span><br><span class=\"yaml-commented-line\"># Possible options: <plain, signed></span><br><span class=\"yaml-key\">outputImageAuthenticationType</span>: <span class=\"yaml-value\">signed</span><br><span class=\"yaml-commented-line\"># ---------------------------------------===== Output Image name [Required] =====---------------------------------------</span><br><span class=\"yaml-commented-line\"># Description: The path for result binary file.</span><br><span class=\"diff-removed\"><span class=\"yaml-key\">masterBootOutputFile</span>: <span class=\"yaml-value\">my_mbi.bin</span></span><br><span class=\"diff-added\"><span class=\"yaml-key\">masterBootOutputFile</span>: <span class=\"yaml-value\">../workspace/mb_xip_signed.bin</span></span><br><span class=\"yaml-commented-line\"># ------------------------------------===== Plain application image [Required] =====------------------------------------</span><br><span class=\"yaml-commented-line\"># Description: The input application image to by modified to Master Boot Image.</span><br><span class=\"diff-removed\"><span class=\"yaml-key\">inputImageFile</span>: <span class=\"yaml-value\">my_application.bin</span></span><br><span class=\"diff-added\"><span class=\"yaml-key\">inputImageFile</span>: <span class=\"yaml-value\">blinky_oem_open.bin</span></span><br><span class=\"yaml-commented-line\"># -------------------------------------===== Generate only header [Optional] =====--------------------------------------</span><br><span class=\"yaml-commented-line\"># Description: Build only the boot headers (Vector table, BCA, FCB) 0x0..0x800 binary without the application. This is</span><br><span class=\"yaml-commented-line\"># needed for device HSM provisioning file in case the user set ROP2, ROP3.</span><br><span class=\"yaml-key\">justHeader</span>: <span class=\"yaml-value\">false</span><br><span class=\"yaml-commented-line\"># ======================================================================================================================</span><br><span class=\"yaml-commented-line\">#                                   == BCA Configuration (Boot Configuration Array) ==                                  </span><br><span class=\"yaml-commented-line\">#               Boot Configuration Area settings. Default values are always loaded from application first.              </span><br><span class=\"yaml-commented-line\">#                                       BCA can be provided in one of three ways:                                       </span><br><span class=\"yaml-commented-line\">#            1. As a nested dictionary under the 'bca' key - copy values directly from the BCA.YAML template            </span><br><span class=\"yaml-commented-line\">#                 2. As a path to a YAML file containing BCA configuration - use 'bca: path/to/bca.yaml'                </span><br><span class=\"yaml-commented-line\">#                             3. As a path to a binary BCA file - use 'bca: path/to/bca.bin'                            </span><br><span class=\"yaml-commented-line\">#                                                                                                                       </span><br><span class=\"yaml-commented-line\"># If any BCA configuration is provided, it will update the application values accordingly. The binary option completely </span><br><span class=\"yaml-commented-line\">#        replaces the BCA content, while the YAML and dictionary options selectively update BCA register values.        </span><br><span class=\"yaml-commented-line\"># ======================================================================================================================</span><br><span class=\"diff-removed\"><span class=\"yaml-key\">bca</span>: <span class=\"yaml-value\">path/to/bca.yaml</span> <span style=\"background-color: #FFFF00; border-radius: 5px; padding: 2px\n",
       "6px; margin-left: 5px; font-size: 0.8em;\">Not used</span></span><br><span class=\"yaml-commented-line\"># ======================================================================================================================</span><br><span class=\"yaml-commented-line\">#                                  == FCF Configuration (Flash Configuration Field) ==                                  </span><br><span class=\"yaml-commented-line\">#              Flash Configuration Field settings. Default values are always loaded from application first.             </span><br><span class=\"yaml-commented-line\">#                                       FCF can be provided in one of three ways:                                       </span><br><span class=\"yaml-commented-line\">#            1. As a nested dictionary under the 'fcf' key - copy values directly from the FCF.YAML template            </span><br><span class=\"yaml-commented-line\">#                 2. As a path to a YAML file containing FCF configuration - use 'fcf: path/to/fcf.yaml'                </span><br><span class=\"yaml-commented-line\">#                             3. As a path to a binary FCF file - use 'fcf: path/to/fcf.bin'                            </span><br><span class=\"yaml-commented-line\">#                                                                                                                       </span><br><span class=\"yaml-commented-line\"># If any FCF configuration is provided, it will update the application values accordingly. The binary option completely </span><br><span class=\"yaml-commented-line\">#        replaces the FCF content, while the YAML and dictionary options selectively update FCF register values.        </span><br><span class=\"yaml-commented-line\"># ======================================================================================================================</span><br><span class=\"diff-removed\"><span class=\"yaml-key\">fcf</span>: <span class=\"yaml-value\">path/to/fcf.yaml</span> <span style=\"background-color: #FFFF00; border-radius: 5px; padding: 2px\n",
       "6px; margin-left: 5px; font-size: 0.8em;\">Not used</span></span><br><span class=\"yaml-commented-line\"># ======================================================================================================================</span><br><span class=\"yaml-commented-line\">#                                               == Certificate Block vX ==                                              </span><br><span class=\"yaml-commented-line\"># ======================================================================================================================</span><br><span class=\"yaml-commented-line\"># ---------------------------------===== Certificate Block binary file [Required] =====---------------------------------</span><br><span class=\"yaml-commented-line\"># Description: Path to certificate block.</span><br><span class=\"diff-removed\"><span class=\"yaml-key\">certBlock</span>: <span class=\"yaml-value\">cert_block.bin</span> <span style=\"background-color: #FFFF00; border-radius: 5px; padding: 2px\n",
       "6px; margin-left: 5px; font-size: 0.8em;\">Add path to binary certificate block</span></span><br><span class=\"diff-added\"><span class=\"yaml-key\">certBlock</span>: <span class=\"yaml-value\">../workspace/cert_block.bin</span></span><br><span class=\"yaml-commented-line\"># --------------===== True to append SHA256 hash [0:127] at the end of certificate block [Optional] =====---------------</span><br><span class=\"yaml-commented-line\"># Description: Not mandatory if the hash is written in OTP</span><br><span class=\"yaml-key\">addCertHash</span>: <span class=\"yaml-value\">true</span> <span style=\"background-color: #FFFF00; border-radius: 5px; padding: 2px 6px;\n",
       "margin-left: 5px; font-size: 0.8em;\">We have to add hash of the certificate to the MBI, because it is not yet programmed to IFR</span><br><span class=\"yaml-commented-line\"># ======================================================================================================================</span><br><span class=\"yaml-commented-line\">#                                              == Image Signing Settings ==                                             </span><br><span class=\"yaml-commented-line\"># ======================================================================================================================</span><br><span class=\"yaml-commented-line\"># -------------------------------------===== Signer configuration [Required] =====--------------------------------------</span><br><span class=\"yaml-commented-line\"># Description: Signature provider configuration in format 'type=<sp_type>;<key1>=<value1>;<key2>=<value2>' or path to a</span><br><span class=\"yaml-commented-line\"># private key.</span><br><span class=\"diff-removed\"><span class=\"yaml-key\">signer</span>: <span class=\"yaml-value\">type=file;file_path=root_prv_key.pem</span> <span style=\"background-color: #FFFF00; border-\n",
       "radius: 5px; padding: 2px 6px; margin-left: 5px; font-size: 0.8em;\">Add path to your private key file for signing</span></span><br><span class=\"diff-added\"><span class=\"yaml-key\">signer</span>: <span class=\"yaml-value\">ec_pk_secp256r1_sign_cert.pem</span></span><br></pre></div>\n",
       "            <div id=\"userConfigView_eeac0482efea0415dba83ac170f26f1c\" class=\"yaml-diff\" style=\"display:none;\"><pre class=\"yaml-diff\"><span class=\"yaml-commented-line\"># Copyright 2024-2025 NXP</span><br><span class=\"yaml-commented-line\">#</span><br><span class=\"yaml-commented-line\"># SPDX-License-Identifier: BSD-3-Clause</span><br><br><span class=\"yaml-commented-line\"># ============================  mbi Configuration template for mwct20d2, Revision: latest.  ============================</span><br><br><span class=\"yaml-commented-line\"># ======================================================================================================================</span><br><span class=\"yaml-commented-line\">#                                                 == General Options ==                                                 </span><br><span class=\"yaml-commented-line\"># ======================================================================================================================</span><br><span class=\"yaml-commented-line\"># -------------------------------------===== The chip family name [Required] =====--------------------------------------</span><br><span class=\"yaml-commented-line\"># Description: NXP chip family identifier.</span><br><span class=\"yaml-key\">family</span>: <span class=\"yaml-value\">mwct20d2</span><br><span class=\"yaml-commented-line\"># -----------------------------------------===== MCU revision [Optional] =====------------------------------------------</span><br><span class=\"yaml-commented-line\"># Description: Revision of silicon. The 'latest' name, means most current revision.</span><br><span class=\"yaml-commented-line\"># Possible options: <b1, latest></span><br><span class=\"yaml-key\">revision</span>: <span class=\"yaml-value\">latest</span><br><span class=\"yaml-commented-line\"># ======================================================================================================================</span><br><span class=\"yaml-commented-line\">#                                                  == Basic Settings ==                                                 </span><br><span class=\"yaml-commented-line\"># ======================================================================================================================</span><br><span class=\"yaml-commented-line\"># --------------------------------------===== Application target [Required] =====---------------------------------------</span><br><span class=\"yaml-commented-line\"># Description: Definition if application is Execute in Place(XiP) or loaded to RAM during reset sequence.</span><br><span class=\"yaml-commented-line\"># Possible options: <xip></span><br><span class=\"yaml-key\">outputImageExecutionTarget</span>: <span class=\"yaml-value\">xip</span><br><span class=\"yaml-commented-line\"># -------------------------------===== Type of boot image authentication [Required] =====-------------------------------</span><br><span class=\"yaml-commented-line\"># Description: Specification of final master boot image authentication.</span><br><span class=\"yaml-commented-line\"># Possible options: <signed, plain></span><br><span class=\"yaml-key\">outputImageAuthenticationType</span>: <span class=\"yaml-value\">signed</span><br><span class=\"yaml-commented-line\"># ---------------------------------------===== Output Image name [Required] =====---------------------------------------</span><br><span class=\"yaml-commented-line\"># Description: The path for result binary file.</span><br><span class=\"yaml-key\">masterBootOutputFile</span>: <span class=\"yaml-value\">../workspace/mb_xip_signed.bin</span><br><span class=\"yaml-commented-line\"># ------------------------------------===== Plain application image [Required] =====------------------------------------</span><br><span class=\"yaml-commented-line\"># Description: The input application image to by modified to Master Boot Image.</span><br><span class=\"yaml-key\">inputImageFile</span>: <span class=\"yaml-value\">blinky_oem_open.bin</span><br><span class=\"yaml-commented-line\"># -------------------------------------===== Generate only header [Optional] =====--------------------------------------</span><br><span class=\"yaml-commented-line\"># Description: Build only the boot headers (Vector table, BCA, FCB) 0x0..0x800 binary without the application. This is</span><br><span class=\"yaml-commented-line\"># needed for device HSM provisioning file in case the user set ROP2, ROP3.</span><br><span class=\"yaml-key\">justHeader</span>: <span class=\"yaml-value\">false</span><br><span class=\"yaml-commented-line\"># ======================================================================================================================</span><br><span class=\"yaml-commented-line\">#                                   == BCA Configuration (Boot Configuration Array) ==                                  </span><br><span class=\"yaml-commented-line\">#               Boot Configuration Area settings. Default values are always loaded from application first.              </span><br><span class=\"yaml-commented-line\">#                                       BCA can be provided in one of three ways:                                       </span><br><span class=\"yaml-commented-line\">#            1. As a nested dictionary under the 'bca' key - copy values directly from the BCA.YAML template            </span><br><span class=\"yaml-commented-line\">#                 2. As a path to a YAML file containing BCA configuration - use 'bca: path/to/bca.yaml'                </span><br><span class=\"yaml-commented-line\">#                             3. As a path to a binary BCA file - use 'bca: path/to/bca.bin'                            </span><br><span class=\"yaml-commented-line\">#                                                                                                                       </span><br><span class=\"yaml-commented-line\"># If any BCA configuration is provided, it will update the application values accordingly. The binary option completely </span><br><span class=\"yaml-commented-line\">#        replaces the BCA content, while the YAML and dictionary options selectively update BCA register values.        </span><br><span class=\"yaml-commented-line\"># ======================================================================================================================</span><br><span class=\"yaml-commented-line\"># bca: path/to/bca.yaml</span><br><span class=\"yaml-commented-line\"># ======================================================================================================================</span><br><span class=\"yaml-commented-line\">#                                  == FCF Configuration (Flash Configuration Field) ==                                  </span><br><span class=\"yaml-commented-line\">#              Flash Configuration Field settings. Default values are always loaded from application first.             </span><br><span class=\"yaml-commented-line\">#                                       FCF can be provided in one of three ways:                                       </span><br><span class=\"yaml-commented-line\">#            1. As a nested dictionary under the 'fcf' key - copy values directly from the FCF.YAML template            </span><br><span class=\"yaml-commented-line\">#                 2. As a path to a YAML file containing FCF configuration - use 'fcf: path/to/fcf.yaml'                </span><br><span class=\"yaml-commented-line\">#                             3. As a path to a binary FCF file - use 'fcf: path/to/fcf.bin'                            </span><br><span class=\"yaml-commented-line\">#                                                                                                                       </span><br><span class=\"yaml-commented-line\"># If any FCF configuration is provided, it will update the application values accordingly. The binary option completely </span><br><span class=\"yaml-commented-line\">#        replaces the FCF content, while the YAML and dictionary options selectively update FCF register values.        </span><br><span class=\"yaml-commented-line\"># ======================================================================================================================</span><br><span class=\"yaml-commented-line\"># fcf: path/to/fcf.yaml</span><br><span class=\"yaml-commented-line\"># ======================================================================================================================</span><br><span class=\"yaml-commented-line\">#                                               == Certificate Block vX ==                                              </span><br><span class=\"yaml-commented-line\"># ======================================================================================================================</span><br><span class=\"yaml-commented-line\"># ---------------------------------===== Certificate Block binary file [Required] =====---------------------------------</span><br><span class=\"yaml-commented-line\"># Description: Path to certificate block.</span><br><span class=\"yaml-key\">certBlock</span>: <span class=\"yaml-value\">../workspace/cert_block.bin</span> <span style=\"background-color: #FFFF00; border-radius: 5px;\n",
       "padding: 2px 6px; margin-left: 5px; font-size: 0.8em;\">Add path to binary certificate block</span><br><span class=\"yaml-commented-line\"># --------------===== True to append SHA256 hash [0:127] at the end of certificate block [Optional] =====---------------</span><br><span class=\"yaml-commented-line\"># Description: Not mandatory if the hash is written in OTP</span><br><span class=\"yaml-key\">addCertHash</span>: <span class=\"yaml-value\">true</span> <span style=\"background-color: #FFFF00; border-radius: 5px; padding: 2px 6px;\n",
       "margin-left: 5px; font-size: 0.8em;\">We have to add hash of the certificate to the MBI, because it is not yet programmed to IFR</span><br><span class=\"yaml-commented-line\"># ======================================================================================================================</span><br><span class=\"yaml-commented-line\">#                                              == Image Signing Settings ==                                             </span><br><span class=\"yaml-commented-line\"># ======================================================================================================================</span><br><span class=\"yaml-commented-line\"># -------------------------------------===== Signer configuration [Required] =====--------------------------------------</span><br><span class=\"yaml-commented-line\"># Description: Signature provider configuration in format 'type=<sp_type>;<key1>=<value1>;<key2>=<value2>' or path to a</span><br><span class=\"yaml-commented-line\"># private key.</span><br><span class=\"yaml-key\">signer</span>: <span class=\"yaml-value\">ec_pk_secp256r1_sign_cert.pem</span> <span style=\"background-color: #FFFF00; border-radius: 5px;\n",
       "padding: 2px 6px; margin-left: 5px; font-size: 0.8em;\">Add path to your private key file for signing</span><br></pre></div>\n",
       "            </div>\n",
       "            "
      ],
      "text/plain": [
       "<IPython.core.display.HTML object>"
      ]
     },
     "execution_count": 4,
     "metadata": {},
     "output_type": "execute_result"
    }
   ],
   "source": [
    "YamlDiffWidget(\"inputs/mc56_devhsm_mbi.diffc\").html"
   ]
  },
  {
   "cell_type": "code",
   "execution_count": 5,
   "metadata": {},
   "outputs": [
    {
     "name": "stdout",
     "output_type": "stream",
     "text": [
      "nxpimage  cert-block export -c inputs/cert_block.yaml \n",
      "ISK Certificate hash [0:127]: 39d0299418cbe826601b8610d9330915\n",
      "\n",
      "OTP script written to: workspace/otp_script.bcf\n",
      "Success. (Certificate Block: workspace/cert_block.bin created.)\n",
      "nxpimage  mbi export -c inputs/mbi_xip.yaml \n",
      "Success. (Master Boot Image: workspace/mb_xip_signed.bin created.)\n",
      "nxpimage  utils binary-image extract -b ./workspace/mb_xip_signed.bin -a 0 -s 0x800 -o ./workspace/mb_xip_signed_0_0x800.bin \n",
      "Success. (Extracted chunk: workspace/mb_xip_signed_0_0x800.bin created.)\n",
      "nxpimage  utils binary-image extract -b ./workspace/mb_xip_signed.bin -a 0xC00 -s 0 -o ./workspace/mb_xip_signed_0xC00.bin \n",
      "Success. (Extracted chunk: workspace/mb_xip_signed_0xC00.bin created.)\n"
     ]
    }
   ],
   "source": [
    "MBI_CONFIG_PATH = DATA + \"mbi_xip.yaml\"\n",
    "CERT_BLOCK_CONFIG_PATH = DATA + \"cert_block.yaml\"\n",
    "\n",
    "# # export cert block and Master Boot Image\n",
    "%! nxpimage $VERBOSITY cert-block export -c $CERT_BLOCK_CONFIG_PATH\n",
    "%! nxpimage $VERBOSITY mbi export -c $MBI_CONFIG_PATH\n",
    "\n",
    "\n",
    "# # Split MBI into two images at offset 0x0800 and 0x0C00\n",
    "%! nxpimage  utils binary-image extract -b ./workspace/mb_xip_signed.bin -a 0 -s 0x800 -o ./workspace/mb_xip_signed_0_0x800.bin\n",
    "%! nxpimage  utils binary-image extract -b ./workspace/mb_xip_signed.bin -a 0xC00 -s 0 -o ./workspace/mb_xip_signed_0xC00.bin"
   ]
  },
  {
   "attachments": {},
   "cell_type": "markdown",
   "metadata": {},
   "source": [
    "### 3.1 ISP Mode\n",
    "\n",
    "Prepare device to ISP mode. Connect UART. If the field \"peripheralDetection Timeout\" in BCA is not set. Default 0xFF means 5 seconds waiting. So issue \"nxpdevscan -p\" command immediately after powering up the MCU. "
   ]
  },
  {
   "cell_type": "code",
   "execution_count": 6,
   "metadata": {},
   "outputs": [
    {
     "name": "stdout",
     "output_type": "stream",
     "text": [
      "nxpdevscan -p \n",
      "-------- Connected NXP UART Devices --------\n",
      "\n",
      "Port: COM89\n",
      "Type: mboot device\n",
      "\n"
     ]
    }
   ],
   "source": [
    "# nxpdevscan, list all UART devices\n",
    "%! nxpdevscan -p"
   ]
  },
  {
   "attachments": {},
   "cell_type": "markdown",
   "metadata": {},
   "source": [
    "### 3.2 Programming IFR\n",
    "\n",
    "Secure boot might be tested with the hash included in the image. If the secure boot works, we might program IFR using the generated blhost script with *blhost batch* command or using the OEM Provisioning SBx.\n"
   ]
  },
  {
   "cell_type": "code",
   "execution_count": 7,
   "metadata": {},
   "outputs": [],
   "source": [
    "# Set COM port from the previous cell\n",
    "COM_PORT = \"com89\"\n",
    "OTP_SCRIPT = WORKSPACE + \"otp_script.bcf\"\n",
    "\n",
    "# You might test the MBI with blhost write-memory, first erase memory\n",
    "# %! blhost -p $COM_PORT flash-erase-region 0 0x800\n",
    "# %! blhost -p $COM_PORT write-memory 0 workspace/mb_xip_signed_0_0x800.bin\n",
    "# %! blhost -p $COM_PORT flash-erase-region 0xc00 0x800\n",
    "# %! blhost -p $COM_PORT write-memory 0xC00 workspace/mb_xip_signed_0xC00.bin\n",
    "\n",
    "# Uncomment this if you want to program IFR (WARNING! Irreversible operation)\n",
    "# %! blhost -p $COM_PORT batch $OTP_SCRIPT"
   ]
  },
  {
   "attachments": {},
   "cell_type": "markdown",
   "metadata": {},
   "source": [
    "## 4. Secure FW Update\n",
    "\n",
    "Secure update is the process used to securely update the firmware image in the field. The firmware image is encrypted using lightweight symmetric cryptography algorithm and signed using ECDSA P-256, following the SBX firmware image format. \n",
    "\n",
    "Secure update guarantees authenticity and confidentiality of the new firmware image. It also ensures that the new image is up-to-date, preventing the rollback to an older image. Running firmware is in charge of receiving and verifying the new firmware image. \n",
    "\n",
    "The follow-up secure boot verifies the new firmware image again, making sure the Immutable RoT is still in charge of ensuring authenticity of the latest firmware. \n",
    "The secure update process includes Secure Binary (SB) container, which encrypts and encapsulates user firmware. Resultant SB file can be distributed to the OEM contract manufacturer, which ensures product manufacturing. Eventually the SB file can be used for product firmware update if it is supported by the product.\n",
    "\n",
    "SB container supports two ways of firmware update:\n",
    "·\tOEM/CM Factory Initial Firmware Provisioning (OEM_PROVISIONING)\n",
    "·\tOEM In-field Firmware Update (OEM)\n",
    "\tThe OEM/CM Factory Initial Firmware Provisioning can be used for initial device programming on the production line. It ensures confidentiality and integrity of programmed user image.\n",
    "\n",
    "\n",
    "### 4.1 Device HSM OEM Provisioning\n",
    "\n",
    "![SBX Structure ](img/sbx.png \"SBX Structure\")\n",
    "\n",
    "Create Initial OEM provisioning SBx file using the nxpdevhsm application. In this example we just erase the memory and program the application and reset the MCU.\n",
    "\n",
    "Template can be created using the *nxpdevhsm get-template* command.\n",
    "\n",
    "Our configuration for initial OEM provisioning might look like this:\n",
    "\n"
   ]
  },
  {
   "cell_type": "code",
   "execution_count": 7,
   "metadata": {},
   "outputs": [
    {
     "name": "stdout",
     "output_type": "stream",
     "text": [
      "nxpdevhsm -v get-template -f mwct20d2 -o workspace/devhsm_template.yaml --force \n",
      "The DevHsm template for mwct20d2, Revision: latest has been saved into workspace/devhsm_template.yaml YAML file\n"
     ]
    },
    {
     "data": {
      "text/html": [
       "\n",
       "            \n",
       "            <style>\n",
       "                .yaml-diff { font-family: monospace; background-color: #f0f0f0; padding: 1em; border: 1px solid #c0c0c0; }\n",
       "                .yaml-key { color: #0000CC; font-weight: bold; }\n",
       "                .yaml-value { color: #006600; }\n",
       "                .yaml-commented-line { color: #008800; }\n",
       "                .yaml-list-item { color: #660066; }\n",
       "                .diff-removed { background-color: #ffaaaa; }\n",
       "                .diff-added { background-color: #aaffaa; }\n",
       "                .yaml-comment {\n",
       "                    background-color: #FF8C00;\n",
       "                    color: #000000;\n",
       "                    border-radius: 50%;\n",
       "                    padding: 0 0.3em;\n",
       "                    margin-left: 0.5em;\n",
       "                    font-size: 0.8em;\n",
       "                    cursor: help;\n",
       "                    font-weight: bold;\n",
       "                    text-shadow: 1px 1px 1px rgba(255, 255, 255, 0.7);\n",
       "                }\n",
       "                #toggleButton_e03e1f337252c9675b4a7191671c95a0 {\n",
       "                    background-color: #4CAF50;\n",
       "                    border: none;\n",
       "                    color: white;\n",
       "                    padding: 10px 20px;\n",
       "                    text-align: center;\n",
       "                    text-decoration: none;\n",
       "                    display: inline-block;\n",
       "                    font-size: 16px;\n",
       "                    margin: 4px 2px;\n",
       "                    cursor: pointer;\n",
       "                }\n",
       "            </style>\n",
       "            \n",
       "            \n",
       "            <script>\n",
       "            function toggleView_e03e1f337252c9675b4a7191671c95a0() {\n",
       "                var diffView = document.getElementById('diffView_e03e1f337252c9675b4a7191671c95a0');\n",
       "                var userConfigView = document.getElementById('userConfigView_e03e1f337252c9675b4a7191671c95a0');\n",
       "                var button = document.getElementById('toggleButton_e03e1f337252c9675b4a7191671c95a0');\n",
       "\n",
       "                if (diffView.style.display === 'none' && userConfigView.style.display === 'none') {\n",
       "                    diffView.style.display = 'block';\n",
       "                    userConfigView.style.display = 'none';\n",
       "                    button.textContent = 'Show User Config';\n",
       "                } else if (diffView.style.display === 'block') {\n",
       "                    diffView.style.display = 'none';\n",
       "                    userConfigView.style.display = 'block';\n",
       "                    button.textContent = 'Hide';\n",
       "                } else {\n",
       "                    diffView.style.display = 'none';\n",
       "                    userConfigView.style.display = 'none';\n",
       "                    button.textContent = 'Show Diff';\n",
       "                }\n",
       "            }\n",
       "            </script>\n",
       "            \n",
       "            <div class=\"yaml-diff-container\">\n",
       "            <h3>Configuration Differences</h3>\n",
       "            <button onclick=\"toggleView_e03e1f337252c9675b4a7191671c95a0()\" id=\"toggleButton_e03e1f337252c9675b4a7191671c95a0\">Show Diff</button>\n",
       "            \n",
       "            <a href=\"data:text/plain;base64,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\" download=\"user_config.yaml\">\n",
       "                <button style=\"background-color: #4CAF50; border: none; color: white; padding: 10px 20px; text-align: center; text-decoration: none; display: inline-block; font-size: 16px; margin: 4px 2px; cursor: pointer;\">\n",
       "                    Download Config\n",
       "                </button>\n",
       "            </a>\n",
       "            \n",
       "            <div id=\"diffView_e03e1f337252c9675b4a7191671c95a0\" class=\"yaml-diff\" style=\"display:none;\"><pre class=\"yaml-diff\"><span class=\"yaml-commented-line\"># ==========================  devhsm Configuration template for mwct20d2, Revision: latest.  ===========================</span><br><br><span class=\"yaml-commented-line\"># ======================================================================================================================</span><br><span class=\"yaml-commented-line\">#                                                 == General Options ==                                                 </span><br><span class=\"yaml-commented-line\"># ======================================================================================================================</span><br><span class=\"yaml-commented-line\"># -------------------------------------===== The chip family name [Required] =====--------------------------------------</span><br><span class=\"yaml-commented-line\"># Description: NXP chip family identifier.</span><br><span class=\"yaml-key\">family</span>: <span class=\"yaml-value\">mwct20d2</span><br><span class=\"yaml-commented-line\"># -----------------------------------------===== MCU revision [Optional] =====------------------------------------------</span><br><span class=\"yaml-commented-line\"># Description: Revision of silicon. The 'latest' name, means most current revision.</span><br><span class=\"yaml-commented-line\"># Possible options: <b1, latest></span><br><span class=\"yaml-key\">revision</span>: <span class=\"yaml-value\">latest</span><br><span class=\"yaml-commented-line\"># ======================================================================================================================</span><br><span class=\"yaml-commented-line\">#                                              == Common DevHSM settings ==                                             </span><br><span class=\"yaml-commented-line\"># ======================================================================================================================</span><br><span class=\"yaml-commented-line\"># -----------------------------===== OEM Random Share input [Conditionally required] =====------------------------------</span><br><span class=\"yaml-commented-line\"># Description: Path to a file containing 16B of random seed data. If not specified, random seed will be generated. In</span><br><span class=\"yaml-commented-line\"># case that 'oemEncMasterShare' is defined, the 'oemRandomShare' must be defined with the original random seed that has</span><br><span class=\"yaml-commented-line\"># been used to create OEM Encrypted master share.</span><br><span class=\"diff-removed\"><span class=\"yaml-key\">oemRandomShare</span>: <span class=\"yaml-value\">oem_seed.bin</span> <span style=\"background-color: #FFFF00; border-radius: 5px; padding:\n",
       "2px 6px; margin-left: 5px; font-size: 0.8em;\">Not used</span></span><br><span class=\"yaml-commented-line\"># ----------------------------------===== OEM Encrypted Master Share [Optional] =====-----------------------------------</span><br><span class=\"yaml-commented-line\"># Description: Path to a file containing encrypted OEM Master Share to restore a secure session</span><br><span class=\"diff-removed\"><span class=\"yaml-key\">oemEncMasterShare</span>: <span class=\"yaml-value\">oem_enc_master_share.bin</span> <span style=\"background-color: #FFFF00; border-radius:\n",
       "5px; padding: 2px 6px; margin-left: 5px; font-size: 0.8em;\">Not used</span></span><br><span class=\"yaml-commented-line\"># -------------------------------------===== Initial device reset [Optional] =====--------------------------------------</span><br><span class=\"yaml-commented-line\"># Description: Reset the device before starting the DevHSM operation</span><br><span class=\"yaml-key\">initialReset</span>: <span class=\"yaml-value\">false</span><br><span class=\"yaml-commented-line\"># --------------------------------------===== Final device reset [Optional] =====---------------------------------------</span><br><span class=\"yaml-commented-line\"># Description: Reset the device after the DevHSM operation</span><br><span class=\"yaml-key\">finalReset</span>: <span class=\"yaml-value\">true</span><br><span class=\"yaml-commented-line\"># ----------------------------------===== Development/debug workspace [Optional] =====----------------------------------</span><br><span class=\"yaml-commented-line\"># Description: Path to a folder where to store intermediate artifacts for development/debugging purposes</span><br><span class=\"yaml-key\">workspace</span>: <span class=\"yaml-value\">wsp</span><br><span class=\"yaml-commented-line\"># ---------------------------------===== Communication buffer address [Optional] =====----------------------------------</span><br><span class=\"yaml-commented-line\"># Description: Address to override default communication buffer address</span><br><span class=\"yaml-key\">bufferAddress</span>: <span class=\"yaml-value\">'0x4003000'</span><br><span class=\"yaml-commented-line\"># ---------------------------------------===== Output file path [Required] =====----------------------------------------</span><br><span class=\"yaml-commented-line\"># Description: Path where to store generated DevHSM SB file</span><br><span class=\"diff-removed\"><span class=\"yaml-key\">containerOutputFile</span>: <span class=\"yaml-value\">devhsm.sb</span> <span style=\"background-color: #FFFF00; border-radius: 5px;\n",
       "padding: 2px 6px; margin-left: 5px; font-size: 0.8em;\">Add path to the output file for the container</span></span><br><span class=\"diff-added\"><span class=\"yaml-key\">containerOutputFile</span>: <span class=\"yaml-value\">../workspace/oem_open.sbx</span></span><br><span class=\"yaml-commented-line\"># ======================================================================================================================</span><br><span class=\"yaml-commented-line\">#                                             == Secure Binary X Settings ==                                            </span><br><span class=\"yaml-commented-line\"># ======================================================================================================================</span><br><span class=\"yaml-commented-line\"># ------------------------------------------===== image type [Optional] =====-------------------------------------------</span><br><span class=\"yaml-commented-line\"># Description: SecureBinaryXType</span><br><span class=\"yaml-commented-line\"># Possible options: <NXP_PROVISIONING, OEM_PROVISIONING, OEM></span><br><span class=\"yaml-key\">image_type</span>: <span class=\"yaml-value\">OEM_PROVISIONING</span> <span style=\"background-color: #FFFF00; border-radius: 5px; padding:\n",
       "2px 6px; margin-left: 5px; font-size: 0.8em;\">Set to OEM_PROVISIONING for initial provisioning</span><br><span class=\"yaml-commented-line\"># ======================================================================================================================</span><br><span class=\"yaml-commented-line\">#                                               == Certificate Settings ==                                              </span><br><span class=\"yaml-commented-line\"># ======================================================================================================================</span><br><span class=\"yaml-commented-line\"># -------------------------------------===== Signer [Conditionally required] =====--------------------------------------</span><br><span class=\"yaml-commented-line\"># Description: Signature provider configuration in format 'type=<sp_type>;<key1>=<value1>;<key2>=<value2>' or a ISK</span><br><span class=\"yaml-commented-line\"># Certificate private key used to sign certificate. Only valid for OEM and NXP_PROVISIONING image types</span><br><span class=\"diff-removed\"><span class=\"yaml-key\">signer</span>: <span class=\"yaml-value\">type=file;file_path=my_prv_key.pem</span> <span style=\"background-color: #FFFF00; border-radius:\n",
       "5px; padding: 2px 6px; margin-left: 5px; font-size: 0.8em;\">Key is not required for OEM_PROVISIONING</span></span><br><span class=\"yaml-commented-line\"># ======================================================================================================================</span><br><span class=\"yaml-commented-line\">#                                        == Secure Binary X Commands Settings ==                                        </span><br><span class=\"yaml-commented-line\"># ======================================================================================================================</span><br><span class=\"yaml-commented-line\"># -----------------------------------------===== SBx Commands [Required] =====------------------------------------------</span><br><span class=\"yaml-commented-line\"># Description: Secure Binary X commands block, list of all possible options - Modify it according to your application</span><br><span class=\"yaml-key\">commands</span>:<br><span class=\"diff-added\"><span class=\"yaml-key\">  - </span>erase:</span><br><span class=\"diff-added\"><span class=\"yaml-key\">      address</span>: <span class=\"yaml-value\">0</span></span><br><span class=\"diff-added\"><span class=\"yaml-key\">      size</span>: <span class=\"yaml-value\">0x800</span></span><br><span class=\"diff-removed\"><span class=\"yaml-key\">  -</span></span><br>  <span class=\"yaml-commented-line\"># ====================================================================================================================</span><br>  <span class=\"yaml-commented-line\">#                                          == List of possible 5 options. ==                                          </span><br>  <span class=\"yaml-commented-line\">#                                  Options [erase, load, execute, programIFR, reset]                                  </span><br>  <span class=\"yaml-commented-line\"># ====================================================================================================================</span><br><br><span class=\"diff-added\"><span class=\"yaml-key\">  - </span>load:</span><br>  <span class=\"yaml-commented-line\">#  =========================== [Example of possible configuration: #0 , erase if not used] ============================</span><br>    <span class=\"yaml-commented-line\"># -------------------------------------------===== Erase [Required] =====-------------------------------------------</span><br>    <span class=\"yaml-commented-line\"># Description: Performs a flash erase of the given address range. The erase will be rounded up to the sector size.</span><br><span class=\"diff-removed\"><span class=\"yaml-key\">    erase</span>: <span style=\"background-color: #FFFF00; border-radius: 5px; padding: 2px 6px; margin-left: 5px; font-size:\n",
       "0.8em;\">Erase flash before programming</span></span><br>      <span class=\"yaml-commented-line\"># -----------------------------------------===== Address [Required] =====-----------------------------------------</span><br>      <span class=\"yaml-commented-line\"># Description: Address of memory block to be erased.</span><br><span class=\"yaml-key\">      address</span>: <span class=\"yaml-value\">0</span><br><span class=\"diff-added\"><span class=\"yaml-key\">      file</span>: <span class=\"yaml-value\">../workspace/mb_xip_signed_0_0x800.bin</span></span><br>      <span class=\"yaml-commented-line\"># ------------------------------------------===== Size [Required] =====-------------------------------------------</span><br>      <span class=\"yaml-commented-line\"># Description: Size of memory block to be erased.</span><br><span class=\"diff-removed\"><span class=\"yaml-key\">      size</span>: <span class=\"yaml-value\">4096</span></span><br>      <span class=\"yaml-commented-line\"># ----------------------------------------===== Memory ID [Optional] =====----------------------------------------</span><br>      <span class=\"yaml-commented-line\"># Description: ID of memory block to be erased.</span><br><span class=\"diff-removed\"><span class=\"yaml-key\">      memoryId</span>: <span class=\"yaml-value\">0</span></span><br><br><span class=\"diff-added\"><span class=\"yaml-key\">  - </span>erase:</span><br>  <span class=\"yaml-commented-line\">#  =========================== [Example of possible configuration: #1 , erase if not used] ============================</span><br>    <span class=\"yaml-commented-line\"># -------------------------------------------===== Load [Required] =====--------------------------------------------</span><br>    <span class=\"yaml-commented-line\"># Description: If set, then the data to write immediately follows the range header. The length field contains the</span><br>    <span class=\"yaml-commented-line\"># actual data length</span><br><span class=\"diff-removed\"><span class=\"yaml-key\">    load</span>: <span style=\"background-color: #FFFF00; border-radius: 5px; padding: 2px 6px; margin-left: 5px; font-size:\n",
       "0.8em;\">Program the image</span></span><br>      <span class=\"yaml-commented-line\"># -----------------------------------------===== Address [Required] =====-----------------------------------------</span><br>      <span class=\"yaml-commented-line\"># Description: Address of memory block to be loaded.</span><br><span class=\"diff-removed\"><span class=\"yaml-key\">      address</span>: <span class=\"yaml-value\">0</span></span><br><span class=\"diff-added\"><span class=\"yaml-key\">      address</span>: <span class=\"yaml-value\">0xC00</span></span><br><span class=\"diff-added\"><span class=\"yaml-key\">      size</span>: <span class=\"yaml-value\">0x800</span></span><br>      <span class=\"yaml-commented-line\"># ----------------------------------------===== Memory ID [Optional] =====----------------------------------------</span><br>      <span class=\"yaml-commented-line\"># Description: ID of memory block to be loaded.</span><br><span class=\"diff-removed\"><span class=\"yaml-key\">      memoryId</span>: <span class=\"yaml-value\">0</span></span><br>      <span class=\"yaml-commented-line\"># --------------------------------------===== Binary file. [Optional] =====---------------------------------------</span><br>      <span class=\"yaml-commented-line\"># Description: Binary file to be loaded.</span><br><span class=\"diff-removed\"><span class=\"yaml-key\">      file</span>: <span class=\"yaml-value\">my_binary.bin</span></span><br>      <span class=\"yaml-commented-line\"># -------------------------------------===== Binary values. [Optional] =====--------------------------------------</span><br>      <span class=\"yaml-commented-line\"># Description: Binary values delimited by comma to be loaded.</span><br><span class=\"diff-removed\"><span class=\"yaml-key\">      values</span>: <span class=\"yaml-value\">0x1234, 0x5678, 0, 12345678</span></span><br><br><span class=\"diff-added\"><span class=\"yaml-key\">  - </span>load:</span><br>  <span class=\"yaml-commented-line\">#  =========================== [Example of possible configuration: #2 , erase if not used] ============================</span><br>    <span class=\"yaml-commented-line\"># ------------------------------------------===== Execute [Required] =====------------------------------------------</span><br>    <span class=\"yaml-commented-line\"># Description: Address is the jump-to address. No further processing of SB after jump, ROM do not expect to return.</span><br><span class=\"diff-removed\"><span class=\"yaml-key\">    execute</span>:</span><br>      <span class=\"yaml-commented-line\"># -----------------------------------------===== Address [Required] =====-----------------------------------------</span><br>      <span class=\"yaml-commented-line\"># Description: Jump-to address to start execute code.</span><br><span class=\"diff-removed\"><span class=\"yaml-key\">      address</span>: <span class=\"yaml-value\">0</span></span><br><span class=\"diff-added\"><span class=\"yaml-key\">      address</span>: <span class=\"yaml-value\">0x0c00</span></span><br><span class=\"diff-added\"><span class=\"yaml-key\">      file</span>: <span class=\"yaml-value\">../workspace/mb_xip_signed_0xC00.bin</span></span><br><br><span class=\"diff-added\"><span class=\"yaml-key\">  - </span>reset: <span class=\"yaml-value\">{}</span></span><br>  <span class=\"yaml-commented-line\">#  =========================== [Example of possible configuration: #3 , erase if not used] ============================</span><br>    <span class=\"yaml-commented-line\"># ----------------------------------------===== Program IFR [Required] =====----------------------------------------</span><br>    <span class=\"yaml-commented-line\"># Description: The startAddress will be the address into the IFR region, length will be in number of bytes to write</span><br>    <span class=\"yaml-commented-line\"># to IFR region. The data to write to IFR region at the given address will immediately follow the header</span><br><span class=\"diff-removed\"><span class=\"yaml-key\">    programIFR</span>:</span><br>      <span class=\"yaml-commented-line\"># -------------------------------===== Address (IFR region index) [Required] =====--------------------------------</span><br>      <span class=\"yaml-commented-line\"># Description: Index of IFR region to be programmed.</span><br><span class=\"diff-removed\"><span class=\"yaml-key\">      address</span>: <span class=\"yaml-value\">0</span></span><br>      <span class=\"yaml-commented-line\"># ---------------------------------------===== Binary file [Optional] =====---------------------------------------</span><br>      <span class=\"yaml-commented-line\"># Description: Binary file to be programmed.</span><br><span class=\"diff-removed\"><span class=\"yaml-key\">      file</span>: <span class=\"yaml-value\">my_binary.bin</span></span><br>      <span class=\"yaml-commented-line\"># --------------------------------------===== Binary value [Optional] =====---------------------------------------</span><br>      <span class=\"yaml-commented-line\"># Description: Binary value to be programmed, at least 4 bytes. Value will be converted to binary little endian</span><br>      <span class=\"yaml-commented-line\"># format.</span><br><span class=\"diff-removed\"><span class=\"yaml-key\">      value</span>: <span class=\"yaml-value\">'0xB38AA899'</span></span><br>      <span class=\"yaml-commented-line\"># -------------------------------------===== Binary values. [Optional] =====--------------------------------------</span><br>      <span class=\"yaml-commented-line\"># Description: 32-bit binary values delimited by comma to be programmed.</span><br><span class=\"diff-removed\"><span class=\"yaml-key\">      values</span>: <span class=\"yaml-value\">0x1234, 0x5678, 0, 12345678</span></span><br><br>  <span class=\"yaml-commented-line\">#  =========================== [Example of possible configuration: #4 , erase if not used] ============================</span><br>    <span class=\"yaml-commented-line\"># -------------------------------------------===== Reset [Required] =====-------------------------------------------</span><br>    <span class=\"yaml-commented-line\"># Description: Resets the target</span><br><span class=\"diff-removed\"><span class=\"yaml-key\">    reset</span>: <span class=\"yaml-value\">{}</span> <span style=\"background-color: #FFFF00; border-radius: 5px; padding: 2px 6px;\n",
       "margin-left: 5px; font-size: 0.8em;\">Reset the device after programming</span></span><br><span class=\"diff-removed\"></span></pre></div>\n",
       "            <div id=\"userConfigView_e03e1f337252c9675b4a7191671c95a0\" class=\"yaml-diff\" style=\"display:none;\"><pre class=\"yaml-diff\"><span class=\"yaml-commented-line\"># Copyright 2023-2024 NXP</span><br><span class=\"yaml-commented-line\">#</span><br><span class=\"yaml-commented-line\"># SPDX-License-Identifier: BSD-3-Clause</span><br><span class=\"yaml-commented-line\"># ==========================  devhsm Configuration template for mwct20d2, Revision: latest.  ===========================</span><br><br><span class=\"yaml-commented-line\"># ======================================================================================================================</span><br><span class=\"yaml-commented-line\">#                                                 == General Options ==                                                 </span><br><span class=\"yaml-commented-line\"># ======================================================================================================================</span><br><span class=\"yaml-commented-line\"># -------------------------------------===== The chip family name [Required] =====--------------------------------------</span><br><span class=\"yaml-commented-line\"># Description: NXP chip family identifier.</span><br><span class=\"yaml-key\">family</span>: <span class=\"yaml-value\">mwct20d2</span><br><span class=\"yaml-commented-line\"># -----------------------------------------===== MCU revision [Optional] =====------------------------------------------</span><br><span class=\"yaml-commented-line\"># Description: Revision of silicon. The 'latest' name, means most current revision.</span><br><span class=\"yaml-commented-line\"># Possible options: <b1, latest></span><br><span class=\"yaml-key\">revision</span>: <span class=\"yaml-value\">latest</span><br><span class=\"yaml-commented-line\"># ======================================================================================================================</span><br><span class=\"yaml-commented-line\">#                                              == Common DevHSM settings ==                                             </span><br><span class=\"yaml-commented-line\"># ======================================================================================================================</span><br><span class=\"yaml-commented-line\"># -----------------------------===== OEM Random Share input [Conditionally required] =====------------------------------</span><br><span class=\"yaml-commented-line\"># Description: Path to a file containing 16B of random seed data. If not specified, random seed will be generated. In</span><br><span class=\"yaml-commented-line\"># case that 'oemEncMasterShare' is defined, the 'oemRandomShare' must be defined with the original random seed that has</span><br><span class=\"yaml-commented-line\"># been used to create OEM Encrypted master share.</span><br><span class=\"yaml-commented-line\"># oemRandomShare: oem_seed.bin</span><br><span class=\"yaml-commented-line\"># ----------------------------------===== OEM Encrypted Master Share [Optional] =====-----------------------------------</span><br><span class=\"yaml-commented-line\"># Description: Path to a file containing encrypted OEM Master Share to restore a secure session</span><br><span class=\"yaml-commented-line\"># oemEncMasterShare: oem_enc_master_share.bin</span><br><span class=\"yaml-commented-line\"># -------------------------------------===== Initial device reset [Optional] =====--------------------------------------</span><br><span class=\"yaml-commented-line\"># Description: Reset the device before starting the DevHSM operation</span><br><span class=\"yaml-key\">initialReset</span>: <span class=\"yaml-value\">false</span><br><span class=\"yaml-commented-line\"># --------------------------------------===== Final device reset [Optional] =====---------------------------------------</span><br><span class=\"yaml-commented-line\"># Description: Reset the device after the DevHSM operation</span><br><span class=\"yaml-key\">finalReset</span>: <span class=\"yaml-value\">true</span><br><span class=\"yaml-commented-line\"># ----------------------------------===== Development/debug workspace [Optional] =====----------------------------------</span><br><span class=\"yaml-commented-line\"># Description: Path to a folder where to store intermediate artifacts for development/debugging purposes</span><br><span class=\"yaml-key\">workspace</span>: <span class=\"yaml-value\">wsp</span><br><span class=\"yaml-commented-line\"># ---------------------------------===== Communication buffer address [Optional] =====----------------------------------</span><br><span class=\"yaml-commented-line\"># Description: Address to override default communication buffer address</span><br><span class=\"yaml-key\">bufferAddress</span>: <span class=\"yaml-value\">'0x4003000'</span><br><span class=\"yaml-commented-line\"># ---------------------------------------===== Output file path [Required] =====----------------------------------------</span><br><span class=\"yaml-commented-line\"># Description: Path where to store generated DevHSM SB file</span><br><span class=\"yaml-key\">containerOutputFile</span>: <span class=\"yaml-value\">../workspace/oem_open.sbx</span> <span style=\"background-color: #FFFF00; border-\n",
       "radius: 5px; padding: 2px 6px; margin-left: 5px; font-size: 0.8em;\">Add path to the output file for the container</span><br><span class=\"yaml-commented-line\"># ======================================================================================================================</span><br><span class=\"yaml-commented-line\">#                                             == Secure Binary X Settings ==                                            </span><br><span class=\"yaml-commented-line\"># ======================================================================================================================</span><br><span class=\"yaml-commented-line\"># ------------------------------------------===== image type [Optional] =====-------------------------------------------</span><br><span class=\"yaml-commented-line\"># Description: SecureBinaryXType</span><br><span class=\"yaml-commented-line\"># Possible options: <NXP_PROVISIONING, OEM_PROVISIONING, OEM></span><br><span class=\"yaml-key\">image_type</span>: <span class=\"yaml-value\">OEM_PROVISIONING</span> <span style=\"background-color: #FFFF00; border-radius: 5px; padding:\n",
       "2px 6px; margin-left: 5px; font-size: 0.8em;\">Set to OEM_PROVISIONING for initial provisioning</span><br><span class=\"yaml-commented-line\"># ======================================================================================================================</span><br><span class=\"yaml-commented-line\">#                                               == Certificate Settings ==                                              </span><br><span class=\"yaml-commented-line\"># ======================================================================================================================</span><br><span class=\"yaml-commented-line\"># -------------------------------------===== Signer [Conditionally required] =====--------------------------------------</span><br><span class=\"yaml-commented-line\"># Description: Signature provider configuration in format 'type=<sp_type>;<key1>=<value1>;<key2>=<value2>' or a ISK</span><br><span class=\"yaml-commented-line\"># Certificate private key used to sign certificate. Only valid for OEM and NXP_PROVISIONING image types</span><br><span class=\"yaml-commented-line\"># signer: type=file;file_path=my_prv_key.pem</span><br><span class=\"yaml-commented-line\"># ======================================================================================================================</span><br><span class=\"yaml-commented-line\">#                                        == Secure Binary X Commands Settings ==                                        </span><br><span class=\"yaml-commented-line\"># ======================================================================================================================</span><br><span class=\"yaml-commented-line\"># -----------------------------------------===== SBx Commands [Required] =====------------------------------------------</span><br><span class=\"yaml-commented-line\"># Description: Secure Binary X commands block, list of all possible options - Modify it according to your application</span><br><span class=\"yaml-key\">commands</span>:<br><span class=\"yaml-key\">  - </span>erase: <span style=\"background-color: #FFFF00; border-radius: 5px; padding: 2px 6px; margin-left: 5px; font-size:\n",
       "0.8em;\">Erase flash before programming</span><br><span class=\"yaml-key\">      address</span>: <span class=\"yaml-value\">0</span><br><span class=\"yaml-key\">      size</span>: <span class=\"yaml-value\">0x800</span><br><br><span class=\"yaml-key\">  - </span>load: <span style=\"background-color: #FFFF00; border-radius: 5px; padding: 2px 6px; margin-left: 5px; font-size:\n",
       "0.8em;\">Program the image</span><br><span class=\"yaml-key\">      address</span>: <span class=\"yaml-value\">0</span><br><span class=\"yaml-key\">      file</span>: <span class=\"yaml-value\">../workspace/mb_xip_signed_0_0x800.bin</span><br><br><span class=\"yaml-key\">  - </span>erase: <span style=\"background-color: #FFFF00; border-radius: 5px; padding: 2px 6px; margin-left: 5px; font-size:\n",
       "0.8em;\">Erase flash before programming</span><br><span class=\"yaml-key\">      address</span>: <span class=\"yaml-value\">0xC00</span><br><span class=\"yaml-key\">      size</span>: <span class=\"yaml-value\">0x800</span><br><br><span class=\"yaml-key\">  - </span>load: <span style=\"background-color: #FFFF00; border-radius: 5px; padding: 2px 6px; margin-left: 5px; font-size:\n",
       "0.8em;\">Program the image</span><br><span class=\"yaml-key\">      address</span>: <span class=\"yaml-value\">0x0c00</span><br><span class=\"yaml-key\">      file</span>: <span class=\"yaml-value\">../workspace/mb_xip_signed_0xC00.bin</span><br><br><span class=\"yaml-key\">  - </span>reset: <span class=\"yaml-value\">{}</span> <span style=\"background-color: #FFFF00; border-radius: 5px; padding: 2px 6px;\n",
       "margin-left: 5px; font-size: 0.8em;\">Reset the device after programming</span><br></pre></div>\n",
       "            </div>\n",
       "            "
      ],
      "text/plain": [
       "<IPython.core.display.HTML object>"
      ]
     },
     "execution_count": 7,
     "metadata": {},
     "output_type": "execute_result"
    }
   ],
   "source": [
    "YamlDiffWidget(\"inputs/mc56_devhsm_oem_provisioning.diffc\").html"
   ]
  },
  {
   "cell_type": "code",
   "execution_count": null,
   "metadata": {
    "tags": [
     "hide-output"
    ]
   },
   "outputs": [
    {
     "name": "stdout",
     "output_type": "stream",
     "text": [
      "nxpdevhsm  generate -c inputs/oem_provisioning.yaml -p com89 \n",
      "\u001b[33mWARNING:spsdk.utils.misc:The key source is not specified, the random value is used in size of 16 B. (890ms since start, misc.py:533)\u001b[39m\n",
      " 1: Initial target reset is disabled \n",
      " 2: Generating OEM master share.\n",
      " 3: Creating SBx header.\n",
      " 4: Created unencrypted SBx data\n",
      " 5: Encrypting SBx data on device\n",
      " 5.1: Calculating SHA-256 hashes of encrypted data.\n",
      " 5.2: Updating SBx header with current data.\n",
      " 6: Creating SBx signature on device.\n",
      " 7: Composing final SBx file.\n",
      " 8: Resetting the target device - device will be in ISP mode.\n",
      "Final SB file has been written: workspace/oem_open.sbx\n"
     ]
    }
   ],
   "source": [
    "SBX_WORKSPACE = WORKSPACE + \"SBX/\"\n",
    "SBX_CONFIG = DATA + \"oem_provisioning.yaml\"\n",
    "SBX_FILE = WORKSPACE + \"oem_open.sbx\"\n",
    "OEM_SHARE_INPUT = SBX_WORKSPACE + \"OEM_SHARE_INPUT.BIN\"\n",
    "\n",
    "%! nxpdevhsm $VERBOSITY generate -c $SBX_CONFIG -p $COM_PORT"
   ]
  },
  {
   "cell_type": "code",
   "execution_count": 21,
   "metadata": {},
   "outputs": [
    {
     "name": "stdout",
     "output_type": "stream",
     "text": [
      "blhost -p com89 receive-sb-file inputs/workspace/oem_open.sbx \n",
      "Sending SB file\n",
      "Response status = 10119 (0x2787) ROM Loader: Pending Jump Command.\n"
     ]
    }
   ],
   "source": [
    "%! blhost -p $COM_PORT receive-sb-file $SBX_FILE"
   ]
  },
  {
   "attachments": {},
   "cell_type": "markdown",
   "metadata": {},
   "source": [
    "### 4.2 OEM in-field update\n",
    "\n",
    "To create a secure binary container that might be used for in-field software update we use \"OEM\" type in SBx configuration file. We also have to specify private key or signature provider that will be used for signing the container."
   ]
  },
  {
   "cell_type": "code",
   "execution_count": 6,
   "metadata": {},
   "outputs": [
    {
     "name": "stdout",
     "output_type": "stream",
     "text": [
      "nxpdevhsm -v get-template -f mwct20d2 -o workspace/devhsm_template.yaml --force \n",
      "The DevHsm template for mwct20d2, Revision: latest has been saved into workspace/devhsm_template.yaml YAML file\n"
     ]
    },
    {
     "data": {
      "text/html": [
       "\n",
       "            \n",
       "            <style>\n",
       "                .yaml-diff { font-family: monospace; background-color: #f0f0f0; padding: 1em; border: 1px solid #c0c0c0; }\n",
       "                .yaml-key { color: #0000CC; font-weight: bold; }\n",
       "                .yaml-value { color: #006600; }\n",
       "                .yaml-commented-line { color: #008800; }\n",
       "                .yaml-list-item { color: #660066; }\n",
       "                .diff-removed { background-color: #ffaaaa; }\n",
       "                .diff-added { background-color: #aaffaa; }\n",
       "                .yaml-comment {\n",
       "                    background-color: #FF8C00;\n",
       "                    color: #000000;\n",
       "                    border-radius: 50%;\n",
       "                    padding: 0 0.3em;\n",
       "                    margin-left: 0.5em;\n",
       "                    font-size: 0.8em;\n",
       "                    cursor: help;\n",
       "                    font-weight: bold;\n",
       "                    text-shadow: 1px 1px 1px rgba(255, 255, 255, 0.7);\n",
       "                }\n",
       "                #toggleButton_17365bdbcf734daaeb9401f73e08fd7b {\n",
       "                    background-color: #4CAF50;\n",
       "                    border: none;\n",
       "                    color: white;\n",
       "                    padding: 10px 20px;\n",
       "                    text-align: center;\n",
       "                    text-decoration: none;\n",
       "                    display: inline-block;\n",
       "                    font-size: 16px;\n",
       "                    margin: 4px 2px;\n",
       "                    cursor: pointer;\n",
       "                }\n",
       "            </style>\n",
       "            \n",
       "            \n",
       "            <script>\n",
       "            function toggleView_17365bdbcf734daaeb9401f73e08fd7b() {\n",
       "                var diffView = document.getElementById('diffView_17365bdbcf734daaeb9401f73e08fd7b');\n",
       "                var userConfigView = document.getElementById('userConfigView_17365bdbcf734daaeb9401f73e08fd7b');\n",
       "                var button = document.getElementById('toggleButton_17365bdbcf734daaeb9401f73e08fd7b');\n",
       "\n",
       "                if (diffView.style.display === 'none' && userConfigView.style.display === 'none') {\n",
       "                    diffView.style.display = 'block';\n",
       "                    userConfigView.style.display = 'none';\n",
       "                    button.textContent = 'Show User Config';\n",
       "                } else if (diffView.style.display === 'block') {\n",
       "                    diffView.style.display = 'none';\n",
       "                    userConfigView.style.display = 'block';\n",
       "                    button.textContent = 'Hide';\n",
       "                } else {\n",
       "                    diffView.style.display = 'none';\n",
       "                    userConfigView.style.display = 'none';\n",
       "                    button.textContent = 'Show Diff';\n",
       "                }\n",
       "            }\n",
       "            </script>\n",
       "            \n",
       "            <div class=\"yaml-diff-container\">\n",
       "            <h3>Configuration Differences</h3>\n",
       "            <button onclick=\"toggleView_17365bdbcf734daaeb9401f73e08fd7b()\" id=\"toggleButton_17365bdbcf734daaeb9401f73e08fd7b\">Show Diff</button>\n",
       "            \n",
       "            <a href=\"data:text/plain;base64,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\" download=\"user_config.yaml\">\n",
       "                <button style=\"background-color: #4CAF50; border: none; color: white; padding: 10px 20px; text-align: center; text-decoration: none; display: inline-block; font-size: 16px; margin: 4px 2px; cursor: pointer;\">\n",
       "                    Download Config\n",
       "                </button>\n",
       "            </a>\n",
       "            \n",
       "            <div id=\"diffView_17365bdbcf734daaeb9401f73e08fd7b\" class=\"yaml-diff\" style=\"display:none;\"><pre class=\"yaml-diff\"><span class=\"diff-added\"></span><br><span class=\"yaml-commented-line\"># ==========================  devhsm Configuration template for mwct20d2, Revision: latest.  ===========================</span><br><br><span class=\"yaml-commented-line\"># ======================================================================================================================</span><br><span class=\"yaml-commented-line\">#                                                 == General Options ==                                                 </span><br><span class=\"yaml-commented-line\"># ======================================================================================================================</span><br><span class=\"yaml-commented-line\"># -------------------------------------===== The chip family name [Required] =====--------------------------------------</span><br><span class=\"yaml-commented-line\"># Description: NXP chip family identifier.</span><br><span class=\"yaml-key\">family</span>: <span class=\"yaml-value\">mwct20d2</span><br><span class=\"yaml-commented-line\"># -----------------------------------------===== MCU revision [Optional] =====------------------------------------------</span><br><span class=\"yaml-commented-line\"># Description: Revision of silicon. The 'latest' name, means most current revision.</span><br><span class=\"yaml-commented-line\"># Possible options: <b1, latest></span><br><span class=\"yaml-key\">revision</span>: <span class=\"yaml-value\">latest</span><br><span class=\"yaml-commented-line\"># ======================================================================================================================</span><br><span class=\"yaml-commented-line\">#                                              == Common DevHSM settings ==                                             </span><br><span class=\"yaml-commented-line\"># ======================================================================================================================</span><br><span class=\"yaml-commented-line\"># -----------------------------===== OEM Random Share input [Conditionally required] =====------------------------------</span><br><span class=\"yaml-commented-line\"># Description: Path to a file containing 16B of random seed data. If not specified, random seed will be generated. In</span><br><span class=\"yaml-commented-line\"># case that 'oemEncMasterShare' is defined, the 'oemRandomShare' must be defined with the original random seed that has</span><br><span class=\"yaml-commented-line\"># been used to create OEM Encrypted master share.</span><br><span class=\"diff-removed\"><span class=\"yaml-key\">oemRandomShare</span>: <span class=\"yaml-value\">oem_seed.bin</span> <span style=\"background-color: #FFFF00; border-radius: 5px; padding:\n",
       "2px 6px; margin-left: 5px; font-size: 0.8em;\">Not used</span></span><br><span class=\"yaml-commented-line\"># ----------------------------------===== OEM Encrypted Master Share [Optional] =====-----------------------------------</span><br><span class=\"yaml-commented-line\"># Description: Path to a file containing encrypted OEM Master Share to restore a secure session</span><br><span class=\"diff-removed\"><span class=\"yaml-key\">oemEncMasterShare</span>: <span class=\"yaml-value\">oem_enc_master_share.bin</span> <span style=\"background-color: #FFFF00; border-radius:\n",
       "5px; padding: 2px 6px; margin-left: 5px; font-size: 0.8em;\">Not used</span></span><br><span class=\"yaml-commented-line\"># -------------------------------------===== Initial device reset [Optional] =====--------------------------------------</span><br><span class=\"yaml-commented-line\"># Description: Reset the device before starting the DevHSM operation</span><br><span class=\"yaml-key\">initialReset</span>: <span class=\"yaml-value\">false</span><br><span class=\"yaml-commented-line\"># --------------------------------------===== Final device reset [Optional] =====---------------------------------------</span><br><span class=\"yaml-commented-line\"># Description: Reset the device after the DevHSM operation</span><br><span class=\"yaml-key\">finalReset</span>: <span class=\"yaml-value\">true</span><br><span class=\"yaml-commented-line\"># ----------------------------------===== Development/debug workspace [Optional] =====----------------------------------</span><br><span class=\"yaml-commented-line\"># Description: Path to a folder where to store intermediate artifacts for development/debugging purposes</span><br><span class=\"yaml-key\">workspace</span>: <span class=\"yaml-value\">wsp</span><br><span class=\"yaml-commented-line\"># ---------------------------------===== Communication buffer address [Optional] =====----------------------------------</span><br><span class=\"yaml-commented-line\"># Description: Address to override default communication buffer address</span><br><span class=\"yaml-key\">bufferAddress</span>: <span class=\"yaml-value\">'0x4003000'</span><br><span class=\"yaml-commented-line\"># ---------------------------------------===== Output file path [Required] =====----------------------------------------</span><br><span class=\"yaml-commented-line\"># Description: Path where to store generated DevHSM SB file</span><br><span class=\"diff-removed\"><span class=\"yaml-key\">containerOutputFile</span>: <span class=\"yaml-value\">devhsm.sb</span> <span style=\"background-color: #FFFF00; border-radius: 5px;\n",
       "padding: 2px 6px; margin-left: 5px; font-size: 0.8em;\">Add path to the output file for the container</span></span><br><span class=\"diff-added\"><span class=\"yaml-key\">containerOutputFile</span>: <span class=\"yaml-value\">workspace/my_new.sbx</span></span><br><span class=\"yaml-commented-line\"># ======================================================================================================================</span><br><span class=\"yaml-commented-line\">#                                             == Secure Binary X Settings ==                                            </span><br><span class=\"yaml-commented-line\"># ======================================================================================================================</span><br><span class=\"yaml-commented-line\"># ------------------------------------------===== image type [Optional] =====-------------------------------------------</span><br><span class=\"yaml-commented-line\"># Description: SecureBinaryXType</span><br><span class=\"yaml-commented-line\"># Possible options: <NXP_PROVISIONING, OEM_PROVISIONING, OEM></span><br><span class=\"yaml-key\">image_type</span>: <span class=\"yaml-value\">OEM_PROVISIONING</span> <span style=\"background-color: #FFFF00; border-radius: 5px; padding:\n",
       "2px 6px; margin-left: 5px; font-size: 0.8em;\">Set to OEM for in-field provisioning. SB is signed by the OEM keys</span><br><span class=\"yaml-commented-line\"># ======================================================================================================================</span><br><span class=\"yaml-commented-line\">#                                               == Certificate Settings ==                                              </span><br><span class=\"yaml-commented-line\"># ======================================================================================================================</span><br><span class=\"yaml-commented-line\"># -------------------------------------===== Signer [Conditionally required] =====--------------------------------------</span><br><span class=\"yaml-commented-line\"># Description: Signature provider configuration in format 'type=<sp_type>;<key1>=<value1>;<key2>=<value2>' or a ISK</span><br><span class=\"yaml-commented-line\"># Certificate private key used to sign certificate. Only valid for OEM and NXP_PROVISIONING image types</span><br><span class=\"yaml-key\">signer</span>: <span class=\"yaml-value\">type=file;file_path=my_prv_key.pem</span> <span style=\"background-color: #FFFF00; border-radius:\n",
       "5px; padding: 2px 6px; margin-left: 5px; font-size: 0.8em;\">Key is not required for OEM_PROVISIONING</span><br><span class=\"yaml-commented-line\"># ======================================================================================================================</span><br><span class=\"yaml-commented-line\">#                                        == Secure Binary X Commands Settings ==                                        </span><br><span class=\"yaml-commented-line\"># ======================================================================================================================</span><br><span class=\"yaml-commented-line\"># -----------------------------------------===== SBx Commands [Required] =====------------------------------------------</span><br><span class=\"yaml-commented-line\"># Description: Secure Binary X commands block, list of all possible options - Modify it according to your application</span><br><span class=\"yaml-key\">commands</span>:<br><span class=\"diff-added\"><span class=\"yaml-key\">  - </span>erase:</span><br><span class=\"diff-added\"><span class=\"yaml-key\">      address</span>: <span class=\"yaml-value\">0</span></span><br><span class=\"diff-added\"><span class=\"yaml-key\">      size</span>: <span class=\"yaml-value\">0x800</span></span><br><span class=\"diff-removed\"><span class=\"yaml-key\">  -</span></span><br>  <span class=\"yaml-commented-line\"># ====================================================================================================================</span><br>  <span class=\"yaml-commented-line\">#                                          == List of possible 5 options. ==                                          </span><br>  <span class=\"yaml-commented-line\">#                                  Options [erase, load, execute, programIFR, reset]                                  </span><br>  <span class=\"yaml-commented-line\"># ====================================================================================================================</span><br><br><span class=\"diff-added\"><span class=\"yaml-key\">  - </span>load:</span><br>  <span class=\"yaml-commented-line\">#  =========================== [Example of possible configuration: #0 , erase if not used] ============================</span><br>    <span class=\"yaml-commented-line\"># -------------------------------------------===== Erase [Required] =====-------------------------------------------</span><br>    <span class=\"yaml-commented-line\"># Description: Performs a flash erase of the given address range. The erase will be rounded up to the sector size.</span><br><span class=\"diff-removed\"><span class=\"yaml-key\">    erase</span>: <span style=\"background-color: #FFFF00; border-radius: 5px; padding: 2px 6px; margin-left: 5px; font-size:\n",
       "0.8em;\">Erase flash before programming</span></span><br>      <span class=\"yaml-commented-line\"># -----------------------------------------===== Address [Required] =====-----------------------------------------</span><br>      <span class=\"yaml-commented-line\"># Description: Address of memory block to be erased.</span><br><span class=\"yaml-key\">      address</span>: <span class=\"yaml-value\">0</span><br><span class=\"diff-added\"><span class=\"yaml-key\">      file</span>: <span class=\"yaml-value\">mb_xip_signed_0_0x800.bin</span></span><br>      <span class=\"yaml-commented-line\"># ------------------------------------------===== Size [Required] =====-------------------------------------------</span><br>      <span class=\"yaml-commented-line\"># Description: Size of memory block to be erased.</span><br><span class=\"diff-removed\"><span class=\"yaml-key\">      size</span>: <span class=\"yaml-value\">4096</span></span><br>      <span class=\"yaml-commented-line\"># ----------------------------------------===== Memory ID [Optional] =====----------------------------------------</span><br>      <span class=\"yaml-commented-line\"># Description: ID of memory block to be erased.</span><br><span class=\"diff-removed\"><span class=\"yaml-key\">      memoryId</span>: <span class=\"yaml-value\">0</span></span><br><br><span class=\"diff-added\"><span class=\"yaml-key\">  - </span>erase:</span><br>  <span class=\"yaml-commented-line\">#  =========================== [Example of possible configuration: #1 , erase if not used] ============================</span><br>    <span class=\"yaml-commented-line\"># -------------------------------------------===== Load [Required] =====--------------------------------------------</span><br>    <span class=\"yaml-commented-line\"># Description: If set, then the data to write immediately follows the range header. The length field contains the</span><br>    <span class=\"yaml-commented-line\"># actual data length</span><br><span class=\"diff-removed\"><span class=\"yaml-key\">    load</span>: <span style=\"background-color: #FFFF00; border-radius: 5px; padding: 2px 6px; margin-left: 5px; font-size:\n",
       "0.8em;\">Program the image</span></span><br>      <span class=\"yaml-commented-line\"># -----------------------------------------===== Address [Required] =====-----------------------------------------</span><br>      <span class=\"yaml-commented-line\"># Description: Address of memory block to be loaded.</span><br><span class=\"diff-removed\"><span class=\"yaml-key\">      address</span>: <span class=\"yaml-value\">0</span></span><br><span class=\"diff-added\"><span class=\"yaml-key\">      address</span>: <span class=\"yaml-value\">0xC00</span></span><br><span class=\"diff-added\"><span class=\"yaml-key\">      size</span>: <span class=\"yaml-value\">0x800</span></span><br>      <span class=\"yaml-commented-line\"># ----------------------------------------===== Memory ID [Optional] =====----------------------------------------</span><br>      <span class=\"yaml-commented-line\"># Description: ID of memory block to be loaded.</span><br><span class=\"diff-removed\"><span class=\"yaml-key\">      memoryId</span>: <span class=\"yaml-value\">0</span></span><br>      <span class=\"yaml-commented-line\"># --------------------------------------===== Binary file. [Optional] =====---------------------------------------</span><br>      <span class=\"yaml-commented-line\"># Description: Binary file to be loaded.</span><br><span class=\"diff-removed\"><span class=\"yaml-key\">      file</span>: <span class=\"yaml-value\">my_binary.bin</span></span><br>      <span class=\"yaml-commented-line\"># -------------------------------------===== Binary values. [Optional] =====--------------------------------------</span><br>      <span class=\"yaml-commented-line\"># Description: Binary values delimited by comma to be loaded.</span><br><span class=\"diff-removed\"><span class=\"yaml-key\">      values</span>: <span class=\"yaml-value\">0x1234, 0x5678, 0, 12345678</span></span><br><br><span class=\"diff-added\"><span class=\"yaml-key\">  - </span>load:</span><br>  <span class=\"yaml-commented-line\">#  =========================== [Example of possible configuration: #2 , erase if not used] ============================</span><br>    <span class=\"yaml-commented-line\"># ------------------------------------------===== Execute [Required] =====------------------------------------------</span><br>    <span class=\"yaml-commented-line\"># Description: Address is the jump-to address. No further processing of SB after jump, ROM do not expect to return.</span><br><span class=\"diff-removed\"><span class=\"yaml-key\">    execute</span>:</span><br>      <span class=\"yaml-commented-line\"># -----------------------------------------===== Address [Required] =====-----------------------------------------</span><br>      <span class=\"yaml-commented-line\"># Description: Jump-to address to start execute code.</span><br><span class=\"diff-removed\"><span class=\"yaml-key\">      address</span>: <span class=\"yaml-value\">0</span></span><br><span class=\"diff-added\"><span class=\"yaml-key\">      address</span>: <span class=\"yaml-value\">0x0c00</span></span><br><span class=\"diff-added\"><span class=\"yaml-key\">      file</span>: <span class=\"yaml-value\">mb_xip_signed_0xC00.bin</span></span><br><br><span class=\"diff-added\"><span class=\"yaml-key\">  - </span>reset: <span class=\"yaml-value\">{}</span></span><br>  <span class=\"yaml-commented-line\">#  =========================== [Example of possible configuration: #3 , erase if not used] ============================</span><br>    <span class=\"yaml-commented-line\"># ----------------------------------------===== Program IFR [Required] =====----------------------------------------</span><br>    <span class=\"yaml-commented-line\"># Description: The startAddress will be the address into the IFR region, length will be in number of bytes to write</span><br>    <span class=\"yaml-commented-line\"># to IFR region. The data to write to IFR region at the given address will immediately follow the header</span><br><span class=\"diff-removed\"><span class=\"yaml-key\">    programIFR</span>:</span><br>      <span class=\"yaml-commented-line\"># -------------------------------===== Address (IFR region index) [Required] =====--------------------------------</span><br>      <span class=\"yaml-commented-line\"># Description: Index of IFR region to be programmed.</span><br><span class=\"diff-removed\"><span class=\"yaml-key\">      address</span>: <span class=\"yaml-value\">0</span></span><br>      <span class=\"yaml-commented-line\"># ---------------------------------------===== Binary file [Optional] =====---------------------------------------</span><br>      <span class=\"yaml-commented-line\"># Description: Binary file to be programmed.</span><br><span class=\"diff-removed\"><span class=\"yaml-key\">      file</span>: <span class=\"yaml-value\">my_binary.bin</span></span><br>      <span class=\"yaml-commented-line\"># --------------------------------------===== Binary value [Optional] =====---------------------------------------</span><br>      <span class=\"yaml-commented-line\"># Description: Binary value to be programmed, at least 4 bytes. Value will be converted to binary little endian</span><br>      <span class=\"yaml-commented-line\"># format.</span><br><span class=\"diff-removed\"><span class=\"yaml-key\">      value</span>: <span class=\"yaml-value\">'0xB38AA899'</span></span><br>      <span class=\"yaml-commented-line\"># -------------------------------------===== Binary values. [Optional] =====--------------------------------------</span><br>      <span class=\"yaml-commented-line\"># Description: 32-bit binary values delimited by comma to be programmed.</span><br><span class=\"diff-removed\"><span class=\"yaml-key\">      values</span>: <span class=\"yaml-value\">0x1234, 0x5678, 0, 12345678</span></span><br><br>  <span class=\"yaml-commented-line\">#  =========================== [Example of possible configuration: #4 , erase if not used] ============================</span><br>    <span class=\"yaml-commented-line\"># -------------------------------------------===== Reset [Required] =====-------------------------------------------</span><br>    <span class=\"yaml-commented-line\"># Description: Resets the target</span><br><span class=\"diff-removed\"><span class=\"yaml-key\">    reset</span>: <span class=\"yaml-value\">{}</span> <span style=\"background-color: #FFFF00; border-radius: 5px; padding: 2px 6px;\n",
       "margin-left: 5px; font-size: 0.8em;\">Reset the device after programming</span></span><br><span class=\"diff-removed\"></span></pre></div>\n",
       "            <div id=\"userConfigView_17365bdbcf734daaeb9401f73e08fd7b\" class=\"yaml-diff\" style=\"display:none;\"><pre class=\"yaml-diff\"><span class=\"yaml-commented-line\"># Copyright 2023-2025 NXP</span><br><span class=\"yaml-commented-line\">#</span><br><span class=\"yaml-commented-line\"># SPDX-License-Identifier: BSD-3-Clause</span><br><br><span class=\"yaml-commented-line\"># ==========================  devhsm Configuration template for mwct20d2, Revision: latest.  ===========================</span><br><br><span class=\"yaml-commented-line\"># ======================================================================================================================</span><br><span class=\"yaml-commented-line\">#                                                 == General Options ==                                                 </span><br><span class=\"yaml-commented-line\"># ======================================================================================================================</span><br><span class=\"yaml-commented-line\"># -------------------------------------===== The chip family name [Required] =====--------------------------------------</span><br><span class=\"yaml-commented-line\"># Description: NXP chip family identifier.</span><br><span class=\"yaml-key\">family</span>: <span class=\"yaml-value\">mwct20d2</span><br><span class=\"yaml-commented-line\"># -----------------------------------------===== MCU revision [Optional] =====------------------------------------------</span><br><span class=\"yaml-commented-line\"># Description: Revision of silicon. The 'latest' name, means most current revision.</span><br><span class=\"yaml-commented-line\"># Possible options: <b1, latest></span><br><span class=\"yaml-key\">revision</span>: <span class=\"yaml-value\">latest</span><br><span class=\"yaml-commented-line\"># ======================================================================================================================</span><br><span class=\"yaml-commented-line\">#                                              == Common DevHSM settings ==                                             </span><br><span class=\"yaml-commented-line\"># ======================================================================================================================</span><br><span class=\"yaml-commented-line\"># -----------------------------===== OEM Random Share input [Conditionally required] =====------------------------------</span><br><span class=\"yaml-commented-line\"># Description: Path to a file containing 16B of random seed data. If not specified, random seed will be generated. In</span><br><span class=\"yaml-commented-line\"># case that 'oemEncMasterShare' is defined, the 'oemRandomShare' must be defined with the original random seed that has</span><br><span class=\"yaml-commented-line\"># been used to create OEM Encrypted master share.</span><br><span class=\"yaml-commented-line\"># oemRandomShare: oem_seed.bin</span><br><span class=\"yaml-commented-line\"># ----------------------------------===== OEM Encrypted Master Share [Optional] =====-----------------------------------</span><br><span class=\"yaml-commented-line\"># Description: Path to a file containing encrypted OEM Master Share to restore a secure session</span><br><span class=\"yaml-commented-line\"># oemEncMasterShare: oem_enc_master_share.bin</span><br><span class=\"yaml-commented-line\"># -------------------------------------===== Initial device reset [Optional] =====--------------------------------------</span><br><span class=\"yaml-commented-line\"># Description: Reset the device before starting the DevHSM operation</span><br><span class=\"yaml-key\">initialReset</span>: <span class=\"yaml-value\">false</span><br><span class=\"yaml-commented-line\"># --------------------------------------===== Final device reset [Optional] =====---------------------------------------</span><br><span class=\"yaml-commented-line\"># Description: Reset the device after the DevHSM operation</span><br><span class=\"yaml-key\">finalReset</span>: <span class=\"yaml-value\">true</span><br><span class=\"yaml-commented-line\"># ----------------------------------===== Development/debug workspace [Optional] =====----------------------------------</span><br><span class=\"yaml-commented-line\"># Description: Path to a folder where to store intermediate artifacts for development/debugging purposes</span><br><span class=\"yaml-key\">workspace</span>: <span class=\"yaml-value\">wsp</span><br><span class=\"yaml-commented-line\"># ---------------------------------===== Communication buffer address [Optional] =====----------------------------------</span><br><span class=\"yaml-commented-line\"># Description: Address to override default communication buffer address</span><br><span class=\"yaml-key\">bufferAddress</span>: <span class=\"yaml-value\">'0x4003000'</span><br><span class=\"yaml-commented-line\"># ---------------------------------------===== Output file path [Required] =====----------------------------------------</span><br><span class=\"yaml-commented-line\"># Description: Path where to store generated DevHSM SB file</span><br><span class=\"yaml-key\">containerOutputFile</span>: <span class=\"yaml-value\">workspace/my_new.sbx</span> <span style=\"background-color: #FFFF00; border-radius:\n",
       "5px; padding: 2px 6px; margin-left: 5px; font-size: 0.8em;\">Add path to the output file for the container</span><br><span class=\"yaml-commented-line\"># ======================================================================================================================</span><br><span class=\"yaml-commented-line\">#                                             == Secure Binary X Settings ==                                            </span><br><span class=\"yaml-commented-line\"># ======================================================================================================================</span><br><span class=\"yaml-commented-line\"># ------------------------------------------===== image type [Optional] =====-------------------------------------------</span><br><span class=\"yaml-commented-line\"># Description: SecureBinaryXType</span><br><span class=\"yaml-commented-line\"># Possible options: <NXP_PROVISIONING, OEM_PROVISIONING, OEM></span><br><span class=\"yaml-key\">image_type</span>: <span class=\"yaml-value\">OEM_PROVISIONING</span> <span style=\"background-color: #FFFF00; border-radius: 5px; padding:\n",
       "2px 6px; margin-left: 5px; font-size: 0.8em;\">Set to OEM for in-field provisioning. SB is signed by the OEM keys</span><br><span class=\"yaml-commented-line\"># ======================================================================================================================</span><br><span class=\"yaml-commented-line\">#                                               == Certificate Settings ==                                              </span><br><span class=\"yaml-commented-line\"># ======================================================================================================================</span><br><span class=\"yaml-commented-line\"># -------------------------------------===== Signer [Conditionally required] =====--------------------------------------</span><br><span class=\"yaml-commented-line\"># Description: Signature provider configuration in format 'type=<sp_type>;<key1>=<value1>;<key2>=<value2>' or a ISK</span><br><span class=\"yaml-commented-line\"># Certificate private key used to sign certificate. Only valid for OEM and NXP_PROVISIONING image types</span><br><span class=\"yaml-key\">signer</span>: <span class=\"yaml-value\">type=file;file_path=my_prv_key.pem</span> <span style=\"background-color: #FFFF00; border-radius:\n",
       "5px; padding: 2px 6px; margin-left: 5px; font-size: 0.8em;\">Key is not required for OEM_PROVISIONING</span><br><span class=\"yaml-commented-line\"># ======================================================================================================================</span><br><span class=\"yaml-commented-line\">#                                        == Secure Binary X Commands Settings ==                                        </span><br><span class=\"yaml-commented-line\"># ======================================================================================================================</span><br><span class=\"yaml-commented-line\"># -----------------------------------------===== SBx Commands [Required] =====------------------------------------------</span><br><span class=\"yaml-commented-line\"># Description: Secure Binary X commands block, list of all possible options - Modify it according to your application</span><br><span class=\"yaml-key\">commands</span>:<br><span class=\"yaml-key\">  - </span>erase: <span style=\"background-color: #FFFF00; border-radius: 5px; padding: 2px 6px; margin-left: 5px; font-size:\n",
       "0.8em;\">Erase flash before programming</span><br><span class=\"yaml-key\">      address</span>: <span class=\"yaml-value\">0</span><br><span class=\"yaml-key\">      size</span>: <span class=\"yaml-value\">0x800</span><br><br><span class=\"yaml-key\">  - </span>load: <span style=\"background-color: #FFFF00; border-radius: 5px; padding: 2px 6px; margin-left: 5px; font-size:\n",
       "0.8em;\">Program the image</span><br><span class=\"yaml-key\">      address</span>: <span class=\"yaml-value\">0</span><br><span class=\"yaml-key\">      file</span>: <span class=\"yaml-value\">mb_xip_signed_0_0x800.bin</span><br><br><span class=\"yaml-key\">  - </span>erase: <span style=\"background-color: #FFFF00; border-radius: 5px; padding: 2px 6px; margin-left: 5px; font-size:\n",
       "0.8em;\">Erase flash before programming</span><br><span class=\"yaml-key\">      address</span>: <span class=\"yaml-value\">0xC00</span><br><span class=\"yaml-key\">      size</span>: <span class=\"yaml-value\">0x800</span><br><br><span class=\"yaml-key\">  - </span>load: <span style=\"background-color: #FFFF00; border-radius: 5px; padding: 2px 6px; margin-left: 5px; font-size:\n",
       "0.8em;\">Program the image</span><br><span class=\"yaml-key\">      address</span>: <span class=\"yaml-value\">0x0c00</span><br><span class=\"yaml-key\">      file</span>: <span class=\"yaml-value\">mb_xip_signed_0xC00.bin</span><br><br><span class=\"yaml-key\">  - </span>reset: <span class=\"yaml-value\">{}</span> <span style=\"background-color: #FFFF00; border-radius: 5px; padding: 2px 6px;\n",
       "margin-left: 5px; font-size: 0.8em;\">Reset the device after programming</span><br></pre></div>\n",
       "            </div>\n",
       "            "
      ],
      "text/plain": [
       "<IPython.core.display.HTML object>"
      ]
     },
     "execution_count": 6,
     "metadata": {},
     "output_type": "execute_result"
    }
   ],
   "source": [
    "YamlDiffWidget(\"inputs/mc56_devhsm_oem.diffc\").html"
   ]
  },
  {
   "cell_type": "code",
   "execution_count": 23,
   "metadata": {
    "tags": [
     "hide-output"
    ]
   },
   "outputs": [
    {
     "name": "stdout",
     "output_type": "stream",
     "text": [
      "nxpdevhsm  generate -c inputs/oem_provisioning.yaml -p com89 \n",
      "\u001b[33mWARNING:spsdk.utils.misc:The key source is not specified, the random value is used in size of 16 B. (914ms since start, misc.py:533)\u001b[39m\n",
      " 1: Initial target reset is disabled \n",
      " 2: Generating OEM master share.\n",
      " 3: Creating SBx header.\n",
      " 4: Created unencrypted SBx data\n",
      " 5: Encrypting SBx data on device\n",
      " 5.1: Calculating SHA-256 hashes of encrypted data.\n",
      " 5.2: Updating SBx header with current data.\n",
      " 6: Creating SBx signature on device.\n",
      " 7: Composing final SBx file.\n",
      " 8: Resetting the target device - device will be in ISP mode.\n",
      "Final SB file has been written: workspace/oem_open.sbx\n"
     ]
    }
   ],
   "source": [
    "SBX_FILE = WORKSPACE + \"oem_open.sbx\"\n",
    "OEM_SHARE_INPUT = WORKSPACE + \"OEM_SHARE_INPUT.BIN\"\n",
    "\n",
    "%! nxpdevhsm $VERBOSITY generate -c $SBX_CONFIG -p $COM_PORT\n",
    "\n",
    "# NOTE: By default device is reset after nxpdevhsm operation, if you don't want this behavior add --no-final-reset option"
   ]
  },
  {
   "cell_type": "code",
   "execution_count": 24,
   "metadata": {},
   "outputs": [
    {
     "name": "stdout",
     "output_type": "stream",
     "text": [
      "blhost -p com89 receive-sb-file workspace/oem_open.sbx \n",
      "Sending SB file\n",
      "Response status = 10119 (0x2787) ROM Loader: Pending Jump Command.\n"
     ]
    }
   ],
   "source": [
    "%! blhost -p $COM_PORT receive-sb-file $SBX_FILE"
   ]
  }
 ],
 "metadata": {
  "kernelspec": {
   "display_name": "venv",
   "language": "python",
   "name": "python3"
  },
  "language_info": {
   "codemirror_mode": {
    "name": "ipython",
    "version": 3
   },
   "file_extension": ".py",
   "mimetype": "text/x-python",
   "name": "python",
   "nbconvert_exporter": "python",
   "pygments_lexer": "ipython3",
   "version": "3.11.9"
  },
  "orig_nbformat": 4
 },
 "nbformat": 4,
 "nbformat_minor": 2
}
