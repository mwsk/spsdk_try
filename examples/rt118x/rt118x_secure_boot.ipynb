{
  "cells": [
    {
      "cell_type": "markdown",
      "metadata": {},
      "source": [
        "# i.MXRT118x Signed Ahab Example\n",
        "This is example how to create signed AHAB for i.MXRT118x devices. The aim of this Jupyter notebook is show how to create signed AHAB container for an application based on SDK. Nxpmemcfg tool is demonstrated to generate FCB block for the external memory populated on RT1180-EVK board. The resulting image must be programmed into the external memory via blhost tool."
      ]
    },
    {
      "cell_type": "markdown",
      "metadata": {},
      "source": [
        "## Prepare the environment\n",
        "\n",
        "Run the code below to initialize parametrs for the script:"
      ]
    },
    {
      "cell_type": "code",
      "execution_count": 31,
      "metadata": {},
      "outputs": [
        {
          "name": "stdout",
          "output_type": "stream",
          "text": [
            "env: JUPYTER_SPSDK=1\n",
            "Created `%!` as an alias for `%execute`.\n"
          ]
        }
      ],
      "source": [
        "%run ../init_notebook.ipynb\n",
        "\n",
        "import os\n",
        "import pprint\n",
        "\n",
        "pp = pprint.PrettyPrinter(indent=4)\n",
        "\n",
        "WORKSPACE = \"workspace/\"  # change this to path to your workspace\n",
        "INPUTS = \"inputs/\"\n",
        "VERBOSITY = (\n",
        "    \"\"  # verbosity of commands, might be -v or -vv for debug or blank for no additional info\n",
        ")\n",
        "\n",
        "AHAB_TEMPLATE = WORKSPACE + \"ahab_template.yaml\"  # AHAB configuration template file\n",
        "BIMG_TEMPLATES = WORKSPACE + \"bootable_image_templates\"  # Bootable image templates folder\n",
        "BIMG_FILE = (\n",
        "    INPUTS + \"bootimg_rt118x_flexspi_nor.yaml\"\n",
        ")  # Boot image yaml file. Used to generate bootable image\n",
        "\n",
        "SRKH_BATCH_FILE = (\n",
        "    WORKSPACE + \"signed_ahab_oem0_srk_hash_blhost.bcf\"\n",
        ")  # batch file for SRKH progamming\n",
        "BOOTABLE_IMAGE = WORKSPACE + \"bootable_img.bin\"  # Final Bootable image contains SIGNED_AHAB + FCB\n",
        "\n",
        "FLASHLOADER_FILE = \"../flashloader/ahab/workspace/signed_flashloader.bin\"  # Path to Flashloader\n",
        "CFG_MEM_FILE = WORKSPACE + \"config_mem.bls\"  # Configure memory template\n",
        "FCB_FILE = WORKSPACE + \"fcb.bin\"  # Firmware Configuration block file"
      ]
    },
    {
      "cell_type": "markdown",
      "metadata": {},
      "source": [
        "## 1. Compile an Application\n",
        "Hello_word XiP application is used in this example. \n",
        "\n",
        "To use a custom application follow the steps:\n",
        "\n",
        " - Download the NXP MCUXpresso SDK from NXP web site (https://mcuxpresso.nxp.com/)\n",
        " - Open the example in your favorite IDE. \n",
        " - Compile your application using the corresponding target. The resulting binary must be copied at input folder and renamed in regards to specific target XiP FlexSPI1/2, CTCM, OCRAM, Multicore. to make it running with this example. \n",
        "\n",
        "* fspi1_xip_cm33_img.bin (default)\n",
        "* fspi2_xip_cm33_img.bin\n",
        "* ctcm_cm33_img.bin\n",
        "* ocram_cm33_img.yaml\n",
        "* fspi1_multicore_img.bin\n",
        "* fspi2_multicore_img.bin"
      ]
    },
    {
      "cell_type": "markdown",
      "metadata": {},
      "source": [
        "## 2. Generate Keys\n",
        "The AHAB is using asymmetric algorithm for image authentication which requires keys generated according to PKI for operation. The example uses pre-generated ECC-256 keys. To generate your own keys please refer to [How-to-get-keys-using-nxpcrypto](../general/get_keys.ipynb) example."
      ]
    },
    {
      "cell_type": "markdown",
      "metadata": {},
      "source": [
        "## 3. Sign NXP Flashloader\n",
        "On secured device all SW executed on the device must be authenticated, including NXP Flashloader. The example uses pre-generated ECC-256 keys to sign the Flashloader. To generate your own keys please refer to the [Flashloader](../flashloader/ahab/rt118x_signed_flashloader.ipynb) example:"
      ]
    },
    {
      "cell_type": "markdown",
      "metadata": {},
      "source": [
        "## 4. Created Signed AHAB container for Application\n",
        "The previous steps was used to generate signed AHAB container for NXP Flashloader. The same must be done also for application which going to be executed on secured devices. SPSDK contain tool called nxpimage specifically designed to create bootable images, specifically AHAB container RT118x family. The \"ahab\" subcommand must be used to generate specific AHAB container for an application. "
      ]
    },
    {
      "cell_type": "markdown",
      "metadata": {},
      "source": [
        "To get all supported sub commands of nxpimage support call help."
      ]
    },
    {
      "cell_type": "code",
      "execution_count": 32,
      "metadata": {},
      "outputs": [
        {
          "name": "stdout",
          "output_type": "stream",
          "text": [
            "nxpimage \n",
            "Usage: nxpimage [OPTIONS] COMMAND [ARGS]...\n",
            "\n",
            "  NXP Image tool.\n",
            "\n",
            "  Manage various kinds of images for NXP parts. It's successor of obsolete\n",
            "  ELFTOSB tool.\n",
            "\n",
            "Options:\n",
            "  -v, --verbose  Print more detailed information\n",
            "  -vv, --debug   Display more debugging information.\n",
            "  --version      Show the version and exit.\n",
            "  --help         Show this message and exit.\n",
            "\n",
            "Commands:\n",
            "  nxpimage                   NXP Image tool.\n",
            "  ├── ahab                   Group of sub-commands related to AHAB.\n",
            "  │   ├── certificate        Group of sub-commands related to AHAB certificate blob.\n",
            "  │   │   ├── export         Generate AHAB Certificate Blob from YAML/JSON configuration.\n",
            "  │   │   ├── get-template   Create template of configuration in YAML format.\n",
            "  │   │   └── parse          Parse AHAB Certificate Blob.\n",
            "  │   ├── export             Generate AHAB Image from YAML/JSON configuration.\n",
            "  │   ├── get-template       Create template of configuration in YAML format.\n",
            "  │   ├── parse              Parse AHAB Image into YAML configuration and binary images.\n",
            "  │   ├── re-sign            Re-sign the container in AHAB image.\n",
            "  │   ├── update-keyblob     Update keyblob in AHAB image container.\n",
            "  │   └── verify             Verify AHAB Image.\n",
            "  ├── bee                    Group of sub-commands related to BEE.\n",
            "  │   ├── export             Generate BEE Images from YAML/JSON configuration.\n",
            "  │   └── get-template       Create template of configuration in YAML format.\n",
            "  ├── bootable-image         Group of bootable image utilities.\n",
            "  │   ├── fcb                FCB (Flash Configuration Block) utilities.\n",
            "  │   │   ├── export         Export FCB Image from YAML/JSON configuration.\n",
            "  │   │   ├── get-templates  Create template of configurations in YAML format for all memory types.\n",
            "  │   │   └── parse          Parse FCB Image into YAML configuration.\n",
            "  │   ├── get-templates      Create template of configurations in YAML format from all memory types.\n",
            "  │   ├── merge              Merge boot image blocks into one bootable image.\n",
            "  │   ├── parse              Parse Bootable Image into YAML configuration and binary images.\n",
            "  │   └── xmcd               XMCD (External Memory Configuration Data) utilities.\n",
            "  │       ├── export         Export XMCD Image from YAML/JSON configuration.\n",
            "  │       ├── get-templates  Create template of configurations in YAML format for all memory types.\n",
            "  │       └── parse          Parse XMCD Image into YAML configuration.\n",
            "  ├── cert-block             Group of sub-commands related to certification block.\n",
            "  │   ├── export             Generate Certificate Block from YAML/JSON configuration.\n",
            "  │   ├── get-template       Create template of configuration in YAML format.\n",
            "  │   └── parse              Parse Certificate Block.\n",
            "  ├── hab                    Group of sub-commands related to HAB container.\n",
            "  │   ├── convert            Convert BD Configuration to YAML.\n",
            "  │   ├── export             Generate HAB container from configuration.\n",
            "  │   ├── get-template       Create template of configuration in YAML format.\n",
            "  │   └── parse              Parse HAB container into individual segments.\n",
            "  ├── iee                    Group of sub-commands related to IEE.\n",
            "  │   ├── export             Generate IEE Images from YAML/JSON configuration.\n",
            "  │   └── get-template       Create template of configuration in YAML format.\n",
            "  ├── mbi                    Group of sub-commands related to Master Boot Images.\n",
            "  │   ├── export             Generate Master Boot Image from YAML/JSON configuration.\n",
            "  │   ├── get-templates      Create template of MBI configurations in YAML format.\n",
            "  │   └── parse              Parse MBI Image into YAML configuration and binary images.\n",
            "  ├── otfad                  Group of sub-commands related to OTFAD.\n",
            "  │   ├── export             Generate OTFAD Images from YAML/JSON configuration.\n",
            "  │   ├── get-kek            Compute OTFAD KEK value and optionally store it into folder in various formats..\n",
            "  │   └── get-template       Create template of configuration in YAML format.\n",
            "  ├── sb21                   Group of sub-commands related to Secure Binary 2.1.\n",
            "  │   ├── convert            Convert SB 2.1 BD file to YAML.\n",
            "  │   ├── export             Generate Secure Binary v2.1 Image from configuration.\n",
            "  │   ├── get-sbkek          Compute SBKEK (AES-256) value and optionally store it as plain text and as bin..\n",
            "  │   ├── get-template       Create template of configuration in YAML format.\n",
            "  │   └── parse              Parse Secure Binary v2.1 Image.\n",
            "  ├── sb31                   Group of sub-commands related to Secure Binary 3.1.\n",
            "  │   ├── export             Generate Secure Binary v3.1 Image from YAML/JSON configuration.\n",
            "  │   └── get-template       Create template of configuration in YAML format.\n",
            "  ├── signed-msg             Group of sub-commands related to Signed messages.\n",
            "  │   ├── export             Generate Signed message Image from YAML/JSON configuration.\n",
            "  │   ├── get-template       Create template of configuration in YAML format.\n",
            "  │   └── parse              Parse Signed message Image into YAML configuration and binary images.\n",
            "  ├── tz                     Group of sub-commands related to Trust Zone.\n",
            "  │   ├── export             Generate TrustZone Image from YAML/JSON configuration.\n",
            "  │   └── get-template       Create template of configuration in YAML format.\n",
            "  └── utils                  Group of utilities.\n",
            "      ├── binary-image       Binary Image utilities.\n",
            "      │   ├── align          Align binary file to provided alignment and padded with specified pattern.\n",
            "      │   ├── convert        Convert input data file into selected format.\n",
            "      │   ├── create         Create binary file with pattern.\n",
            "      │   ├── extract        Extract chunk from binary file.\n",
            "      │   ├── get-template   Create template of configuration in YAML format.\n",
            "      │   ├── merge          Merge binary images together by description in YAML/JSON configuration.\n",
            "      │   └── pad            Pad binary file to provided final size with specified pattern.\n",
            "      └── convert            Conversion utilities.\n",
            "          ├── bin2carr       Convert binary file into C array string.\n",
            "          ├── bin2hex        Convert binary file into hexadecimal text file with optional reverse order of ..\n",
            "          └── hex2bin        Convert file with hexadecimal string into binary file with optional reverse or..\n"
          ]
        }
      ],
      "source": [
        "%! nxpimage"
      ]
    },
    {
      "cell_type": "markdown",
      "metadata": {},
      "source": [
        "To get all supported sub commands of AHAB support call help."
      ]
    },
    {
      "cell_type": "code",
      "execution_count": 33,
      "metadata": {},
      "outputs": [
        {
          "name": "stdout",
          "output_type": "stream",
          "text": [
            "nxpimage ahab get-template \n",
            "Usage: nxpimage ahab get-template [OPTIONS]\n",
            "\n",
            "  Create template of configuration in YAML format.\n",
            "\n",
            "  The template file name is specified as argument of this command.\n",
            "\n",
            "Options:\n",
            "  -f, --family [mx8ulp|mx93|mx95|rt118x]\n",
            "                                  Select the chip family.\n",
            "  -o, --output FILE               Path to a file, where to store the output.\n",
            "                                  [required]\n",
            "  --force                         Force overwriting of existing files.\n",
            "  --help                          Show this message and exit.\n"
          ]
        }
      ],
      "source": [
        "%! nxpimage ahab get-template"
      ]
    },
    {
      "cell_type": "markdown",
      "metadata": {},
      "source": [
        "YAML file for RT118x can be generated by the following command. The steps describes below guides which fields must be re-configured. The resulting yaml file is present in the imput folder, so there is no need to update the file manualy. "
      ]
    },
    {
      "cell_type": "code",
      "execution_count": 34,
      "metadata": {},
      "outputs": [
        {
          "name": "stdout",
          "output_type": "stream",
          "text": [
            "nxpimage  ahab get-template -f rt118x -o workspace/ahab_template.yaml --force \n",
            "Creating workspace/ahab_template.yaml template file.\n"
          ]
        }
      ],
      "source": [
        "# Create template AHAB configuration file using nxpimage\n",
        "%! nxpimage $VERBOSITY ahab get-template -f rt118x -o $AHAB_TEMPLATE --force\n",
        "\n",
        "assert os.path.exists(AHAB_TEMPLATE)"
      ]
    },
    {
      "cell_type": "markdown",
      "metadata": {},
      "source": [
        "### Modify the template to configuration file used to create AHAB for your application.\n",
        "\n",
        "I. We need to change the output file name. Target memory is nor by default. This represent the memory which RT118x will boot from.\n",
        "![Change the output file name](img/ahab_image-1.png \"output file name\")\n",
        "\n",
        "II. Define the general settings of AHAB container for the application. In our example the signature provider definition is removed and path \n",
        "to the pre-generated private signing key is configured. The field \"use_srk_id\" refers to the index of the signing key.It must be aligned with \"signing_key\" index.\\\n",
        "\"use_srk_id=0\" corresponds with \"srk0_ecc256.pem\"\\\n",
        "\"use_srk_id=1\" corresponds with \"srk1_ecc256.pem\"\\\n",
        "\"use_srk_id=2\" corresponds with \"srk2_ecc256.pem\"\\\n",
        "\"use_srk_id=3\" corresponds with \"srk3_ecc256.pem\"\\\n",
        "![Signing key and used SRK definition](img/ahab_image-2.png \"signing key\")\n",
        "\n",
        "III. Define the image executable (compiled application binary). The application offset must be set to 0xA000 to align application address with SDK linker files. This offset is used to allow base ELE FW inclusion into the bootable image (32KB).\n",
        "\n",
        "   The most important are 'load_address' and 'entry_point' fields that must be sets on same value as is defined linker file for start of the application. 'load_address' represents destination address on which application data are copied from source memory. 'entry_point' points to the reset vector of the application. Usually both address points onto the same address, unless there are soma data placed before image vector table. Fro example dual core applications where CM7 image is included before CM33 image. For this specific use case the 'entry_point' must be aligned with CM33 linker files. The unused optionally fields has been removed from config.\n",
        "\n",
        "   Hash parametr is mandatory for AHAB. The integrity check is always performed during boot. On OEM_OPEN the invalid hash reports \"warning\" which allows image to boot, but in OEM_CLOSED the boot of the FW will be prevented in case of invalid hash. The example below is for XiP target executed for nor memory connected to FlexSPI 1. Examples for bootable images into FlexSPI2, OCRAM, CTCM, and multicore are also present in teh inputs folder.\n",
        "\n",
        "* config_signed_fspi1.yaml (demonstrated)\n",
        "* config_signed_fspi2.yaml\n",
        "* config_signed_ctcm.yaml\n",
        "* config_signed_ocram.yaml\n",
        "* config_signed_multicore_fspi1.yaml\n",
        "* config_signed_multicore_fspi2.yaml\n",
        "\n",
        "   \n",
        "   ![Image definition](img/ahab_image-3.png \"image definition\")\n",
        "   \n",
        "IV. Define the SRK (Super Root Keys) array. In our case the local pre-generated public keys.\n",
        "\n",
        "   ![SRK Table](img/ahab_image-4.png \"SRK Table\")\n",
        "   \n",
        "V. And finally unused parts for AHAB Certificate and Encryption blob were removed from the yaml file."
      ]
    },
    {
      "cell_type": "markdown",
      "metadata": {},
      "source": [
        "To export AHAB container is designed SPSDK tool in 'nxpimage' under 'ahab' sub commands group."
      ]
    },
    {
      "cell_type": "code",
      "execution_count": 35,
      "metadata": {},
      "outputs": [
        {
          "name": "stdout",
          "output_type": "stream",
          "text": [
            "nxpimage ahab export \n",
            "Usage: nxpimage ahab export [OPTIONS]\n",
            "\n",
            "  Generate AHAB Image from YAML/JSON configuration.\n",
            "\n",
            "  The configuration template files could be generated by subcommand 'get-\n",
            "  template'.\n",
            "\n",
            "Options:\n",
            "  -c, --config FILE  Path to the YAML/JSON configuration file.  [required]\n",
            "  --plugin FILE      External python file/package containing a custom plugin\n",
            "                     implementation.\n",
            "  --help             Show this message and exit.\n"
          ]
        }
      ],
      "source": [
        "# How to use the ahab export command\n",
        "%! nxpimage ahab export"
      ]
    },
    {
      "cell_type": "code",
      "execution_count": 36,
      "metadata": {},
      "outputs": [
        {
          "name": "stdout",
          "output_type": "stream",
          "text": [
            "nxpimage  ahab export -c inputs/config_signed_fspi1.yaml \n",
            "Success. (AHAB: workspace\\signed_ahab.bin created.)\n",
            "Generated file containing SRK hash: workspace\\signed_ahab_oem0_srk_hash.txt\n",
            "Generated script for writing fuses for container 0: workspace\\signed_ahab_oem0_srk_hash_blhost.bcf\n"
          ]
        }
      ],
      "source": [
        "# For this example, signed xip application from FlexSPI 1 is used by default\n",
        "AHAB_CONFIG = INPUTS + \"config_signed_fspi1.yaml\"  # Prepared AHAB configuration file\n",
        "# AHAB_CONFIG = INPUTS + \"config_signed_fspi2.yaml\"                   # Prepared AHAB configuration file\n",
        "# AHAB_CONFIG = INPUTS + \"config_signed_ctcm.yaml\"                    # Prepared AHAB configuration file\n",
        "# AHAB_CONFIG = INPUTS + \"config_signed_ocram.yaml\"                   # Prepared AHAB configuration file\n",
        "# AHAB_CONFIG = INPUTS + \"config_signed_multicore_fspi1.yaml\"         # Prepared AHAB configuration file\n",
        "# AHAB_CONFIG = INPUTS + \"config_signed_multicore_fspi2.yaml\"         # Prepared AHAB configuration file\n",
        "\n",
        "assert os.path.exists(AHAB_CONFIG)\n",
        "# Export AHAB container using nxpimage\n",
        "%! nxpimage $VERBOSITY ahab export -c $AHAB_CONFIG"
      ]
    },
    {
      "cell_type": "markdown",
      "metadata": {},
      "source": [
        "## 5. Program the image into external memory.\n",
        "\n",
        "RT118x requires boot from an external memory. To build a valid bootable image, another structures must be placed into external memory depending on bootable image type. For signed AHAB, ony FCB is required besides ahab and image itself. See the figure below for information:\n",
        "\n",
        "\n",
        "\n",
        "![Boot image structure](img/boot_image-1.png \"boot image\")\n",
        "\n",
        "\n",
        "\n",
        "\n",
        "The SPSDK contains commands group that simplify whole operation with bootable images under 'nxpimage'. \n"
      ]
    },
    {
      "cell_type": "markdown",
      "metadata": {},
      "source": [
        "I. Configure external memory. SPDSK contains tool called \"nxpmemcfg\" which contains database of supported memories and utilities to supports creation, extraction, parsing of FCB etc."
      ]
    },
    {
      "cell_type": "code",
      "execution_count": 37,
      "metadata": {},
      "outputs": [
        {
          "name": "stdout",
          "output_type": "stream",
          "text": [
            "nxpmemcfg \n",
            "Usage: nxpmemcfg [OPTIONS] COMMAND [ARGS]...\n",
            "\n",
            "  Collection of utilities for memory configuration operations.\n",
            "\n",
            "Options:\n",
            "  -v, --verbose  Print more detailed information\n",
            "  -vv, --debug   Display more debugging information.\n",
            "  --version      Show the version and exit.\n",
            "  --help         Show this message and exit.\n",
            "\n",
            "Commands:\n",
            "  nxpmemcfg          Collection of utilities for memory configuration operations.\n",
            "  ├── blhost-script  Export the configuration option words to blhost script.\n",
            "  ├── export         Export the configuration option words from configuration.\n",
            "  ├── family-info    List known memory configurations for the family.\n",
            "  ├── get-templates  Create template of Memory option words in YAML format.\n",
            "  └── parse          Parse the existing memory configuration option words.\n"
          ]
        }
      ],
      "source": [
        "# What utilities we have nin nxpmemcfg\n",
        "%! nxpmemcfg"
      ]
    },
    {
      "cell_type": "code",
      "execution_count": 38,
      "metadata": {},
      "outputs": [
        {
          "name": "stdout",
          "output_type": "stream",
          "text": [
            "nxpmemcfg family-info \n",
            "List of all supported peripherals and its instances:\n",
            "╔════╦══════════╦═════════════╦══════════════╦══════════╦═══════════╦════════════════════╦════════╦════════╗\n",
            "║ #  ║  Family  ║ flexspi_nor ║ flexspi_nand ║ semc_nor ║ semc_nand ║      spi_nor       ║  mmc   ║   sd   ║\n",
            "╠════╬══════════╬═════════════╬══════════════╬══════════╬═══════════╬════════════════════╬════════╬════════╣\n",
            "║ 0  ║ lpc550x  ║     N/A     ║     N/A      ║   N/A    ║    N/A    ║        [3]         ║  N/A   ║  N/A   ║\n",
            "║ 1  ║ lpc551x  ║     N/A     ║     N/A      ║   N/A    ║    N/A    ║        [3]         ║  N/A   ║  N/A   ║\n",
            "║ 2  ║ lpc552x  ║     N/A     ║     N/A      ║   N/A    ║    N/A    ║        [3]         ║  N/A   ║  N/A   ║\n",
            "║ 3  ║ lpc55s0x ║     N/A     ║     N/A      ║   N/A    ║    N/A    ║        [3]         ║  N/A   ║  N/A   ║\n",
            "║ 4  ║ lpc55s1x ║     N/A     ║     N/A      ║   N/A    ║    N/A    ║        [3]         ║  N/A   ║  N/A   ║\n",
            "║ 5  ║ lpc55s2x ║     N/A     ║     N/A      ║   N/A    ║    N/A    ║        [3]         ║  N/A   ║  N/A   ║\n",
            "║ 6  ║ lpc55s3x ║     Yes     ║     N/A      ║   N/A    ║    N/A    ║    [0, 1, 3, 8]    ║  N/A   ║  N/A   ║\n",
            "║ 7  ║ lpc55s6x ║     N/A     ║     N/A      ║   N/A    ║    N/A    ║        [3]         ║  N/A   ║  N/A   ║\n",
            "║ 8  ║  rt1015  ║     Yes     ║     Yes      ║   N/A    ║    N/A    ║       [0, 1]       ║  N/A   ║  N/A   ║\n",
            "║ 9  ║  rt101x  ║     Yes     ║     Yes      ║   N/A    ║    N/A    ║       [0, 1]       ║  N/A   ║  N/A   ║\n",
            "║ 10 ║  rt102x  ║     Yes     ║     Yes      ║   Yes    ║    Yes    ║    [0, 1, 2, 3]    ║ [0, 1] ║ [0, 1] ║\n",
            "║ 11 ║  rt104x  ║     Yes     ║     Yes      ║   Yes    ║    Yes    ║    [0, 1, 2, 3]    ║ [0, 1] ║ [0, 1] ║\n",
            "║ 12 ║  rt105x  ║     Yes     ║     Yes      ║   Yes    ║    Yes    ║    [0, 1, 2, 3]    ║ [0, 1] ║ [0, 1] ║\n",
            "║ 13 ║  rt106x  ║     Yes     ║     Yes      ║   Yes    ║    Yes    ║    [0, 1, 2, 3]    ║ [0, 1] ║ [0, 1] ║\n",
            "║ 14 ║  rt116x  ║    [1, 2]   ║    [1, 2]    ║   Yes    ║    Yes    ║ [0, 1, 2, 3, 4, 5] ║ [0, 1] ║ [0, 1] ║\n",
            "║ 15 ║  rt117x  ║    [1, 2]   ║    [1, 2]    ║   Yes    ║    Yes    ║ [0, 1, 2, 3, 4, 5] ║ [0, 1] ║ [0, 1] ║\n",
            "║ 16 ║  rt118x  ║    [1, 2]   ║    [1, 2]    ║   Yes    ║    Yes    ║ [0, 1, 2, 3, 4, 5] ║ [0, 1] ║ [0, 1] ║\n",
            "║ 17 ║  rt5xx   ║    [0, 1]   ║    [0, 1]    ║   N/A    ║    N/A    ║ [0, 1, 2, 3, 4, 5] ║ [0, 1] ║ [0, 1] ║\n",
            "║ 18 ║  rt6xx   ║    [0, 1]   ║    [0, 1]    ║   N/A    ║    N/A    ║ [0, 1, 2, 3, 4, 5] ║ [0, 1] ║ [0, 1] ║\n",
            "║ 19 ║  rw61x   ║     Yes     ║     N/A      ║   N/A    ║    N/A    ║  [0, 1, 2, 3, 4]   ║  N/A   ║  N/A   ║\n",
            "╚════╩══════════╩═════════════╩══════════════╩══════════╩═══════════╩════════════════════╩════════╩════════╝\n",
            "List of all known memory configuration option words:\n",
            "╔════╦══════════════╦══════════════╦══════════════════════╦═════════════╦════════════════════════════════════╗\n",
            "║ #  ║  Peripheral  ║ Manufacturer ║         Name         ║  Interface  ║ Option words                       ║\n",
            "╠════╬══════════════╬══════════════╬══════════════════════╬═════════════╬════════════════════════════════════╣\n",
            "║ 0  ║ flexspi_nor  ║   Winbond    ║      W25QxxxJV       ║   quad_spi  ║ Opt0: 0xC0000207                   ║\n",
            "║ 1  ║ flexspi_nor  ║   Winbond    ║       W35T51NW       ║  octal_spi  ║ Opt0: 0xC0603005                   ║\n",
            "║ 2  ║ flexspi_nor  ║   Macronix   ║     MX25Uxxx32F      ║   quad_spi  ║ Opt0: 0xC0000007                   ║\n",
            "║ 3  ║ flexspi_nor  ║   Macronix   ║     MX25Lxxx45G      ║   quad_spi  ║ Opt0: 0xC0000007                   ║\n",
            "║ 4  ║ flexspi_nor  ║   Macronix   ║     MX25UMxxx45G     ║  octal_spi  ║ Opt0: 0xC0403037                   ║\n",
            "║ 5  ║ flexspi_nor  ║   Macronix   ║     MX66UMxxx45G     ║  octal_spi  ║ Opt0: 0xC0403037                   ║\n",
            "║ 6  ║ flexspi_nor  ║   Macronix   ║     MX25LMxxx45G     ║  octal_spi  ║ Opt0: 0xC0403037                   ║\n",
            "║ 7  ║ flexspi_nor  ║   Macronix   ║     MX25UM51345G     ║  octal_spi  ║ Opt0: 0xC0403037                   ║\n",
            "║ 8  ║ flexspi_nor  ║   Macronix   ║   MX25UM51345G_2nd   ║  octal_spi  ║ Opt0: 0xC1503051, Opt1: 0x20000014 ║\n",
            "║ 9  ║ flexspi_nor  ║  GigaDevice  ║      GD25QxxxC       ║   quad_spi  ║ Opt0: 0xC0000406                   ║\n",
            "║ 10 ║ flexspi_nor  ║  GigaDevice  ║      GD25LBxxxE      ║   quad_spi  ║ Opt0: 0xC0000007                   ║\n",
            "║ 11 ║ flexspi_nor  ║  GigaDevice  ║      GD25LTxxxE      ║   quad_spi  ║ Opt0: 0xC0000008                   ║\n",
            "║ 12 ║ flexspi_nor  ║  GigaDevice  ║      GD25LXxxxE      ║   quad_spi  ║ Opt0: 0xC0603008                   ║\n",
            "║ 13 ║ flexspi_nor  ║     ISSI     ║      IS25LPxxxA      ║   quad_spi  ║ Opt0: 0xC0000007                   ║\n",
            "║ 14 ║ flexspi_nor  ║     ISSI     ║      IS25WPxxxA      ║   quad_spi  ║ Opt0: 0xC0000007                   ║\n",
            "║ 15 ║ flexspi_nor  ║     ISSI     ║      IS25LXxxx       ║  octal_spi  ║ Opt0: 0xC0603005                   ║\n",
            "║ 16 ║ flexspi_nor  ║     ISSI     ║      IS25WXxxx       ║  octal_spi  ║ Opt0: 0xC0603005                   ║\n",
            "║ 17 ║ flexspi_nor  ║     ISSI     ║      IS26KSxxxS      ║ hyper_flash ║ Opt0: 0xC0233007                   ║\n",
            "║ 18 ║ flexspi_nor  ║     ISSI     ║      IS26KLxxxS      ║ hyper_flash ║ Opt0: 0xC0233007                   ║\n",
            "║ 19 ║ flexspi_nor  ║    Micron    ║      MT25QLxxxA      ║   quad_spi  ║ Opt0: 0xC0000007                   ║\n",
            "║ 20 ║ flexspi_nor  ║    Micron    ║ RW303-MT35XUxxxABA1G ║  octal_spi  ║ Opt0: 0xC0603005                   ║\n",
            "║ 21 ║ flexspi_nor  ║    Micron    ║ RW304-MT35XUxxxABA2G ║  octal_spi  ║ Opt0: 0xC0633005                   ║\n",
            "║ 22 ║ flexspi_nor  ║    Adesto    ║      AT25SFxxxA      ║   quad_spi  ║ Opt0: 0xC0000007                   ║\n",
            "║ 23 ║ flexspi_nor  ║    Adesto    ║       ATXPxxx        ║  octal_spi  ║ Opt0: 0xC0803007                   ║\n",
            "║ 24 ║ flexspi_nor  ║   Cypress    ║      S25FSxxxS       ║   quad_spi  ║ Opt0: 0xC0000007                   ║\n",
            "║ 25 ║ flexspi_nor  ║   Cypress    ║      S25FLxxxS       ║   quad_spi  ║ Opt0: 0xC0000007                   ║\n",
            "║ 26 ║ flexspi_nor  ║   Cypress    ║      S26KSxxxS       ║ hyper_flash ║ Opt0: 0xC0233007                   ║\n",
            "║ 27 ║ flexspi_nor  ║   Cypress    ║      S26KLxxxS       ║ hyper_flash ║ Opt0: 0xC0233007                   ║\n",
            "║ 28 ║ flexspi_nor  ║  Microchip   ║     SST26VFxxxB      ║   quad_spi  ║ Opt0: 0xC0000005                   ║\n",
            "║ 29 ║ flexspi_nor  ║  FudanMicro  ║       FM25Qxxx       ║   quad_spi  ║ Opt0: 0xC0000205                   ║\n",
            "║ 30 ║ flexspi_nor  ║  BoyaMicro   ║      BY25QxxxBS      ║   quad_spi  ║ Opt0: 0xC0000405                   ║\n",
            "║ 31 ║ flexspi_nor  ║     XMC      ║      XM25QHxxxB      ║   quad_spi  ║ Opt0: 0xC0000007                   ║\n",
            "║ 32 ║ flexspi_nor  ║     XMC      ║      XM25QUxxxB      ║   quad_spi  ║ Opt0: 0xC0000007                   ║\n",
            "║ 33 ║ flexspi_nor  ║   XTXtech    ║       X25FxxxB       ║   quad_spi  ║ Opt0: 0xC0000407                   ║\n",
            "║ 34 ║ flexspi_nor  ║   XTXtech    ║       X25QxxxD       ║   quad_spi  ║ Opt0: 0xC0000407                   ║\n",
            "║ 35 ║ flexspi_nor  ║     Puya     ║      P25QxxxLE       ║   quad_spi  ║ Opt0: 0xC0000405                   ║\n",
            "║ 36 ║ flexspi_nor  ║     Puya     ║       P25QxxxH       ║   quad_spi  ║ Opt0: 0xC0000405                   ║\n",
            "║ 37 ║ flexspi_nor  ║     Puya     ║       P25QxxxU       ║   quad_spi  ║ Opt0: 0xC0000405                   ║\n",
            "║ 38 ║ flexspi_nor  ║     AMIC     ║       A25LQxxx       ║   quad_spi  ║ Opt0: 0xC0000105                   ║\n",
            "╚════╩══════════════╩══════════════╩══════════════════════╩═════════════╩════════════════════════════════════╝\n",
            "║ 39 ║ flexspi_nand ║   Winbond    ║       W25N01G        ║   quad_spi  ║ Opt0: 0xC1010026, Opt1: 0x000000EF ║\n",
            "║ 40 ║ flexspi_nand ║   Winbond    ║       W25N02K        ║   quad_spi  ║ Opt0: 0xC1020026, Opt1: 0x000000EF ║\n",
            "║ 41 ║ flexspi_nand ║   Macronix   ║       MX35UF1G       ║   quad_spi  ║ Opt0: 0xC1010026, Opt1: 0x000000C2 ║\n",
            "║ 42 ║ flexspi_nand ║   Macronix   ║       MX35LF1G       ║   quad_spi  ║ Opt0: 0xC1010026, Opt1: 0x000000C2 ║\n",
            "║ 43 ║ flexspi_nand ║   Macronix   ║       MX35UF2G       ║   quad_spi  ║ Opt0: 0xC1020026, Opt1: 0x000000C2 ║\n",
            "║ 44 ║ flexspi_nand ║   Macronix   ║       MX35LF2G       ║   quad_spi  ║ Opt0: 0xC1020026, Opt1: 0x000000C2 ║\n",
            "║ 45 ║ flexspi_nand ║  GigaDevice  ║       GD5F1GQ5       ║   quad_spi  ║ Opt0: 0xC1010026, Opt1: 0x000000C8 ║\n",
            "║ 46 ║ flexspi_nand ║  GigaDevice  ║       GD5F2GQ5       ║   quad_spi  ║ Opt0: 0xC1020026, Opt1: 0x000000C8 ║\n",
            "║ 47 ║ flexspi_nand ║    Micron    ║     MT29F1G01AA      ║   quad_spi  ║ Opt0: 0xC1011022, Opt1: 0x0000002C ║\n",
            "║ 48 ║ flexspi_nand ║    Micron    ║     MT29F2G01AA      ║   quad_spi  ║ Opt0: 0xC1021022, Opt1: 0x0000002C ║\n",
            "║ 49 ║ flexspi_nand ║   Paragon    ║       PN26Q01A       ║   quad_spi  ║ Opt0: 0xC1010026, Opt1: 0x000000A1 ║\n",
            "║ 50 ║ flexspi_nand ║   Paragon    ║       PN26G01A       ║   quad_spi  ║ Opt0: 0xC1010026, Opt1: 0x000000A1 ║\n",
            "║ 51 ║ flexspi_nand ║   Paragon    ║       PN26Q02A       ║   quad_spi  ║ Opt0: 0xC1020026, Opt1: 0x000000A1 ║\n",
            "║ 52 ║ flexspi_nand ║   Paragon    ║       PN26G02A       ║   quad_spi  ║ Opt0: 0xC1020026, Opt1: 0x000000A1 ║\n",
            "╚════╩══════════════╩══════════════╩══════════════════════╩═════════════╩════════════════════════════════════╝\n",
            "║ 53 ║   semc_nor   ║    Micron    ║     MT28EW128ABA     ║   parallel  ║ Opt0: 0xD0000600                   ║\n",
            "║ 54 ║   semc_nor   ║    Micron    ║     MT28UG128ABA     ║   parallel  ║ Opt0: 0xD0000601                   ║\n",
            "╚════╩══════════════╩══════════════╩══════════════════════╩═════════════╩════════════════════════════════════╝\n",
            "║ 55 ║      sd      ║   General    ║      1bit_sdr12      ║  instance_0 ║ Opt0: 0xD0000000                   ║\n",
            "║ 56 ║      sd      ║   General    ║      1bit_sdr12      ║  instance_1 ║ Opt0: 0xD0000001                   ║\n",
            "║ 57 ║      sd      ║   General    ║      1bit_sdr12      ║  instance_2 ║ Opt0: 0xD0000002                   ║\n",
            "║ 58 ║      sd      ║   General    ║      1bit_sdr12      ║  instance_3 ║ Opt0: 0xD0000003                   ║\n",
            "╚════╩══════════════╩══════════════╩══════════════════════╩═════════════╩════════════════════════════════════╝\n",
            "\n"
          ]
        }
      ],
      "source": [
        "# Print out all supported memories\n",
        "%! nxpmemcfg family-info"
      ]
    },
    {
      "cell_type": "code",
      "execution_count": 39,
      "metadata": {},
      "outputs": [
        {
          "name": "stdout",
          "output_type": "stream",
          "text": [
            "nxpmemcfg blhost-script \n",
            "Usage: nxpmemcfg blhost-script [OPTIONS]\n",
            "\n",
            "  Export the configuration option words to blhost script.\n",
            "\n",
            "Options:\n",
            "  Known chip select. Alternative to known chip is YAML configuration '-c': [all_or_none]\n",
            "    -f, --family [lpc550x|lpc551x|lpc552x|lpc55s0x|lpc55s1x|lpc55s2x|lpc55s3x|lpc55s6x|rt1015|rt101x|rt102x|rt104x|rt105x|rt106x|rt116x|rt117x|rt118x|rt5xx|rt6xx|rw61x]\n",
            "                                  Select the chip family.\n",
            "    -m, --memory-chip TEXT        Select supported memory chip name. Use\n",
            "                                  family-info command to get the known names.\n",
            "    -i, --interface TEXT          Select supported memory chip interface. Use\n",
            "                                  family-info command to get the known\n",
            "                                  interfaces.\n",
            "  -c, --config FILE               Option word configuration YAML file, in case\n",
            "                                  that known chip has not been used\n",
            "  -ix, --instance INTEGER         Instance of peripheral if applicable\n",
            "  --fcb PATH                      Optional filename of FCB block generated by\n",
            "                                  HW and read back to PC. Be aware that script\n",
            "                                  will contain also erase of 4KB on base\n",
            "                                  address.\n",
            "  -o, --output FILE               Name of BLHOST script. If not specified, the\n",
            "                                  script will be printed to command line\n",
            "  --force                         Force overwriting of existing files.\n",
            "  --help                          Show this message and exit.\n"
          ]
        }
      ],
      "source": [
        "# How to use the blhost-script\n",
        "%! nxpmemcfg blhost-script"
      ]
    },
    {
      "cell_type": "code",
      "execution_count": 40,
      "metadata": {},
      "outputs": [
        {
          "name": "stdout",
          "output_type": "stream",
          "text": [
            "nxpmemcfg blhost-script -f rt118x -m W25QxxxJV -i quad_spi -ix 1 -o workspace/config_mem.bls --force --fcb workspace/fcb.bin \n",
            "Detected peripheral flexspi_nor for W25QxxxJV\n",
            "Loaded option words: 0xC0000207\n",
            "\u001b[33mWARNING:spsdk.memcfg.memcfg:FCB block read back script has been generated. Be aware that s 4KB block at base address will be erased to avoid cumulative write! (249ms since start, memcfg.py:391)\u001b[39m\n",
            "Exported blhost script.\n"
          ]
        }
      ],
      "source": [
        "# Generate script to configure FlexSPI interface for the specific memory and extract FCB.\n",
        "%! nxpmemcfg blhost-script -f rt118x -m W25QxxxJV -i quad_spi -ix 1 -o $CFG_MEM_FILE --force --fcb $FCB_FILE\n",
        "\n",
        "assert os.path.exists(CFG_MEM_FILE)"
      ]
    },
    {
      "cell_type": "markdown",
      "metadata": {},
      "source": [
        "### EVK Board Overview\n",
        "#### The following picture describes connector placement of RT1180 EVK.\n",
        "![Signing key and used SRK definition](img/evk-1.png \"signing key\")\n",
        "\n",
        "#### Serial Downloader Protocol Mode:\n",
        "\n",
        "Configure Boot Mode Switch to : 1/2/3-OFF, 4-ON\\\n",
        "Connect micro USB cable into USB OTG1         - J33\\\n",
        "Connect micro USB cable into Debug USB Port   - J53\n",
        "\n",
        "#### Internal Boot Mode:\n",
        "\n",
        "Configure Boot Mode Switch to :1-OFF, 2-ON, 3-OFF, 4-OFF\\\n",
        "Connect micro USB cable into Debug USB Port - J53"
      ]
    },
    {
      "cell_type": "code",
      "execution_count": 41,
      "metadata": {},
      "outputs": [
        {
          "name": "stdout",
          "output_type": "stream",
          "text": [
            "blhost  -u 0x1fc9,0x014c get-property 1 \n",
            "Response status = 0 (0x0) Success.\n",
            "Response word 1 = 1258487809 (0x4b030001)\n",
            "Current Version = K3.0.1\n",
            "blhost  -u 0x1fc9,0x014c load-image ../flashloader/ahab/workspace/signed_flashloader.bin \n",
            "Loading image\n",
            "Response status = 0 (0x0) Success.\n",
            "blhost  -u 0x15A2,0x0073 get-property 7 \n",
            "Response status = 0 (0x0) Success.\n",
            "Response word 1 = 25530335 (0x1858fdf)\n",
            "Available Commands = ['FlashEraseAll', 'FlashEraseRegion', 'ReadMemory', 'WriteMemory', 'FillMemory', 'GetProperty', 'ReceiveSBFile', 'Execute', 'Call', 'Reset', 'SetProperty', 'FlashReadResource', 'ConfigureMemory', 'GenerateKeyBlob', 'UpdateLifeCycle', 'EleMessage']\n",
            "blhost  -u 0x15A2,0x0073 get-property 1 \n",
            "Response status = 0 (0x0) Success.\n",
            "Response word 1 = 1258424320 (0x4b020800)\n",
            "Current Version = K2.8.0\n",
            "blhost -u 0x15A2,0x0073 batch workspace/config_mem.bls \n",
            "Response status = 0 (0x0) Success.\n",
            "Response status = 0 (0x0) Success.\n",
            "Response status = 0 (0x0) Success.\n",
            "Response status = 0 (0x0) Success.\n",
            "Response status = 0 (0x0) Success.\n",
            "Response status = 0 (0x0) Success.\n",
            "Response status = 0 (0x0) Success.\n",
            "Reading memory\n",
            "Response status = 0 (0x0) Success.\n",
            "Response word 1 = 512 (0x200)\n",
            "Read 512 of 512 bytes.\n"
          ]
        }
      ],
      "source": [
        "# The board must be in SDP mode\n",
        "# Configure Boot Mode Switch to : 1/2/3-OFF, 4-ON\n",
        "# Connect micro USB cable into USB OTG1         - J33\n",
        "# Connect micro USB cable into Debug USB Port   - J53\n",
        "\n",
        "# Parametrs for BLSHOST. USB PID/VID for ROM Flashloader and NXP Flashloader\n",
        "COMPAR = \"-u\"  # USB\n",
        "BLHOST_CONNECT_ROM = \"0x1fc9,0x014c\"  # PID/VID of ROM\n",
        "BLHOST_CONNECT_FLDR = \"0x15A2,0x0073\"  # PID/VID of NXP Flashloader\n",
        "\n",
        "# To use tha UART compar parametr must be change, COMxx must be replaced by the name of your COM port, 115200 is default baudrate.\n",
        "# compar=\"-p\"                                                           # UART\n",
        "# BLHOST_CONNECT_ROM=\"COMxx,115200\"                                     # COM port, baudrate\n",
        "# BLHOST_CONNECT_FLDR=\"COMxx,115200\"                                    # COM port, baudrate\n",
        "\n",
        "assert os.path.exists(FLASHLOADER_FILE)\n",
        "\n",
        "# Load flashloader\n",
        "%! blhost $VERBOSITY $COMPAR $BLHOST_CONNECT_ROM get-property 1\n",
        "%! blhost $VERBOSITY $COMPAR $BLHOST_CONNECT_ROM load-image $FLASHLOADER_FILE\n",
        "# Ping the RT1180\n",
        "%! blhost $VERBOSITY $COMPAR $BLHOST_CONNECT_FLDR get-property 7\n",
        "# Ping the RT1180\n",
        "%! blhost $VERBOSITY $COMPAR $BLHOST_CONNECT_FLDR get-property 1\n",
        "\n",
        "# Execute the commands generated by \"blhost-script\". This script will configure flash,\n",
        "# program FCB into the external memory and reads back the binary data. Be aware tha erase of the first sector must be done.\n",
        "# The script can be executed only once to read FCB.\n",
        "%! blhost $COMPAR $BLHOST_CONNECT_FLDR batch $CFG_MEM_FILE\n",
        "\n",
        "assert os.path.exists(FCB_FILE)"
      ]
    },
    {
      "cell_type": "markdown",
      "metadata": {},
      "source": [
        "### II. Program Application"
      ]
    },
    {
      "cell_type": "code",
      "execution_count": 42,
      "metadata": {},
      "outputs": [
        {
          "name": "stdout",
          "output_type": "stream",
          "text": [
            "nxpimage  bootable-image get-templates -f rt118x -o workspace/bootable_image_templates --force \n",
            "Creating workspace/bootable_image_templates/bootimg_rt118x_serial_downloader.yaml template file.\n",
            "Creating workspace/bootable_image_templates/bootimg_rt118x_flexspi_nor.yaml template file.\n",
            "Creating workspace/bootable_image_templates/bootimg_rt118x_flexspi_nand.yaml template file.\n",
            "Creating workspace/bootable_image_templates/bootimg_rt118x_semc_nand.yaml template file.\n",
            "Creating workspace/bootable_image_templates/bootimg_rt118x_emmc.yaml template file.\n",
            "Creating workspace/bootable_image_templates/bootimg_rt118x_sd.yaml template file.\n"
          ]
        }
      ],
      "source": [
        "# Get the template file of configuration for bootable image\n",
        "%! nxpimage $VERBOSITY bootable-image get-templates -f rt118x -o $BIMG_TEMPLATES --force"
      ]
    },
    {
      "cell_type": "markdown",
      "metadata": {},
      "source": [
        "#### The template file must be modified. Resulting file can be found in the input folder.\n",
        "![rt118x](img/bootable_image.png \"rt118x bootable image\")"
      ]
    },
    {
      "cell_type": "markdown",
      "metadata": {},
      "source": [
        "Export the final bootable image"
      ]
    },
    {
      "cell_type": "code",
      "execution_count": 43,
      "metadata": {},
      "outputs": [
        {
          "name": "stdout",
          "output_type": "stream",
          "text": [
            "nxpimage  bootable-image merge -c inputs/bootimg_rt118x_flexspi_nor.yaml -o workspace/bootable_img.bin \n",
            "Success. (Bootable Image: workspace/bootable_img.bin created)\n"
          ]
        }
      ],
      "source": [
        "# Export bootable image\n",
        "%! nxpimage $VERBOSITY bootable-image merge -c $BIMG_FILE -o $BOOTABLE_IMAGE\n",
        "\n",
        "# Assert os.path.exists(BOOTABLE_IMAGE)\n",
        "assert os.path.isfile(BOOTABLE_IMAGE)"
      ]
    },
    {
      "cell_type": "code",
      "execution_count": 44,
      "metadata": {},
      "outputs": [
        {
          "name": "stdout",
          "output_type": "stream",
          "text": [
            "blhost  -u 0x15A2,0x0073 flash-erase-region 0x28000000 0x50000 \n",
            "Response status = 0 (0x0) Success.\n",
            "blhost  -u 0x15A2,0x0073 write-memory 0x28000000 workspace/bootable_img.bin \n",
            "Writing memory\n",
            "Response status = 0 (0x0) Success.\n",
            "Response word 1 = 61440 (0xf000)\n"
          ]
        }
      ],
      "source": [
        "# Base address of FlexSPI 1\n",
        "FLASH_ADDRESS = \"0x28000000\"\n",
        "\n",
        "# Base address of FlexSPI 2\n",
        "# FLASH_ADDRESS = \"0x04000000\"\n",
        "\n",
        "# Size of external memory to erase\n",
        "ERASE_SIZE = \"0x50000\"\n",
        "\n",
        "# Erase flash\n",
        "%! blhost $VERBOSITY $COMPAR $BLHOST_CONNECT_FLDR flash-erase-region $FLASH_ADDRESS $ERASE_SIZE\n",
        "# Write image - 0x38000000\n",
        "%! blhost $VERBOSITY $COMPAR $BLHOST_CONNECT_FLDR write-memory $FLASH_ADDRESS $BOOTABLE_IMAGE\n",
        "\n",
        "# Swith the board into internal boot and reset.\n",
        "\n",
        "# Configure Boot Mode Switch to :1-OFF, 2-ON, 3-OFF, 4-OFF\n",
        "# Connect micro USB cable into Debug USB Port - J53\n",
        "# Open Serial Terminal (115200)\n",
        "# Reset the board\n",
        "\n",
        "# The \"hello_world\" with time should be printed on the terminal:\n",
        "# hello world new 14:36:56"
      ]
    },
    {
      "cell_type": "markdown",
      "metadata": {},
      "source": [
        "## 6. Burn Super Root Key Hash (SRKH) and Manage Lifecycle.\n",
        "After successful validation of previous steps we can proceed with final security enablement. SRKH must be programmed into corresponding fuses to establish root of trust. On RT118x the dedicated ELE command must be used to move lifecycle to OEM_CLOSED which enforces security."
      ]
    },
    {
      "cell_type": "markdown",
      "metadata": {},
      "source": [
        "<center><span style=\"color:red\">NOTE!</span></center>\n",
        "<span style=\"color:red\">Device will be put into OEM_CLOSED Lifecycle after execution of the scrip below. It becomes mandatory to sign all FW running on the device by corresponding private key.</span>\n",
        "\n",
        "<span style=\"color:red\">Only authenticated FW images will be executed. Debug features will be limited and must be unlocked by debug mailbox feature.</span> \n",
        "\n",
        "Debug mailbox example is located [HERE](rt118x_debug_authentication.ipynb)."
      ]
    },
    {
      "cell_type": "code",
      "execution_count": 46,
      "metadata": {},
      "outputs": [
        {
          "name": "stdout",
          "output_type": "stream",
          "text": [
            "blhost  -u 0x1fc9,0x014c get-property 1 \n",
            "Response status = 0 (0x0) Success.\n",
            "Response word 1 = 1258487809 (0x4b030001)\n",
            "Current Version = K3.0.1\n",
            "blhost  -u 0x1fc9,0x014c load-image ../flashloader/ahab/workspace/signed_flashloader.bin \n",
            "Loading image\n",
            "Response status = 0 (0x0) Success.\n",
            "blhost  -u 0x15A2,0x0073 get-property 1 \n",
            "Response status = 0 (0x0) Success.\n",
            "Response word 1 = 1258424320 (0x4b020800)\n",
            "Current Version = K2.8.0\n",
            "blhost  -u 0x15A2,0x0073 batch workspace/signed_ahab_oem0_srk_hash_blhost.bcf \n",
            "Response status = 0 (0x0) Success.\n",
            "Response word 1 = True (0x1)\n",
            "Response status = 0 (0x0) Success.\n",
            "Response word 1 = True (0x1)\n",
            "Response status = 0 (0x0) Success.\n",
            "Response word 1 = True (0x1)\n",
            "Response status = 0 (0x0) Success.\n",
            "Response word 1 = True (0x1)\n",
            "Response status = 0 (0x0) Success.\n",
            "Response word 1 = True (0x1)\n",
            "Response status = 0 (0x0) Success.\n",
            "Response word 1 = True (0x1)\n",
            "Response status = 0 (0x0) Success.\n",
            "Response word 1 = True (0x1)\n",
            "Response status = 0 (0x0) Success.\n",
            "Response word 1 = True (0x1)\n",
            "blhost  -u 0x15A2,0x0073 update-life-cycle 8 \n",
            "Response status = 0 (0x0) Success.\n"
          ]
        }
      ],
      "source": [
        "# The board must be in SDP mode\n",
        "# Configure Boot Mode Switch to : 1/2/3-OFF, 4-ON\n",
        "# Connect micro USB cable into USB OTG1         - J33\n",
        "# Connect micro USB cable into Debug USB Port   - J53\n",
        "\n",
        "assert os.path.exists(FLASHLOADER_FILE)\n",
        "assert os.path.exists(SRKH_BATCH_FILE)\n",
        "\n",
        "# To enable this script, set the variable below to 1\n",
        "enable_script = 0\n",
        "if enable_script:\n",
        "\n",
        "    # Ping ROM flashloader\n",
        "    %! blhost $VERBOSITY $COMPAR $BLHOST_CONNECT_ROM get-property 1\n",
        "    # Load flashloader\n",
        "    %! blhost $VERBOSITY $COMPAR $BLHOST_CONNECT_ROM load-image $FLASHLOADER_FILE\n",
        "\n",
        "    # Ping flashloader\n",
        "    %! blhost $VERBOSITY $COMPAR $BLHOST_CONNECT_FLDR get-property 1\n",
        "    # Execute batch command to program SRKH\n",
        "    %! blhost $VERBOSITY $COMPAR $BLHOST_CONNECT_FLDR batch $SRKH_BATCH_FILE\n",
        "\n",
        "    # OEM lifecycle statuses\n",
        "    # 8 - oem_closed: Update to OEM Closed\n",
        "    ELE_LIFECYCLE = 8\n",
        "\n",
        "    # Change Lifecycle to OEM_CLOSED\n",
        "    %! blhost $VERBOSITY $COMPAR $BLHOST_CONNECT_FLDR update-life-cycle $ELE_LIFECYCLE\n",
        "\n",
        "# Swith the board into internal boot and reset.\n",
        "\n",
        "# Configure Boot Mode Switch to :1-OFF, 2-ON, 3-OFF, 4-OFF\n",
        "# Connect micro USB cable into Debug USB Port - J53\n",
        "# Open Serial Terminal (115200)\n",
        "# Reset the board\n",
        "\n",
        "# The \"hello_world\" with time should be printed on the terminal:\n",
        "# hello world new 14:36:56"
      ]
    }
  ],
  "metadata": {
    "kernelspec": {
      "display_name": "Python 3 (ipykernel)",
      "language": "python",
      "name": "python3"
    },
    "language_info": {
      "codemirror_mode": {
        "name": "ipython",
        "version": 3
      },
      "file_extension": ".py",
      "mimetype": "text/x-python",
      "name": "python",
      "nbconvert_exporter": "python",
      "pygments_lexer": "ipython3",
      "version": "3.11.4"
    }
  },
  "nbformat": 4,
  "nbformat_minor": 4
}
