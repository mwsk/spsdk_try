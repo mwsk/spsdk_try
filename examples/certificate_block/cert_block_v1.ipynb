{
 "cells": [
  {
   "cell_type": "markdown",
   "metadata": {},
   "source": [
    "# How to create a Certificate Block v1\n",
    "\n",
    "This notebook describes the procedure for creating a certificate block v1 using SPSDK (Secure Provisioning SDK). It provides a step-by-step guide on how to generate and structure the certificate block, which is crucial for secure boot processes and firmware signing in embedded systems. The notebook demonstrates the practical application of SPSDK tools to create a standardized and secure certificate block format.\n",
    "\n",
    "For more detailed information about the certificate block format, you can refer to the following file:\n",
    "\n",
    "[Certificate blocks specification](../_knowledge_base/cert_block_summary.md)\n",
    "\n",
    "This resource contains a comprehensive description of the certificate block format and its specifications.\n",
    "\n",
    "**Procedure of creating a certificate block v1 in SPSDK**\n",
    "1. Optionally generate configuration template file as a starting point\n",
    "   \n",
    "   `nxpimage cert-block get-template -f mimxrt595s -o .\\workspace\\cert_block_rt5xx.yaml --force`\n",
    "2. Create a configuration file (modify already created template or use any from other project)\n",
    "3. Export the certificate block binary\n",
    "\n",
    "\n",
    "## 1. Prerequisites\n",
    "- SPSDK is needed with examples extension. `pip install spsdk[examples]` (Please refer to the [installation](../_knowledge_base/installation_guide.rst) documentation.)\n",
    "\n",
    "- Have already generated X.509 certificates for the project as per the requirements. (Refer to the [Certificates in SPSDK](../crypto/certificates.ipynb) documentation.)\n",
    "    In our scenario we will use already prepared X.509 certificates from example folder X.509 prepared certificates: `../_data/keys/rsa2048`\n",
    "\n",
    "Let's prepare also workspace and variables.\n",
    "\n",
    "\n",
    "\n",
    "\n",
    "\n",
    "\n"
   ]
  },
  {
   "cell_type": "code",
   "execution_count": 1,
   "metadata": {},
   "outputs": [
    {
     "name": "stdout",
     "output_type": "stream",
     "text": [
      "env: JUPYTER_SPSDK=1\n",
      "Created `%!` as an alias for `%execute`.\n"
     ]
    }
   ],
   "source": [
    "# Initialization cell\n",
    "from spsdk.utils.jupyter_utils import YamlDiffWidget\n",
    "\n",
    "# This env variable sets colored logger output to STDOUT\n",
    "%env JUPYTER_SPSDK=1\n",
    "# Set a magic for command execution and echo\n",
    "%alias execute echo %l && %l\n",
    "%alias_magic ! execute"
   ]
  },
  {
   "cell_type": "markdown",
   "metadata": {},
   "source": [
    "## 2. Prepare the certificate block configuration file\n",
    "As a staring point the template file has been got and modify to satisfy our requirements."
   ]
  },
  {
   "cell_type": "code",
   "execution_count": 2,
   "metadata": {},
   "outputs": [
    {
     "name": "stdout",
     "output_type": "stream",
     "text": [
      "nxpimage cert-block get-template -f mimxrt595s -o ./workspace/cert_block_v1_template.yaml --force \n",
      "Creating workspace/cert_block_v1_template.yaml template file.\n"
     ]
    },
    {
     "data": {
      "text/html": [
       "\n",
       "            \n",
       "            <style>\n",
       "                .yaml-diff { font-family: monospace; background-color: #f0f0f0; padding: 1em; border: 1px solid #c0c0c0; }\n",
       "                .yaml-key { color: #0000CC; font-weight: bold; }\n",
       "                .yaml-value { color: #006600; }\n",
       "                .yaml-commented-line { color: #008800; }\n",
       "                .yaml-list-item { color: #660066; }\n",
       "                .diff-removed { background-color: #ffaaaa; }\n",
       "                .diff-added { background-color: #aaffaa; }\n",
       "                .yaml-comment {\n",
       "                    background-color: #FF8C00;\n",
       "                    color: #000000;\n",
       "                    border-radius: 50%;\n",
       "                    padding: 0 0.3em;\n",
       "                    margin-left: 0.5em;\n",
       "                    font-size: 0.8em;\n",
       "                    cursor: help;\n",
       "                    font-weight: bold;\n",
       "                    text-shadow: 1px 1px 1px rgba(255, 255, 255, 0.7);\n",
       "                }\n",
       "                #toggleButton_cdd6fae1cca9994e0c49c0c87fd599cd {\n",
       "                    background-color: #4CAF50;\n",
       "                    border: none;\n",
       "                    color: white;\n",
       "                    padding: 10px 20px;\n",
       "                    text-align: center;\n",
       "                    text-decoration: none;\n",
       "                    display: inline-block;\n",
       "                    font-size: 16px;\n",
       "                    margin: 4px 2px;\n",
       "                    cursor: pointer;\n",
       "                }\n",
       "            </style>\n",
       "            \n",
       "            \n",
       "            <script>\n",
       "            function toggleView_cdd6fae1cca9994e0c49c0c87fd599cd() {\n",
       "                var diffView = document.getElementById('diffView_cdd6fae1cca9994e0c49c0c87fd599cd');\n",
       "                var userConfigView = document.getElementById('userConfigView_cdd6fae1cca9994e0c49c0c87fd599cd');\n",
       "                var button = document.getElementById('toggleButton_cdd6fae1cca9994e0c49c0c87fd599cd');\n",
       "\n",
       "                if (diffView.style.display === 'none' && userConfigView.style.display === 'none') {\n",
       "                    diffView.style.display = 'block';\n",
       "                    userConfigView.style.display = 'none';\n",
       "                    button.textContent = 'Show User Config';\n",
       "                } else if (diffView.style.display === 'block') {\n",
       "                    diffView.style.display = 'none';\n",
       "                    userConfigView.style.display = 'block';\n",
       "                    button.textContent = 'Hide';\n",
       "                } else {\n",
       "                    diffView.style.display = 'none';\n",
       "                    userConfigView.style.display = 'none';\n",
       "                    button.textContent = 'Show Diff';\n",
       "                }\n",
       "            }\n",
       "            </script>\n",
       "            \n",
       "            <div class=\"yaml-diff-container\">\n",
       "            <h3>Configuration Differences</h3>\n",
       "            <button onclick=\"toggleView_cdd6fae1cca9994e0c49c0c87fd599cd()\" id=\"toggleButton_cdd6fae1cca9994e0c49c0c87fd599cd\">Show Diff</button>\n",
       "            \n",
       "            <a href=\"data:text/plain;base64,IyBDb3B5cmlnaHQgMjAyNCBOWFAKIwojIFNQRFgtTGljZW5zZS1JZGVudGlmaWVyOiBCU0QtMy1DbGF1c2UKCiMgPT09PT09PT09PT09PT09PT09PT09PT0gIGNlcnRfYmxvY2sgQ29uZmlndXJhdGlvbiB0ZW1wbGF0ZSBmb3IgbWlteHJ0NTk1cywgUmV2aXNpb246IGxhdGVzdC4gID09PT09PT09PT09PT09PT09PT09PT09PQoKIyA9PT09PT09PT09PT09PT09PT09PT09PT09PT09PT09PT09PT09PT09PT09PT09PT09PT09PT09PT09PT09PT09PT09PT09PT09PT09PT09PT09PT09PT09PT09PT09PT09PT09PT09PT09PT09PT09PT09PT09CiMgICAgICAgICAgICAgICAgICAgICAgICAgICAgICAgICAgICAgICAgICAgICAgICAgPT0gR2VuZXJhbCBPcHRpb25zID09ICAgICAgICAgICAgICAgICAgICAgICAgICAgICAgICAgICAgICAgICAgICAgICAgIAojID09PT09PT09PT09PT09PT09PT09PT09PT09PT09PT09PT09PT09PT09PT09PT09PT09PT09PT09PT09PT09PT09PT09PT09PT09PT09PT09PT09PT09PT09PT09PT09PT09PT09PT09PT09PT09PT09PT09PT0KIyAtLS0tLS0tLS0tLS0tLS0tLS0tLS0tLS0tLS0tLS0tLS0tLS0tPT09PT0gVGhlIGNoaXAgZmFtaWx5IG5hbWUgW1JlcXVpcmVkXSA9PT09PS0tLS0tLS0tLS0tLS0tLS0tLS0tLS0tLS0tLS0tLS0tLS0tLS0tCiMgRGVzY3JpcHRpb246IE5YUCBjaGlwIGZhbWlseSBpZGVudGlmaWVyLgpmYW1pbHk6IG1pbXhydDU5NXMKIyAtLS0tLS0tLS0tLS0tLS0tLS0tLS0tLS0tLS0tLS0tLS0tLS0tLS0tLT09PT09IE1DVSByZXZpc2lvbiBbT3B0aW9uYWxdID09PT09LS0tLS0tLS0tLS0tLS0tLS0tLS0tLS0tLS0tLS0tLS0tLS0tLS0tLS0tCiMgRGVzY3JpcHRpb246IFJldmlzaW9uIG9mIHNpbGljb24uIFRoZSAnbGF0ZXN0JyBuYW1lLCBtZWFucyBtb3N0IGN1cnJlbnQgcmV2aXNpb24uCiMgUG9zc2libGUgb3B0aW9uczogPGEwLCBiMCwgbGF0ZXN0PgpyZXZpc2lvbjogbGF0ZXN0CiMgPT09PT09PT09PT09PT09PT09PT09PT09PT09PT09PT09PT09PT09PT0gIENlcnRpZmljYXRpb24gQmxvY2sgVjEgdGVtcGxhdGUgID09PT09PT09PT09PT09PT09PT09PT09PT09PT09PT09PT09PT09PT09PQoKIyA9PT09PT09PT09PT09PT09PT09PT09PT09PT09PT09PT09PT09PT09PT09PT09PT09PT09PT09PT09PT09PT09PT09PT09PT09PT09PT09PT09PT09PT09PT09PT09PT09PT09PT09PT09PT09PT09PT09PT09CiMgICAgICAgICAgICAgICAgICAgICAgICAgICAgICAgICAgICAgICAgICAgICAgICA9PSBSb290IEtleXMgU2V0dGluZ3MgPT0KIyA9PT09PT09PT09PT09PT09PT09PT09PT09PT09PT09PT09PT09PT09PT09PT09PT09PT09PT09PT09PT09PT09PT09PT09PT09PT09PT09PT09PT09PT09PT09PT09PT09PT09PT09PT09PT09PT09PT09PT09CiMgLS0tLS0tLS0tLS0tLS0tLS0tLS0tLS0tLS0tLS09PT09PSBSb290IENlcnRpZmljYXRlIEZpbGUgMCBbQ29uZGl0aW9uYWxseSByZXF1aXJlZF0gPT09PT0tLS0tLS0tLS0tLS0tLS0tLS0tLS0tLS0tLS0tLQojIERlc2NyaXB0aW9uOiBSb290IGNlcnRpZmljYXRlIGZpbGUgaW5kZXggMC4Kcm9vdENlcnRpZmljYXRlMEZpbGU6IC4uLy4uL19kYXRhL2tleXMvcnNhMjA0OC9zcmswX2NlcnQucGVtCiMgLS0tLS0tLS0tLS0tLS0tLS0tLS0tLS0tLS0tLS0tLS0tLS0tPT09PT0gUm9vdCBDZXJ0aWZpY2F0ZSBGaWxlIDEgW09wdGlvbmFsXSA9PT09PS0tLS0tLS0tLS0tLS0tLS0tLS0tLS0tLS0tLS0tLS0tLS0tLQojIERlc2NyaXB0aW9uOiBSb290IGNlcnRpZmljYXRlIGZpbGUgaW5kZXggMS4Kcm9vdENlcnRpZmljYXRlMUZpbGU6IC4uLy4uL19kYXRhL2tleXMvcnNhMjA0OC9zcmsxX2NlcnQucGVtCiMgLS0tLS0tLS0tLS0tLS0tLS0tLS0tLS0tLS0tLS0tLS0tLS0tPT09PT0gUm9vdCBDZXJ0aWZpY2F0ZSBGaWxlIDIgW09wdGlvbmFsXSA9PT09PS0tLS0tLS0tLS0tLS0tLS0tLS0tLS0tLS0tLS0tLS0tLS0tLQojIERlc2NyaXB0aW9uOiBSb290IGNlcnRpZmljYXRlIGZpbGUgaW5kZXggMi4Kcm9vdENlcnRpZmljYXRlMkZpbGU6IC4uLy4uL19kYXRhL2tleXMvcnNhMjA0OC9zcmsyX2NlcnQucGVtCiMgLS0tLS0tLS0tLS0tLS0tLS0tLS0tLS0tLS0tLS0tLS0tLS0tPT09PT0gUm9vdCBDZXJ0aWZpY2F0ZSBGaWxlIDMgW09wdGlvbmFsXSA9PT09PS0tLS0tLS0tLS0tLS0tLS0tLS0tLS0tLS0tLS0tLS0tLS0tLQojIERlc2NyaXB0aW9uOiBSb290IGNlcnRpZmljYXRlIGZpbGUgaW5kZXggMy4Kcm9vdENlcnRpZmljYXRlM0ZpbGU6IC4uLy4uL19kYXRhL2tleXMvcnNhMjA0OC9zcmszX2NlcnQucGVtCiMgLS0tLS0tLS0tLS0tLS0tLS0tLS0tLS0tLS0tLS09PT09PSBNYWluIENlcnRpZmljYXRlIEluZGV4IFtDb25kaXRpb25hbGx5IHJlcXVpcmVkXSA9PT09PS0tLS0tLS0tLS0tLS0tLS0tLS0tLS0tLS0tLS0tLQojIERlc2NyaXB0aW9uOiBJbmRleCBvZiBjZXJ0aWZpY2F0ZSB0aGF0IGlzIHVzZWQgYXMgYSBtYWluLiBJZiBub3QgZGVmaW5lZCwgdGhlIGNlcnRpZmljYXRlIG1hdGNoaW5nIHByaXZhdGUga2V5IHdpbGwgYmUKIyBzZWxlY3RlZC4KbWFpblJvb3RDZXJ0SWQ6IDAKIyA9PT09PT09PT09PT09PT09PT09PT09PT09PT09PT09PT09PT09PT09PT09PT09PT09PT09PT09PT09PT09PT09PT09PT09PT09PT09PT09PT09PT09PT09PT09PT09PT09PT09PT09PT09PT09PT09PT09PT09CiMgICAgICAgICAgICAgICAgICAgICAgICAgICAgICAgICAgICAgICAgICAgICAgICAgID09IEJhc2ljIFNldHRpbmdzID09CiMgPT09PT09PT09PT09PT09PT09PT09PT09PT09PT09PT09PT09PT09PT09PT09PT09PT09PT09PT09PT09PT09PT09PT09PT09PT09PT09PT09PT09PT09PT09PT09PT09PT09PT09PT09PT09PT09PT09PT09PQojIC0tLS0tLS0tLS0tLS0tLS0tLS0tLS0tLS0tLS0tLS0tLS0tLS0tPT09PT0gY2VydCBibG9jayBmaWxlbmFtZSBbUmVxdWlyZWRdID09PT09LS0tLS0tLS0tLS0tLS0tLS0tLS0tLS0tLS0tLS0tLS0tLS0tLS0KIyBEZXNjcmlwdGlvbjogR2VuZXJhdGVkIGNlcnQgYmxvY2sgZmlsZW5hbWUuCmNvbnRhaW5lck91dHB1dEZpbGU6IC4uL3dvcmtzcGFjZS9jZXJ0X2Jsb2NrX3YxLmJpbgo=\" download=\"user_config.yaml\">\n",
       "                <button style=\"background-color: #4CAF50; border: none; color: white; padding: 10px 20px; text-align: center; text-decoration: none; display: inline-block; font-size: 16px; margin: 4px 2px; cursor: pointer;\">\n",
       "                    Download Config\n",
       "                </button>\n",
       "            </a>\n",
       "            \n",
       "            <div id=\"diffView_cdd6fae1cca9994e0c49c0c87fd599cd\" class=\"yaml-diff\" style=\"display:none;\"><pre class=\"yaml-diff\"><span class=\"diff-added\"></span><br><span class=\"yaml-commented-line\"># =======================  cert_block Configuration template for mimxrt595s, Revision: latest.  ========================</span><br><br><span class=\"yaml-commented-line\"># ======================================================================================================================</span><br><span class=\"yaml-commented-line\">#                                                 == General Options ==                                                 </span><br><span class=\"yaml-commented-line\"># ======================================================================================================================</span><br><span class=\"yaml-commented-line\"># -------------------------------------===== The chip family name [Required] =====--------------------------------------</span><br><span class=\"yaml-commented-line\"># Description: NXP chip family identifier.</span><br><span class=\"yaml-key\">family</span>: <span class=\"yaml-value\">mimxrt595s</span><br><span class=\"yaml-commented-line\"># -----------------------------------------===== MCU revision [Optional] =====------------------------------------------</span><br><span class=\"yaml-commented-line\"># Description: Revision of silicon. The 'latest' name, means most current revision.</span><br><span class=\"yaml-commented-line\"># Possible options: <a0, b0, latest></span><br><span class=\"yaml-key\">revision</span>: <span class=\"yaml-value\">latest</span><br><span class=\"diff-added\"></span><br><span class=\"yaml-commented-line\"># ======================================================================================================================</span><br><span class=\"yaml-commented-line\">#                                             == Certificate V1 Settings ==                                             </span><br><span class=\"yaml-commented-line\"># ======================================================================================================================</span><br><span class=\"yaml-commented-line\"># --------------------------------------===== Image Build Number [Optional] =====---------------------------------------</span><br><span class=\"yaml-commented-line\"># Description: If it's omitted, it will be used 0 as default value.</span><br><span class=\"diff-removed\"><span class=\"yaml-key\">imageBuildNumber</span>: <span class=\"yaml-value\">0</span> <span style=\"background-color: #FFFF00; border-radius: 5px; padding: 2px 6px;\n",
       "margin-left: 5px; font-size: 0.8em;\">Removed because the default value 0 fullfil our needs for example purposes</span></span><br><span class=\"yaml-commented-line\"># --------------------------------===== Chain certificate 0 for root 0 [Optional] =====---------------------------------</span><br><span class=\"yaml-commented-line\"># Description: Chain certificate 0 for root certificate 0</span><br><span class=\"diff-removed\"><span class=\"yaml-key\">chainCertificate0File0</span>: <span class=\"yaml-value\">chain_certificate0_depth0.pem</span> <span style=\"background-color: #FFFF00;\n",
       "border-radius: 5px; padding: 2px 6px; margin-left: 5px; font-size: 0.8em;\">Unused because we are not using chains of certificates in our example</span></span><br><span class=\"yaml-commented-line\"># --------------------------------===== Chain certificate 1 for root 0 [Optional] =====---------------------------------</span><br><span class=\"yaml-commented-line\"># Description: Chain certificate 1 for root certificate 0</span><br><span class=\"diff-removed\"><span class=\"yaml-key\">chainCertificate0File1</span>: <span class=\"yaml-value\">chain_certificate0_depth1.pem</span> <span style=\"background-color: #FFFF00;\n",
       "border-radius: 5px; padding: 2px 6px; margin-left: 5px; font-size: 0.8em;\">Unused because we are not using chains of certificates in our example</span></span><br><span class=\"yaml-commented-line\"># --------------------------------===== Chain certificate 2 for root 0 [Optional] =====---------------------------------</span><br><span class=\"yaml-commented-line\"># Description: Chain certificate 2 for root certificate 0</span><br><span class=\"diff-removed\"><span class=\"yaml-key\">chainCertificate0File2</span>: <span class=\"yaml-value\">chain_certificate0_depth2.pem</span> <span style=\"background-color: #FFFF00;\n",
       "border-radius: 5px; padding: 2px 6px; margin-left: 5px; font-size: 0.8em;\">Unused because we are not using chains of certificates in our example</span></span><br><span class=\"yaml-commented-line\"># --------------------------------===== Chain certificate 3 for root 0 [Optional] =====---------------------------------</span><br><span class=\"yaml-commented-line\"># Description: Chain certificate 3 for root certificate 0</span><br><span class=\"diff-removed\"><span class=\"yaml-key\">chainCertificate0File3</span>: <span class=\"yaml-value\">chain_certificate0_depth3.pem</span> <span style=\"background-color: #FFFF00;\n",
       "border-radius: 5px; padding: 2px 6px; margin-left: 5px; font-size: 0.8em;\">Unused because we are not using chains of certificates in our example</span></span><br><span class=\"yaml-commented-line\"># --------------------------------===== Chain certificate 0 for root 1 [Optional] =====---------------------------------</span><br><span class=\"yaml-commented-line\"># Description: Chain certificate 0 for root certificate 1</span><br><span class=\"diff-removed\"><span class=\"yaml-key\">chainCertificate1File0</span>: <span class=\"yaml-value\">chain_certificate1_depth0.pem</span> <span style=\"background-color: #FFFF00;\n",
       "border-radius: 5px; padding: 2px 6px; margin-left: 5px; font-size: 0.8em;\">Unused because we are not using chains of certificates in our example</span></span><br><span class=\"yaml-commented-line\"># --------------------------------===== Chain certificate 1 for root 1 [Optional] =====---------------------------------</span><br><span class=\"yaml-commented-line\"># Description: Chain certificate 1 for root certificate 1</span><br><span class=\"diff-removed\"><span class=\"yaml-key\">chainCertificate1File1</span>: <span class=\"yaml-value\">chain_certificate1_depth1.pem</span> <span style=\"background-color: #FFFF00;\n",
       "border-radius: 5px; padding: 2px 6px; margin-left: 5px; font-size: 0.8em;\">Unused because we are not using chains of certificates in our example</span></span><br><span class=\"yaml-commented-line\"># --------------------------------===== Chain certificate 2 for root 1 [Optional] =====---------------------------------</span><br><span class=\"yaml-commented-line\"># Description: Chain certificate 2 for root certificate 1</span><br><span class=\"diff-removed\"><span class=\"yaml-key\">chainCertificate1File2</span>: <span class=\"yaml-value\">chain_certificate1_depth2.pem</span> <span style=\"background-color: #FFFF00;\n",
       "border-radius: 5px; padding: 2px 6px; margin-left: 5px; font-size: 0.8em;\">Unused because we are not using chains of certificates in our example</span></span><br><span class=\"yaml-commented-line\"># --------------------------------===== Chain certificate 3 for root 1 [Optional] =====---------------------------------</span><br><span class=\"yaml-commented-line\"># Description: Chain certificate 3 for root certificate 1</span><br><span class=\"diff-removed\"><span class=\"yaml-key\">chainCertificate1File3</span>: <span class=\"yaml-value\">chain_certificate1_depth3.pem</span> <span style=\"background-color: #FFFF00;\n",
       "border-radius: 5px; padding: 2px 6px; margin-left: 5px; font-size: 0.8em;\">Unused because we are not using chains of certificates in our example</span></span><br><span class=\"yaml-commented-line\"># --------------------------------===== Chain certificate 0 for root 2 [Optional] =====---------------------------------</span><br><span class=\"yaml-commented-line\"># Description: Chain certificate 0 for root certificate 2</span><br><span class=\"diff-removed\"><span class=\"yaml-key\">chainCertificate2File0</span>: <span class=\"yaml-value\">chain_certificate2_depth0.pem</span> <span style=\"background-color: #FFFF00;\n",
       "border-radius: 5px; padding: 2px 6px; margin-left: 5px; font-size: 0.8em;\">Unused because we are not using chains of certificates in our example</span></span><br><span class=\"yaml-commented-line\"># --------------------------------===== Chain certificate 1 for root 2 [Optional] =====---------------------------------</span><br><span class=\"yaml-commented-line\"># Description: Chain certificate 1 for root certificate 2</span><br><span class=\"diff-removed\"><span class=\"yaml-key\">chainCertificate2File1</span>: <span class=\"yaml-value\">chain_certificate2_depth1.pem</span> <span style=\"background-color: #FFFF00;\n",
       "border-radius: 5px; padding: 2px 6px; margin-left: 5px; font-size: 0.8em;\">Unused because we are not using chains of certificates in our example</span></span><br><span class=\"yaml-commented-line\"># --------------------------------===== Chain certificate 2 for root 2 [Optional] =====---------------------------------</span><br><span class=\"yaml-commented-line\"># Description: Chain certificate 2 for root certificate 2</span><br><span class=\"diff-removed\"><span class=\"yaml-key\">chainCertificate2File2</span>: <span class=\"yaml-value\">chain_certificate2_depth2.pem</span> <span style=\"background-color: #FFFF00;\n",
       "border-radius: 5px; padding: 2px 6px; margin-left: 5px; font-size: 0.8em;\">Unused because we are not using chains of certificates in our example</span></span><br><span class=\"yaml-commented-line\"># --------------------------------===== Chain certificate 3 for root 2 [Optional] =====---------------------------------</span><br><span class=\"yaml-commented-line\"># Description: Chain certificate 3 for root certificate 2</span><br><span class=\"diff-removed\"><span class=\"yaml-key\">chainCertificate2File3</span>: <span class=\"yaml-value\">chain_certificate2_depth3.pem</span> <span style=\"background-color: #FFFF00;\n",
       "border-radius: 5px; padding: 2px 6px; margin-left: 5px; font-size: 0.8em;\">Unused because we are not using chains of certificates in our example</span></span><br><span class=\"yaml-commented-line\"># --------------------------------===== Chain certificate 0 for root 3 [Optional] =====---------------------------------</span><br><span class=\"yaml-commented-line\"># Description: Chain certificate 0 for root certificate 3</span><br><span class=\"diff-removed\"><span class=\"yaml-key\">chainCertificate3File0</span>: <span class=\"yaml-value\">chain_certificate3_depth0.pem</span> <span style=\"background-color: #FFFF00;\n",
       "border-radius: 5px; padding: 2px 6px; margin-left: 5px; font-size: 0.8em;\">Unused because we are not using chains of certificates in our example</span></span><br><span class=\"yaml-commented-line\"># --------------------------------===== Chain certificate 1 for root 3 [Optional] =====---------------------------------</span><br><span class=\"yaml-commented-line\"># Description: Chain certificate 1 for root certificate 3</span><br><span class=\"diff-removed\"><span class=\"yaml-key\">chainCertificate3File1</span>: <span class=\"yaml-value\">chain_certificate3_depth1.pem</span> <span style=\"background-color: #FFFF00;\n",
       "border-radius: 5px; padding: 2px 6px; margin-left: 5px; font-size: 0.8em;\">Unused because we are not using chains of certificates in our example</span></span><br><span class=\"yaml-commented-line\"># --------------------------------===== Chain certificate 2 for root 3 [Optional] =====---------------------------------</span><br><span class=\"yaml-commented-line\"># Description: Chain certificate 2 for root certificate 3</span><br><span class=\"diff-removed\"><span class=\"yaml-key\">chainCertificate3File2</span>: <span class=\"yaml-value\">chain_certificate3_depth2.pem</span> <span style=\"background-color: #FFFF00;\n",
       "border-radius: 5px; padding: 2px 6px; margin-left: 5px; font-size: 0.8em;\">Unused because we are not using chains of certificates in our example</span></span><br><span class=\"yaml-commented-line\"># --------------------------------===== Chain certificate 3 for root 3 [Optional] =====---------------------------------</span><br><span class=\"yaml-commented-line\"># Description: Chain certificate 3 for root certificate 3</span><br><span class=\"diff-removed\"><span class=\"yaml-key\">chainCertificate3File3</span>: <span class=\"yaml-value\">chain_certificate3_depth3.pem</span> <span style=\"background-color: #FFFF00;\n",
       "border-radius: 5px; padding: 2px 6px; margin-left: 5px; font-size: 0.8em;\">Unused because we are not using chains of certificates in our example</span></span><br><span class=\"yaml-commented-line\"># ======================================================================================================================</span><br><span class=\"yaml-commented-line\">#                                                == Root Keys Settings ==                                               </span><br><span class=\"yaml-commented-line\"># ======================================================================================================================</span><br><span class=\"yaml-commented-line\"># -----------------------------===== Root Certificate File 0 [Conditionally required] =====-----------------------------</span><br><span class=\"yaml-commented-line\"># Description: Root certificate file index 0.</span><br><span class=\"diff-removed\"><span class=\"yaml-key\">rootCertificate0File</span>: <span class=\"yaml-value\">my_certificate0.pub</span> <span style=\"background-color: #FFFF00; border-radius:\n",
       "5px; padding: 2px 6px; margin-left: 5px; font-size: 0.8em;\">Change to existing path of Root of Trust key</span></span><br><span class=\"diff-added\"><span class=\"yaml-key\">rootCertificate0File</span>: <span class=\"yaml-value\">../../_data/keys/rsa2048/srk0_cert.pem</span></span><br><span class=\"yaml-commented-line\"># ------------------------------------===== Root Certificate File 1 [Optional] =====------------------------------------</span><br><span class=\"yaml-commented-line\"># Description: Root certificate file index 1.</span><br><span class=\"diff-removed\"><span class=\"yaml-key\">rootCertificate1File</span>: <span class=\"yaml-value\">my_certificate1.pub</span> <span style=\"background-color: #FFFF00; border-radius:\n",
       "5px; padding: 2px 6px; margin-left: 5px; font-size: 0.8em;\">Change to existing path of Root of Trust key</span></span><br><span class=\"diff-added\"><span class=\"yaml-key\">rootCertificate1File</span>: <span class=\"yaml-value\">../../_data/keys/rsa2048/srk1_cert.pem</span></span><br><span class=\"yaml-commented-line\"># ------------------------------------===== Root Certificate File 2 [Optional] =====------------------------------------</span><br><span class=\"yaml-commented-line\"># Description: Root certificate file index 2.</span><br><span class=\"diff-removed\"><span class=\"yaml-key\">rootCertificate2File</span>: <span class=\"yaml-value\">my_certificate2.pub</span> <span style=\"background-color: #FFFF00; border-radius:\n",
       "5px; padding: 2px 6px; margin-left: 5px; font-size: 0.8em;\">Change to existing path of Root of Trust key</span></span><br><span class=\"diff-added\"><span class=\"yaml-key\">rootCertificate2File</span>: <span class=\"yaml-value\">../../_data/keys/rsa2048/srk2_cert.pem</span></span><br><span class=\"yaml-commented-line\"># ------------------------------------===== Root Certificate File 3 [Optional] =====------------------------------------</span><br><span class=\"yaml-commented-line\"># Description: Root certificate file index 3.</span><br><span class=\"diff-removed\"><span class=\"yaml-key\">rootCertificate3File</span>: <span class=\"yaml-value\">my_certificate3.pub</span> <span style=\"background-color: #FFFF00; border-radius:\n",
       "5px; padding: 2px 6px; margin-left: 5px; font-size: 0.8em;\">Change to existing path of Root of Trust key</span></span><br><span class=\"diff-added\"><span class=\"yaml-key\">rootCertificate3File</span>: <span class=\"yaml-value\">../../_data/keys/rsa2048/srk3_cert.pem</span></span><br><span class=\"yaml-commented-line\"># -----------------------------===== Main Certificate Index [Conditionally required] =====------------------------------</span><br><span class=\"yaml-commented-line\"># Description: Index of certificate that is used as a main. If not defined, the certificate matching private key will be</span><br><span class=\"yaml-commented-line\"># selected.</span><br><span class=\"yaml-key\">mainRootCertId</span>: <span class=\"yaml-value\">0</span> <span style=\"background-color: #FFFF00; border-radius: 5px; padding: 2px 6px;\n",
       "margin-left: 5px; font-size: 0.8em;\">As good example we set the main root index of RoT to 0</span><br><span class=\"yaml-commented-line\"># ======================================================================================================================</span><br><span class=\"yaml-commented-line\">#                                                  == Basic Settings ==                                                 </span><br><span class=\"yaml-commented-line\"># ======================================================================================================================</span><br><span class=\"yaml-commented-line\"># --------------------------------------===== cert block filename [Required] =====--------------------------------------</span><br><span class=\"yaml-commented-line\"># Description: Generated cert block filename.</span><br><span class=\"diff-removed\"><span class=\"yaml-key\">containerOutputFile</span>: <span class=\"yaml-value\">cert_block.bin</span> <span style=\"background-color: #FFFF00; border-radius: 5px;\n",
       "padding: 2px 6px; margin-left: 5px; font-size: 0.8em;\">Modify the output path to our example needs. For output files in SPSDK workspace relative paths are\n",
       "always relative to configuration file location.</span></span><br><span class=\"diff-added\"><span class=\"yaml-key\">containerOutputFile</span>: <span class=\"yaml-value\">../workspace/cert_block_v1.bin</span></span><br></pre></div>\n",
       "            <div id=\"userConfigView_cdd6fae1cca9994e0c49c0c87fd599cd\" class=\"yaml-diff\" style=\"display:none;\"><pre class=\"yaml-diff\"><span class=\"yaml-commented-line\"># Copyright 2024 NXP</span><br><span class=\"yaml-commented-line\">#</span><br><span class=\"yaml-commented-line\"># SPDX-License-Identifier: BSD-3-Clause</span><br><br><span class=\"yaml-commented-line\"># =======================  cert_block Configuration template for mimxrt595s, Revision: latest.  ========================</span><br><br><span class=\"yaml-commented-line\"># ======================================================================================================================</span><br><span class=\"yaml-commented-line\">#                                                 == General Options ==                                                 </span><br><span class=\"yaml-commented-line\"># ======================================================================================================================</span><br><span class=\"yaml-commented-line\"># -------------------------------------===== The chip family name [Required] =====--------------------------------------</span><br><span class=\"yaml-commented-line\"># Description: NXP chip family identifier.</span><br><span class=\"yaml-key\">family</span>: <span class=\"yaml-value\">mimxrt595s</span><br><span class=\"yaml-commented-line\"># -----------------------------------------===== MCU revision [Optional] =====------------------------------------------</span><br><span class=\"yaml-commented-line\"># Description: Revision of silicon. The 'latest' name, means most current revision.</span><br><span class=\"yaml-commented-line\"># Possible options: <a0, b0, latest></span><br><span class=\"yaml-key\">revision</span>: <span class=\"yaml-value\">latest</span><br><span class=\"yaml-commented-line\"># =========================================  Certification Block V1 template  ==========================================</span><br><br><span class=\"yaml-commented-line\"># ======================================================================================================================</span><br><span class=\"yaml-commented-line\">#                                                == Root Keys Settings ==</span><br><span class=\"yaml-commented-line\"># ======================================================================================================================</span><br><span class=\"yaml-commented-line\"># -----------------------------===== Root Certificate File 0 [Conditionally required] =====-----------------------------</span><br><span class=\"yaml-commented-line\"># Description: Root certificate file index 0.</span><br><span class=\"yaml-key\">rootCertificate0File</span>: <span class=\"yaml-value\">../../_data/keys/rsa2048/srk0_cert.pem</span> <span style=\"background-color:\n",
       "#FFFF00; border-radius: 5px; padding: 2px 6px; margin-left: 5px; font-size: 0.8em;\">Change to existing path of Root of Trust key</span><br><span class=\"yaml-commented-line\"># ------------------------------------===== Root Certificate File 1 [Optional] =====------------------------------------</span><br><span class=\"yaml-commented-line\"># Description: Root certificate file index 1.</span><br><span class=\"yaml-key\">rootCertificate1File</span>: <span class=\"yaml-value\">../../_data/keys/rsa2048/srk1_cert.pem</span> <span style=\"background-color:\n",
       "#FFFF00; border-radius: 5px; padding: 2px 6px; margin-left: 5px; font-size: 0.8em;\">Change to existing path of Root of Trust key</span><br><span class=\"yaml-commented-line\"># ------------------------------------===== Root Certificate File 2 [Optional] =====------------------------------------</span><br><span class=\"yaml-commented-line\"># Description: Root certificate file index 2.</span><br><span class=\"yaml-key\">rootCertificate2File</span>: <span class=\"yaml-value\">../../_data/keys/rsa2048/srk2_cert.pem</span> <span style=\"background-color:\n",
       "#FFFF00; border-radius: 5px; padding: 2px 6px; margin-left: 5px; font-size: 0.8em;\">Change to existing path of Root of Trust key</span><br><span class=\"yaml-commented-line\"># ------------------------------------===== Root Certificate File 3 [Optional] =====------------------------------------</span><br><span class=\"yaml-commented-line\"># Description: Root certificate file index 3.</span><br><span class=\"yaml-key\">rootCertificate3File</span>: <span class=\"yaml-value\">../../_data/keys/rsa2048/srk3_cert.pem</span> <span style=\"background-color:\n",
       "#FFFF00; border-radius: 5px; padding: 2px 6px; margin-left: 5px; font-size: 0.8em;\">Change to existing path of Root of Trust key</span><br><span class=\"yaml-commented-line\"># -----------------------------===== Main Certificate Index [Conditionally required] =====------------------------------</span><br><span class=\"yaml-commented-line\"># Description: Index of certificate that is used as a main. If not defined, the certificate matching private key will be</span><br><span class=\"yaml-commented-line\"># selected.</span><br><span class=\"yaml-key\">mainRootCertId</span>: <span class=\"yaml-value\">0</span> <span style=\"background-color: #FFFF00; border-radius: 5px; padding: 2px 6px;\n",
       "margin-left: 5px; font-size: 0.8em;\">As good example we set the main root index of RoT to 0</span><br><span class=\"yaml-commented-line\"># ======================================================================================================================</span><br><span class=\"yaml-commented-line\">#                                                  == Basic Settings ==</span><br><span class=\"yaml-commented-line\"># ======================================================================================================================</span><br><span class=\"yaml-commented-line\"># --------------------------------------===== cert block filename [Required] =====--------------------------------------</span><br><span class=\"yaml-commented-line\"># Description: Generated cert block filename.</span><br><span class=\"yaml-key\">containerOutputFile</span>: <span class=\"yaml-value\">../workspace/cert_block_v1.bin</span> <span style=\"background-color: #FFFF00;\n",
       "border-radius: 5px; padding: 2px 6px; margin-left: 5px; font-size: 0.8em;\">Modify the output path to our example needs. For output files in SPSDK workspace\n",
       "relative paths are always relative to configuration file location.</span><br></pre></div>\n",
       "            </div>\n",
       "            "
      ],
      "text/plain": [
       "<IPython.core.display.HTML object>"
      ]
     },
     "execution_count": 2,
     "metadata": {},
     "output_type": "execute_result"
    }
   ],
   "source": [
    "# Get Explanation of our configuration file changes\n",
    "YamlDiffWidget(\"./inputs/cert_block_v1.diffc\").html"
   ]
  },
  {
   "cell_type": "markdown",
   "metadata": {},
   "source": [
    "## 3. Export final certificate block binary\n",
    "To get more information regarding the export command read help: `nxpimage cert-block export --help`\n",
    "\n",
    "When we have the certificate block configuration file, we can export the certificate block binary using the following code: "
   ]
  },
  {
   "cell_type": "code",
   "execution_count": 3,
   "metadata": {},
   "outputs": [
    {
     "name": "stdout",
     "output_type": "stream",
     "text": [
      "nxpimage cert-block export -c ./inputs/cert_block_v1_cfg.yaml \n",
      "RKTH: 44b45886d6ec1194a87ccc7d767e74c9191049ad2f2b26bd1578e011a4fdd038\n",
      "Success. (Certificate Block: workspace/cert_block_v1.bin created.)\n"
     ]
    }
   ],
   "source": [
    "%! nxpimage cert-block export -c ./inputs/cert_block_v1_cfg.yaml "
   ]
  }
 ],
 "metadata": {
  "kernelspec": {
   "display_name": "venv",
   "language": "python",
   "name": "python3"
  },
  "language_info": {
   "codemirror_mode": {
    "name": "ipython",
    "version": 3
   },
   "file_extension": ".py",
   "mimetype": "text/x-python",
   "name": "python",
   "nbconvert_exporter": "python",
   "pygments_lexer": "ipython3",
   "version": "3.11.9"
  }
 },
 "nbformat": 4,
 "nbformat_minor": 2
}
