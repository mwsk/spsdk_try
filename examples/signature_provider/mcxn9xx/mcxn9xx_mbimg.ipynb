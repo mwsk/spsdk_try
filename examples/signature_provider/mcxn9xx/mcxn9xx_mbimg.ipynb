{
    "cells": [
        {
            "attachments": {},
            "cell_type": "markdown",
            "metadata": {},
            "source": [
                "# Masterboot image with Signature Provider for mcxn9xx\n",
                "\n",
                "This notebook describes how to use a custom remote signing service for generating masterboot image using *nxpimage* tool.\n"
            ]
        },
        {
            "cell_type": "code",
            "execution_count": 1,
            "metadata": {},
            "outputs": [
                {
                    "name": "stdout",
                    "output_type": "stream",
                    "text": [
                        "env: JUPYTER_SPSDK=1\n",
                        "Created `%!` as an alias for `%execute`.\n"
                    ]
                }
            ],
            "source": [
                "%run ../../init_notebook.ipynb\n",
                "\n",
                "import pprint\n",
                "import os\n",
                "\n",
                "pp = pprint.PrettyPrinter(indent=4)\n",
                "\n",
                "plugins_dir = '../common/plugins/'\n",
                "\n",
                "SASP_PLUGIN = os.path.join(plugins_dir, 'sasp.py')\n",
                "WORKSPACE = \"workspace/mbimg/\" # change this to path to your workspace\n",
                "DATA_DIR = \"data_mbimg/\" # change this to path to your workspace\n",
                "VERBOSITY = \"-v\" # verbosity of commands, might be -v or -vv for debug or blank for no additional info"
            ]
        },
        {
            "attachments": {},
            "cell_type": "markdown",
            "metadata": {},
            "source": [
                "## Signature Provider Plugin\n",
                "\n",
                "First, we need to setup the Signature Provider plugin and start the custom HSM. In order to do that, open the signature provider notebook (signature_provider.ipynb) and follow the instructions there. Once you are done, come back and continue here."
            ]
        },
        {
            "attachments": {},
            "cell_type": "markdown",
            "metadata": {},
            "source": [
                "## Config File Setup\n",
                "\n",
                "The masterboot configuration file will be needed for successful generation of Masterboot image(MBI) using *nxpimage* application.\n",
                "*\n",
                "There are three types of MBI for mcxn9xx based on the authentication type: `Plain`, `CRC` and `Signed`.\n",
                "\n",
                "In this example we will be interested only in the `Signed` image type.\n",
                "\n",
                "Run the following code and see how the generated configuration template looks like."
            ]
        },
        {
            "cell_type": "code",
            "execution_count": 1,
            "metadata": {},
            "outputs": [
                {
                    "name": "stdout",
                    "output_type": "stream",
                    "text": [
                        "nxpimage -v mbi get-templates --family mcxn9xx --output workspace/mbimg/ --force \n",
                        "Creating C:\\spsdk\\examples\\jupyter_examples\\signature_provider\\mcxn9xx\\workspace\\mbimg\\mcxn9xx_xip_plain.yaml template file.\n",
                        "Creating C:\\spsdk\\examples\\jupyter_examples\\signature_provider\\mcxn9xx\\workspace\\mbimg\\mcxn9xx_xip_crc.yaml template file.\n",
                        "Creating C:\\spsdk\\examples\\jupyter_examples\\signature_provider\\mcxn9xx\\workspace\\mbimg\\mcxn9xx_xip_signed.yaml template file.\n",
                        "Creating C:\\spsdk\\examples\\jupyter_examples\\signature_provider\\mcxn9xx\\workspace\\mbimg\\mcxn9xx_load_to_ram_plain.yaml template file.\n",
                        "Creating C:\\spsdk\\examples\\jupyter_examples\\signature_provider\\mcxn9xx\\workspace\\mbimg\\mcxn9xx_load_to_ram_crc.yaml template file.\n",
                        "Creating C:\\spsdk\\examples\\jupyter_examples\\signature_provider\\mcxn9xx\\workspace\\mbimg\\mcxn9xx_load_to_ram_signed.yaml template file.\n",
                        "# ==================  Master Boot Image Configuration template for mcxn9xx, Plain Signed XIP Image.  ===================\n",
                        "\n",
                        "# ======================================================================================================================\n",
                        "#                                                  == Basic Settings ==                                                 \n",
                        "# ======================================================================================================================\n",
                        "# ------------------------------------------===== MCU family [Required] =====-------------------------------------------\n",
                        "# Description: MCU family name.\n",
                        "family: mcxn9xx\n",
                        "# --------------------------------------===== Application target [Required] =====---------------------------------------\n",
                        "# Description: Definition if application is Execute in Place(XiP) or loaded to RAM during reset sequence.\n",
                        "# Possible options: <xip, load-to-ram>\n",
                        "outputImageExecutionTarget: xip\n",
                        "# -------------------------------===== Type of boot image authentication [Required] =====-------------------------------\n",
                        "# Description: Specification of final master boot image authentication.\n",
                        "# Possible options: <plain, crc, signed, signed-encrypted, signed-nxp>\n",
                        "outputImageAuthenticationType: signed\n",
                        "# ------------------------------------===== Master Boot Image name [Required] =====-------------------------------------\n",
                        "# Description: The file for Master Boot Image result file.\n",
                        "masterBootOutputFile: my_mbi.bin\n",
                        "# ------------------------------------===== Plain application image [Required] =====------------------------------------\n",
                        "# Description: The input application image to by modified to Master Boot Image.\n",
                        "inputImageFile: my_application.bin\n",
                        "# --------------------------------===== Loading address of application [Required] =====---------------------------------\n",
                        "# Description: Application loading address in RAM if not XiP, otherwise address of load in XiP.\n",
                        "outputImageExecutionAddress: 0\n",
                        "# ---------------------------------------===== Firmware version. [Optional] =====---------------------------------------\n",
                        "# Description: Value compared with Secure_FW_Version monotonic counter value stored in PFR/IFR. If value is lower than\n",
                        "# value in PFR/IFR, then is image rejected (rollback protection)..\n",
                        "firmwareVersion: 0\n",
                        "# -----------------------------------------===== Image SubType [Optional] =====-----------------------------------------\n",
                        "# Description: Image subtype determine the image use in MCU. \"main\" for main application, \"nbu\" for Narrow Band Unit\n",
                        "# image and \"recovery\" for recovery image type\n",
                        "# Possible options: <main, nbu, recovery>\n",
                        "outputImageSubtype: main\n",
                        "# ----------------------------------------===== Image version. [Optional] =====-----------------------------------------\n",
                        "# Description: Image version is used for dual boot. The boot ROM decides which image to boot first based on the image\n",
                        "# version. It boots the one with the newer image version first, and in case of a failure, it boots the older one.\n",
                        "imageVersion: 0\n",
                        "# ======================================================================================================================\n",
                        "#                                              == Certificate Block V2.1 ==                                             \n",
                        "# ======================================================================================================================\n",
                        "# -----------------------------===== Certificate Block binary/config file [Required] =====------------------------------\n",
                        "# Description: Path to certificate block binary or config file.\n",
                        "certBlock: cert_block.yaml\n",
                        "# ======================================================================================================================\n",
                        "#                                              == Image Signing Settings ==                                             \n",
                        "# ======================================================================================================================\n",
                        "# --------------------------===== Main Certificate private key [Conditionally required] =====---------------------------\n",
                        "# Description: Main Certificate private key used to sign certificate. It can be replaced by signProvider key.\n",
                        "signPrivateKey: main_prv_key.pem\n",
                        "# -------------------------------===== Signature Provider [Conditionally required] =====--------------------------------\n",
                        "# Description: Signature provider configuration in format 'type=<sp_type>;<key1>=<value1>;<key2>=<value2>\".\n",
                        "signProvider: type=file;file_path=my_prv_key.pem\n",
                        "# ======================================================================================================================\n",
                        "#                                               == Trust Zone Settings ==                                               \n",
                        "# ======================================================================================================================\n",
                        "# ------------------------------------===== TrustZone enable option [Optional] =====------------------------------------\n",
                        "# Description: If not specified, the Trust zone is disabled.\n",
                        "enableTrustZone: false\n",
                        "# ---------------------------------===== TrustZone Customization file [Optional] =====----------------------------------\n",
                        "# Description: If not specified, but TrustZone is enabled(enableTrustZone) the default values are used.\n",
                        "trustZonePresetFile: my_tz_custom.yaml\n",
                        "\n"
                    ]
                }
            ],
            "source": [
                "import os\n",
                "from spsdk.utils.misc import load_file\n",
                "# choose family for the MCU\n",
                "FAMILY = \"mcxn9xx\"\n",
                "\n",
                "%! nxpimage $VERBOSITY mbi get-templates --family $FAMILY --output $WORKSPACE --force\n",
                "\n",
                "MBI_CONFIG_PATH = os.path.join(WORKSPACE, \"mcxn9xx_xip_signed.yaml\")\n",
                "# just for verification that the template was generated\n",
                "assert os.path.exists(MBI_CONFIG_PATH)\n",
                "\n",
                "config_content = load_file(MBI_CONFIG_PATH)\n",
                "print(config_content)"
            ]
        },
        {
            "cell_type": "markdown",
            "metadata": {},
            "source": [
                "## Masterboot image generation\n",
                "\n",
                "The generated configuration file contains all possible configuration settings. \n",
                "\n",
                "Some of them are required (labeled with `[Required]` comment), some of them are conditionally required (labeled with `[Conditionally required]` comment) and some are optional (labeled with `[Optional]` comment).\n",
                "\n",
                "Let's now focus on two configuration settings: `signPrivateKey` and `signProvider`. These two configuration values are mutually exclusive, so only one can be chosen. \n",
                "In order to use Signature Provider, we will remove the line with `signPrivateKey`  and update the one with `signProvider`. \n",
                "\n",
                "Keep in mind that the signature provider configuration must meet following rules:\n",
                "  - Configuration key\n",
                "    - key names `sign_provider` or `signProvider` are allowed\n",
                "\n",
                "  - Configuration value\n",
                "    - format `\"type=<sp_type>;<key1>=<value1>;<key2>=<value2>;...\"`\n",
                "    - the `sp_type` has to match the sp_type class attribute defined in the custom signature provider(`plugins/sasp.py`)\n",
                "    - the remaining key-value pairs are passed to the `__init__` method of the concrete Signature Provider\n",
                "    - e.g.: `\"type=file;file_path=private_key.pem\"` will instantiate `spsdk.crypto.PlainFileSP(file_path='private_key.pem')`\n",
                "\n",
                "For sake of simplification, the pre-generated master boot configuration file is used. It contains only settings related to this example."
            ]
        },
        {
            "cell_type": "code",
            "execution_count": 1,
            "metadata": {},
            "outputs": [
                {
                    "name": "stdout",
                    "output_type": "stream",
                    "text": [
                        "\"All config files are ready in folder 'workspace/mbimg/'\"\n",
                        "nxpimage cert-block export --family mcxn9xx --config workspace/mbimg/mcxn9xx_cert_block.yaml \"Cert block binary has been generated 'workspace/mbimg/mcxn9xx_cert_block.yaml'\"\n",
                        "\n",
                        "RKTH: b7ed92485e2090838d9d1766513de63a655c626700a7241dd2d6d72160051873ac9ad63a0da3a73dbfe3b2ddc652d31f\n",
                        "Success. (Certificate Block: C:/spsdk/examples/jupyter_examples/signature_provider/mcxn9xx/workspace/mbimg/cert_block.bin created.)\n",
                        "nxpimage -v mbi export --plugin ../common/plugins/sasp.py --config workspace/mbimg/mcxn9xx_xip_signed.yaml \n",
                        "RKTH: b7ed92485e2090838d9d1766513de63a655c626700a7241dd2d6d72160051873ac9ad63a0da3a73dbfe3b2ddc652d31f\n",
                        "Success. (Master Boot Image: C:/spsdk/examples/jupyter_examples/signature_provider/mcxn9xx/workspace/mbimg/my_mbi.bin created.)\n",
                        "\"Mbi binary has been generated 'workspace/mbimg/my_mbi.bin'\"\n",
                        "pfr generate-binary -c workspace/mbimg/mcxn9xx_cmpa.yaml -sf workspace/mbimg/hsm_k0_secp384r1.pub -sf workspace/mbimg/hsm_k1_secp384r1.pub -o workspace/mbimg/cmpa.bin \n",
                        "Success. (PFR binary has been generated)\n",
                        "Result has been stored in: C:\\spsdk\\examples\\jupyter_examples\\signature_provider\\mcxn9xx\\workspace\\mbimg\\cmpa.bin\n",
                        "\"CMPA has been generated in 'workspace/mbimg/cmpa.bin'\"\n"
                    ]
                }
            ],
            "source": [
                "import shutil\n",
                "\n",
                "# Copy additional files needed for masterboot image creation\n",
                "shutil.rmtree(WORKSPACE)\n",
                "shutil.copytree(DATA_DIR, WORKSPACE)\n",
                "\n",
                "CERT_BLOCK_CONFIG_PATH = os.path.join(WORKSPACE, \"mcxn9xx_cert_block.yaml\")\n",
                "CMPA_CONFIG_PATH = os.path.join(WORKSPACE, \"mcxn9xx_cmpa.yaml\")\n",
                "pp.pprint(f\"All config files are ready in folder '{WORKSPACE}'\")\n",
                "\n",
                "%! nxpimage cert-block export --family $FAMILY --config $CERT_BLOCK_CONFIG_PATH\n",
                "pp.pprint(f\"Cert block binary has been generated '{CERT_BLOCK_CONFIG_PATH}'\")\n",
                "\n",
                "%! nxpimage $VERBOSITY mbi export --plugin $SASP_PLUGIN --config $MBI_CONFIG_PATH\n",
                "pp.pprint(f\"Mbi binary has been generated '{os.path.join(WORKSPACE, 'my_mbi.bin')}'\")\n",
                "\n",
                "SF0 = os.path.join(WORKSPACE, 'hsm_k0_secp384r1.pub')\n",
                "SF1 = os.path.join(WORKSPACE, 'hsm_k1_secp384r1.pub')\n",
                "CMPA_BIN = os.path.join(WORKSPACE, 'cmpa.bin')\n",
                "%! pfr generate-binary -c $CMPA_CONFIG_PATH -sf $SF0 -sf $SF1 -o $CMPA_BIN\n",
                "pp.pprint(f\"CMPA has been generated in '{CMPA_BIN}'\")"
            ]
        },
        {
            "attachments": {},
            "cell_type": "markdown",
            "metadata": {},
            "source": [
                "## Execution\n",
                "\n",
                "At this point, we have everything we need for running the application. Connect the board, update the `UART_CONNECTION` variable depending on the used serial port and run the code.\n",
                "Keep in mind that the board must be in ISP mode. Once the code finishes, you can restart the board.\n",
                "Once the application is booted, green LED starts blinking."
            ]
        },
        {
            "cell_type": "code",
            "execution_count": 1,
            "metadata": {},
            "outputs": [
                {
                    "name": "stdout",
                    "output_type": "stream",
                    "text": [
                        "blhost -p com19 -- fill-memory 0x20000000 4 0xc0000405 word \n",
                        "Response status = 0 (0x0) Success.\n",
                        "blhost -p com19 -- configure-memory 9 0x20000000 \n",
                        "Response status = 0 (0x0) Success.\n",
                        "blhost -p com19 -- flash-erase-region 0x80000000 0x10000 \n",
                        "Response status = 0 (0x0) Success.\n",
                        "blhost -p com19 -- fill-memory 0x20003000 4 0xF000000F word \n",
                        "Response status = 0 (0x0) Success.\n",
                        "blhost -p com19 -- configure-memory 9 0x20003000 \n",
                        "Response status = 0 (0x0) Success.\n",
                        "'Memory has been configured'\n",
                        "pfr erase-cmpa -p com19 --family mcxn9xx \n",
                        "CMPA page address on mcxn9xx is 0x1004000\n",
                        "CMPA page has been erased.\n",
                        "pfr write -p com19 --type cmpa --family mcxn9xx --binary workspace/mbimg/cmpa.bin \n",
                        "CMPA page address on mcxn9xx is 0x1004000\n",
                        "CMPA data written to device.\n",
                        "\"CMPA has been written'\"\n",
                        "blhost -p com19 -- write-memory 0x80001000 workspace/mbimg/my_mbi.bin \n",
                        "Writing memory\n",
                        "Response status = 0 (0x0) Success.\n",
                        "Response word 1 = 14284 (0x37cc)\n"
                    ]
                }
            ],
            "source": [
                "UART_CONNECTION = \"-p com19\"\n",
                "%! blhost $UART_CONNECTION -- fill-memory 0x20000000 4 0xc0000405 word\n",
                "%! blhost $UART_CONNECTION -- configure-memory 9 0x20000000\n",
                "%! blhost $UART_CONNECTION -- flash-erase-region 0x80000000 0x10000 \n",
                "%! blhost $UART_CONNECTION -- fill-memory 0x20003000 4 0xF000000F word\n",
                "%! blhost $UART_CONNECTION -- configure-memory 9 0x20003000\n",
                "pp.pprint(\"Memory has been configured\")\n",
                "\n",
                "%! pfr erase-cmpa $UART_CONNECTION --family $FAMILY\n",
                "\n",
                "CMPA_BIN = os.path.join(WORKSPACE, 'cmpa.bin')\n",
                "%! pfr write $UART_CONNECTION --type cmpa --family $FAMILY --binary $CMPA_BIN\n",
                "pp.pprint(f\"CMPA has been written'\")\n",
                "\n",
                "MBI_BIN = os.path.join(WORKSPACE, 'my_mbi.bin')\n",
                "%! blhost $UART_CONNECTION -- write-memory 0x80001000 $MBI_BIN"
            ]
        },
        {
            "attachments": {},
            "cell_type": "markdown",
            "metadata": {},
            "source": [
                "## HSM teardown\n",
                "\n",
                "Last step is to stop custom HSM. In order to do that, open again the HSM setup notebook (sahsm.ipynb) and stop the running jupyter notebook code cell."
            ]
        }
    ],
    "metadata": {
        "kernelspec": {
            "display_name": "venv",
            "language": "python",
            "name": "python3"
        },
        "language_info": {
            "codemirror_mode": {
                "name": "ipython",
                "version": 3
            },
            "file_extension": ".py",
            "mimetype": "text/x-python",
            "name": "python",
            "nbconvert_exporter": "python",
            "pygments_lexer": "ipython3",
            "version": "3.11.0 (main, Oct 24 2022, 18:26:48) [MSC v.1933 64 bit (AMD64)]"
        },
        "orig_nbformat": 4,
        "vscode": {
            "interpreter": {
                "hash": "9ae905cdb03b2bea9f2883acc56fb3ee9783b3cfb8f9c98bd74d46626fd8ede9"
            }
        }
    },
    "nbformat": 4,
    "nbformat_minor": 2
}