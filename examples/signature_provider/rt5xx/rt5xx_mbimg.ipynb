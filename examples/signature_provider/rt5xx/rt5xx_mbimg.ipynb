{
    "cells": [
        {
            "attachments": {},
            "cell_type": "markdown",
            "metadata": {},
            "source": [
                "# Masterboot image with Signature Provider for rt5xx\n",
                "\n",
                "This notebook describes how to use a custom remote signing service for generating masterboot image using *nxpimage* tool.\n"
            ]
        },
        {
            "cell_type": "code",
            "execution_count": 1,
            "metadata": {},
            "outputs": [
                {
                    "name": "stdout",
                    "output_type": "stream",
                    "text": [
                        "env: JUPYTER_SPSDK=1\n",
                        "Created `%!` as an alias for `%execute`.\n"
                    ]
                }
            ],
            "source": [
                "%run ../../init_notebook.ipynb\n",
                "\n",
                "import pprint\n",
                "import os\n",
                "\n",
                "pp = pprint.PrettyPrinter(indent=4)\n",
                "\n",
                "plugins_dir = '../common/plugins/'\n",
                "\n",
                "SASP_PLUGIN = os.path.join(plugins_dir, 'sasp.py')\n",
                "WORKSPACE = \"workspace/mbimg/\" # change this to path to your workspace\n",
                "DATA_DIR = \"data_mbimg/\" # change this to path to your workspace\n",
                "VERBOSITY = \"-v\" # verbosity of commands, might be -v or -vv for debug or blank for no additional info"
            ]
        },
        {
            "attachments": {},
            "cell_type": "markdown",
            "metadata": {},
            "source": [
                "## Signature Provider Plugin\n",
                "\n",
                "First, we need to setup the Signature Provider plugin and start the custom HSM. In order to do that, open Signature Provider (signature_provider.ipynb) notebook and follow the instructions there. Once you are done, come back and continue here."
            ]
        },
        {
            "attachments": {},
            "cell_type": "markdown",
            "metadata": {},
            "source": [
                "## Config File Setup\n",
                "\n",
                "The masterboot configuration file will be needed for successful generation of Masterboot image(MBI) using *nxpimage* application.\n",
                "*\n",
                "There are three types of MBI for RT5xx based on the authentication type: `Plain`, `CRC` and `Signed`.\n",
                "\n",
                "In this example we will be interested only in the `Signed` image type.\n",
                "\n",
                "Run the following code and see how the generated configuration template looks like."
            ]
        },
        {
            "cell_type": "code",
            "execution_count": 1,
            "metadata": {},
            "outputs": [
                {
                    "name": "stdout",
                    "output_type": "stream",
                    "text": [
                        "nxpimage -v mbi get-templates --family rt5xx --output workspace/mbimg/ --force \n",
                        "Creating C:\\spsdk\\examples\\jupyter_examples\\signature_provider\\rt5xx\\workspace\\mbimg\\rt5xx_xip_plain.yaml template file.\n",
                        "Creating C:\\spsdk\\examples\\jupyter_examples\\signature_provider\\rt5xx\\workspace\\mbimg\\rt5xx_xip_crc.yaml template file.\n",
                        "Creating C:\\spsdk\\examples\\jupyter_examples\\signature_provider\\rt5xx\\workspace\\mbimg\\rt5xx_xip_signed.yaml template file.\n",
                        "Creating C:\\spsdk\\examples\\jupyter_examples\\signature_provider\\rt5xx\\workspace\\mbimg\\rt5xx_load_to_ram_plain.yaml template file.\n",
                        "Creating C:\\spsdk\\examples\\jupyter_examples\\signature_provider\\rt5xx\\workspace\\mbimg\\rt5xx_load_to_ram_crc.yaml template file.\n",
                        "Creating C:\\spsdk\\examples\\jupyter_examples\\signature_provider\\rt5xx\\workspace\\mbimg\\rt5xx_load_to_ram_signed.yaml template file.\n",
                        "Creating C:\\spsdk\\examples\\jupyter_examples\\signature_provider\\rt5xx\\workspace\\mbimg\\rt5xx_load_to_ram_encrypted.yaml template file.\n",
                        "# ===================  Master Boot Image Configuration template for rt5xx, Plain Signed XIP Image.  ====================\n",
                        "\n",
                        "# ======================================================================================================================\n",
                        "#                                                  == Basic Settings ==                                                 \n",
                        "# ======================================================================================================================\n",
                        "# ------------------------------------------===== MCU family [Required] =====-------------------------------------------\n",
                        "# Description: MCU family name.\n",
                        "family: rt5xx\n",
                        "# --------------------------------------===== Application target [Required] =====---------------------------------------\n",
                        "# Description: Definition if application is Execute in Place(XiP) or loaded to RAM during reset sequence.\n",
                        "# Possible options: <xip, load-to-ram>\n",
                        "outputImageExecutionTarget: xip\n",
                        "# -------------------------------===== Type of boot image authentication [Required] =====-------------------------------\n",
                        "# Description: Specification of final master boot image authentication.\n",
                        "# Possible options: <plain, crc, signed, signed-encrypted, signed-nxp>\n",
                        "outputImageAuthenticationType: signed\n",
                        "# ------------------------------------===== Master Boot Image name [Required] =====-------------------------------------\n",
                        "# Description: The file for Master Boot Image result file.\n",
                        "masterBootOutputFile: my_mbi.bin\n",
                        "# ------------------------------------===== Plain application image [Required] =====------------------------------------\n",
                        "# Description: The input application image to by modified to Master Boot Image.\n",
                        "inputImageFile: my_application.bin\n",
                        "# --------------------------------===== Loading address of application [Required] =====---------------------------------\n",
                        "# Description: Application loading address in RAM if not XiP, otherwise address of load in XiP.\n",
                        "outputImageExecutionAddress: 0\n",
                        "# ----------------------------------===== Enable User HW key sharing [Required] =====-----------------------------------\n",
                        "# Description: Controlling secure hardware key bus. If enabled(1), then it is possible to access keys on hardware secure\n",
                        "# bus from non-secure application, else non-secure application will read zeros.\n",
                        "enableHwUserModeKeys: false\n",
                        "# ======================================================================================================================\n",
                        "#                                               == Trust Zone Settings ==                                               \n",
                        "# ======================================================================================================================\n",
                        "# ------------------------------------===== TrustZone enable option [Optional] =====------------------------------------\n",
                        "# Description: If not specified, the Trust zone is disabled.\n",
                        "enableTrustZone: false\n",
                        "# ---------------------------------===== TrustZone Customization file [Optional] =====----------------------------------\n",
                        "# Description: If not specified, but TrustZone is enabled(enableTrustZone) the default values are used.\n",
                        "trustZonePresetFile: my_tz_custom.yaml\n",
                        "# ======================================================================================================================\n",
                        "#                                               == Certificate Block V1 ==                                              \n",
                        "# ======================================================================================================================\n",
                        "# -----------------------------===== Certificate Block binary/config file [Required] =====------------------------------\n",
                        "# Description: Path to certificate block binary or config file.\n",
                        "certBlock: cert_block.yaml\n",
                        "# ======================================================================================================================\n",
                        "#                                              == Image Signing Settings ==                                             \n",
                        "# ======================================================================================================================\n",
                        "# --------------------------===== Main Certificate private key [Conditionally required] =====---------------------------\n",
                        "# Description: Main Certificate private key used to sign certificate. It can be replaced by signProvider key.\n",
                        "signPrivateKey: main_prv_key.pem\n",
                        "# -------------------------------===== Signature Provider [Conditionally required] =====--------------------------------\n",
                        "# Description: Signature provider configuration in format 'type=<sp_type>;<key1>=<value1>;<key2>=<value2>\".\n",
                        "signProvider: type=file;file_path=my_prv_key.pem\n",
                        "\n"
                    ]
                }
            ],
            "source": [
                "import os\n",
                "from spsdk.utils.misc import load_file\n",
                "# choose family for the MCU\n",
                "FAMILY = \"rt5xx\"\n",
                "\n",
                "%! nxpimage $VERBOSITY mbi get-templates --family $FAMILY --output $WORKSPACE --force\n",
                "\n",
                "CONFIG_PATH = os.path.join(WORKSPACE, \"rt5xx_xip_signed.yaml\")\n",
                "# just for verification that the template was generated\n",
                "assert os.path.exists(CONFIG_PATH)\n",
                "\n",
                "config_content = load_file(CONFIG_PATH)\n",
                "print(config_content)"
            ]
        },
        {
            "cell_type": "markdown",
            "metadata": {},
            "source": [
                "The generated configuration file contains all possible configuration settings. \n",
                "\n",
                "Some of them are required (labeled with `[Required]` comment), some of them are conditionally required (labeled with `[Conditionally required]` comment) and some are optional (labeled with `[Optional]` comment).\n",
                "\n",
                "Let's now focus on two configuration settings: `signPrivateKey` and `signProvider`. These two configuration values are mutually exclusive, so only one can be chosen. \n",
                "In order to use Signature Provider, we will remove the line with `signPrivateKey`  and update the one with `signProvider`. \n",
                "\n",
                "Keep in mind that the signature provider configuration must meet following rules:\n",
                "  - Configuration key\n",
                "    - key names `sign_provider` or `signProvider` are allowed\n",
                "\n",
                "  - Configuration value\n",
                "    - format `\"type=<sp_type>;<key1>=<value1>;<key2>=<value2>;...\"`\n",
                "    - the `sp_type` has to match the sp_type class attribute defined in the custom signature provider(`plugins/sasp.py`)\n",
                "    - the remaining key-value pairs are passed to the `__init__` method of the concrete Signature Provider\n",
                "    - e.g.: `\"type=file;file_path=private_key.pem\"` will instantiate `spsdk.crypto.PlainFileSP(file_path='private_key.pem')`\n",
                "\n",
                "Run the code bellow so you use only configuration settings related to this example."
            ]
        },
        {
            "cell_type": "code",
            "execution_count": 6,
            "metadata": {},
            "outputs": [
                {
                    "name": "stdout",
                    "output_type": "stream",
                    "text": [
                        "\"All files are ready in folder 'workspace/mbimg/'\"\n"
                    ]
                }
            ],
            "source": [
                "import shutil\n",
                "# Copy additional files needed for masterboot image creation\n",
                "shutil.rmtree(WORKSPACE)\n",
                "shutil.copytree(DATA_DIR, WORKSPACE)\n",
                "\n",
                "pp.pprint(f\"All files are ready in folder '{WORKSPACE}'\")"
            ]
        },
        {
            "attachments": {},
            "cell_type": "markdown",
            "metadata": {},
            "source": [
                "## Execution\n",
                "\n",
                "At this point, we have everything we need to run nxpimage application using remote HSM for image signing."
            ]
        },
        {
            "cell_type": "code",
            "execution_count": 7,
            "metadata": {},
            "outputs": [
                {
                    "name": "stdout",
                    "output_type": "stream",
                    "text": [
                        "nxpimage -v mbi export --plugin ../common/plugins/sasp.py --config workspace/mbimg/rt5xx_xip_signed.yaml \n",
                        "RKTH: db31d46c717711a8231cbc38b1de8a6e8657e1f733e04c2ee4b62fcea59149fa\n",
                        "Success. (Master Boot Image: C:/spsdk/examples/jupyter_examples/signature_provider/rt5xx/workspace/mbimg/my_mbi.bin created.)\n"
                    ]
                }
            ],
            "source": [
                "%! nxpimage $VERBOSITY mbi export --plugin $SASP_PLUGIN --config $CONFIG_PATH\n",
                "\n",
                "# check if the signed image exists\n",
                "output_file = os.path.join(WORKSPACE, \"my_mbi.bin\")\n",
                "assert os.path.exists(output_file)"
            ]
        },
        {
            "attachments": {},
            "cell_type": "markdown",
            "metadata": {},
            "source": [
                "## HSM teardown\n",
                "\n",
                "Last step is to stop custom HSM. In order to do that, open again the Signature provider notebook and stop the running jupyter notebook code cell."
            ]
        },
        {
            "attachments": {},
            "cell_type": "markdown",
            "metadata": {},
            "source": []
        }
    ],
    "metadata": {
        "kernelspec": {
            "display_name": "venv",
            "language": "python",
            "name": "python3"
        },
        "language_info": {
            "codemirror_mode": {
                "name": "ipython",
                "version": 3
            },
            "file_extension": ".py",
            "mimetype": "text/x-python",
            "name": "python",
            "nbconvert_exporter": "python",
            "pygments_lexer": "ipython3",
            "version": "3.11.0 (main, Oct 24 2022, 18:26:48) [MSC v.1933 64 bit (AMD64)]"
        },
        "orig_nbformat": 4,
        "vscode": {
            "interpreter": {
                "hash": "9ae905cdb03b2bea9f2883acc56fb3ee9783b3cfb8f9c98bd74d46626fd8ede9"
            }
        }
    },
    "nbformat": 4,
    "nbformat_minor": 2
}