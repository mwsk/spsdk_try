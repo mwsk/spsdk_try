{
 "cells": [
  {
   "attachments": {},
   "cell_type": "markdown",
   "metadata": {},
   "source": [
    "# Custom HSM\n",
    "\n",
    "HSM provide the required secure environment that is needed to generate and protect the cryptographic keys used to protect and authenticate sensitive data.\n",
    "\n",
    "We will use a simple Flask REST API service representing the remote HSM machine.\n",
    "\n",
    "Looking into `hsm` directory, we can see following files:\n",
    "- `hsm/sahsm.py` is an example of a remote signing service.\n",
    "- `hsm/hsm_k0_cert0_2048.pem` test private key used for signing the data.\n",
    "- `hsm/hsm_k1_cert0_2048.pem` test private key used for signing the data."
   ]
  },
  {
   "cell_type": "markdown",
   "metadata": {},
   "source": [
    "## 1. Setup\n",
    "\n",
    "In order to start the HSM service, run following code:"
   ]
  },
  {
   "cell_type": "code",
   "execution_count": null,
   "metadata": {},
   "outputs": [
    {
     "name": "stdout",
     "output_type": "stream",
     "text": [
      "Looking in indexes: https://pypi.org/simple, https://nl-nxrm.sw.nxp.com/repository/mougins-pypi/simple\n",
      "Requirement already satisfied: flask in c:\\spsdk\\venv\\lib\\site-packages (3.1.0)\n",
      "Requirement already satisfied: requests in c:\\spsdk\\venv\\lib\\site-packages (2.32.3)\n",
      "Requirement already satisfied: Werkzeug>=3.1 in c:\\spsdk\\venv\\lib\\site-packages (from flask) (3.1.3)\n",
      "Requirement already satisfied: Jinja2>=3.1.2 in c:\\spsdk\\venv\\lib\\site-packages (from flask) (3.1.6)\n",
      "Requirement already satisfied: itsdangerous>=2.2 in c:\\spsdk\\venv\\lib\\site-packages (from flask) (2.2.0)\n",
      "Requirement already satisfied: click>=8.1.3 in c:\\spsdk\\venv\\lib\\site-packages (from flask) (8.1.8)\n",
      "Requirement already satisfied: blinker>=1.9 in c:\\spsdk\\venv\\lib\\site-packages (from flask) (1.9.0)\n",
      "Requirement already satisfied: charset-normalizer<4,>=2 in c:\\spsdk\\venv\\lib\\site-packages (from requests) (3.4.2)\n",
      "Requirement already satisfied: idna<4,>=2.5 in c:\\spsdk\\venv\\lib\\site-packages (from requests) (3.10)\n",
      "Requirement already satisfied: urllib3<3,>=1.21.1 in c:\\spsdk\\venv\\lib\\site-packages (from requests) (2.4.0)\n",
      "Requirement already satisfied: certifi>=2017.4.17 in c:\\spsdk\\venv\\lib\\site-packages (from requests) (2025.4.26)\n",
      "Requirement already satisfied: colorama in c:\\spsdk\\venv\\lib\\site-packages (from click>=8.1.3->flask) (0.4.6)\n",
      "Requirement already satisfied: MarkupSafe>=2.0 in c:\\spsdk\\venv\\lib\\site-packages (from Jinja2>=3.1.2->flask) (3.0.2)\n",
      " * Serving Flask app 'hsm.sahsm'\n",
      " * Debug mode: off\n"
     ]
    },
    {
     "name": "stderr",
     "output_type": "stream",
     "text": [
      "WARNING: This is a development server. Do not use it in a production deployment. Use a production WSGI server instead.\n",
      " * Running on http://127.0.0.1:5000\n",
      "Press CTRL+C to quit\n",
      "127.0.0.1 - - [14/May/2025 14:12:01] \"GET /signer/rsa2048/0 HTTP/1.1\" 200 -\n",
      "127.0.0.1 - - [14/May/2025 14:12:01] \"GET /signer/secp384r1/0 HTTP/1.1\" 200 -\n",
      "127.0.0.1 - - [14/May/2025 14:12:42] \"GET /verifier/rsa2048/0?public_key=pLuDyNSAV8iId3Jb5KE1mKloQ/d2hwxpG6Ek3Kp5EEHCjfQ4PqBYmSfIeDSJZ4uUfn9mshE3oszq6YfwONWU9mXIPmvrbO9gaLQJU8DZ4AROERiZAdoZND7aQCowAH/G165k010A8%2BAYNM7XjT43ofxbsKrOgZq0I0FHJzVR3fqU4ePRL%2B25ebyMxXbCaq6LZOnOGkJxarbDtGbaOQhu8BGp7kWKzjIQXMNF6qnc6Tvtb214JN/qO4qAYDBNT533tXHupAYeZf38r/CnTrbQHZaqsz64w2QK0K/YgFu2c0qHEmT8bJgtldrWx162x9blU/x/PMn%2BlBR2EANl9ex5fwEAAQ%3D%3D HTTP/1.1\" 415 -\n",
      "127.0.0.1 - - [14/May/2025 14:13:40] \"GET /verifier/rsa2048/0 HTTP/1.1\" 200 -\n",
      "127.0.0.1 - - [14/May/2025 14:13:40] \"GET /signer/rsa2048/0 HTTP/1.1\" 200 -\n",
      "127.0.0.1 - - [14/May/2025 14:14:09] \"GET /verifier/rsa2048/0 HTTP/1.1\" 200 -\n",
      "127.0.0.1 - - [14/May/2025 14:14:09] \"GET /signer/rsa2048/0 HTTP/1.1\" 200 -\n",
      "127.0.0.1 - - [14/May/2025 15:46:10] \"GET /verifier/rsa2048/0 HTTP/1.1\" 200 -\n",
      "127.0.0.1 - - [14/May/2025 15:46:10] \"GET /signer/rsa2048/0 HTTP/1.1\" 200 -\n"
     ]
    }
   ],
   "source": [
    "import sys\n",
    "\n",
    "# Install a the required dependencies into the current Jupyter kernel\n",
    "!{sys.executable} -m pip install flask requests\n",
    "\n",
    "# Start remote signing service\n",
    "from hsm.sahsm import APP\n",
    "\n",
    "APP.run()\n",
    "# This will keep running"
   ]
  }
 ],
 "metadata": {
  "kernelspec": {
   "display_name": "venv_mrk",
   "language": "python",
   "name": "python3"
  },
  "language_info": {
   "codemirror_mode": {
    "name": "ipython",
    "version": 3
   },
   "file_extension": ".py",
   "mimetype": "text/x-python",
   "name": "python",
   "nbconvert_exporter": "python",
   "pygments_lexer": "ipython3",
   "version": "3.10.6"
  },
  "orig_nbformat": 4
 },
 "nbformat": 4,
 "nbformat_minor": 2
}
