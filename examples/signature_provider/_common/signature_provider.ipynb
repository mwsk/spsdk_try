{
 "cells": [
  {
   "attachments": {},
   "cell_type": "markdown",
   "metadata": {},
   "source": [
    "# Signature Provider Plugin\n",
    "\n",
    "The Signature Provider is a crucial component of SPSDK that facilitates secure signing operations using custom hardware security module (HSM). It acts as an interface between the SPSDK and the HSM, allowing developers to leverage the cryptographic capabilities of the HSM for signing data securely.\n",
    "\n",
    "## 1. Benefits of using the Signature Provider\n",
    " \n",
    " - **Enhanced Security**:\n",
    "   - The Signature Provider enables the use of HSMs, which are designed to provide a high level of security for cryptographic operations. By keeping private keys within the HSM, the risk of key exposure is significantly reduced.\n",
    " \n",
    " - **Custom HSM Support**:\n",
    "   - One of the standout features of the Signature Provider is its ability to work with custom HSMs. This flexibility allows organizations to integrate their existing security infrastructure into the SPSDK, ensuring that they can utilize their preferred hardware solutions.\n",
    " \n",
    " - **Interoperability**:\n",
    "   - The Signature Provider is designed to be compatible with various HSMs and cryptographic standards. This interoperability ensures that organizations can switch between different HSMs or use multiple HSMs without significant changes to their codebase.\n",
    " \n",
    " - **Audit and Compliance**:\n",
    "   - Using an HSM for signing operations can help organizations meet regulatory compliance requirements. The Signature Provider can facilitate logging and auditing of cryptographic operations, providing a clear trail for compliance purposes.\n",
    "\n",
    "\n",
    "This notebook describes how to setup a Signature Provider plugin\n",
    "\n",
    "When signing the data with SPSDK, there are two options:\n",
    "- Using the local private key (not recommended)\n",
    "- Using the remote signing service(HSM)\n",
    "\n",
    "Let's look at the second option and setup Signature Provider \n"
   ]
  },
  {
   "cell_type": "code",
   "execution_count": 1,
   "metadata": {},
   "outputs": [],
   "source": [
    "PLUGINS_DIR = \"plugins/\"\n",
    "VERBOSITY = (\n",
    "    \"-v\"  # verbosity of commands, might be -v or -vv for debug or blank for no additional info\n",
    ")"
   ]
  },
  {
   "attachments": {},
   "cell_type": "markdown",
   "metadata": {},
   "source": [
    "## 2. Custom HSM setup\n",
    "\n",
    "First, we need to start the test HSM. In order to do that, open the [HSM notebook](sahsm.ipynb) and follow the instructions there. Once you are done, come back and continue here."
   ]
  },
  {
   "attachments": {},
   "cell_type": "markdown",
   "metadata": {},
   "source": [
    "Now the test HSM should be up and running. In order to test the functionality of HSM from previous step, run a simple test:"
   ]
  },
  {
   "cell_type": "code",
   "execution_count": 3,
   "metadata": {},
   "outputs": [
    {
     "name": "stdout",
     "output_type": "stream",
     "text": [
      "RSA2048: {'signature': 'jQlUODoatHcpkieNYKoN903bmgF1dXy9pOUxhzTPgC60QeoTlANWw3i9a9qlZJHZ1kL90DcNGexZ5i1iMo9WCMjZrQ/OEahEsPZkbVFYz9Bb7ilBH6C2l3ptB9AR28Pq7G524Cp3XXT+9BdOy3jE1PW0PDasseBxrPcic59JAeAYqYz0F4P8KTIMlk6OqBKAm+vG8nvMzWwNEYRcP7GSGkeiOL1/WMUSf51vCnh2ynjwbOi/sZstj9RrxJ4y7kMLN/BMbNf2w/MIibyxcas/Dp62MlIElUcac9xk4g3NL1pp2ITer9y/rVCFShIzUQuUm3kYt1vLgd2Ij333Yo1Ylw=='}\n",
      "SECP384R1: {'signature': 'p51j6h2riocSrl9Frm3cXMq3gKlrz5JwC3tmXMFFWoFZ083c0L5fAV/vkxG3/hw5vqtvbw2FXVo+eV4AMfRyOzZ0V0Nd1t6ehw57MerDMsQDwSBt9TicrF0e+umCvFg/'}\n"
     ]
    }
   ],
   "source": [
    "import requests\n",
    "\n",
    "# rsa2048 sign\n",
    "response = requests.get(\"http://127.0.0.1:5000/signer/rsa2048/0\", json={\"data\": b\"\\xab\\xcd\".hex()})\n",
    "print(f\"RSA2048: {response.json()}\")\n",
    "\n",
    "response = requests.get(\n",
    "    \"http://127.0.0.1:5000/signer/secp384r1/0\", json={\"data\": b\"\\xab\\xcd\".hex()}\n",
    ")\n",
    "print(f\"SECP384R1: {response.json()}\")"
   ]
  },
  {
   "attachments": {},
   "cell_type": "markdown",
   "metadata": {},
   "source": [
    "## 3. Signature Provider plugin\n",
    "\n",
    "Plugins extend the existing SPSDK functionality with additional features. \n",
    "\n",
    "In order to get benefits of remote signing, a Signature Provider plugin must be implemented. The plugin is a self-contained Python package responsible for communication with HSM.\n",
    "\n",
    "One such an example is located in folder `plugins/spsdk_sasp/`. It will be used later on in this example."
   ]
  },
  {
   "attachments": {},
   "cell_type": "markdown",
   "metadata": {},
   "source": [
    "### 3.1 Plugin API\n",
    "\n",
    "Every Signature Provider plugin is derived from `spsdk.crypto.SignatureProvider` base class.\n",
    "\n",
    "- The derived class must implement:\n",
    "  - `identifier: str`: class attribute that identifies the concrete implementation of SignatureProvider\n",
    "  - `sign(bytes) -> bytes`: method which performs the actual signing\n",
    "  - `signature_length -> str`: property which returns a length of a signature\n",
    "- The derived class can also optionally implement:\n",
    "  - `info() -> str`: method which returns information about the signature provider (for debugging purposes). The default implementation returns a class name as a string\n",
    "  - `verify_public_key(bytes) -> bool`: method which verifies if a given public key matches a private key.\n",
    " \n",
    "> Omitting the implementation of optional methods such as `info()` does not break the functionality of application."
   ]
  },
  {
   "attachments": {},
   "cell_type": "markdown",
   "metadata": {},
   "source": [
    "### 3.2 Signature Formats\n",
    "\n",
    "The signature must meet following formats:\n",
    "\n",
    "- RSA: Standard format\n",
    "- ECC: Extracted public numbers r+s stored in big endian or DER-formatted signature"
   ]
  },
  {
   "cell_type": "markdown",
   "metadata": {},
   "source": [
    "### 3.3 Installation\n",
    "In order to test the functionality of remote signing, you must install the Signature Provider plugin package into your Python venv."
   ]
  },
  {
   "cell_type": "markdown",
   "metadata": {},
   "source": [
    "Install using `uv`:"
   ]
  },
  {
   "cell_type": "code",
   "execution_count": 4,
   "metadata": {
    "execute_cell": false
   },
   "outputs": [
    {
     "name": "stderr",
     "output_type": "stream",
     "text": [
      "\u001b[2mResolved \u001b[1m67 packages\u001b[0m \u001b[2min 33.28s\u001b[0m\u001b[0m\n",
      "\u001b[36m\u001b[1mBuilding\u001b[0m\u001b[39m spsdk-sasp\u001b[2m @ plugins/spsdk_sasp\u001b[0m\n",
      "\u001b[32m\u001b[1mBuilt\u001b[0m\u001b[39m spsdk-sasp\u001b[2m @ plugins/spsdk_sasp\u001b[0m\n",
      "\u001b[2mPrepared \u001b[1m1 package\u001b[0m \u001b[2min 2.15s\u001b[0m\u001b[0m\n",
      "\u001b[2mInstalled \u001b[1m1 package\u001b[0m \u001b[2min 24ms\u001b[0m\u001b[0m\n",
      "\u001b[32m+\u001b[39m \u001b[1mspsdk-sasp\u001b[0m\u001b[2m==0.1.0 (from plugins/spsdk_sasp)\u001b[0m\n"
     ]
    }
   ],
   "source": [
    "!uv pip install $PLUGINS_DIR/spsdk_sasp"
   ]
  },
  {
   "cell_type": "markdown",
   "metadata": {},
   "source": [
    "Install using `pip`: "
   ]
  },
  {
   "cell_type": "code",
   "execution_count": 4,
   "metadata": {
    "execute_cell": false
   },
   "outputs": [
    {
     "name": "stdout",
     "output_type": "stream",
     "text": []
    },
    {
     "name": "stderr",
     "output_type": "stream",
     "text": []
    }
   ],
   "source": [
    "%pip install $PLUGINS_DIR/spsdk_sasp"
   ]
  },
  {
   "cell_type": "markdown",
   "metadata": {},
   "source": [
    "## 4 SPSDK Built-in Signature Providers\n",
    "\n",
    "SPSDK includes several built-in signature providers in the `signature_provider.py` module. These providers offer different ways to handle the signing process, from local files to remote services.\n",
    "\n",
    "### 4.1 PlainFileSP\n",
    "\n",
    "A signature provider that uses plain local files for signing operations.\n",
    "\n",
    "**Identifier**: `file`\n",
    "\n",
    "**Parameters**:\n",
    "- `file_path`: Path to private key file\n",
    "- `password`: (Optional) Password for encrypted private key file. If provided as a string path with `.txt` extension, file content will be used as password\n",
    "- `hash_alg`: (Optional) Hash algorithm for the signature (instance of `EnumHashAlgorithm`)\n",
    "- `search_paths`: (Optional) List of paths where to search for the file\n",
    "- Additional parameters can be passed to the private key's sign method via `**kwargs`\n",
    "\n",
    "**Password Handling**:\n",
    "- Password can be provided directly as a string\n",
    "- Password can also be provided as a path to a text file containing the password or environment variable \n",
    "- Password can be provided as environment variable\n",
    "- If the key is encrypted and no password is provided, an error will be raised\n",
    "\n",
    "**Example**:\n",
    "```\n",
    "\"type=file;file_path=/path/to/key.pem;password=secret\"\n",
    "\"type=file;file_path=/path/to/key.pem;password=/path/to/password.txt\"\n",
    "```\n",
    "\n",
    "### 4.2 InteractivePlainFileSP\n",
    "\n",
    "A signature provider that uses plain local files but prompts for a password if the key is encrypted.\n",
    "\n",
    "**Identifier**: `interactive_file`\n",
    "\n",
    "**Parameters**:\n",
    "- `file_path`: Path to private key file\n",
    "- `hash_alg`: (Optional) Hash algorithm for the signature\n",
    "- `search_paths`: (Optional) List of paths where to search for the file\n",
    "- Additional parameters can be passed to the private key's sign method via `**kwargs`\n",
    "\n",
    "**Password Handling**:\n",
    "- If the key is encrypted, the user will be prompted to enter a password\n",
    "- A password can still be provided in the parameters, but if it fails, the user will be prompted\n",
    "\n",
    "**Example**:\n",
    "```\n",
    "\"type=interactive_file;file_path=/path/to/key.pem\"\n",
    "```\n",
    "\n",
    "### 4.2 HttpProxySP\n",
    "\n",
    "A signature provider that delegates signing operations to a remote proxy server via HTTP.\n",
    "\n",
    "**Identifier**: `proxy`\n",
    "\n",
    "**Parameters**:\n",
    "- `host`: Hostname or IP address of the proxy server (default: \"localhost\")\n",
    "- `port`: Port of the proxy server (default: \"8000\")\n",
    "- `url_prefix`: REST API prefix (default: \"api\")\n",
    "- `timeout`: REST API timeout in seconds (default: 60)\n",
    "- `prehash`: (Optional) Name of the hashing algorithm to pre-hash data before sending to the signing service\n",
    "- Additional parameters will be included in every API request as JSON payload\n",
    "\n",
    "**Password Handling**:\n",
    "- Password handling is delegated to the remote proxy server\n",
    "- No passwords are processed directly by this provider\n",
    "\n",
    "**Example**:\n",
    "```\n",
    "\"type=proxy;host=192.168.1.100;port=8000\"\n",
    "\"type=proxy;host=hsm.example.com;port=443;url_prefix=v1/signing\"\n",
    "```\n",
    "\n",
    "**REST API Endpoints**:\n",
    "The HttpProxySP expects the following REST API endpoints on the server:\n",
    "- `sign` - To create a signature\n",
    "- `signature_length` - To get the length of the signature\n",
    "- `verify_public_key` - To verify if a public key matches the private key\n",
    "\n",
    "**Requests**:\n",
    "The provider sends requests with HTTP headers:\n",
    "- `spsdk-version`: Version of SPSDK\n",
    "- `spsdk-api-version`: API version (currently \"2.0\")\n",
    "\n",
    "\n"
   ]
  }
 ],
 "metadata": {
  "kernelspec": {
   "display_name": "venv",
   "language": "python",
   "name": "python3"
  },
  "language_info": {
   "codemirror_mode": {
    "name": "ipython",
    "version": 3
   },
   "file_extension": ".py",
   "mimetype": "text/x-python",
   "name": "python",
   "nbconvert_exporter": "python",
   "pygments_lexer": "ipython3",
   "version": "3.10.6"
  },
  "orig_nbformat": 4
 },
 "nbformat": 4,
 "nbformat_minor": 2
}
