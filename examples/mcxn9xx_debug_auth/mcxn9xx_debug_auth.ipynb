{
    "cells": [
        {
            "attachments": {},
            "cell_type": "markdown",
            "id": "11306af5",
            "metadata": {},
            "source": [
                "# Debug authentication on MCXN9XX"
            ]
        },
        {
            "attachments": {},
            "cell_type": "markdown",
            "id": "cb5a4784",
            "metadata": {},
            "source": [
                "## Introduction\n",
                "The fundamental principles of debugging, which require access to the system state and system information, conflict with the principles of security, which require the restriction of access to assets. Thus, many products disable debug access completely before deploying the product. To address these challenges, the chip offers a debug authentication protocol as a mechanism to authenticate the debugger (an external entity) has the credentials approved by the product manufacturer before granting debug access to the device.\n",
                "The debug authentication is a challenge-response scheme and assures that only the debugger in possession of the required debug credentials can successfully authenticate over the debug interface and access restricted parts of the device. "
            ]
        },
        {
            "attachments": {},
            "cell_type": "markdown",
            "id": "f28c200c",
            "metadata": {},
            "source": [
                "The protocol is divided into steps as described below:\n",
                "1. The debugger initiates the Debug Mailbox message exchange by setting the CSW[RESYNCH_REQ] bit and\n",
                "CSW[CHIP_RESET_REQ] bit of DM-AP.\n",
                "2. The debugger waits (minimum 30 ms) for the devices to restart and enter debug mailbox request handling loop.\n",
                "3. The debugger sends Debug Authentication Start command (command code 10h) to the device.\n",
                "4. The device responds back with Debug Authentication Challenge (DAC) packet based on the debug access rights preconfigured in CMPA fields, which are collectively referred as Device Credential Constraints Configuration (DCFG_CC).\n",
                "The response packet also contains a 32 bytes random challenge vector.\n",
                "5. The debugger responds to the challenge with a Debug Authentication Response (DAR) message by using an\n",
                "appropriate debug certificate, matching the device identifier in the DAC. The DAR packet contains the debug access\n",
                "permission certificate, also referred as Debug Credential (DC), and a cryptographic signature binding the DC and the\n",
                "challenge vector provided in the DAC.\n",
                "6. The device on receiving the DAR, validates the contents by verifying the cryptographic signature of the message using\n",
                "the debugger's public key present in the embedded the Debug Credential (DC). On successful validation of DAR, the\n",
                "device enables access to the debug domains permitted in the DC"
            ]
        },
        {
            "attachments": {},
            "cell_type": "markdown",
            "id": "46b32c46",
            "metadata": {},
            "source": [
                "![debug_authentication_flow](img/debug_authentication_flow.PNG \"debug_authentication_flow.PNG\")"
            ]
        },
        {
            "attachments": {},
            "cell_type": "markdown",
            "id": "1c4ab6a8",
            "metadata": {},
            "source": [
                "## WARNING! :warning:\n",
                "This configuration is used only for demonstration purpose.\n",
                "For final security device configuration go through all configuration possibilities and define your own specific config/keys."
            ]
        },
        {
            "attachments": {},
            "cell_type": "markdown",
            "id": "eb5deed1",
            "metadata": {},
            "source": [
                "## Let's prepare the environment"
            ]
        },
        {
            "cell_type": "code",
            "execution_count": 3,
            "id": "65302c71",
            "metadata": {},
            "outputs": [
                {
                    "name": "stdout",
                    "output_type": "stream",
                    "text": [
                        "env: JUPYTER_SPSDK=1\n",
                        "Created `%!` as an alias for `%execute`.\n"
                    ]
                }
            ],
            "source": [
                "%run ../init_notebook.ipynb\n",
                "\n",
                "import os\n",
                "import pprint\n",
                "\n",
                "pp = pprint.PrettyPrinter(indent=4)\n",
                "\n",
                "WORKSPACE = \"workspace/\" # change this to path to your workspace\n",
                "KEYS = \"../_data/keys/ecc256/\" # change this to path to your keys\n",
                "VERBOSITY = \"\" # verbosity of commands, might be -v or -vv for debug or blank for no additional info\n",
                "# choose family\n",
                "FAMILY = \"mcxn9xx\""
            ]
        },
        {
            "attachments": {},
            "cell_type": "markdown",
            "id": "2214b2ea",
            "metadata": {},
            "source": [
                "## Device preparation\n",
                "\n",
                "Now it's time to prepare the device. In this example we will use X-MCXN9XX-EVK board. This is example board configuration without external debugger. It is also possible to use configuration with external debugger such as JLink debug probe.\n",
                "\n",
                "![MCXN9XX-EVK](img/MCXN9XX-EVK.png \"MCXN9XX-EVK\")"
            ]
        },
        {
            "attachments": {},
            "cell_type": "markdown",
            "id": "aa5fb19f",
            "metadata": {},
            "source": [
                "Prepare device, erase previous settings and use app *nxpdevscan* to check if the device is connected to the PC in ISP mode."
            ]
        },
        {
            "cell_type": "code",
            "execution_count": 2,
            "id": "4be41f7d-7678-4a7c-a30a-a38263c5c466",
            "metadata": {},
            "outputs": [
                {
                    "name": "stdout",
                    "output_type": "stream",
                    "text": [
                        "nxpdebugmbox -i jlink erase \n",
                        "  #   Interface   Id           Description                         \n",
                        "-------------------------------------------------------------------\n",
                        "  0   Jlink       1063207870   Segger J-Link MCU-Link: 1063207870  \n",
                        "Mass flash erase succeeded\n",
                        "nxpdebugmbox -i jlink ispmode -m 0 \n",
                        "  #   Interface   Id           Description                         \n",
                        "-------------------------------------------------------------------\n",
                        "  0   Jlink       1063207870   Segger J-Link MCU-Link: 1063207870  \n",
                        "Entering into ISP mode succeeded\n",
                        "nxpdevscan \n",
                        "-------- Connected NXP SDIO Devices --------\n",
                        "\n",
                        "-------- Connected NXP USB Devices --------\n",
                        "\n",
                        "-------- Connected NXP UART Devices --------\n",
                        "\n",
                        "Port: COM9\n",
                        "Type: mboot device\n",
                        "\n",
                        "-------- Connected NXP SIO Devices --------\n",
                        "\n"
                    ]
                }
            ],
            "source": [
                "# prepare the board so that there is no previous settings\n",
                "%! nxpdebugmbox -i jlink erase\n",
                "# enter ISP mode\n",
                "%! nxpdebugmbox -i jlink ispmode -m 0\n",
                "# check if the device is connected and detected by PC\n",
                "%! nxpdevscan"
            ]
        },
        {
            "cell_type": "code",
            "execution_count": 3,
            "id": "632e05d0",
            "metadata": {},
            "outputs": [
                {
                    "name": "stdout",
                    "output_type": "stream",
                    "text": [
                        "blhost -p COM9 get-property 1 \n",
                        "Response status = 0 (0x0) Success.\n",
                        "Response word 1 = 1258488320 (0x4b030200)\n",
                        "Current Version = K3.2.0\n",
                        "blhost -p COM9 get-property 17 \n",
                        "Response status = 0 (0x0) Success.\n",
                        "Response word 1 = 1520786085 (0x5aa55aa5)\n",
                        "Response word 2 = 3 (0x3)\n",
                        "Security State = UNSECURE\n"
                    ]
                }
            ],
            "source": [
                "# choose USB or UART interface based on the result of nxpdevscan\n",
                "# USB = \"-u 0x1fc9,0x14f\"\n",
                "UART = '-p COM9'\n",
                "\n",
                "# check if the board responds in ISP mode\n",
                "%! blhost $UART get-property 1\n",
                "# Response word 2 for get-property 17 is LC_STATE.\n",
                "%! blhost $UART get-property 17"
            ]
        },
        {
            "attachments": {},
            "cell_type": "markdown",
            "id": "0047619a-aabf-4115-b9bb-f1f694cd1056",
            "metadata": {},
            "source": [
                "# Generate RoT + Debug auth keys"
            ]
        },
        {
            "cell_type": "markdown",
            "id": "c74b5109",
            "metadata": {},
            "source": [
                "First we need to generate Root of Trust Keys (RoTKs)/Super Root Keys (SRKs), Debug Credential Key (DCK) and Image Signing Key (ISK). In this example, we will use *nxpcrypto* app to generate secp256r1 keys (see [How-to-get-keys-using-nxpcrypto](../general/get_keys.ipynb)).\n",
                "Script by default load 4 RoTKs, 1 DCK and 1 ISK. Feel free to modify it according your needs. At least one RoTK is mandatory.\n",
                "\n",
                "See the script's comments and modify the script according to the application security requirements. "
            ]
        },
        {
            "cell_type": "code",
            "execution_count": 4,
            "id": "245124ed-0f4a-41ad-88a4-9daa485a052f",
            "metadata": {},
            "outputs": [],
            "source": [
                "# load generated key pair for ROTK0\n",
                "ROTK0_PRIVATE_KEY_PATH = KEYS + \"srk0_ecc256.pem\"\n",
                "ROTK0_PUBLIC_KEY_PATH = KEYS + \"srk0_ecc256.pub\"\n",
                "# verify that keys were loaded\n",
                "assert os.path.exists(ROTK0_PRIVATE_KEY_PATH)\n",
                "assert os.path.exists(ROTK0_PUBLIC_KEY_PATH)\n",
                "\n",
                "# load generated key pair for ROTK1\n",
                "ROTK1_PRIVATE_KEY_PATH = KEYS + \"srk1_ecc256.pem\"\n",
                "ROTK1_PUBLIC_KEY_PATH = KEYS + \"srk1_ecc256.pub\"\n",
                "# verify that keys were loaded\n",
                "assert os.path.exists(ROTK1_PRIVATE_KEY_PATH)\n",
                "assert os.path.exists(ROTK1_PUBLIC_KEY_PATH)\n",
                "\n",
                "# load generated key pair for ROTK2\n",
                "ROTK2_PRIVATE_KEY_PATH = KEYS + \"srk2_ecc256.pem\"\n",
                "ROTK2_PUBLIC_KEY_PATH = KEYS + \"srk2_ecc256.pub\"\n",
                "# verify that keys were loaded\n",
                "assert os.path.exists(ROTK2_PRIVATE_KEY_PATH)\n",
                "assert os.path.exists(ROTK2_PUBLIC_KEY_PATH)\n",
                "\n",
                "# load generated key pair for ROTK3\n",
                "ROTK3_PRIVATE_KEY_PATH = KEYS + \"srk3_ecc256.pem\"\n",
                "ROTK3_PUBLIC_KEY_PATH = KEYS + \"srk3_ecc256.pub\"\n",
                "# verify that keys were loaded\n",
                "assert os.path.exists(ROTK3_PRIVATE_KEY_PATH)\n",
                "assert os.path.exists(ROTK3_PUBLIC_KEY_PATH)\n",
                "\n",
                "# load generated key pair for DCK\n",
                "DCK_PRIVATE_KEY_PATH = KEYS + \"dck_ecc256.pem\"\n",
                "DCK_PUBLIC_KEY_PATH = KEYS + \"dck_ecc256.pub\"\n",
                "# verify that keys were loaded\n",
                "assert os.path.exists(DCK_PRIVATE_KEY_PATH)\n",
                "assert os.path.exists(DCK_PUBLIC_KEY_PATH)\n",
                "\n",
                "# load generated key pair for ISK\n",
                "ISK_PRIVATE_KEY_PATH = KEYS + \"imgkey_ecc256.pem\"\n",
                "ISK_PUBLIC_KEY_PATH = KEYS + \"imgkey_ecc256.pub\"\n",
                "# verify that keys were loaded\n",
                "assert os.path.exists(ISK_PRIVATE_KEY_PATH)\n",
                "assert os.path.exists(ISK_PUBLIC_KEY_PATH)"
            ]
        },
        {
            "attachments": {},
            "cell_type": "markdown",
            "id": "0e7ad9b6-cd22-41af-8a97-7cd33cc590f7",
            "metadata": {},
            "source": [
                "# Generate config files for debug auth"
            ]
        },
        {
            "cell_type": "markdown",
            "id": "89fd2428",
            "metadata": {},
            "source": [
                "First we need to generate template for debug credentials configuration file."
            ]
        },
        {
            "cell_type": "code",
            "execution_count": 5,
            "id": "77aa3a9a",
            "metadata": {},
            "outputs": [
                {
                    "name": "stdout",
                    "output_type": "stream",
                    "text": [
                        "nxpdebugmbox get-template --force -o workspace/dc_config.yml \n",
                        "The configuration template file has been created.\n"
                    ]
                }
            ],
            "source": [
                "DC_CONFIG_TEMPLATE = WORKSPACE + \"dc_config.yml\"\n",
                "%! nxpdebugmbox get-template --force -o $DC_CONFIG_TEMPLATE\n",
                "assert os.path.exists(DC_CONFIG_TEMPLATE)"
            ]
        },
        {
            "cell_type": "markdown",
            "id": "877a2c54",
            "metadata": {},
            "source": [
                "In order to generate the DC file, we need to modify yaml config accordingly."
            ]
        },
        {
            "cell_type": "code",
            "execution_count": 6,
            "id": "77b4e686",
            "metadata": {},
            "outputs": [],
            "source": [
                "import yaml\n",
                "# Modify configuration for dc\n",
                "with open(DC_CONFIG_TEMPLATE) as dc_config:\n",
                "    # load yaml configuration to dictionary\n",
                "    dc = yaml.safe_load(dc_config)\n",
                "    # change paths\n",
                "    dc['socc'] = 0x0006\n",
                "    dc['cc_socu'] = 0x7FF\n",
                "    del dc['rot_meta']\n",
                "    dc['rot_meta'] = [\n",
                "            ROTK0_PUBLIC_KEY_PATH,\n",
                "            ROTK1_PUBLIC_KEY_PATH,\n",
                "            ROTK2_PUBLIC_KEY_PATH,\n",
                "            ROTK3_PUBLIC_KEY_PATH,\n",
                "    ]\n",
                "    dc['rotk'] = ROTK0_PRIVATE_KEY_PATH\n",
                "    dc['dck'] = DCK_PUBLIC_KEY_PATH\n",
                "    dc['cc_beacon'] = 0\n",
                "    del dc['sign_provider']\n",
                "\n",
                "with open(DC_CONFIG_TEMPLATE, \"w+\") as dc_config:\n",
                "    # dump the dictionary back to YAML\n",
                "    yaml.dump(dc, dc_config)"
            ]
        },
        {
            "cell_type": "markdown",
            "id": "184384ed",
            "metadata": {},
            "source": [
                "Now we generate dc file based on yaml configuration."
            ]
        },
        {
            "cell_type": "code",
            "execution_count": 7,
            "id": "60c27a5f-a4b0-49f2-b375-c01e7afebab0",
            "metadata": {},
            "outputs": [
                {
                    "name": "stdout",
                    "output_type": "stream",
                    "text": [
                        "nxpdebugmbox -p 2.0 gendc -c workspace/dc_config.yml -o workspace/debug_auth.dc --force \n",
                        "RKTH: dc74a049881288ac7cfe74429c73bba49f79ef607452858469fcafe8090b2153\n",
                        "Creating Debug credential file succeeded\n"
                    ]
                }
            ],
            "source": [
                "DC_FILE_PATH = WORKSPACE + \"debug_auth.dc\"\n",
                "%! nxpdebugmbox -p 2.0 gendc -c $DC_CONFIG_TEMPLATE -o $DC_FILE_PATH --force"
            ]
        },
        {
            "attachments": {},
            "cell_type": "markdown",
            "id": "9d393a5c-bd9a-497f-abb2-e6cb517b1e51",
            "metadata": {},
            "source": [
                "# Generate CMPA + CFPA config for debug authentication"
            ]
        },
        {
            "cell_type": "markdown",
            "id": "2f55e203",
            "metadata": {},
            "source": [
                "First create templates for CMPA and CFPA."
            ]
        },
        {
            "cell_type": "code",
            "execution_count": 8,
            "id": "96171117-ec7e-4433-9426-40ff0cc382e5",
            "metadata": {},
            "outputs": [
                {
                    "name": "stdout",
                    "output_type": "stream",
                    "text": [
                        "pfr get-template -t cfpa -f mcxn9xx -o workspace/cfpa_mcxn9xx_debug_auth.yaml --force \n",
                        "PFR cfpa configuration template has been created.\n",
                        "Result has been stored in: C:\\repos\\spsdk_master_2.0\\examples\\jupyter_examples\\mcxn9xx_debug_auth\\workspace\\cfpa_mcxn9xx_debug_auth.yaml\n",
                        "pfr get-template -t cmpa -f mcxn9xx -o workspace/cmpa_mcxn9xx_debug_auth.yaml --force \n",
                        "PFR cmpa configuration template has been created.\n",
                        "Result has been stored in: C:\\repos\\spsdk_master_2.0\\examples\\jupyter_examples\\mcxn9xx_debug_auth\\workspace\\cmpa_mcxn9xx_debug_auth.yaml\n"
                    ]
                }
            ],
            "source": [
                "CFPA_CONFIG_TEMPLATE = WORKSPACE + \"cfpa_mcxn9xx_debug_auth.yaml\"\n",
                "CMPA_CONFIG_TEMPLATE = WORKSPACE + \"cmpa_mcxn9xx_debug_auth.yaml\"\n",
                "%! pfr get-template -t cfpa -f $FAMILY -o $CFPA_CONFIG_TEMPLATE --force\n",
                "%! pfr get-template -t cmpa -f $FAMILY -o $CMPA_CONFIG_TEMPLATE --force"
            ]
        },
        {
            "cell_type": "markdown",
            "id": "c1e22053",
            "metadata": {},
            "source": [
                "Now we need to modify yaml config accordingly for both CMPA and CFPA"
            ]
        },
        {
            "cell_type": "code",
            "execution_count": 9,
            "id": "bcfcea3a",
            "metadata": {},
            "outputs": [],
            "source": [
                "with open(CFPA_CONFIG_TEMPLATE) as cfpa_config:\n",
                "    # load yaml configuration to dictionary\n",
                "    cfpa = yaml.safe_load(cfpa_config)\n",
                "    # change paths\n",
                "    cfpa['settings']['CFPA_PAGE_VERSION']['bitfields']['CFPA_PAGE_VERSION'] = 1\n",
                "    \n",
                "    cfpa['settings']['DCFG_CC_SOCU_NS_PIN']['bitfields']['ISP_CMD_EN'] = 'FIXED_STATE'\n",
                "    cfpa['settings']['DCFG_CC_SOCU_NS_DFLT']['bitfields']['ISP_CMD_EN'] = 'ENABLED'\n",
                "\n",
                "    cfpa['settings']['DCFG_CC_SOCU_NS_PIN']['bitfields']['FA_CMD_EN'] = 'FIXED_STATE'\n",
                "    cfpa['settings']['DCFG_CC_SOCU_NS_DFLT']['bitfields']['FA_CMD_EN'] = 'ENABLED'\n",
                "\n",
                "    cfpa['settings']['DCFG_CC_SOCU_NS_PIN']['bitfields']['ME_CMD_EN'] = 'FIXED_STATE'\n",
                "    cfpa['settings']['DCFG_CC_SOCU_NS_DFLT']['bitfields']['ME_CMD_EN'] = 'ENABLED'\n",
                "\n",
                "with open(CFPA_CONFIG_TEMPLATE, \"w+\") as cfpa_config:\n",
                "    # dump the dictionary back to YAML\n",
                "    yaml.dump(cfpa, cfpa_config)"
            ]
        },
        {
            "cell_type": "code",
            "execution_count": 10,
            "id": "e91b3f22",
            "metadata": {},
            "outputs": [],
            "source": [
                "with open(CMPA_CONFIG_TEMPLATE) as cmpa_config:\n",
                "    # load yaml configuration to dictionary\n",
                "    cmpa = yaml.safe_load(cmpa_config)\n",
                "    # change paths\n",
                "    cmpa['settings']['DCFG_CC_SOCU_PIN']['bitfields']['ISP_CMD_EN'] = 'FIXED_STATE'\n",
                "    cmpa['settings']['DCFG_CC_SOCU_DFLT']['bitfields']['ISP_CMD_EN'] = 'ENABLED'\n",
                "\n",
                "    cmpa['settings']['DCFG_CC_SOCU_PIN']['bitfields']['FA_CMD_EN'] = 'FIXED_STATE'\n",
                "    cmpa['settings']['DCFG_CC_SOCU_DFLT']['bitfields']['FA_CMD_EN'] = 'ENABLED'\n",
                "\n",
                "    cmpa['settings']['DCFG_CC_SOCU_PIN']['bitfields']['ME_CMD_EN'] = 'FIXED_STATE'\n",
                "    cmpa['settings']['DCFG_CC_SOCU_DFLT']['bitfields']['ME_CMD_EN'] = 'ENABLED'\n",
                "\n",
                "with open(CMPA_CONFIG_TEMPLATE, \"w+\") as cmpa_config:\n",
                "    # dump the dictionary back to YAML\n",
                "    yaml.dump(cmpa, cmpa_config)"
            ]
        },
        {
            "cell_type": "markdown",
            "id": "8f87c247",
            "metadata": {},
            "source": [
                "# MBI generation"
            ]
        },
        {
            "cell_type": "markdown",
            "id": "6d76519d",
            "metadata": {},
            "source": [
                "First create templates for MBI."
            ]
        },
        {
            "cell_type": "code",
            "execution_count": 11,
            "id": "ce7e11cc",
            "metadata": {},
            "outputs": [
                {
                    "name": "stdout",
                    "output_type": "stream",
                    "text": [
                        "nxpimage  mbi get-templates -f mcxn9xx -o workspace/MBI --force \n",
                        "Creating C:\\repos\\spsdk_master_2.0\\examples\\jupyter_examples\\mcxn9xx_debug_auth\\workspace\\MBI\\mcxn9xx_xip_plain.yaml template file.\n",
                        "Creating C:\\repos\\spsdk_master_2.0\\examples\\jupyter_examples\\mcxn9xx_debug_auth\\workspace\\MBI\\mcxn9xx_xip_crc.yaml template file.\n",
                        "Creating C:\\repos\\spsdk_master_2.0\\examples\\jupyter_examples\\mcxn9xx_debug_auth\\workspace\\MBI\\mcxn9xx_xip_signed.yaml template file.\n",
                        "Creating C:\\repos\\spsdk_master_2.0\\examples\\jupyter_examples\\mcxn9xx_debug_auth\\workspace\\MBI\\mcxn9xx_load_to_ram_plain.yaml template file.\n",
                        "Creating C:\\repos\\spsdk_master_2.0\\examples\\jupyter_examples\\mcxn9xx_debug_auth\\workspace\\MBI\\mcxn9xx_load_to_ram_crc.yaml template file.\n",
                        "Creating C:\\repos\\spsdk_master_2.0\\examples\\jupyter_examples\\mcxn9xx_debug_auth\\workspace\\MBI\\mcxn9xx_load_to_ram_signed.yaml template file.\n"
                    ]
                }
            ],
            "source": [
                "# generate template for mbi\n",
                "TEMPLATES_PATH = WORKSPACE + \"MBI\"\n",
                "\n",
                "%! nxpimage $VERBOSITY mbi get-templates -f $FAMILY -o $TEMPLATES_PATH --force\n",
                "# just for verification that the template was generated\n",
                "assert os.path.exists(os.path.join(TEMPLATES_PATH, \"mcxn9xx_xip_signed.yaml\"))"
            ]
        },
        {
            "cell_type": "markdown",
            "id": "7834b412",
            "metadata": {},
            "source": [
                "For signed images, we need to create a certificate blok separately. In order to do this, use nxpimage cert-block get-template command as described below."
            ]
        },
        {
            "cell_type": "code",
            "execution_count": 12,
            "id": "00f1acdc",
            "metadata": {},
            "outputs": [
                {
                    "name": "stdout",
                    "output_type": "stream",
                    "text": [
                        "nxpimage  cert-block get-template -f mcxn9xx -o workspace/cert_block_mcxn9xx.yaml --force \n",
                        "Creating C:\\repos\\spsdk_master_2.0\\examples\\jupyter_examples\\mcxn9xx_debug_auth\\workspace\\cert_block_mcxn9xx.yaml template file.\n"
                    ]
                }
            ],
            "source": [
                "CERT_BLOCK_TEMPLATE = WORKSPACE +\"cert_block_mcxn9xx.yaml\"\n",
                "%! nxpimage $VERBOSITY cert-block get-template -f $FAMILY -o $CERT_BLOCK_TEMPLATE --force"
            ]
        },
        {
            "cell_type": "markdown",
            "id": "c77a751e",
            "metadata": {},
            "source": [
                "And update template accordingly."
            ]
        },
        {
            "cell_type": "code",
            "execution_count": 13,
            "id": "ad8ffbc8",
            "metadata": {},
            "outputs": [
                {
                    "name": "stdout",
                    "output_type": "stream",
                    "text": [
                        "Certificate Block:\n",
                        "{   'containerOutputFile': 'workspace/cert_block.bin',\n",
                        "    'iskCertificateConstraint': 0,\n",
                        "    'iskPublicKey': 'workspace/ec_pk_secp384r1_sign_cert.pem',\n",
                        "    'mainRootCertId': 0,\n",
                        "    'rootCertificate0File': 'workspace/ec_pk_secp256r1_cert0.pem',\n",
                        "    'rootCertificate1File': 'workspace/ec_pk_secp256r1_cert1.pem',\n",
                        "    'rootCertificate2File': 'workspace/ec_pk_secp256r1_cert2.pem',\n",
                        "    'rootCertificate3File': 'workspace/ec_pk_secp256r1_cert3.pem',\n",
                        "    'useIsk': False}\n"
                    ]
                }
            ],
            "source": [
                "assert os.path.exists(CERT_BLOCK_TEMPLATE)\n",
                "CERT_BLOCK_BIN = WORKSPACE + \"cert_block.bin\"\n",
                "\n",
                "# Create configuration for Certificate Block\n",
                "with open(CERT_BLOCK_TEMPLATE) as cert_block_config:\n",
                "    # load yaml configuration to dictionary\n",
                "    ct = yaml.safe_load(cert_block_config)\n",
                "    # change paths\n",
                "    ct['rootCertificate0File'] = ROTK0_PRIVATE_KEY_PATH\n",
                "    ct['rootCertificate1File'] = ROTK1_PRIVATE_KEY_PATH\n",
                "    ct['rootCertificate2File'] = ROTK2_PRIVATE_KEY_PATH\n",
                "    ct['rootCertificate3File'] = ROTK3_PRIVATE_KEY_PATH\n",
                "    ct['mainRootCertId'] = 0\n",
                "    ct['iskPublicKey'] = ISK_PRIVATE_KEY_PATH\n",
                "    ct['containerOutputFile'] = CERT_BLOCK_BIN\n",
                "    del ct['iskCertData']\n",
                "    del ct['signPrivateKey']\n",
                "    del ct['signProvider']  \n",
                "with open(CERT_BLOCK_TEMPLATE, \"w+\") as cert_block_config:\n",
                "    print(\"Certificate Block:\")\n",
                "    pp.pprint(ct)\n",
                "    # dump the dictionary back to YAML\n",
                "    yaml.dump(ct, cert_block_config)"
            ]
        },
        {
            "cell_type": "markdown",
            "id": "71902b92",
            "metadata": {},
            "source": [
                "Once, we have templates for MBI and for certificate block, we need to update template for MBI accordingly."
            ]
        },
        {
            "cell_type": "code",
            "execution_count": 14,
            "id": "cfb10439",
            "metadata": {},
            "outputs": [
                {
                    "name": "stdout",
                    "output_type": "stream",
                    "text": [
                        "MBI:\n",
                        "{   'certBlock': 'workspace/cert_block_mcxn9xx.yaml',\n",
                        "    'family': 'mcxn9xx',\n",
                        "    'firmwareVersion': 0,\n",
                        "    'imageVersion': 0,\n",
                        "    'inputImageFile': 'led_blinky+hello_world.bin',\n",
                        "    'mainRootCertId': 0,\n",
                        "    'mainRootCertPrivateKeyFile': 'workspace/ec_pk_secp256r1_cert0.pem',\n",
                        "    'masterBootOutputFile': 'my_mbi.bin',\n",
                        "    'outputImageAuthenticationType': 'signed',\n",
                        "    'outputImageExecutionTarget': 'xip',\n",
                        "    'outputImageSubtype': 'main',\n",
                        "    'rootCertificate0File': 'workspace/ec_pk_secp256r1_cert0.pem',\n",
                        "    'rootCertificate1File': 'workspace/ec_pk_secp256r1_cert1.pem',\n",
                        "    'rootCertificate2File': 'workspace/ec_pk_secp256r1_cert2.pem',\n",
                        "    'rootCertificate3File': 'workspace/ec_pk_secp256r1_cert3.pem',\n",
                        "    'rootCertificateEllipticCurve': 'secp256r1'}\n"
                    ]
                }
            ],
            "source": [
                "MBI_BIN_NAME = \"mcxn9xx_mbi.bin\"\n",
                "MBI_CONFIG_PATH = WORKSPACE + \"mbi_config_mcxn9xx.yml\"\n",
                "LED_BLINKY = \"led_blinky+hello_world.bin\"\n",
                "MBI_OUTPUT_FILE = TEMPLATES_PATH + \"/\" + \"my_mbi.bin\"\n",
                "\n",
                "MBI_TEMPLATE = TEMPLATES_PATH + \"/\" + \"mcxn9xx_xip_signed.yaml\"\n",
                "assert os.path.exists(MBI_TEMPLATE)\n",
                "\n",
                "# Create configuration for MBI\n",
                "with open(MBI_TEMPLATE) as mbi_config:\n",
                "    # load yaml configuration to dictionary\n",
                "    mbi = yaml.safe_load(mbi_config)\n",
                "    # change paths\n",
                "    mbi['rootCertificate0File'] = ROTK0_PRIVATE_KEY_PATH\n",
                "    mbi['rootCertificate1File'] = ROTK1_PRIVATE_KEY_PATH\n",
                "    mbi['rootCertificate2File'] = ROTK2_PRIVATE_KEY_PATH\n",
                "    mbi['rootCertificate3File'] = ROTK3_PRIVATE_KEY_PATH\n",
                "    mbi['mainRootCertId'] = 0\n",
                "    mbi['mainRootCertPrivateKeyFile'] = ROTK0_PRIVATE_KEY_PATH\n",
                "    mbi['rootCertificateEllipticCurve'] = \"secp256r1\"\n",
                "    mbi['inputImageFile'] = LED_BLINKY\n",
                "    mbi['certBlock'] = CERT_BLOCK_TEMPLATE\n",
                "    del mbi['enableTrustZone']\n",
                "    del mbi['trustZonePresetFile']\n",
                "    del mbi['signPrivateKey']\n",
                "    del mbi['signProvider']\n",
                "\n",
                "with open(MBI_TEMPLATE, \"w+\") as mbi_config:\n",
                "    print(\"MBI:\")\n",
                "    pp.pprint(mbi)\n",
                "    # dump the dictionary back to YAML\n",
                "    yaml.dump(mbi, mbi_config)"
            ]
        },
        {
            "cell_type": "markdown",
            "id": "dd0e9d85",
            "metadata": {},
            "source": [
                "Now generate final binary."
            ]
        },
        {
            "cell_type": "code",
            "execution_count": 15,
            "id": "0f32a230",
            "metadata": {},
            "outputs": [
                {
                    "name": "stdout",
                    "output_type": "stream",
                    "text": [
                        "nxpimage  mbi export -c workspace/MBI/mcxn9xx_xip_signed.yaml \n",
                        "RKTH: dc74a049881288ac7cfe74429c73bba49f79ef607452858469fcafe8090b2153\n",
                        "Success. (Master Boot Image: C:/repos/spsdk_master_2.0/examples/jupyter_examples/mcxn9xx_debug_auth/workspace/MBI/my_mbi.bin created.)\n"
                    ]
                }
            ],
            "source": [
                "%! nxpimage $VERBOSITY mbi export -c $MBI_TEMPLATE\n",
                "assert os.path.exists(MBI_OUTPUT_FILE)"
            ]
        },
        {
            "cell_type": "markdown",
            "id": "117147fe",
            "metadata": {},
            "source": [
                "# Generate final PFR binaries"
            ]
        },
        {
            "cell_type": "code",
            "execution_count": 16,
            "id": "a710bc3a",
            "metadata": {},
            "outputs": [
                {
                    "name": "stdout",
                    "output_type": "stream",
                    "text": [
                        "pfr generate-binary -c workspace/cfpa_mcxn9xx_debug_auth.yaml -o workspace/cfpa_mcxn9xx.bin \n",
                        "Success. (PFR binary has been generated)\n",
                        "Result has been stored in: C:\\repos\\spsdk_master_2.0\\examples\\jupyter_examples\\mcxn9xx_debug_auth\\workspace\\cfpa_mcxn9xx.bin\n",
                        "pfr generate-binary -c workspace/cmpa_mcxn9xx_debug_auth.yaml -e workspace/MBI/mcxn9xx_xip_signed.yaml -o workspace/cmpa_mcxn9xx.bin \n",
                        "Success. (PFR binary has been generated)\n",
                        "Result has been stored in: C:\\repos\\spsdk_master_2.0\\examples\\jupyter_examples\\mcxn9xx_debug_auth\\workspace\\cmpa_mcxn9xx.bin\n"
                    ]
                }
            ],
            "source": [
                "# Generate PFR binaries\n",
                "CFPA_BINARY_OUTPUT = WORKSPACE + \"cfpa_mcxn9xx.bin\"\n",
                "CMPA_BINARY_OUTPUT = WORKSPACE + \"cmpa_mcxn9xx.bin\"\n",
                "%! pfr generate-binary -c $CFPA_CONFIG_TEMPLATE -o $CFPA_BINARY_OUTPUT\n",
                "%! pfr generate-binary -c $CMPA_CONFIG_TEMPLATE -e $MBI_TEMPLATE -o $CMPA_BINARY_OUTPUT"
            ]
        },
        {
            "attachments": {},
            "cell_type": "markdown",
            "id": "08272315-0bbc-4c3e-91d3-06f81a420c0d",
            "metadata": {},
            "source": [
                "# Load binary image + debug auth config into PFR"
            ]
        },
        {
            "cell_type": "code",
            "execution_count": 17,
            "id": "070d8fa4-4e24-4b83-9221-a246e4a1f015",
            "metadata": {},
            "outputs": [
                {
                    "name": "stdout",
                    "output_type": "stream",
                    "text": [
                        "blhost -p COM9 write-memory 0x0 led_blinky+hello_world.bin \n",
                        "Writing memory\n",
                        "Response status = 0 (0x0) Success.\n",
                        "Response word 1 = 9836 (0x266c)\n",
                        "pfr write -p COM9 -t cfpa -f mcxn9xx -b workspace/cfpa_mcxn9xx.bin \n",
                        "CFPA page address on mcxn9xx is 0x1000000\n",
                        "CFPA data written to device.\n",
                        "pfr write -p COM9 -t cmpa -f mcxn9xx -b workspace/cmpa_mcxn9xx.bin \n",
                        "CMPA page address on mcxn9xx is 0x1004000\n",
                        "CMPA data written to device.\n",
                        "blhost -p COM9 reset \n",
                        "Response status = 0 (0x0) Success.\n"
                    ]
                }
            ],
            "source": [
                "%! blhost $UART write-memory 0x0 $LED_BLINKY\n",
                "\n",
                "%! pfr write $UART -t cfpa -f $FAMILY -b $CFPA_BINARY_OUTPUT\n",
                "%! pfr write $UART -t cmpa -f $FAMILY -b $CMPA_BINARY_OUTPUT\n",
                "\n",
                "%! blhost $UART reset"
            ]
        },
        {
            "attachments": {},
            "cell_type": "markdown",
            "id": "f956fe14-d19b-4a1e-92c4-8d806818d6bd",
            "metadata": {},
            "source": [
                "# Test debug authentication"
            ]
        },
        {
            "cell_type": "markdown",
            "id": "1361e83b",
            "metadata": {},
            "source": [
                "Now we can call authentication command for nxpdebugmbox. Since the board is in the LC=0x3, we need to set value for beacon in order to verify that the authentication truly succeeded. Let's set beacon to 1."
            ]
        },
        {
            "cell_type": "code",
            "execution_count": 18,
            "id": "7ec0a09c-67ea-41f2-ab61-424e69e3f46e",
            "metadata": {},
            "outputs": [
                {
                    "name": "stdout",
                    "output_type": "stream",
                    "text": [
                        "nxpdebugmbox -v -p 2.0 -i jlink auth -b 1 -c workspace/debug_auth.dc -k workspace/debug_auth_key_secp256r1.pem \n",
                        "\u001b[37m\u001b[1mINFO:spsdk.apps.nxpdebugmbox:Starting Debug Authentication\u001b[39m\u001b[0m\n",
                        "  #   Interface   Id           Description                         \n",
                        "-------------------------------------------------------------------\n",
                        "  0   Jlink       1063207870   Segger J-Link MCU-Link: 1063207870  \n",
                        "\u001b[37m\u001b[1mINFO:spsdk.apps.nxpdebugmbox:DAC: \n",
                        "Version                : 2.0\n",
                        "SOCC                   : 6, mcxn9xx\n",
                        "UUID                   : 3036353631444D000E00000024001700\n",
                        "CC_VU                  : 0\n",
                        "ROTID_rkh_revocation   : 00000000\n",
                        "ROTID_rkth_hash        : dc74a049881288ac7cfe74429c73bba49f79ef607452858469fcafe8090b2153\n",
                        "CC_soc_pinned          : 00000000\n",
                        "CC_soc_default         : 00000000\n",
                        "Challenge              : 1d3aa0c58508272bab659f8c35242920dc7af2d59da0cfc37ca3e7c279fc96d4\n",
                        "\u001b[39m\u001b[0m\n",
                        "\u001b[37m\u001b[1mINFO:spsdk.apps.nxpdebugmbox:DAR:\n",
                        "DAC:\n",
                        "Version                : 2.0\n",
                        "SOCC                   : 6, mcxn9xx\n",
                        "UUID                   : 3036353631444D000E00000024001700\n",
                        "CC_VU                  : 0\n",
                        "ROTID_rkh_revocation   : 00000000\n",
                        "ROTID_rkth_hash        : dc74a049881288ac7cfe74429c73bba49f79ef607452858469fcafe8090b2153\n",
                        "CC_soc_pinned          : 00000000\n",
                        "CC_soc_default         : 00000000\n",
                        "Challenge              : 1d3aa0c58508272bab659f8c35242920dc7af2d59da0cfc37ca3e7c279fc96d4\n",
                        "\n",
                        "DC:\n",
                        "Version : 2.0\n",
                        "SOCC    : 6, mcxn9xx\n",
                        "UUID    : 00000000000000000000000000000000\n",
                        "CC_SOCC : 0x7ff\n",
                        "CC_VU   : 0x0\n",
                        "BEACON  : 0\n",
                        "CRTK table has 4 entries\n",
                        "CRTK Hash: dc74a049881288ac7cfe74429c73bba49f79ef607452858469fcafe8090b2153\n",
                        "Authentication Beacon: 1\n",
                        "\u001b[39m\u001b[0m\n",
                        "\u001b[37m\u001b[1mINFO:spsdk.apps.nxpdebugmbox:Debug Authentication ends \u001b[32msuccessfully\u001b[39m.\u001b[39m\u001b[0m\n"
                    ]
                }
            ],
            "source": [
                "%! nxpdebugmbox -v -p 2.0 -i jlink auth -b 1 -c $DC_FILE_PATH -k $DCK_PRIVATE_KEY_PATH"
            ]
        },
        {
            "cell_type": "markdown",
            "id": "fe5681e7",
            "metadata": {},
            "source": [
                "Now read beacon from the memory. The value from the memory should have same values as -b parameter of nxpdebugmbox tool."
            ]
        },
        {
            "cell_type": "code",
            "execution_count": 19,
            "id": "af993aed",
            "metadata": {},
            "outputs": [
                {
                    "name": "stdout",
                    "output_type": "stream",
                    "text": [
                        "nxpdebugmbox -i jlink read-memory -a 0x40000FC0 -c 4 \n",
                        "  #   Interface   Id           Description                         \n",
                        "-------------------------------------------------------------------\n",
                        "  0   Jlink       1063207870   Segger J-Link MCU-Link: 1063207870  \n",
                        "00 00 01 00\n"
                    ]
                }
            ],
            "source": [
                "%! nxpdebugmbox -i jlink read-memory -a 0x40000FC0 -c 4"
            ]
        }
    ],
    "metadata": {
        "kernelspec": {
            "display_name": "Python 3 (ipykernel)",
            "language": "python",
            "name": "python3"
        },
        "language_info": {
            "codemirror_mode": {
                "name": "ipython",
                "version": 3
            },
            "file_extension": ".py",
            "mimetype": "text/x-python",
            "name": "python",
            "nbconvert_exporter": "python",
            "pygments_lexer": "ipython3",
            "version": "3.9.13"
        },
        "mystnb": {
            "execution_mode": "off"
        }
    },
    "nbformat": 4,
    "nbformat_minor": 5
}
